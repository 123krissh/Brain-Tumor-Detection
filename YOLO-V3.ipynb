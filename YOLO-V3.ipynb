{
 "cells": [
  {
   "cell_type": "code",
   "execution_count": 1,
   "id": "ab0a9e90-18d9-4dca-8385-e676a5a54af5",
   "metadata": {},
   "outputs": [
    {
     "data": {
      "text/plain": [
       "True"
      ]
     },
     "execution_count": 1,
     "metadata": {},
     "output_type": "execute_result"
    }
   ],
   "source": [
    "import torch\n",
    "torch.cuda.is_available()"
   ]
  },
  {
   "cell_type": "code",
   "execution_count": 2,
   "id": "8a345448-ee61-421e-aeb1-2965628d1afb",
   "metadata": {},
   "outputs": [
    {
     "data": {
      "text/plain": [
       "'NVIDIA GeForce RTX 3050 6GB Laptop GPU'"
      ]
     },
     "execution_count": 2,
     "metadata": {},
     "output_type": "execute_result"
    }
   ],
   "source": [
    "torch.cuda.get_device_name(0)"
   ]
  },
  {
   "cell_type": "code",
   "execution_count": 3,
   "id": "884d9594-73a4-456f-8323-f7c99c286a59",
   "metadata": {},
   "outputs": [],
   "source": [
    "import os\n",
    "os.environ['KMP_DUPLICATE_LIB_OK']='True'"
   ]
  },
  {
   "cell_type": "code",
   "execution_count": 4,
   "id": "c801635f-7187-4522-b2d7-1b12973ccd45",
   "metadata": {},
   "outputs": [],
   "source": [
    "import ultralytics\n",
    "import torch\n",
    "import numpy as np"
   ]
  },
  {
   "cell_type": "code",
   "execution_count": 5,
   "id": "8e27299d-eb51-44e8-ad98-a5bee9490dd7",
   "metadata": {},
   "outputs": [
    {
     "name": "stdout",
     "output_type": "stream",
     "text": [
      "New https://pypi.org/project/ultralytics/8.3.71 available  Update with 'pip install -U ultralytics'\n",
      "Ultralytics 8.3.70  Python-3.12.6 torch-2.6.0+cu124 CUDA:0 (NVIDIA GeForce RTX 3050 6GB Laptop GPU, 6144MiB)\n",
      "\u001b[34m\u001b[1mengine\\trainer: \u001b[0mtask=detect, mode=train, model=yolov3u.pt, data=D:\\YOLO Comparision\\BrainTumor\\data.yaml, epochs=20, time=None, patience=100, batch=16, imgsz=150, save=True, save_period=-1, cache=False, device=0, workers=8, project=None, name=train6, exist_ok=False, pretrained=True, optimizer=auto, verbose=True, seed=0, deterministic=True, single_cls=False, rect=False, cos_lr=False, close_mosaic=10, resume=False, amp=True, fraction=1.0, profile=False, freeze=None, multi_scale=False, overlap_mask=True, mask_ratio=4, dropout=0.0, val=True, split=val, save_json=False, save_hybrid=False, conf=None, iou=0.7, max_det=300, half=False, dnn=False, plots=True, source=None, vid_stride=1, stream_buffer=False, visualize=False, augment=False, agnostic_nms=False, classes=None, retina_masks=False, embed=None, show=False, save_frames=False, save_txt=False, save_conf=False, save_crop=False, show_labels=True, show_conf=True, show_boxes=True, line_width=None, format=torchscript, keras=False, optimize=False, int8=False, dynamic=False, simplify=True, opset=None, workspace=None, nms=False, lr0=0.01, lrf=0.01, momentum=0.937, weight_decay=0.0005, warmup_epochs=3.0, warmup_momentum=0.8, warmup_bias_lr=0.1, box=7.5, cls=0.5, dfl=1.5, pose=12.0, kobj=1.0, nbs=64, hsv_h=0.015, hsv_s=0.7, hsv_v=0.4, degrees=0.0, translate=0.1, scale=0.5, shear=0.0, perspective=0.0, flipud=0.0, fliplr=0.5, bgr=0.0, mosaic=1.0, mixup=0.0, copy_paste=0.0, copy_paste_mode=flip, auto_augment=randaugment, erasing=0.4, crop_fraction=1.0, cfg=None, tracker=botsort.yaml, save_dir=runs\\detect\\train6\n",
      "Overriding model.yaml nc=80 with nc=1\n",
      "\n",
      "                   from  n    params  module                                       arguments                     \n",
      "  0                  -1  1       928  ultralytics.nn.modules.conv.Conv             [3, 32, 3, 1]                 \n",
      "  1                  -1  1     18560  ultralytics.nn.modules.conv.Conv             [32, 64, 3, 2]                \n",
      "  2                  -1  1     37056  ultralytics.nn.modules.block.Bottleneck      [64, 64]                      \n",
      "  3                  -1  1     73984  ultralytics.nn.modules.conv.Conv             [64, 128, 3, 2]               \n",
      "  4                  -1  2    295680  ultralytics.nn.modules.block.Bottleneck      [128, 128]                    \n",
      "  5                  -1  1    295424  ultralytics.nn.modules.conv.Conv             [128, 256, 3, 2]              \n",
      "  6                  -1  8   4724736  ultralytics.nn.modules.block.Bottleneck      [256, 256]                    \n",
      "  7                  -1  1   1180672  ultralytics.nn.modules.conv.Conv             [256, 512, 3, 2]              \n",
      "  8                  -1  8  18886656  ultralytics.nn.modules.block.Bottleneck      [512, 512]                    \n",
      "  9                  -1  1   4720640  ultralytics.nn.modules.conv.Conv             [512, 1024, 3, 2]             \n",
      " 10                  -1  4  37761024  ultralytics.nn.modules.block.Bottleneck      [1024, 1024]                  \n",
      " 11                  -1  1   9440256  ultralytics.nn.modules.block.Bottleneck      [1024, 1024, False]           \n",
      " 12                  -1  1    525312  ultralytics.nn.modules.conv.Conv             [1024, 512, 1, 1]             \n",
      " 13                  -1  1   4720640  ultralytics.nn.modules.conv.Conv             [512, 1024, 3, 1]             \n",
      " 14                  -1  1    525312  ultralytics.nn.modules.conv.Conv             [1024, 512, 1, 1]             \n",
      " 15                  -1  1   4720640  ultralytics.nn.modules.conv.Conv             [512, 1024, 3, 1]             \n",
      " 16                  -2  1    131584  ultralytics.nn.modules.conv.Conv             [512, 256, 1, 1]              \n",
      " 17                  -1  1         0  torch.nn.modules.upsampling.Upsample         [None, 2, 'nearest']          \n",
      " 18             [-1, 8]  1         0  ultralytics.nn.modules.conv.Concat           [1]                           \n",
      " 19                  -1  1   2950656  ultralytics.nn.modules.block.Bottleneck      [768, 512, False]             \n",
      " 20                  -1  1   2360832  ultralytics.nn.modules.block.Bottleneck      [512, 512, False]             \n",
      " 21                  -1  1    131584  ultralytics.nn.modules.conv.Conv             [512, 256, 1, 1]              \n",
      " 22                  -1  1   1180672  ultralytics.nn.modules.conv.Conv             [256, 512, 3, 1]              \n",
      " 23                  -2  1     33024  ultralytics.nn.modules.conv.Conv             [256, 128, 1, 1]              \n",
      " 24                  -1  1         0  torch.nn.modules.upsampling.Upsample         [None, 2, 'nearest']          \n",
      " 25             [-1, 6]  1         0  ultralytics.nn.modules.conv.Concat           [1]                           \n",
      " 26                  -1  1    738048  ultralytics.nn.modules.block.Bottleneck      [384, 256, False]             \n",
      " 27                  -1  2   1181184  ultralytics.nn.modules.block.Bottleneck      [256, 256, False]             \n",
      " 28        [27, 22, 15]  1   7058131  ultralytics.nn.modules.head.Detect           [1, [256, 512, 1024]]         \n",
      "YOLOv3 summary: 310 layers, 103,693,235 parameters, 103,693,219 gradients, 283.0 GFLOPs\n",
      "\n",
      "Transferred 511/517 items from pretrained weights\n",
      "Freezing layer 'model.28.dfl.conv.weight'\n",
      "\u001b[34m\u001b[1mAMP: \u001b[0mrunning Automatic Mixed Precision (AMP) checks...\n",
      "\u001b[34m\u001b[1mAMP: \u001b[0mchecks passed \n",
      "WARNING  imgsz=[150] must be multiple of max stride 32, updating to [160]\n"
     ]
    },
    {
     "name": "stderr",
     "output_type": "stream",
     "text": [
      "\u001b[34m\u001b[1mtrain: \u001b[0mScanning D:\\YOLO Comparision\\BrainTumor\\train\\labels.cache... 2766 images, 153 backgrounds, 0 corrupt: 100%|████\u001b[0m\n",
      "\u001b[34m\u001b[1mval: \u001b[0mScanning D:\\YOLO Comparision\\BrainTumor\\valid\\labels.cache... 184 images, 0 backgrounds, 0 corrupt: 100%|█████████\u001b[0m\n"
     ]
    },
    {
     "name": "stdout",
     "output_type": "stream",
     "text": [
      "Plotting labels to runs\\detect\\train6\\labels.jpg... \n",
      "\u001b[34m\u001b[1moptimizer:\u001b[0m 'optimizer=auto' found, ignoring 'lr0=0.01' and 'momentum=0.937' and determining best 'optimizer', 'lr0' and 'momentum' automatically... \n",
      "\u001b[34m\u001b[1moptimizer:\u001b[0m AdamW(lr=0.002, momentum=0.9) with parameter groups 84 weight(decay=0.0), 91 weight(decay=0.0005), 90 bias(decay=0.0)\n",
      "Image sizes 160 train, 160 val\n",
      "Using 8 dataloader workers\n",
      "Logging results to \u001b[1mruns\\detect\\train6\u001b[0m\n",
      "Starting training for 20 epochs...\n",
      "\n",
      "      Epoch    GPU_mem   box_loss   cls_loss   dfl_loss  Instances       Size\n"
     ]
    },
    {
     "name": "stderr",
     "output_type": "stream",
     "text": [
      "       1/20      3.01G      1.155      1.036      1.113         26        160: 100%|██████████| 173/173 [01:27<00:00,  \n",
      "                 Class     Images  Instances      Box(P          R      mAP50  mAP50-95): 100%|██████████| 6/6 [00:03<0"
     ]
    },
    {
     "name": "stdout",
     "output_type": "stream",
     "text": [
      "                   all        184        195      0.748      0.503      0.592      0.363\n"
     ]
    },
    {
     "name": "stderr",
     "output_type": "stream",
     "text": [
      "\n"
     ]
    },
    {
     "name": "stdout",
     "output_type": "stream",
     "text": [
      "\n",
      "      Epoch    GPU_mem   box_loss   cls_loss   dfl_loss  Instances       Size\n"
     ]
    },
    {
     "name": "stderr",
     "output_type": "stream",
     "text": [
      "       2/20      3.03G      1.143     0.8588      1.109         21        160: 100%|██████████| 173/173 [01:18<00:00,  \n",
      "                 Class     Images  Instances      Box(P          R      mAP50  mAP50-95): 100%|██████████| 6/6 [00:03<0"
     ]
    },
    {
     "name": "stdout",
     "output_type": "stream",
     "text": [
      "                   all        184        195      0.275     0.0615     0.0617     0.0405\n"
     ]
    },
    {
     "name": "stderr",
     "output_type": "stream",
     "text": [
      "\n"
     ]
    },
    {
     "name": "stdout",
     "output_type": "stream",
     "text": [
      "\n",
      "      Epoch    GPU_mem   box_loss   cls_loss   dfl_loss  Instances       Size\n"
     ]
    },
    {
     "name": "stderr",
     "output_type": "stream",
     "text": [
      "       3/20      3.03G      1.105     0.7884      1.089         14        160: 100%|██████████| 173/173 [01:25<00:00,  \n",
      "                 Class     Images  Instances      Box(P          R      mAP50  mAP50-95): 100%|██████████| 6/6 [00:04<0"
     ]
    },
    {
     "name": "stdout",
     "output_type": "stream",
     "text": [
      "                   all        184        195      0.817      0.621      0.696       0.47\n"
     ]
    },
    {
     "name": "stderr",
     "output_type": "stream",
     "text": [
      "\n"
     ]
    },
    {
     "name": "stdout",
     "output_type": "stream",
     "text": [
      "\n",
      "      Epoch    GPU_mem   box_loss   cls_loss   dfl_loss  Instances       Size\n"
     ]
    },
    {
     "name": "stderr",
     "output_type": "stream",
     "text": [
      "       4/20      3.07G      1.053     0.7563      1.074         24        160: 100%|██████████| 173/173 [01:24<00:00,  \n",
      "                 Class     Images  Instances      Box(P          R      mAP50  mAP50-95): 100%|██████████| 6/6 [00:04<0"
     ]
    },
    {
     "name": "stdout",
     "output_type": "stream",
     "text": [
      "                   all        184        195      0.781      0.569      0.666      0.429\n"
     ]
    },
    {
     "name": "stderr",
     "output_type": "stream",
     "text": [
      "\n"
     ]
    },
    {
     "name": "stdout",
     "output_type": "stream",
     "text": [
      "\n",
      "      Epoch    GPU_mem   box_loss   cls_loss   dfl_loss  Instances       Size\n"
     ]
    },
    {
     "name": "stderr",
     "output_type": "stream",
     "text": [
      "       5/20      3.06G       1.02     0.6913      1.051         25        160: 100%|██████████| 173/173 [01:14<00:00,  \n",
      "                 Class     Images  Instances      Box(P          R      mAP50  mAP50-95): 100%|██████████| 6/6 [00:04<0"
     ]
    },
    {
     "name": "stdout",
     "output_type": "stream",
     "text": [
      "                   all        184        195      0.866      0.626       0.69      0.479\n"
     ]
    },
    {
     "name": "stderr",
     "output_type": "stream",
     "text": [
      "\n"
     ]
    },
    {
     "name": "stdout",
     "output_type": "stream",
     "text": [
      "\n",
      "      Epoch    GPU_mem   box_loss   cls_loss   dfl_loss  Instances       Size\n"
     ]
    },
    {
     "name": "stderr",
     "output_type": "stream",
     "text": [
      "       6/20      3.02G     0.9507     0.6451      1.032         24        160: 100%|██████████| 173/173 [01:19<00:00,  \n",
      "                 Class     Images  Instances      Box(P          R      mAP50  mAP50-95): 100%|██████████| 6/6 [00:03<0"
     ]
    },
    {
     "name": "stdout",
     "output_type": "stream",
     "text": [
      "                   all        184        195      0.925      0.888      0.913      0.678\n"
     ]
    },
    {
     "name": "stderr",
     "output_type": "stream",
     "text": [
      "\n"
     ]
    },
    {
     "name": "stdout",
     "output_type": "stream",
     "text": [
      "\n",
      "      Epoch    GPU_mem   box_loss   cls_loss   dfl_loss  Instances       Size\n"
     ]
    },
    {
     "name": "stderr",
     "output_type": "stream",
     "text": [
      "       7/20      3.08G     0.9333     0.6164      1.024         25        160: 100%|██████████| 173/173 [01:10<00:00,  \n",
      "                 Class     Images  Instances      Box(P          R      mAP50  mAP50-95): 100%|██████████| 6/6 [00:03<0"
     ]
    },
    {
     "name": "stdout",
     "output_type": "stream",
     "text": [
      "                   all        184        195      0.939      0.861      0.908      0.702\n"
     ]
    },
    {
     "name": "stderr",
     "output_type": "stream",
     "text": [
      "\n"
     ]
    },
    {
     "name": "stdout",
     "output_type": "stream",
     "text": [
      "\n",
      "      Epoch    GPU_mem   box_loss   cls_loss   dfl_loss  Instances       Size\n"
     ]
    },
    {
     "name": "stderr",
     "output_type": "stream",
     "text": [
      "       8/20      3.11G     0.9014     0.5824      1.019         25        160: 100%|██████████| 173/173 [01:15<00:00,  \n",
      "                 Class     Images  Instances      Box(P          R      mAP50  mAP50-95): 100%|██████████| 6/6 [00:03<0"
     ]
    },
    {
     "name": "stdout",
     "output_type": "stream",
     "text": [
      "                   all        184        195      0.964      0.834      0.903      0.695\n"
     ]
    },
    {
     "name": "stderr",
     "output_type": "stream",
     "text": [
      "\n"
     ]
    },
    {
     "name": "stdout",
     "output_type": "stream",
     "text": [
      "\n",
      "      Epoch    GPU_mem   box_loss   cls_loss   dfl_loss  Instances       Size\n"
     ]
    },
    {
     "name": "stderr",
     "output_type": "stream",
     "text": [
      "       9/20      3.08G     0.8517      0.557      1.005         28        160: 100%|██████████| 173/173 [01:18<00:00,  \n",
      "                 Class     Images  Instances      Box(P          R      mAP50  mAP50-95): 100%|██████████| 6/6 [00:03<0"
     ]
    },
    {
     "name": "stdout",
     "output_type": "stream",
     "text": [
      "                   all        184        195      0.895      0.851      0.887      0.692\n"
     ]
    },
    {
     "name": "stderr",
     "output_type": "stream",
     "text": [
      "\n"
     ]
    },
    {
     "name": "stdout",
     "output_type": "stream",
     "text": [
      "\n",
      "      Epoch    GPU_mem   box_loss   cls_loss   dfl_loss  Instances       Size\n"
     ]
    },
    {
     "name": "stderr",
     "output_type": "stream",
     "text": [
      "      10/20      3.02G     0.8337     0.5199     0.9928         22        160: 100%|██████████| 173/173 [00:34<00:00,  \n",
      "                 Class     Images  Instances      Box(P          R      mAP50  mAP50-95): 100%|██████████| 6/6 [00:01<0"
     ]
    },
    {
     "name": "stdout",
     "output_type": "stream",
     "text": [
      "                   all        184        195      0.949      0.897       0.93      0.737\n"
     ]
    },
    {
     "name": "stderr",
     "output_type": "stream",
     "text": [
      "\n"
     ]
    },
    {
     "name": "stdout",
     "output_type": "stream",
     "text": [
      "Closing dataloader mosaic\n",
      "\n",
      "      Epoch    GPU_mem   box_loss   cls_loss   dfl_loss  Instances       Size\n"
     ]
    },
    {
     "name": "stderr",
     "output_type": "stream",
     "text": [
      "      11/20       3.1G     0.7416     0.4643     0.9959         14        160: 100%|██████████| 173/173 [00:35<00:00,  \n",
      "                 Class     Images  Instances      Box(P          R      mAP50  mAP50-95): 100%|██████████| 6/6 [00:01<0"
     ]
    },
    {
     "name": "stdout",
     "output_type": "stream",
     "text": [
      "                   all        184        195      0.955      0.867      0.926      0.723\n"
     ]
    },
    {
     "name": "stderr",
     "output_type": "stream",
     "text": [
      "\n"
     ]
    },
    {
     "name": "stdout",
     "output_type": "stream",
     "text": [
      "\n",
      "      Epoch    GPU_mem   box_loss   cls_loss   dfl_loss  Instances       Size\n"
     ]
    },
    {
     "name": "stderr",
     "output_type": "stream",
     "text": [
      "      12/20      3.08G     0.7386     0.4526     0.9832         14        160: 100%|██████████| 173/173 [00:34<00:00,  \n",
      "                 Class     Images  Instances      Box(P          R      mAP50  mAP50-95): 100%|██████████| 6/6 [00:01<0"
     ]
    },
    {
     "name": "stdout",
     "output_type": "stream",
     "text": [
      "                   all        184        195      0.928      0.831      0.893      0.699\n"
     ]
    },
    {
     "name": "stderr",
     "output_type": "stream",
     "text": [
      "\n"
     ]
    },
    {
     "name": "stdout",
     "output_type": "stream",
     "text": [
      "\n",
      "      Epoch    GPU_mem   box_loss   cls_loss   dfl_loss  Instances       Size\n"
     ]
    },
    {
     "name": "stderr",
     "output_type": "stream",
     "text": [
      "      13/20      3.08G     0.6988     0.4273     0.9599         14        160: 100%|██████████| 173/173 [00:36<00:00,  \n",
      "                 Class     Images  Instances      Box(P          R      mAP50  mAP50-95): 100%|██████████| 6/6 [00:01<0"
     ]
    },
    {
     "name": "stdout",
     "output_type": "stream",
     "text": [
      "                   all        184        195      0.946      0.898       0.93      0.714\n"
     ]
    },
    {
     "name": "stderr",
     "output_type": "stream",
     "text": [
      "\n"
     ]
    },
    {
     "name": "stdout",
     "output_type": "stream",
     "text": [
      "\n",
      "      Epoch    GPU_mem   box_loss   cls_loss   dfl_loss  Instances       Size\n"
     ]
    },
    {
     "name": "stderr",
     "output_type": "stream",
     "text": [
      "      14/20      3.02G     0.6893     0.4141     0.9618         15        160: 100%|██████████| 173/173 [00:34<00:00,  \n",
      "                 Class     Images  Instances      Box(P          R      mAP50  mAP50-95): 100%|██████████| 6/6 [00:01<0"
     ]
    },
    {
     "name": "stdout",
     "output_type": "stream",
     "text": [
      "                   all        184        195      0.958      0.882      0.923      0.731\n"
     ]
    },
    {
     "name": "stderr",
     "output_type": "stream",
     "text": [
      "\n"
     ]
    },
    {
     "name": "stdout",
     "output_type": "stream",
     "text": [
      "\n",
      "      Epoch    GPU_mem   box_loss   cls_loss   dfl_loss  Instances       Size\n"
     ]
    },
    {
     "name": "stderr",
     "output_type": "stream",
     "text": [
      "      15/20      3.07G     0.6538     0.3928     0.9441         14        160: 100%|██████████| 173/173 [00:35<00:00,  \n",
      "                 Class     Images  Instances      Box(P          R      mAP50  mAP50-95): 100%|██████████| 6/6 [00:01<0"
     ]
    },
    {
     "name": "stdout",
     "output_type": "stream",
     "text": [
      "                   all        184        195      0.971      0.867      0.924      0.728\n"
     ]
    },
    {
     "name": "stderr",
     "output_type": "stream",
     "text": [
      "\n"
     ]
    },
    {
     "name": "stdout",
     "output_type": "stream",
     "text": [
      "\n",
      "      Epoch    GPU_mem   box_loss   cls_loss   dfl_loss  Instances       Size\n"
     ]
    },
    {
     "name": "stderr",
     "output_type": "stream",
     "text": [
      "      16/20      3.11G     0.6401     0.3698     0.9321         15        160: 100%|██████████| 173/173 [00:35<00:00,  \n",
      "                 Class     Images  Instances      Box(P          R      mAP50  mAP50-95): 100%|██████████| 6/6 [00:01<0"
     ]
    },
    {
     "name": "stdout",
     "output_type": "stream",
     "text": [
      "                   all        184        195      0.977      0.872      0.935      0.745\n"
     ]
    },
    {
     "name": "stderr",
     "output_type": "stream",
     "text": [
      "\n"
     ]
    },
    {
     "name": "stdout",
     "output_type": "stream",
     "text": [
      "\n",
      "      Epoch    GPU_mem   box_loss   cls_loss   dfl_loss  Instances       Size\n"
     ]
    },
    {
     "name": "stderr",
     "output_type": "stream",
     "text": [
      "      17/20      3.08G     0.6102     0.3524     0.9154         13        160: 100%|██████████| 173/173 [00:35<00:00,  \n",
      "                 Class     Images  Instances      Box(P          R      mAP50  mAP50-95): 100%|██████████| 6/6 [00:01<0"
     ]
    },
    {
     "name": "stdout",
     "output_type": "stream",
     "text": [
      "                   all        184        195       0.92      0.913      0.931      0.738\n"
     ]
    },
    {
     "name": "stderr",
     "output_type": "stream",
     "text": [
      "\n"
     ]
    },
    {
     "name": "stdout",
     "output_type": "stream",
     "text": [
      "\n",
      "      Epoch    GPU_mem   box_loss   cls_loss   dfl_loss  Instances       Size\n"
     ]
    },
    {
     "name": "stderr",
     "output_type": "stream",
     "text": [
      "      18/20      3.04G     0.5925     0.3374      0.916         13        160: 100%|██████████| 173/173 [00:35<00:00,  \n",
      "                 Class     Images  Instances      Box(P          R      mAP50  mAP50-95): 100%|██████████| 6/6 [00:01<0"
     ]
    },
    {
     "name": "stdout",
     "output_type": "stream",
     "text": [
      "                   all        184        195      0.947      0.887      0.934      0.748\n"
     ]
    },
    {
     "name": "stderr",
     "output_type": "stream",
     "text": [
      "\n"
     ]
    },
    {
     "name": "stdout",
     "output_type": "stream",
     "text": [
      "\n",
      "      Epoch    GPU_mem   box_loss   cls_loss   dfl_loss  Instances       Size\n"
     ]
    },
    {
     "name": "stderr",
     "output_type": "stream",
     "text": [
      "      19/20      3.09G     0.5708     0.3221      0.909         13        160: 100%|██████████| 173/173 [00:35<00:00,  \n",
      "                 Class     Images  Instances      Box(P          R      mAP50  mAP50-95): 100%|██████████| 6/6 [00:01<0"
     ]
    },
    {
     "name": "stdout",
     "output_type": "stream",
     "text": [
      "                   all        184        195      0.927      0.907      0.931      0.759\n"
     ]
    },
    {
     "name": "stderr",
     "output_type": "stream",
     "text": [
      "\n"
     ]
    },
    {
     "name": "stdout",
     "output_type": "stream",
     "text": [
      "\n",
      "      Epoch    GPU_mem   box_loss   cls_loss   dfl_loss  Instances       Size\n"
     ]
    },
    {
     "name": "stderr",
     "output_type": "stream",
     "text": [
      "      20/20      3.11G     0.5436     0.3037     0.8948         13        160: 100%|██████████| 173/173 [00:35<00:00,  \n",
      "                 Class     Images  Instances      Box(P          R      mAP50  mAP50-95): 100%|██████████| 6/6 [00:01<0"
     ]
    },
    {
     "name": "stdout",
     "output_type": "stream",
     "text": [
      "                   all        184        195      0.932      0.909      0.932      0.758\n"
     ]
    },
    {
     "name": "stderr",
     "output_type": "stream",
     "text": [
      "\n"
     ]
    },
    {
     "name": "stdout",
     "output_type": "stream",
     "text": [
      "\n",
      "20 epochs completed in 0.361 hours.\n",
      "Optimizer stripped from runs\\detect\\train6\\weights\\last.pt, 207.7MB\n",
      "Optimizer stripped from runs\\detect\\train6\\weights\\best.pt, 207.7MB\n",
      "\n",
      "Validating runs\\detect\\train6\\weights\\best.pt...\n",
      "Ultralytics 8.3.70  Python-3.12.6 torch-2.6.0+cu124 CUDA:0 (NVIDIA GeForce RTX 3050 6GB Laptop GPU, 6144MiB)\n",
      "YOLOv3 summary (fused): 226 layers, 103,665,011 parameters, 0 gradients, 282.2 GFLOPs\n"
     ]
    },
    {
     "name": "stderr",
     "output_type": "stream",
     "text": [
      "                 Class     Images  Instances      Box(P          R      mAP50  mAP50-95): 100%|██████████| 6/6 [00:01<0\n"
     ]
    },
    {
     "name": "stdout",
     "output_type": "stream",
     "text": [
      "                   all        184        195      0.927      0.908      0.931      0.759\n",
      "Speed: 0.1ms preprocess, 3.1ms inference, 0.0ms loss, 1.0ms postprocess per image\n",
      "Results saved to \u001b[1mruns\\detect\\train6\u001b[0m\n"
     ]
    },
    {
     "data": {
      "text/plain": [
       "ultralytics.utils.metrics.DetMetrics object with attributes:\n",
       "\n",
       "ap_class_index: array([0])\n",
       "box: ultralytics.utils.metrics.Metric object\n",
       "confusion_matrix: <ultralytics.utils.metrics.ConfusionMatrix object at 0x000001F749319DF0>\n",
       "curves: ['Precision-Recall(B)', 'F1-Confidence(B)', 'Precision-Confidence(B)', 'Recall-Confidence(B)']\n",
       "curves_results: [[array([          0,    0.001001,    0.002002,    0.003003,    0.004004,    0.005005,    0.006006,    0.007007,    0.008008,    0.009009,     0.01001,    0.011011,    0.012012,    0.013013,    0.014014,    0.015015,    0.016016,    0.017017,    0.018018,    0.019019,     0.02002,    0.021021,    0.022022,    0.023023,\n",
       "          0.024024,    0.025025,    0.026026,    0.027027,    0.028028,    0.029029,     0.03003,    0.031031,    0.032032,    0.033033,    0.034034,    0.035035,    0.036036,    0.037037,    0.038038,    0.039039,     0.04004,    0.041041,    0.042042,    0.043043,    0.044044,    0.045045,    0.046046,    0.047047,\n",
       "          0.048048,    0.049049,     0.05005,    0.051051,    0.052052,    0.053053,    0.054054,    0.055055,    0.056056,    0.057057,    0.058058,    0.059059,     0.06006,    0.061061,    0.062062,    0.063063,    0.064064,    0.065065,    0.066066,    0.067067,    0.068068,    0.069069,     0.07007,    0.071071,\n",
       "          0.072072,    0.073073,    0.074074,    0.075075,    0.076076,    0.077077,    0.078078,    0.079079,     0.08008,    0.081081,    0.082082,    0.083083,    0.084084,    0.085085,    0.086086,    0.087087,    0.088088,    0.089089,     0.09009,    0.091091,    0.092092,    0.093093,    0.094094,    0.095095,\n",
       "          0.096096,    0.097097,    0.098098,    0.099099,      0.1001,      0.1011,      0.1021,      0.1031,      0.1041,     0.10511,     0.10611,     0.10711,     0.10811,     0.10911,     0.11011,     0.11111,     0.11211,     0.11311,     0.11411,     0.11512,     0.11612,     0.11712,     0.11812,     0.11912,\n",
       "           0.12012,     0.12112,     0.12212,     0.12312,     0.12412,     0.12513,     0.12613,     0.12713,     0.12813,     0.12913,     0.13013,     0.13113,     0.13213,     0.13313,     0.13413,     0.13514,     0.13614,     0.13714,     0.13814,     0.13914,     0.14014,     0.14114,     0.14214,     0.14314,\n",
       "           0.14414,     0.14515,     0.14615,     0.14715,     0.14815,     0.14915,     0.15015,     0.15115,     0.15215,     0.15315,     0.15415,     0.15516,     0.15616,     0.15716,     0.15816,     0.15916,     0.16016,     0.16116,     0.16216,     0.16316,     0.16416,     0.16517,     0.16617,     0.16717,\n",
       "           0.16817,     0.16917,     0.17017,     0.17117,     0.17217,     0.17317,     0.17417,     0.17518,     0.17618,     0.17718,     0.17818,     0.17918,     0.18018,     0.18118,     0.18218,     0.18318,     0.18418,     0.18519,     0.18619,     0.18719,     0.18819,     0.18919,     0.19019,     0.19119,\n",
       "           0.19219,     0.19319,     0.19419,      0.1952,      0.1962,      0.1972,      0.1982,      0.1992,      0.2002,      0.2012,      0.2022,      0.2032,      0.2042,     0.20521,     0.20621,     0.20721,     0.20821,     0.20921,     0.21021,     0.21121,     0.21221,     0.21321,     0.21421,     0.21522,\n",
       "           0.21622,     0.21722,     0.21822,     0.21922,     0.22022,     0.22122,     0.22222,     0.22322,     0.22422,     0.22523,     0.22623,     0.22723,     0.22823,     0.22923,     0.23023,     0.23123,     0.23223,     0.23323,     0.23423,     0.23524,     0.23624,     0.23724,     0.23824,     0.23924,\n",
       "           0.24024,     0.24124,     0.24224,     0.24324,     0.24424,     0.24525,     0.24625,     0.24725,     0.24825,     0.24925,     0.25025,     0.25125,     0.25225,     0.25325,     0.25425,     0.25526,     0.25626,     0.25726,     0.25826,     0.25926,     0.26026,     0.26126,     0.26226,     0.26326,\n",
       "           0.26426,     0.26527,     0.26627,     0.26727,     0.26827,     0.26927,     0.27027,     0.27127,     0.27227,     0.27327,     0.27427,     0.27528,     0.27628,     0.27728,     0.27828,     0.27928,     0.28028,     0.28128,     0.28228,     0.28328,     0.28428,     0.28529,     0.28629,     0.28729,\n",
       "           0.28829,     0.28929,     0.29029,     0.29129,     0.29229,     0.29329,     0.29429,      0.2953,      0.2963,      0.2973,      0.2983,      0.2993,      0.3003,      0.3013,      0.3023,      0.3033,      0.3043,     0.30531,     0.30631,     0.30731,     0.30831,     0.30931,     0.31031,     0.31131,\n",
       "           0.31231,     0.31331,     0.31431,     0.31532,     0.31632,     0.31732,     0.31832,     0.31932,     0.32032,     0.32132,     0.32232,     0.32332,     0.32432,     0.32533,     0.32633,     0.32733,     0.32833,     0.32933,     0.33033,     0.33133,     0.33233,     0.33333,     0.33433,     0.33534,\n",
       "           0.33634,     0.33734,     0.33834,     0.33934,     0.34034,     0.34134,     0.34234,     0.34334,     0.34434,     0.34535,     0.34635,     0.34735,     0.34835,     0.34935,     0.35035,     0.35135,     0.35235,     0.35335,     0.35435,     0.35536,     0.35636,     0.35736,     0.35836,     0.35936,\n",
       "           0.36036,     0.36136,     0.36236,     0.36336,     0.36436,     0.36537,     0.36637,     0.36737,     0.36837,     0.36937,     0.37037,     0.37137,     0.37237,     0.37337,     0.37437,     0.37538,     0.37638,     0.37738,     0.37838,     0.37938,     0.38038,     0.38138,     0.38238,     0.38338,\n",
       "           0.38438,     0.38539,     0.38639,     0.38739,     0.38839,     0.38939,     0.39039,     0.39139,     0.39239,     0.39339,     0.39439,      0.3954,      0.3964,      0.3974,      0.3984,      0.3994,      0.4004,      0.4014,      0.4024,      0.4034,      0.4044,     0.40541,     0.40641,     0.40741,\n",
       "           0.40841,     0.40941,     0.41041,     0.41141,     0.41241,     0.41341,     0.41441,     0.41542,     0.41642,     0.41742,     0.41842,     0.41942,     0.42042,     0.42142,     0.42242,     0.42342,     0.42442,     0.42543,     0.42643,     0.42743,     0.42843,     0.42943,     0.43043,     0.43143,\n",
       "           0.43243,     0.43343,     0.43443,     0.43544,     0.43644,     0.43744,     0.43844,     0.43944,     0.44044,     0.44144,     0.44244,     0.44344,     0.44444,     0.44545,     0.44645,     0.44745,     0.44845,     0.44945,     0.45045,     0.45145,     0.45245,     0.45345,     0.45445,     0.45546,\n",
       "           0.45646,     0.45746,     0.45846,     0.45946,     0.46046,     0.46146,     0.46246,     0.46346,     0.46446,     0.46547,     0.46647,     0.46747,     0.46847,     0.46947,     0.47047,     0.47147,     0.47247,     0.47347,     0.47447,     0.47548,     0.47648,     0.47748,     0.47848,     0.47948,\n",
       "           0.48048,     0.48148,     0.48248,     0.48348,     0.48448,     0.48549,     0.48649,     0.48749,     0.48849,     0.48949,     0.49049,     0.49149,     0.49249,     0.49349,     0.49449,      0.4955,      0.4965,      0.4975,      0.4985,      0.4995,      0.5005,      0.5015,      0.5025,      0.5035,\n",
       "            0.5045,     0.50551,     0.50651,     0.50751,     0.50851,     0.50951,     0.51051,     0.51151,     0.51251,     0.51351,     0.51451,     0.51552,     0.51652,     0.51752,     0.51852,     0.51952,     0.52052,     0.52152,     0.52252,     0.52352,     0.52452,     0.52553,     0.52653,     0.52753,\n",
       "           0.52853,     0.52953,     0.53053,     0.53153,     0.53253,     0.53353,     0.53453,     0.53554,     0.53654,     0.53754,     0.53854,     0.53954,     0.54054,     0.54154,     0.54254,     0.54354,     0.54454,     0.54555,     0.54655,     0.54755,     0.54855,     0.54955,     0.55055,     0.55155,\n",
       "           0.55255,     0.55355,     0.55455,     0.55556,     0.55656,     0.55756,     0.55856,     0.55956,     0.56056,     0.56156,     0.56256,     0.56356,     0.56456,     0.56557,     0.56657,     0.56757,     0.56857,     0.56957,     0.57057,     0.57157,     0.57257,     0.57357,     0.57457,     0.57558,\n",
       "           0.57658,     0.57758,     0.57858,     0.57958,     0.58058,     0.58158,     0.58258,     0.58358,     0.58458,     0.58559,     0.58659,     0.58759,     0.58859,     0.58959,     0.59059,     0.59159,     0.59259,     0.59359,     0.59459,      0.5956,      0.5966,      0.5976,      0.5986,      0.5996,\n",
       "            0.6006,      0.6016,      0.6026,      0.6036,      0.6046,     0.60561,     0.60661,     0.60761,     0.60861,     0.60961,     0.61061,     0.61161,     0.61261,     0.61361,     0.61461,     0.61562,     0.61662,     0.61762,     0.61862,     0.61962,     0.62062,     0.62162,     0.62262,     0.62362,\n",
       "           0.62462,     0.62563,     0.62663,     0.62763,     0.62863,     0.62963,     0.63063,     0.63163,     0.63263,     0.63363,     0.63463,     0.63564,     0.63664,     0.63764,     0.63864,     0.63964,     0.64064,     0.64164,     0.64264,     0.64364,     0.64464,     0.64565,     0.64665,     0.64765,\n",
       "           0.64865,     0.64965,     0.65065,     0.65165,     0.65265,     0.65365,     0.65465,     0.65566,     0.65666,     0.65766,     0.65866,     0.65966,     0.66066,     0.66166,     0.66266,     0.66366,     0.66466,     0.66567,     0.66667,     0.66767,     0.66867,     0.66967,     0.67067,     0.67167,\n",
       "           0.67267,     0.67367,     0.67467,     0.67568,     0.67668,     0.67768,     0.67868,     0.67968,     0.68068,     0.68168,     0.68268,     0.68368,     0.68468,     0.68569,     0.68669,     0.68769,     0.68869,     0.68969,     0.69069,     0.69169,     0.69269,     0.69369,     0.69469,      0.6957,\n",
       "            0.6967,      0.6977,      0.6987,      0.6997,      0.7007,      0.7017,      0.7027,      0.7037,      0.7047,     0.70571,     0.70671,     0.70771,     0.70871,     0.70971,     0.71071,     0.71171,     0.71271,     0.71371,     0.71471,     0.71572,     0.71672,     0.71772,     0.71872,     0.71972,\n",
       "           0.72072,     0.72172,     0.72272,     0.72372,     0.72472,     0.72573,     0.72673,     0.72773,     0.72873,     0.72973,     0.73073,     0.73173,     0.73273,     0.73373,     0.73473,     0.73574,     0.73674,     0.73774,     0.73874,     0.73974,     0.74074,     0.74174,     0.74274,     0.74374,\n",
       "           0.74474,     0.74575,     0.74675,     0.74775,     0.74875,     0.74975,     0.75075,     0.75175,     0.75275,     0.75375,     0.75475,     0.75576,     0.75676,     0.75776,     0.75876,     0.75976,     0.76076,     0.76176,     0.76276,     0.76376,     0.76476,     0.76577,     0.76677,     0.76777,\n",
       "           0.76877,     0.76977,     0.77077,     0.77177,     0.77277,     0.77377,     0.77477,     0.77578,     0.77678,     0.77778,     0.77878,     0.77978,     0.78078,     0.78178,     0.78278,     0.78378,     0.78478,     0.78579,     0.78679,     0.78779,     0.78879,     0.78979,     0.79079,     0.79179,\n",
       "           0.79279,     0.79379,     0.79479,      0.7958,      0.7968,      0.7978,      0.7988,      0.7998,      0.8008,      0.8018,      0.8028,      0.8038,      0.8048,     0.80581,     0.80681,     0.80781,     0.80881,     0.80981,     0.81081,     0.81181,     0.81281,     0.81381,     0.81481,     0.81582,\n",
       "           0.81682,     0.81782,     0.81882,     0.81982,     0.82082,     0.82182,     0.82282,     0.82382,     0.82482,     0.82583,     0.82683,     0.82783,     0.82883,     0.82983,     0.83083,     0.83183,     0.83283,     0.83383,     0.83483,     0.83584,     0.83684,     0.83784,     0.83884,     0.83984,\n",
       "           0.84084,     0.84184,     0.84284,     0.84384,     0.84484,     0.84585,     0.84685,     0.84785,     0.84885,     0.84985,     0.85085,     0.85185,     0.85285,     0.85385,     0.85485,     0.85586,     0.85686,     0.85786,     0.85886,     0.85986,     0.86086,     0.86186,     0.86286,     0.86386,\n",
       "           0.86486,     0.86587,     0.86687,     0.86787,     0.86887,     0.86987,     0.87087,     0.87187,     0.87287,     0.87387,     0.87487,     0.87588,     0.87688,     0.87788,     0.87888,     0.87988,     0.88088,     0.88188,     0.88288,     0.88388,     0.88488,     0.88589,     0.88689,     0.88789,\n",
       "           0.88889,     0.88989,     0.89089,     0.89189,     0.89289,     0.89389,     0.89489,      0.8959,      0.8969,      0.8979,      0.8989,      0.8999,      0.9009,      0.9019,      0.9029,      0.9039,      0.9049,     0.90591,     0.90691,     0.90791,     0.90891,     0.90991,     0.91091,     0.91191,\n",
       "           0.91291,     0.91391,     0.91491,     0.91592,     0.91692,     0.91792,     0.91892,     0.91992,     0.92092,     0.92192,     0.92292,     0.92392,     0.92492,     0.92593,     0.92693,     0.92793,     0.92893,     0.92993,     0.93093,     0.93193,     0.93293,     0.93393,     0.93493,     0.93594,\n",
       "           0.93694,     0.93794,     0.93894,     0.93994,     0.94094,     0.94194,     0.94294,     0.94394,     0.94494,     0.94595,     0.94695,     0.94795,     0.94895,     0.94995,     0.95095,     0.95195,     0.95295,     0.95395,     0.95495,     0.95596,     0.95696,     0.95796,     0.95896,     0.95996,\n",
       "           0.96096,     0.96196,     0.96296,     0.96396,     0.96496,     0.96597,     0.96697,     0.96797,     0.96897,     0.96997,     0.97097,     0.97197,     0.97297,     0.97397,     0.97497,     0.97598,     0.97698,     0.97798,     0.97898,     0.97998,     0.98098,     0.98198,     0.98298,     0.98398,\n",
       "           0.98498,     0.98599,     0.98699,     0.98799,     0.98899,     0.98999,     0.99099,     0.99199,     0.99299,     0.99399,     0.99499,       0.996,       0.997,       0.998,       0.999,           1]), array([[          1,           1,           1,           1,           1,           1,           1,           1,           1,           1,           1,           1,           1,           1,           1,           1,           1,           1,           1,           1,           1,           1,           1,\n",
       "                  1,           1,           1,           1,           1,           1,           1,           1,           1,           1,           1,           1,           1,           1,           1,           1,           1,           1,           1,           1,           1,           1,           1,\n",
       "                  1,           1,           1,           1,           1,           1,           1,           1,           1,           1,           1,           1,           1,           1,           1,           1,           1,           1,           1,           1,           1,           1,           1,\n",
       "                  1,           1,           1,           1,           1,           1,           1,           1,           1,           1,           1,           1,           1,           1,           1,           1,           1,           1,           1,           1,           1,           1,           1,\n",
       "                  1,           1,           1,           1,           1,           1,           1,           1,           1,           1,           1,           1,           1,           1,           1,           1,           1,           1,           1,           1,           1,           1,           1,\n",
       "                  1,           1,           1,           1,           1,           1,           1,           1,           1,           1,           1,           1,           1,           1,           1,           1,           1,           1,           1,           1,           1,           1,           1,\n",
       "                  1,           1,           1,           1,           1,           1,           1,           1,           1,           1,           1,           1,           1,           1,           1,           1,           1,           1,           1,           1,           1,           1,           1,\n",
       "                  1,           1,           1,           1,           1,           1,           1,           1,           1,           1,           1,           1,           1,           1,           1,           1,           1,           1,           1,           1,           1,           1,           1,\n",
       "                  1,           1,           1,           1,           1,           1,           1,           1,           1,           1,           1,           1,           1,           1,           1,           1,           1,           1,           1,           1,           1,           1,           1,\n",
       "                  1,           1,           1,           1,           1,           1,           1,           1,           1,           1,           1,           1,           1,           1,           1,           1,           1,           1,           1,     0.98026,     0.98026,     0.98026,     0.98026,\n",
       "            0.98026,     0.98026,     0.98026,     0.98026,     0.98026,     0.98026,     0.98026,     0.98026,     0.98026,     0.98026,     0.98026,     0.98026,     0.98026,     0.98026,     0.98026,     0.98026,     0.98026,     0.98026,     0.98026,     0.98026,     0.98026,     0.98026,     0.98026,\n",
       "            0.98026,     0.98026,     0.98026,     0.98026,     0.98026,     0.98026,     0.98026,     0.98026,     0.98026,     0.98026,     0.98026,     0.98026,     0.98026,     0.98026,     0.98026,     0.98026,     0.98026,     0.98026,     0.98026,     0.98026,     0.98026,     0.98026,     0.98026,\n",
       "            0.98026,     0.98026,     0.98026,     0.98026,     0.98026,     0.98026,     0.98026,     0.98026,     0.98026,     0.98026,     0.98026,     0.98026,     0.98026,     0.98026,     0.98026,     0.98026,     0.98026,     0.98026,     0.98026,     0.98026,     0.98026,     0.98026,     0.98026,\n",
       "            0.98026,     0.98026,     0.98026,     0.98026,     0.98026,     0.98026,     0.98026,     0.98026,     0.98026,     0.98026,     0.98026,     0.98026,     0.98026,     0.98026,     0.98026,     0.98026,     0.98026,     0.98026,     0.98026,     0.98026,     0.98026,     0.98026,     0.98026,\n",
       "            0.98026,     0.98026,     0.98026,     0.98026,     0.98026,     0.98026,     0.98026,     0.98026,     0.98026,     0.98026,     0.98026,     0.98026,     0.98026,     0.98026,     0.98026,     0.98026,     0.98026,     0.98026,     0.98026,     0.98026,     0.98026,     0.98026,     0.98026,\n",
       "            0.98026,     0.98026,     0.98026,     0.98026,     0.98026,     0.98026,     0.98026,     0.98026,     0.98026,     0.98026,     0.98026,     0.98026,     0.98026,     0.98026,     0.98026,     0.98026,     0.98026,     0.98026,     0.98026,     0.98026,     0.98026,     0.98026,     0.98026,\n",
       "            0.98026,     0.98026,     0.98026,     0.98026,     0.98026,     0.98026,     0.98026,     0.98026,     0.98026,     0.98026,     0.98026,     0.98026,     0.98026,     0.98026,     0.98026,     0.98026,     0.98026,     0.98026,     0.98026,     0.98026,     0.98026,     0.98026,     0.98026,\n",
       "            0.98026,     0.98026,     0.98026,     0.98026,     0.98026,     0.98026,     0.98026,     0.98026,     0.98026,     0.98026,     0.98026,     0.98026,     0.98026,     0.98026,     0.98026,     0.98026,     0.98026,     0.98026,     0.98026,     0.98026,     0.98026,     0.98026,     0.98026,\n",
       "            0.98026,     0.98026,     0.98026,     0.98026,     0.98026,     0.98026,     0.98026,     0.98026,     0.98026,     0.98026,     0.98026,     0.98026,     0.98026,     0.98026,     0.98026,     0.98026,     0.98026,     0.98026,     0.98026,     0.98026,     0.98026,     0.98026,     0.98026,\n",
       "            0.98026,     0.98026,     0.98026,     0.98026,     0.98026,     0.98026,     0.98026,     0.98026,     0.98026,     0.98026,     0.98026,     0.98026,     0.98026,     0.98026,     0.98026,     0.98026,     0.98026,     0.98026,     0.98026,     0.98026,     0.98026,     0.98026,     0.98026,\n",
       "            0.98026,     0.98026,     0.98026,     0.98026,     0.98026,     0.98026,     0.98026,     0.98026,     0.98026,     0.98026,     0.98026,     0.98026,     0.98026,     0.98026,     0.98026,     0.98026,     0.98026,     0.98026,     0.98026,     0.98026,     0.98026,     0.98026,     0.98026,\n",
       "            0.98026,     0.98026,     0.98026,     0.98026,     0.98026,     0.98026,     0.98026,     0.98026,     0.98026,     0.98026,     0.98026,     0.98026,     0.98026,     0.98026,     0.98026,     0.98026,     0.98026,     0.98026,     0.98026,     0.98026,     0.98026,     0.98026,     0.98026,\n",
       "            0.98026,     0.98026,     0.98026,     0.98026,     0.98026,     0.98026,     0.98026,     0.98026,     0.98026,     0.98026,     0.98026,     0.98026,     0.98026,     0.98026,     0.98026,     0.98026,     0.98026,     0.98026,     0.98026,     0.98026,     0.98026,     0.98026,     0.98026,\n",
       "            0.98026,     0.98026,     0.98026,     0.98026,     0.98026,     0.98026,     0.98026,     0.98026,     0.98026,     0.98026,     0.98026,     0.98026,     0.98026,     0.98026,     0.98026,     0.98026,     0.98026,     0.98026,     0.98026,     0.98026,     0.98026,     0.98026,     0.98026,\n",
       "            0.98026,     0.98026,     0.98026,     0.98026,     0.98026,     0.98026,     0.98026,     0.98026,     0.98026,     0.98026,     0.98026,     0.98026,     0.98026,     0.98026,     0.98026,     0.98026,     0.98026,     0.98026,     0.98026,     0.98026,     0.98026,     0.98026,     0.98026,\n",
       "            0.98026,     0.98026,     0.98026,     0.98026,     0.98026,     0.98026,     0.98026,     0.98026,     0.98026,     0.98026,     0.98026,     0.98026,     0.98026,     0.98026,     0.98026,     0.98026,     0.98026,     0.98026,     0.98026,     0.98026,     0.98026,     0.98026,     0.98026,\n",
       "            0.98026,     0.98026,     0.98026,     0.98026,     0.98026,     0.98026,     0.98026,     0.98026,     0.98026,     0.98026,     0.98026,     0.98026,     0.98026,     0.98026,     0.98026,     0.98026,     0.98026,     0.98026,     0.98026,     0.98026,     0.98026,     0.98026,     0.98026,\n",
       "            0.98026,     0.98026,     0.98026,     0.98026,     0.98026,     0.98026,     0.98026,     0.98026,     0.98026,     0.98026,     0.98026,     0.98026,     0.98026,     0.98026,     0.98026,     0.98026,     0.98026,     0.98026,     0.98026,     0.98026,     0.98026,     0.98026,     0.98026,\n",
       "            0.98026,     0.98026,     0.98026,     0.98026,     0.98026,     0.98026,     0.98026,     0.98026,     0.98026,     0.98026,     0.98026,     0.98026,     0.98026,     0.98026,     0.98026,     0.98026,     0.98026,     0.98026,     0.98026,     0.98026,     0.98026,     0.98026,     0.98026,\n",
       "            0.98026,     0.98026,     0.98026,     0.98026,     0.98026,     0.98026,     0.98026,     0.98026,     0.98026,     0.98026,     0.98026,     0.98026,     0.98026,     0.98026,     0.98026,     0.98026,     0.98026,     0.98026,     0.98026,     0.98026,     0.98026,     0.98026,     0.98026,\n",
       "            0.98026,     0.98026,     0.98026,     0.98026,     0.98026,     0.98026,     0.98026,     0.98026,     0.98026,     0.98026,     0.98026,     0.98026,     0.98026,     0.98026,     0.98026,     0.98026,     0.98026,     0.98026,     0.98026,     0.98026,     0.98026,     0.98026,     0.98026,\n",
       "            0.98026,     0.98026,     0.98026,     0.98026,     0.98026,     0.98026,     0.98026,     0.98026,     0.98026,     0.98026,     0.98026,     0.98026,     0.98026,     0.98026,     0.98026,     0.98026,     0.98026,     0.98026,     0.98026,     0.98026,     0.98026,     0.98026,     0.98026,\n",
       "            0.98026,     0.98026,     0.98026,     0.98026,     0.98026,     0.98026,     0.98026,     0.98026,     0.98026,     0.98026,     0.98026,     0.98026,     0.98026,     0.98026,     0.98026,     0.98026,     0.98026,     0.98026,     0.98026,     0.98026,     0.98026,     0.98026,     0.98026,\n",
       "            0.98026,     0.98026,     0.98026,     0.98026,     0.98026,     0.97561,     0.97561,     0.97561,     0.97561,     0.97561,     0.97561,     0.97561,     0.97561,     0.97561,     0.97561,     0.97561,     0.97561,     0.97561,     0.97561,     0.97561,     0.97561,     0.97561,     0.97561,\n",
       "            0.97561,     0.97561,     0.97561,     0.97561,     0.97561,     0.97561,     0.97561,     0.97561,     0.97561,     0.97561,     0.97561,     0.97561,     0.97561,     0.97561,     0.97561,     0.97561,     0.97561,     0.97561,     0.97561,     0.97561,     0.97561,     0.97561,     0.97561,\n",
       "            0.97561,     0.97561,     0.97561,     0.97561,     0.97561,     0.97561,     0.97561,     0.97561,     0.97561,     0.97561,     0.97561,     0.97561,     0.97561,     0.97561,     0.97561,     0.96988,     0.96988,     0.96988,     0.96988,     0.96988,     0.96552,     0.96552,     0.96552,\n",
       "            0.96552,     0.96552,     0.96552,     0.96552,     0.96552,     0.96552,     0.96552,     0.96552,     0.96552,     0.96552,     0.96552,     0.96552,     0.96552,     0.96552,     0.96552,     0.96552,     0.96552,     0.96552,     0.96552,     0.96552,     0.96552,     0.96552,     0.96552,\n",
       "            0.96552,     0.96552,     0.96552,     0.96552,     0.96552,     0.96552,     0.96552,     0.96552,     0.96552,     0.96552,     0.96045,     0.96045,     0.96045,     0.96045,     0.96045,     0.96045,     0.96045,     0.96045,     0.96045,     0.96045,     0.95556,     0.95556,     0.95556,\n",
       "            0.95556,     0.95556,     0.95556,     0.95556,     0.95556,     0.95556,     0.95556,     0.95556,     0.95055,     0.95055,     0.95055,     0.95055,     0.95055,     0.94565,     0.94565,     0.94565,     0.94565,     0.94565,     0.92708,     0.92708,     0.92708,     0.92708,     0.92708,\n",
       "            0.92708,     0.92708,     0.92708,     0.92708,     0.92708,     0.92708,     0.92708,     0.92708,     0.92708,     0.92708,     0.92708,     0.92708,     0.92708,     0.92708,     0.92708,     0.91371,     0.91371,     0.91371,     0.91371,     0.91371,     0.91371,     0.91371,     0.91371,\n",
       "            0.91371,     0.91371,     0.91371,     0.90955,     0.90955,     0.90955,     0.90955,     0.90955,     0.81982,     0.81982,     0.81982,     0.81982,     0.81982,     0.72047,     0.72047,     0.72047,     0.72047,     0.72047,     0.70769,     0.70769,     0.70769,     0.70769,     0.70769,\n",
       "            0.38784,     0.38784,     0.38784,     0.38784,     0.38784,     0.26691,     0.26167,     0.25644,     0.25121,     0.24597,     0.24074,     0.23551,     0.23027,     0.22504,     0.21981,     0.21457,     0.20934,     0.20411,     0.19887,     0.19364,     0.18841,     0.18317,     0.17794,\n",
       "            0.17271,     0.16747,     0.16224,       0.157,     0.15177,     0.14654,      0.1413,     0.13607,     0.13084,      0.1256,     0.12037,     0.11514,      0.1099,     0.10467,    0.099436,    0.094203,    0.088969,    0.083736,    0.078502,    0.073269,    0.068035,    0.062802,    0.057568,\n",
       "           0.052335,    0.047101,    0.041868,    0.036634,    0.031401,    0.026167,    0.020934,      0.0157,    0.010467,   0.0052335,           0]]), 'Recall', 'Precision'], [array([          0,    0.001001,    0.002002,    0.003003,    0.004004,    0.005005,    0.006006,    0.007007,    0.008008,    0.009009,     0.01001,    0.011011,    0.012012,    0.013013,    0.014014,    0.015015,    0.016016,    0.017017,    0.018018,    0.019019,     0.02002,    0.021021,    0.022022,    0.023023,\n",
       "          0.024024,    0.025025,    0.026026,    0.027027,    0.028028,    0.029029,     0.03003,    0.031031,    0.032032,    0.033033,    0.034034,    0.035035,    0.036036,    0.037037,    0.038038,    0.039039,     0.04004,    0.041041,    0.042042,    0.043043,    0.044044,    0.045045,    0.046046,    0.047047,\n",
       "          0.048048,    0.049049,     0.05005,    0.051051,    0.052052,    0.053053,    0.054054,    0.055055,    0.056056,    0.057057,    0.058058,    0.059059,     0.06006,    0.061061,    0.062062,    0.063063,    0.064064,    0.065065,    0.066066,    0.067067,    0.068068,    0.069069,     0.07007,    0.071071,\n",
       "          0.072072,    0.073073,    0.074074,    0.075075,    0.076076,    0.077077,    0.078078,    0.079079,     0.08008,    0.081081,    0.082082,    0.083083,    0.084084,    0.085085,    0.086086,    0.087087,    0.088088,    0.089089,     0.09009,    0.091091,    0.092092,    0.093093,    0.094094,    0.095095,\n",
       "          0.096096,    0.097097,    0.098098,    0.099099,      0.1001,      0.1011,      0.1021,      0.1031,      0.1041,     0.10511,     0.10611,     0.10711,     0.10811,     0.10911,     0.11011,     0.11111,     0.11211,     0.11311,     0.11411,     0.11512,     0.11612,     0.11712,     0.11812,     0.11912,\n",
       "           0.12012,     0.12112,     0.12212,     0.12312,     0.12412,     0.12513,     0.12613,     0.12713,     0.12813,     0.12913,     0.13013,     0.13113,     0.13213,     0.13313,     0.13413,     0.13514,     0.13614,     0.13714,     0.13814,     0.13914,     0.14014,     0.14114,     0.14214,     0.14314,\n",
       "           0.14414,     0.14515,     0.14615,     0.14715,     0.14815,     0.14915,     0.15015,     0.15115,     0.15215,     0.15315,     0.15415,     0.15516,     0.15616,     0.15716,     0.15816,     0.15916,     0.16016,     0.16116,     0.16216,     0.16316,     0.16416,     0.16517,     0.16617,     0.16717,\n",
       "           0.16817,     0.16917,     0.17017,     0.17117,     0.17217,     0.17317,     0.17417,     0.17518,     0.17618,     0.17718,     0.17818,     0.17918,     0.18018,     0.18118,     0.18218,     0.18318,     0.18418,     0.18519,     0.18619,     0.18719,     0.18819,     0.18919,     0.19019,     0.19119,\n",
       "           0.19219,     0.19319,     0.19419,      0.1952,      0.1962,      0.1972,      0.1982,      0.1992,      0.2002,      0.2012,      0.2022,      0.2032,      0.2042,     0.20521,     0.20621,     0.20721,     0.20821,     0.20921,     0.21021,     0.21121,     0.21221,     0.21321,     0.21421,     0.21522,\n",
       "           0.21622,     0.21722,     0.21822,     0.21922,     0.22022,     0.22122,     0.22222,     0.22322,     0.22422,     0.22523,     0.22623,     0.22723,     0.22823,     0.22923,     0.23023,     0.23123,     0.23223,     0.23323,     0.23423,     0.23524,     0.23624,     0.23724,     0.23824,     0.23924,\n",
       "           0.24024,     0.24124,     0.24224,     0.24324,     0.24424,     0.24525,     0.24625,     0.24725,     0.24825,     0.24925,     0.25025,     0.25125,     0.25225,     0.25325,     0.25425,     0.25526,     0.25626,     0.25726,     0.25826,     0.25926,     0.26026,     0.26126,     0.26226,     0.26326,\n",
       "           0.26426,     0.26527,     0.26627,     0.26727,     0.26827,     0.26927,     0.27027,     0.27127,     0.27227,     0.27327,     0.27427,     0.27528,     0.27628,     0.27728,     0.27828,     0.27928,     0.28028,     0.28128,     0.28228,     0.28328,     0.28428,     0.28529,     0.28629,     0.28729,\n",
       "           0.28829,     0.28929,     0.29029,     0.29129,     0.29229,     0.29329,     0.29429,      0.2953,      0.2963,      0.2973,      0.2983,      0.2993,      0.3003,      0.3013,      0.3023,      0.3033,      0.3043,     0.30531,     0.30631,     0.30731,     0.30831,     0.30931,     0.31031,     0.31131,\n",
       "           0.31231,     0.31331,     0.31431,     0.31532,     0.31632,     0.31732,     0.31832,     0.31932,     0.32032,     0.32132,     0.32232,     0.32332,     0.32432,     0.32533,     0.32633,     0.32733,     0.32833,     0.32933,     0.33033,     0.33133,     0.33233,     0.33333,     0.33433,     0.33534,\n",
       "           0.33634,     0.33734,     0.33834,     0.33934,     0.34034,     0.34134,     0.34234,     0.34334,     0.34434,     0.34535,     0.34635,     0.34735,     0.34835,     0.34935,     0.35035,     0.35135,     0.35235,     0.35335,     0.35435,     0.35536,     0.35636,     0.35736,     0.35836,     0.35936,\n",
       "           0.36036,     0.36136,     0.36236,     0.36336,     0.36436,     0.36537,     0.36637,     0.36737,     0.36837,     0.36937,     0.37037,     0.37137,     0.37237,     0.37337,     0.37437,     0.37538,     0.37638,     0.37738,     0.37838,     0.37938,     0.38038,     0.38138,     0.38238,     0.38338,\n",
       "           0.38438,     0.38539,     0.38639,     0.38739,     0.38839,     0.38939,     0.39039,     0.39139,     0.39239,     0.39339,     0.39439,      0.3954,      0.3964,      0.3974,      0.3984,      0.3994,      0.4004,      0.4014,      0.4024,      0.4034,      0.4044,     0.40541,     0.40641,     0.40741,\n",
       "           0.40841,     0.40941,     0.41041,     0.41141,     0.41241,     0.41341,     0.41441,     0.41542,     0.41642,     0.41742,     0.41842,     0.41942,     0.42042,     0.42142,     0.42242,     0.42342,     0.42442,     0.42543,     0.42643,     0.42743,     0.42843,     0.42943,     0.43043,     0.43143,\n",
       "           0.43243,     0.43343,     0.43443,     0.43544,     0.43644,     0.43744,     0.43844,     0.43944,     0.44044,     0.44144,     0.44244,     0.44344,     0.44444,     0.44545,     0.44645,     0.44745,     0.44845,     0.44945,     0.45045,     0.45145,     0.45245,     0.45345,     0.45445,     0.45546,\n",
       "           0.45646,     0.45746,     0.45846,     0.45946,     0.46046,     0.46146,     0.46246,     0.46346,     0.46446,     0.46547,     0.46647,     0.46747,     0.46847,     0.46947,     0.47047,     0.47147,     0.47247,     0.47347,     0.47447,     0.47548,     0.47648,     0.47748,     0.47848,     0.47948,\n",
       "           0.48048,     0.48148,     0.48248,     0.48348,     0.48448,     0.48549,     0.48649,     0.48749,     0.48849,     0.48949,     0.49049,     0.49149,     0.49249,     0.49349,     0.49449,      0.4955,      0.4965,      0.4975,      0.4985,      0.4995,      0.5005,      0.5015,      0.5025,      0.5035,\n",
       "            0.5045,     0.50551,     0.50651,     0.50751,     0.50851,     0.50951,     0.51051,     0.51151,     0.51251,     0.51351,     0.51451,     0.51552,     0.51652,     0.51752,     0.51852,     0.51952,     0.52052,     0.52152,     0.52252,     0.52352,     0.52452,     0.52553,     0.52653,     0.52753,\n",
       "           0.52853,     0.52953,     0.53053,     0.53153,     0.53253,     0.53353,     0.53453,     0.53554,     0.53654,     0.53754,     0.53854,     0.53954,     0.54054,     0.54154,     0.54254,     0.54354,     0.54454,     0.54555,     0.54655,     0.54755,     0.54855,     0.54955,     0.55055,     0.55155,\n",
       "           0.55255,     0.55355,     0.55455,     0.55556,     0.55656,     0.55756,     0.55856,     0.55956,     0.56056,     0.56156,     0.56256,     0.56356,     0.56456,     0.56557,     0.56657,     0.56757,     0.56857,     0.56957,     0.57057,     0.57157,     0.57257,     0.57357,     0.57457,     0.57558,\n",
       "           0.57658,     0.57758,     0.57858,     0.57958,     0.58058,     0.58158,     0.58258,     0.58358,     0.58458,     0.58559,     0.58659,     0.58759,     0.58859,     0.58959,     0.59059,     0.59159,     0.59259,     0.59359,     0.59459,      0.5956,      0.5966,      0.5976,      0.5986,      0.5996,\n",
       "            0.6006,      0.6016,      0.6026,      0.6036,      0.6046,     0.60561,     0.60661,     0.60761,     0.60861,     0.60961,     0.61061,     0.61161,     0.61261,     0.61361,     0.61461,     0.61562,     0.61662,     0.61762,     0.61862,     0.61962,     0.62062,     0.62162,     0.62262,     0.62362,\n",
       "           0.62462,     0.62563,     0.62663,     0.62763,     0.62863,     0.62963,     0.63063,     0.63163,     0.63263,     0.63363,     0.63463,     0.63564,     0.63664,     0.63764,     0.63864,     0.63964,     0.64064,     0.64164,     0.64264,     0.64364,     0.64464,     0.64565,     0.64665,     0.64765,\n",
       "           0.64865,     0.64965,     0.65065,     0.65165,     0.65265,     0.65365,     0.65465,     0.65566,     0.65666,     0.65766,     0.65866,     0.65966,     0.66066,     0.66166,     0.66266,     0.66366,     0.66466,     0.66567,     0.66667,     0.66767,     0.66867,     0.66967,     0.67067,     0.67167,\n",
       "           0.67267,     0.67367,     0.67467,     0.67568,     0.67668,     0.67768,     0.67868,     0.67968,     0.68068,     0.68168,     0.68268,     0.68368,     0.68468,     0.68569,     0.68669,     0.68769,     0.68869,     0.68969,     0.69069,     0.69169,     0.69269,     0.69369,     0.69469,      0.6957,\n",
       "            0.6967,      0.6977,      0.6987,      0.6997,      0.7007,      0.7017,      0.7027,      0.7037,      0.7047,     0.70571,     0.70671,     0.70771,     0.70871,     0.70971,     0.71071,     0.71171,     0.71271,     0.71371,     0.71471,     0.71572,     0.71672,     0.71772,     0.71872,     0.71972,\n",
       "           0.72072,     0.72172,     0.72272,     0.72372,     0.72472,     0.72573,     0.72673,     0.72773,     0.72873,     0.72973,     0.73073,     0.73173,     0.73273,     0.73373,     0.73473,     0.73574,     0.73674,     0.73774,     0.73874,     0.73974,     0.74074,     0.74174,     0.74274,     0.74374,\n",
       "           0.74474,     0.74575,     0.74675,     0.74775,     0.74875,     0.74975,     0.75075,     0.75175,     0.75275,     0.75375,     0.75475,     0.75576,     0.75676,     0.75776,     0.75876,     0.75976,     0.76076,     0.76176,     0.76276,     0.76376,     0.76476,     0.76577,     0.76677,     0.76777,\n",
       "           0.76877,     0.76977,     0.77077,     0.77177,     0.77277,     0.77377,     0.77477,     0.77578,     0.77678,     0.77778,     0.77878,     0.77978,     0.78078,     0.78178,     0.78278,     0.78378,     0.78478,     0.78579,     0.78679,     0.78779,     0.78879,     0.78979,     0.79079,     0.79179,\n",
       "           0.79279,     0.79379,     0.79479,      0.7958,      0.7968,      0.7978,      0.7988,      0.7998,      0.8008,      0.8018,      0.8028,      0.8038,      0.8048,     0.80581,     0.80681,     0.80781,     0.80881,     0.80981,     0.81081,     0.81181,     0.81281,     0.81381,     0.81481,     0.81582,\n",
       "           0.81682,     0.81782,     0.81882,     0.81982,     0.82082,     0.82182,     0.82282,     0.82382,     0.82482,     0.82583,     0.82683,     0.82783,     0.82883,     0.82983,     0.83083,     0.83183,     0.83283,     0.83383,     0.83483,     0.83584,     0.83684,     0.83784,     0.83884,     0.83984,\n",
       "           0.84084,     0.84184,     0.84284,     0.84384,     0.84484,     0.84585,     0.84685,     0.84785,     0.84885,     0.84985,     0.85085,     0.85185,     0.85285,     0.85385,     0.85485,     0.85586,     0.85686,     0.85786,     0.85886,     0.85986,     0.86086,     0.86186,     0.86286,     0.86386,\n",
       "           0.86486,     0.86587,     0.86687,     0.86787,     0.86887,     0.86987,     0.87087,     0.87187,     0.87287,     0.87387,     0.87487,     0.87588,     0.87688,     0.87788,     0.87888,     0.87988,     0.88088,     0.88188,     0.88288,     0.88388,     0.88488,     0.88589,     0.88689,     0.88789,\n",
       "           0.88889,     0.88989,     0.89089,     0.89189,     0.89289,     0.89389,     0.89489,      0.8959,      0.8969,      0.8979,      0.8989,      0.8999,      0.9009,      0.9019,      0.9029,      0.9039,      0.9049,     0.90591,     0.90691,     0.90791,     0.90891,     0.90991,     0.91091,     0.91191,\n",
       "           0.91291,     0.91391,     0.91491,     0.91592,     0.91692,     0.91792,     0.91892,     0.91992,     0.92092,     0.92192,     0.92292,     0.92392,     0.92492,     0.92593,     0.92693,     0.92793,     0.92893,     0.92993,     0.93093,     0.93193,     0.93293,     0.93393,     0.93493,     0.93594,\n",
       "           0.93694,     0.93794,     0.93894,     0.93994,     0.94094,     0.94194,     0.94294,     0.94394,     0.94494,     0.94595,     0.94695,     0.94795,     0.94895,     0.94995,     0.95095,     0.95195,     0.95295,     0.95395,     0.95495,     0.95596,     0.95696,     0.95796,     0.95896,     0.95996,\n",
       "           0.96096,     0.96196,     0.96296,     0.96396,     0.96496,     0.96597,     0.96697,     0.96797,     0.96897,     0.96997,     0.97097,     0.97197,     0.97297,     0.97397,     0.97497,     0.97598,     0.97698,     0.97798,     0.97898,     0.97998,     0.98098,     0.98198,     0.98298,     0.98398,\n",
       "           0.98498,     0.98599,     0.98699,     0.98799,     0.98899,     0.98999,     0.99099,     0.99199,     0.99299,     0.99399,     0.99499,       0.996,       0.997,       0.998,       0.999,           1]), array([[    0.41808,     0.41808,      0.5425,     0.60522,     0.65762,     0.67474,     0.70368,     0.73449,      0.7528,     0.76881,     0.78741,     0.79462,     0.80449,     0.80845,     0.81299,     0.81707,     0.82721,     0.83574,     0.83765,     0.84282,     0.84436,     0.84637,     0.84846,\n",
       "            0.85316,     0.85424,     0.85912,     0.86261,     0.86453,     0.87188,     0.87155,     0.87406,     0.87569,      0.8768,     0.87741,     0.87802,     0.87862,     0.88266,     0.88634,      0.8875,     0.88792,     0.88835,     0.88878,     0.88921,     0.89035,      0.8928,     0.89417,\n",
       "            0.89466,     0.89515,     0.89564,     0.89609,     0.89638,     0.89667,     0.89695,     0.89724,     0.89753,     0.89781,      0.8981,     0.89837,     0.89864,      0.8989,     0.89916,     0.89943,     0.89969,     0.89996,     0.90022,     0.90048,     0.90098,     0.90149,       0.902,\n",
       "            0.90251,     0.90394,     0.90525,     0.90572,      0.9062,     0.90668,     0.90715,     0.90963,     0.91002,      0.9104,     0.91079,     0.91118,     0.91157,     0.91192,      0.9122,     0.91248,     0.91275,     0.91303,     0.91331,     0.91359,     0.91386,     0.91416,     0.91664,\n",
       "            0.91691,     0.91718,     0.91744,     0.91771,     0.91798,     0.91824,     0.91851,     0.91878,     0.91837,     0.91794,     0.91752,     0.91709,     0.91666,     0.91624,     0.91643,     0.91722,       0.918,     0.91495,     0.91372,     0.91285,     0.91296,     0.91306,     0.91317,\n",
       "            0.91328,     0.91338,     0.91349,     0.91359,      0.9137,     0.91381,     0.91391,     0.91402,     0.91413,     0.91423,     0.91434,     0.91445,     0.91455,     0.91466,     0.91476,     0.91487,     0.91498,     0.91508,     0.91522,     0.91546,      0.9157,     0.91594,     0.91618,\n",
       "            0.91643,     0.91667,     0.91691,     0.91715,     0.91739,     0.91764,      0.9179,     0.91815,     0.91841,     0.91866,     0.91892,     0.91918,     0.91943,     0.91969,     0.91988,     0.91979,      0.9197,     0.91962,     0.91953,     0.91944,     0.91935,     0.91926,     0.91917,\n",
       "            0.91909,       0.919,     0.91891,     0.91882,     0.91873,     0.91864,     0.91855,     0.91847,     0.91838,     0.91829,      0.9182,     0.91811,     0.91802,     0.91793,     0.91784,     0.91776,     0.91767,     0.91758,     0.91749,      0.9174,     0.91731,     0.91722,     0.91713,\n",
       "            0.91709,     0.91706,     0.91704,     0.91702,       0.917,     0.91698,     0.91695,     0.91693,     0.91691,     0.91689,     0.91687,     0.91685,     0.91682,      0.9168,     0.91678,     0.91676,     0.91674,     0.91671,     0.91669,     0.91667,     0.91665,     0.91663,     0.91661,\n",
       "            0.91658,     0.91656,     0.91654,     0.91652,      0.9165,     0.91647,     0.91645,     0.91643,     0.91641,     0.91639,     0.91636,     0.91634,     0.91632,      0.9163,     0.91628,     0.91626,     0.91623,     0.91621,     0.91619,     0.91617,     0.91615,     0.91612,      0.9161,\n",
       "            0.91608,     0.91606,     0.91604,     0.91601,     0.91599,     0.91597,     0.91595,     0.91593,     0.91591,     0.91588,     0.91586,     0.91584,     0.91582,      0.9158,     0.91577,     0.91575,     0.91573,     0.91571,     0.91569,     0.91566,     0.91564,     0.91562,      0.9156,\n",
       "            0.91558,     0.91556,     0.91553,     0.91551,     0.91549,     0.91547,     0.91545,     0.91542,      0.9154,     0.91538,     0.91536,     0.91534,     0.91531,     0.91529,     0.91527,     0.91525,     0.91523,      0.9152,     0.91518,     0.91516,     0.91514,     0.91512,      0.9151,\n",
       "            0.91507,     0.91505,     0.91503,     0.91501,     0.91499,     0.91496,     0.91494,     0.91492,      0.9149,     0.91488,     0.91485,     0.91483,     0.91481,     0.91479,     0.91477,     0.91474,     0.91472,      0.9147,     0.91468,     0.91466,     0.91464,     0.91461,     0.91459,\n",
       "            0.91457,     0.91455,     0.91453,      0.9145,     0.91448,     0.91446,     0.91444,     0.91442,     0.91439,     0.91437,     0.91435,     0.91433,     0.91431,     0.91428,     0.91409,     0.91391,     0.91372,     0.91354,     0.91336,     0.91317,     0.91299,      0.9128,     0.91262,\n",
       "            0.91244,     0.91225,     0.91207,     0.91188,      0.9117,     0.91152,     0.91141,     0.91133,     0.91125,     0.91118,      0.9111,     0.91102,     0.91095,     0.91087,     0.91079,     0.91072,     0.91064,     0.91056,     0.91049,     0.91041,     0.91033,     0.91026,     0.91018,\n",
       "             0.9101,     0.91003,     0.90995,     0.90987,      0.9098,     0.90972,     0.90964,     0.90957,     0.90949,     0.90941,     0.90934,     0.90926,     0.90918,     0.90911,     0.90903,     0.90895,     0.90888,      0.9088,     0.90872,     0.90865,     0.90917,     0.91005,     0.91094,\n",
       "            0.91108,     0.91117,     0.91126,     0.91135,     0.91144,     0.91152,     0.91161,      0.9117,     0.91179,     0.91188,     0.91197,     0.91206,     0.91215,     0.91224,     0.91233,     0.91242,     0.91251,     0.91259,     0.91268,     0.91277,     0.91286,     0.91295,     0.91304,\n",
       "            0.91313,     0.91322,     0.91331,      0.9134,      0.9135,     0.91361,     0.91372,     0.91383,     0.91393,     0.91404,     0.91415,     0.91426,     0.91436,     0.91447,     0.91458,     0.91468,     0.91479,      0.9149,     0.91501,     0.91511,     0.91522,     0.91533,     0.91543,\n",
       "            0.91554,     0.91565,     0.91575,     0.91589,     0.91604,     0.91619,     0.91633,     0.91648,     0.91663,     0.91678,     0.91693,     0.91707,     0.91722,     0.91737,     0.91752,     0.91766,     0.91781,     0.91796,     0.91811,     0.91816,     0.91803,      0.9179,     0.91777,\n",
       "            0.91764,     0.91751,     0.91738,     0.91725,     0.91712,     0.91699,     0.91686,     0.91673,      0.9166,     0.91647,     0.91634,     0.91621,     0.91608,     0.91595,     0.91582,     0.91569,     0.91556,     0.91543,     0.91539,     0.91551,     0.91563,     0.91575,     0.91586,\n",
       "            0.91598,      0.9161,     0.91622,     0.91634,     0.91646,     0.91658,     0.91669,     0.91681,     0.91693,     0.91705,     0.91717,     0.91729,      0.9174,     0.91752,     0.91764,     0.91776,     0.91766,     0.91754,     0.91742,     0.91729,     0.91717,     0.91705,     0.91693,\n",
       "             0.9168,     0.91668,     0.91656,     0.91643,     0.91631,     0.91619,     0.91607,     0.91594,     0.91582,      0.9157,     0.91557,     0.91545,     0.91533,      0.9152,     0.91508,     0.91496,     0.91495,     0.91506,     0.91518,     0.91529,      0.9154,     0.91552,     0.91563,\n",
       "            0.91574,     0.91586,     0.91597,     0.91609,      0.9162,     0.91631,     0.91643,     0.91654,     0.91665,     0.91677,     0.91688,     0.91699,     0.91711,     0.91722,     0.91733,     0.91729,     0.91724,      0.9172,     0.91715,     0.91711,     0.91706,     0.91702,     0.91697,\n",
       "            0.91693,     0.91688,     0.91684,     0.91679,     0.91675,      0.9167,     0.91666,     0.91661,     0.91657,     0.91652,     0.91648,     0.91644,     0.91639,     0.91635,      0.9163,     0.91626,     0.91621,     0.91617,     0.91612,     0.91608,     0.91603,     0.91599,     0.91594,\n",
       "             0.9159,     0.91585,     0.91581,     0.91576,     0.91572,     0.91567,     0.91563,     0.91558,     0.91554,     0.91549,     0.91545,      0.9154,     0.91536,     0.91531,     0.91527,     0.91522,     0.91518,     0.91513,     0.91509,     0.91504,       0.915,     0.91495,     0.91491,\n",
       "            0.91486,     0.91482,     0.91477,     0.91473,     0.91468,     0.91464,     0.91459,     0.91455,      0.9145,     0.91446,     0.91351,     0.91202,      0.9116,     0.91171,     0.91182,     0.91193,     0.91204,     0.91215,     0.91226,     0.91237,     0.91248,     0.91259,      0.9127,\n",
       "             0.9128,     0.91291,     0.91302,     0.91313,     0.91324,     0.91335,     0.91346,     0.91357,     0.91368,     0.91379,      0.9139,     0.91393,     0.91374,     0.91355,     0.91335,     0.91316,     0.91297,     0.91277,     0.91258,     0.91239,     0.91219,       0.912,     0.91181,\n",
       "            0.91161,     0.91142,     0.91122,     0.91104,     0.91089,     0.91075,      0.9106,     0.91046,     0.91032,     0.91017,     0.91003,     0.90989,     0.90974,      0.9096,     0.90946,     0.90931,     0.90917,     0.90903,     0.90888,     0.90874,     0.90859,     0.90845,     0.90831,\n",
       "            0.90816,     0.90821,     0.90837,     0.90854,      0.9087,     0.90886,     0.90903,     0.90919,     0.90935,     0.90951,     0.90968,     0.90984,        0.91,     0.91016,     0.91033,     0.91049,     0.91023,     0.90956,     0.90888,     0.90821,      0.9076,     0.90754,     0.90747,\n",
       "            0.90741,     0.90734,     0.90728,     0.90721,     0.90715,     0.90708,     0.90702,     0.90695,     0.90689,     0.90682,     0.90676,     0.90669,     0.90663,     0.90656,      0.9065,     0.90643,     0.90637,      0.9063,     0.90624,     0.90618,     0.90611,     0.90605,     0.90598,\n",
       "            0.90592,     0.90585,     0.90579,     0.90572,     0.90566,     0.90559,     0.90553,     0.90546,      0.9054,     0.90533,     0.90527,      0.9052,     0.90514,     0.90507,     0.90501,     0.90494,     0.90488,     0.90481,     0.90475,     0.90468,     0.90423,      0.9027,     0.90143,\n",
       "            0.90074,     0.90006,     0.89937,     0.89869,     0.89721,     0.89565,     0.89155,     0.89051,     0.88952,     0.88991,      0.8903,     0.89069,     0.89108,     0.89146,     0.89185,      0.8905,     0.88929,     0.89098,     0.88801,     0.88767,     0.88734,       0.887,     0.88667,\n",
       "            0.88633,     0.88599,     0.88566,     0.88532,     0.88488,     0.88435,     0.88382,     0.88328,     0.88274,     0.88221,     0.88156,     0.88084,     0.88012,      0.8794,     0.87873,     0.87819,     0.87765,     0.87711,     0.87657,     0.87603,     0.87548,     0.87494,      0.8744,\n",
       "            0.87385,     0.87331,     0.87276,     0.87131,     0.86924,     0.86842,     0.86759,     0.86677,     0.86589,     0.86478,     0.86367,     0.85931,     0.85819,     0.85707,     0.85666,     0.85768,     0.85869,     0.85824,     0.85763,     0.85701,      0.8564,     0.85578,     0.85504,\n",
       "            0.85419,     0.85334,     0.85249,     0.85178,     0.85116,     0.85054,     0.84992,      0.8493,     0.84848,      0.8471,     0.84572,     0.84496,     0.84434,     0.84371,     0.84308,     0.84245,     0.84179,     0.84109,      0.8404,      0.8397,       0.839,     0.83668,     0.83043,\n",
       "            0.82478,     0.82376,     0.82273,     0.82171,     0.82077,     0.81987,     0.81897,     0.81807,     0.81706,     0.81602,     0.81498,     0.81377,     0.81232,     0.81085,     0.80725,     0.80576,     0.80428,     0.80156,     0.79783,     0.79484,     0.79253,     0.79145,     0.79037,\n",
       "            0.78929,     0.78761,      0.7857,     0.78443,     0.78333,     0.78224,     0.78015,     0.77735,     0.77624,     0.77514,     0.77403,      0.7654,     0.76441,     0.76342,     0.76223,     0.75825,     0.75424,      0.7504,      0.7477,     0.74407,     0.74214,     0.74111,     0.74009,\n",
       "            0.73906,     0.73844,     0.73793,     0.73741,     0.73689,     0.73638,     0.73586,     0.73534,     0.73483,     0.73059,     0.72445,     0.71607,     0.71304,     0.71089,     0.70737,     0.70304,     0.69966,     0.69689,     0.69469,     0.69286,     0.69205,     0.69125,     0.69044,\n",
       "            0.68963,     0.68882,     0.67371,     0.66981,     0.66675,     0.65764,      0.6553,     0.65263,     0.64974,     0.64792,     0.64081,     0.63622,     0.63298,     0.62862,     0.59174,     0.58531,     0.57879,      0.5704,     0.56774,     0.55758,     0.55215,     0.54291,      0.5307,\n",
       "            0.52172,     0.51887,     0.50759,     0.49318,     0.48831,     0.48419,     0.47229,     0.46546,     0.44792,     0.44056,     0.43217,      0.4082,     0.40379,     0.39936,     0.39577,     0.39242,     0.39252,     0.39334,     0.38153,     0.36531,     0.35825,     0.34081,     0.31535,\n",
       "            0.30914,     0.28875,     0.27977,     0.27587,     0.26426,     0.26029,     0.25368,     0.24167,     0.23172,     0.22122,     0.21603,     0.21184,     0.19821,      0.1831,     0.16741,     0.16298,     0.11733,     0.11306,     0.10994,      0.1068,    0.083317,    0.059389,    0.052768,\n",
       "           0.046101,    0.040014,    0.038459,    0.036902,    0.035343,    0.033781,    0.032216,    0.030649,    0.026322,    0.021189,    0.018597,    0.016531,    0.014461,    0.012387,    0.010308,           0,           0,           0,           0,           0,           0,           0,           0,\n",
       "                  0,           0,           0,           0,           0,           0,           0,           0,           0,           0,           0,           0,           0,           0,           0,           0,           0,           0,           0,           0,           0,           0,           0,\n",
       "                  0,           0,           0,           0,           0,           0,           0,           0,           0,           0,           0]]), 'Confidence', 'F1'], [array([          0,    0.001001,    0.002002,    0.003003,    0.004004,    0.005005,    0.006006,    0.007007,    0.008008,    0.009009,     0.01001,    0.011011,    0.012012,    0.013013,    0.014014,    0.015015,    0.016016,    0.017017,    0.018018,    0.019019,     0.02002,    0.021021,    0.022022,    0.023023,\n",
       "          0.024024,    0.025025,    0.026026,    0.027027,    0.028028,    0.029029,     0.03003,    0.031031,    0.032032,    0.033033,    0.034034,    0.035035,    0.036036,    0.037037,    0.038038,    0.039039,     0.04004,    0.041041,    0.042042,    0.043043,    0.044044,    0.045045,    0.046046,    0.047047,\n",
       "          0.048048,    0.049049,     0.05005,    0.051051,    0.052052,    0.053053,    0.054054,    0.055055,    0.056056,    0.057057,    0.058058,    0.059059,     0.06006,    0.061061,    0.062062,    0.063063,    0.064064,    0.065065,    0.066066,    0.067067,    0.068068,    0.069069,     0.07007,    0.071071,\n",
       "          0.072072,    0.073073,    0.074074,    0.075075,    0.076076,    0.077077,    0.078078,    0.079079,     0.08008,    0.081081,    0.082082,    0.083083,    0.084084,    0.085085,    0.086086,    0.087087,    0.088088,    0.089089,     0.09009,    0.091091,    0.092092,    0.093093,    0.094094,    0.095095,\n",
       "          0.096096,    0.097097,    0.098098,    0.099099,      0.1001,      0.1011,      0.1021,      0.1031,      0.1041,     0.10511,     0.10611,     0.10711,     0.10811,     0.10911,     0.11011,     0.11111,     0.11211,     0.11311,     0.11411,     0.11512,     0.11612,     0.11712,     0.11812,     0.11912,\n",
       "           0.12012,     0.12112,     0.12212,     0.12312,     0.12412,     0.12513,     0.12613,     0.12713,     0.12813,     0.12913,     0.13013,     0.13113,     0.13213,     0.13313,     0.13413,     0.13514,     0.13614,     0.13714,     0.13814,     0.13914,     0.14014,     0.14114,     0.14214,     0.14314,\n",
       "           0.14414,     0.14515,     0.14615,     0.14715,     0.14815,     0.14915,     0.15015,     0.15115,     0.15215,     0.15315,     0.15415,     0.15516,     0.15616,     0.15716,     0.15816,     0.15916,     0.16016,     0.16116,     0.16216,     0.16316,     0.16416,     0.16517,     0.16617,     0.16717,\n",
       "           0.16817,     0.16917,     0.17017,     0.17117,     0.17217,     0.17317,     0.17417,     0.17518,     0.17618,     0.17718,     0.17818,     0.17918,     0.18018,     0.18118,     0.18218,     0.18318,     0.18418,     0.18519,     0.18619,     0.18719,     0.18819,     0.18919,     0.19019,     0.19119,\n",
       "           0.19219,     0.19319,     0.19419,      0.1952,      0.1962,      0.1972,      0.1982,      0.1992,      0.2002,      0.2012,      0.2022,      0.2032,      0.2042,     0.20521,     0.20621,     0.20721,     0.20821,     0.20921,     0.21021,     0.21121,     0.21221,     0.21321,     0.21421,     0.21522,\n",
       "           0.21622,     0.21722,     0.21822,     0.21922,     0.22022,     0.22122,     0.22222,     0.22322,     0.22422,     0.22523,     0.22623,     0.22723,     0.22823,     0.22923,     0.23023,     0.23123,     0.23223,     0.23323,     0.23423,     0.23524,     0.23624,     0.23724,     0.23824,     0.23924,\n",
       "           0.24024,     0.24124,     0.24224,     0.24324,     0.24424,     0.24525,     0.24625,     0.24725,     0.24825,     0.24925,     0.25025,     0.25125,     0.25225,     0.25325,     0.25425,     0.25526,     0.25626,     0.25726,     0.25826,     0.25926,     0.26026,     0.26126,     0.26226,     0.26326,\n",
       "           0.26426,     0.26527,     0.26627,     0.26727,     0.26827,     0.26927,     0.27027,     0.27127,     0.27227,     0.27327,     0.27427,     0.27528,     0.27628,     0.27728,     0.27828,     0.27928,     0.28028,     0.28128,     0.28228,     0.28328,     0.28428,     0.28529,     0.28629,     0.28729,\n",
       "           0.28829,     0.28929,     0.29029,     0.29129,     0.29229,     0.29329,     0.29429,      0.2953,      0.2963,      0.2973,      0.2983,      0.2993,      0.3003,      0.3013,      0.3023,      0.3033,      0.3043,     0.30531,     0.30631,     0.30731,     0.30831,     0.30931,     0.31031,     0.31131,\n",
       "           0.31231,     0.31331,     0.31431,     0.31532,     0.31632,     0.31732,     0.31832,     0.31932,     0.32032,     0.32132,     0.32232,     0.32332,     0.32432,     0.32533,     0.32633,     0.32733,     0.32833,     0.32933,     0.33033,     0.33133,     0.33233,     0.33333,     0.33433,     0.33534,\n",
       "           0.33634,     0.33734,     0.33834,     0.33934,     0.34034,     0.34134,     0.34234,     0.34334,     0.34434,     0.34535,     0.34635,     0.34735,     0.34835,     0.34935,     0.35035,     0.35135,     0.35235,     0.35335,     0.35435,     0.35536,     0.35636,     0.35736,     0.35836,     0.35936,\n",
       "           0.36036,     0.36136,     0.36236,     0.36336,     0.36436,     0.36537,     0.36637,     0.36737,     0.36837,     0.36937,     0.37037,     0.37137,     0.37237,     0.37337,     0.37437,     0.37538,     0.37638,     0.37738,     0.37838,     0.37938,     0.38038,     0.38138,     0.38238,     0.38338,\n",
       "           0.38438,     0.38539,     0.38639,     0.38739,     0.38839,     0.38939,     0.39039,     0.39139,     0.39239,     0.39339,     0.39439,      0.3954,      0.3964,      0.3974,      0.3984,      0.3994,      0.4004,      0.4014,      0.4024,      0.4034,      0.4044,     0.40541,     0.40641,     0.40741,\n",
       "           0.40841,     0.40941,     0.41041,     0.41141,     0.41241,     0.41341,     0.41441,     0.41542,     0.41642,     0.41742,     0.41842,     0.41942,     0.42042,     0.42142,     0.42242,     0.42342,     0.42442,     0.42543,     0.42643,     0.42743,     0.42843,     0.42943,     0.43043,     0.43143,\n",
       "           0.43243,     0.43343,     0.43443,     0.43544,     0.43644,     0.43744,     0.43844,     0.43944,     0.44044,     0.44144,     0.44244,     0.44344,     0.44444,     0.44545,     0.44645,     0.44745,     0.44845,     0.44945,     0.45045,     0.45145,     0.45245,     0.45345,     0.45445,     0.45546,\n",
       "           0.45646,     0.45746,     0.45846,     0.45946,     0.46046,     0.46146,     0.46246,     0.46346,     0.46446,     0.46547,     0.46647,     0.46747,     0.46847,     0.46947,     0.47047,     0.47147,     0.47247,     0.47347,     0.47447,     0.47548,     0.47648,     0.47748,     0.47848,     0.47948,\n",
       "           0.48048,     0.48148,     0.48248,     0.48348,     0.48448,     0.48549,     0.48649,     0.48749,     0.48849,     0.48949,     0.49049,     0.49149,     0.49249,     0.49349,     0.49449,      0.4955,      0.4965,      0.4975,      0.4985,      0.4995,      0.5005,      0.5015,      0.5025,      0.5035,\n",
       "            0.5045,     0.50551,     0.50651,     0.50751,     0.50851,     0.50951,     0.51051,     0.51151,     0.51251,     0.51351,     0.51451,     0.51552,     0.51652,     0.51752,     0.51852,     0.51952,     0.52052,     0.52152,     0.52252,     0.52352,     0.52452,     0.52553,     0.52653,     0.52753,\n",
       "           0.52853,     0.52953,     0.53053,     0.53153,     0.53253,     0.53353,     0.53453,     0.53554,     0.53654,     0.53754,     0.53854,     0.53954,     0.54054,     0.54154,     0.54254,     0.54354,     0.54454,     0.54555,     0.54655,     0.54755,     0.54855,     0.54955,     0.55055,     0.55155,\n",
       "           0.55255,     0.55355,     0.55455,     0.55556,     0.55656,     0.55756,     0.55856,     0.55956,     0.56056,     0.56156,     0.56256,     0.56356,     0.56456,     0.56557,     0.56657,     0.56757,     0.56857,     0.56957,     0.57057,     0.57157,     0.57257,     0.57357,     0.57457,     0.57558,\n",
       "           0.57658,     0.57758,     0.57858,     0.57958,     0.58058,     0.58158,     0.58258,     0.58358,     0.58458,     0.58559,     0.58659,     0.58759,     0.58859,     0.58959,     0.59059,     0.59159,     0.59259,     0.59359,     0.59459,      0.5956,      0.5966,      0.5976,      0.5986,      0.5996,\n",
       "            0.6006,      0.6016,      0.6026,      0.6036,      0.6046,     0.60561,     0.60661,     0.60761,     0.60861,     0.60961,     0.61061,     0.61161,     0.61261,     0.61361,     0.61461,     0.61562,     0.61662,     0.61762,     0.61862,     0.61962,     0.62062,     0.62162,     0.62262,     0.62362,\n",
       "           0.62462,     0.62563,     0.62663,     0.62763,     0.62863,     0.62963,     0.63063,     0.63163,     0.63263,     0.63363,     0.63463,     0.63564,     0.63664,     0.63764,     0.63864,     0.63964,     0.64064,     0.64164,     0.64264,     0.64364,     0.64464,     0.64565,     0.64665,     0.64765,\n",
       "           0.64865,     0.64965,     0.65065,     0.65165,     0.65265,     0.65365,     0.65465,     0.65566,     0.65666,     0.65766,     0.65866,     0.65966,     0.66066,     0.66166,     0.66266,     0.66366,     0.66466,     0.66567,     0.66667,     0.66767,     0.66867,     0.66967,     0.67067,     0.67167,\n",
       "           0.67267,     0.67367,     0.67467,     0.67568,     0.67668,     0.67768,     0.67868,     0.67968,     0.68068,     0.68168,     0.68268,     0.68368,     0.68468,     0.68569,     0.68669,     0.68769,     0.68869,     0.68969,     0.69069,     0.69169,     0.69269,     0.69369,     0.69469,      0.6957,\n",
       "            0.6967,      0.6977,      0.6987,      0.6997,      0.7007,      0.7017,      0.7027,      0.7037,      0.7047,     0.70571,     0.70671,     0.70771,     0.70871,     0.70971,     0.71071,     0.71171,     0.71271,     0.71371,     0.71471,     0.71572,     0.71672,     0.71772,     0.71872,     0.71972,\n",
       "           0.72072,     0.72172,     0.72272,     0.72372,     0.72472,     0.72573,     0.72673,     0.72773,     0.72873,     0.72973,     0.73073,     0.73173,     0.73273,     0.73373,     0.73473,     0.73574,     0.73674,     0.73774,     0.73874,     0.73974,     0.74074,     0.74174,     0.74274,     0.74374,\n",
       "           0.74474,     0.74575,     0.74675,     0.74775,     0.74875,     0.74975,     0.75075,     0.75175,     0.75275,     0.75375,     0.75475,     0.75576,     0.75676,     0.75776,     0.75876,     0.75976,     0.76076,     0.76176,     0.76276,     0.76376,     0.76476,     0.76577,     0.76677,     0.76777,\n",
       "           0.76877,     0.76977,     0.77077,     0.77177,     0.77277,     0.77377,     0.77477,     0.77578,     0.77678,     0.77778,     0.77878,     0.77978,     0.78078,     0.78178,     0.78278,     0.78378,     0.78478,     0.78579,     0.78679,     0.78779,     0.78879,     0.78979,     0.79079,     0.79179,\n",
       "           0.79279,     0.79379,     0.79479,      0.7958,      0.7968,      0.7978,      0.7988,      0.7998,      0.8008,      0.8018,      0.8028,      0.8038,      0.8048,     0.80581,     0.80681,     0.80781,     0.80881,     0.80981,     0.81081,     0.81181,     0.81281,     0.81381,     0.81481,     0.81582,\n",
       "           0.81682,     0.81782,     0.81882,     0.81982,     0.82082,     0.82182,     0.82282,     0.82382,     0.82482,     0.82583,     0.82683,     0.82783,     0.82883,     0.82983,     0.83083,     0.83183,     0.83283,     0.83383,     0.83483,     0.83584,     0.83684,     0.83784,     0.83884,     0.83984,\n",
       "           0.84084,     0.84184,     0.84284,     0.84384,     0.84484,     0.84585,     0.84685,     0.84785,     0.84885,     0.84985,     0.85085,     0.85185,     0.85285,     0.85385,     0.85485,     0.85586,     0.85686,     0.85786,     0.85886,     0.85986,     0.86086,     0.86186,     0.86286,     0.86386,\n",
       "           0.86486,     0.86587,     0.86687,     0.86787,     0.86887,     0.86987,     0.87087,     0.87187,     0.87287,     0.87387,     0.87487,     0.87588,     0.87688,     0.87788,     0.87888,     0.87988,     0.88088,     0.88188,     0.88288,     0.88388,     0.88488,     0.88589,     0.88689,     0.88789,\n",
       "           0.88889,     0.88989,     0.89089,     0.89189,     0.89289,     0.89389,     0.89489,      0.8959,      0.8969,      0.8979,      0.8989,      0.8999,      0.9009,      0.9019,      0.9029,      0.9039,      0.9049,     0.90591,     0.90691,     0.90791,     0.90891,     0.90991,     0.91091,     0.91191,\n",
       "           0.91291,     0.91391,     0.91491,     0.91592,     0.91692,     0.91792,     0.91892,     0.91992,     0.92092,     0.92192,     0.92292,     0.92392,     0.92492,     0.92593,     0.92693,     0.92793,     0.92893,     0.92993,     0.93093,     0.93193,     0.93293,     0.93393,     0.93493,     0.93594,\n",
       "           0.93694,     0.93794,     0.93894,     0.93994,     0.94094,     0.94194,     0.94294,     0.94394,     0.94494,     0.94595,     0.94695,     0.94795,     0.94895,     0.94995,     0.95095,     0.95195,     0.95295,     0.95395,     0.95495,     0.95596,     0.95696,     0.95796,     0.95896,     0.95996,\n",
       "           0.96096,     0.96196,     0.96296,     0.96396,     0.96496,     0.96597,     0.96697,     0.96797,     0.96897,     0.96997,     0.97097,     0.97197,     0.97297,     0.97397,     0.97497,     0.97598,     0.97698,     0.97798,     0.97898,     0.97998,     0.98098,     0.98198,     0.98298,     0.98398,\n",
       "           0.98498,     0.98599,     0.98699,     0.98799,     0.98899,     0.98999,     0.99099,     0.99199,     0.99299,     0.99399,     0.99499,       0.996,       0.997,       0.998,       0.999,           1]), array([[    0.26812,     0.26812,     0.37986,     0.44547,     0.50467,     0.52512,     0.56104,     0.60125,     0.62618,     0.64867,     0.67559,     0.68627,     0.70112,     0.71008,     0.72014,     0.72656,     0.74276,     0.75662,     0.75976,      0.7683,     0.77087,     0.77424,     0.77774,\n",
       "            0.78568,      0.7875,     0.79585,     0.80185,     0.80517,     0.81951,      0.8214,     0.82588,      0.8288,      0.8308,     0.83189,     0.83298,     0.83407,     0.84137,     0.84809,     0.85021,     0.85099,     0.85178,     0.85257,     0.85336,     0.85546,     0.86001,     0.86255,\n",
       "            0.86346,     0.86437,     0.86529,     0.86613,     0.86667,      0.8672,     0.86774,     0.86827,     0.86881,     0.86934,     0.86988,      0.8704,     0.87089,     0.87139,     0.87189,     0.87238,     0.87288,     0.87337,     0.87387,     0.87437,     0.87531,     0.87627,     0.87724,\n",
       "            0.87821,     0.88092,     0.88339,      0.8843,     0.88521,     0.88612,     0.88703,     0.89178,     0.89253,     0.89327,     0.89402,     0.89477,     0.89551,      0.8962,     0.89674,     0.89727,     0.89781,     0.89835,     0.89889,     0.89942,     0.89996,     0.90053,     0.90536,\n",
       "            0.90589,     0.90641,     0.90693,     0.90745,     0.90797,     0.90849,     0.90901,     0.90954,     0.90948,     0.90941,     0.90934,     0.90927,      0.9092,     0.90913,     0.90989,     0.91143,     0.91298,     0.91316,     0.91296,     0.91288,     0.91309,      0.9133,     0.91352,\n",
       "            0.91373,     0.91394,     0.91416,     0.91437,     0.91458,      0.9148,     0.91501,     0.91522,     0.91544,     0.91565,     0.91586,     0.91608,     0.91629,      0.9165,     0.91672,     0.91693,     0.91714,     0.91735,     0.91762,     0.91811,      0.9186,     0.91908,     0.91957,\n",
       "            0.92006,     0.92055,     0.92103,     0.92152,     0.92201,     0.92251,     0.92303,     0.92355,     0.92406,     0.92458,      0.9251,     0.92562,     0.92614,     0.92666,     0.92708,     0.92707,     0.92706,     0.92704,     0.92703,     0.92702,     0.92701,       0.927,     0.92698,\n",
       "            0.92697,     0.92696,     0.92695,     0.92694,     0.92692,     0.92691,      0.9269,     0.92689,     0.92688,     0.92686,     0.92685,     0.92684,     0.92683,     0.92682,      0.9268,     0.92679,     0.92678,     0.92677,     0.92675,     0.92674,     0.92673,     0.92672,     0.92671,\n",
       "             0.9267,      0.9267,     0.92669,     0.92669,     0.92669,     0.92668,     0.92668,     0.92668,     0.92668,     0.92667,     0.92667,     0.92667,     0.92666,     0.92666,     0.92666,     0.92665,     0.92665,     0.92665,     0.92665,     0.92664,     0.92664,     0.92664,     0.92663,\n",
       "            0.92663,     0.92663,     0.92662,     0.92662,     0.92662,     0.92662,     0.92661,     0.92661,     0.92661,      0.9266,      0.9266,      0.9266,     0.92659,     0.92659,     0.92659,     0.92659,     0.92658,     0.92658,     0.92658,     0.92657,     0.92657,     0.92657,     0.92656,\n",
       "            0.92656,     0.92656,     0.92656,     0.92655,     0.92655,     0.92655,     0.92654,     0.92654,     0.92654,     0.92653,     0.92653,     0.92653,     0.92653,     0.92652,     0.92652,     0.92652,     0.92651,     0.92651,     0.92651,      0.9265,      0.9265,      0.9265,      0.9265,\n",
       "            0.92649,     0.92649,     0.92649,     0.92648,     0.92648,     0.92648,     0.92647,     0.92647,     0.92647,     0.92647,     0.92646,     0.92646,     0.92646,     0.92645,     0.92645,     0.92645,     0.92644,     0.92644,     0.92644,     0.92644,     0.92643,     0.92643,     0.92643,\n",
       "            0.92642,     0.92642,     0.92642,     0.92641,     0.92641,     0.92641,     0.92641,      0.9264,      0.9264,      0.9264,     0.92639,     0.92639,     0.92639,     0.92638,     0.92638,     0.92638,     0.92638,     0.92637,     0.92637,     0.92637,     0.92636,     0.92636,     0.92636,\n",
       "            0.92635,     0.92635,     0.92635,     0.92635,     0.92634,     0.92634,     0.92634,     0.92633,     0.92633,     0.92633,     0.92632,     0.92632,     0.92632,     0.92631,     0.92629,     0.92626,     0.92624,     0.92621,     0.92619,     0.92616,     0.92614,     0.92611,     0.92609,\n",
       "            0.92606,     0.92604,     0.92601,     0.92598,     0.92596,     0.92593,     0.92592,     0.92591,      0.9259,     0.92589,     0.92588,     0.92587,     0.92585,     0.92584,     0.92583,     0.92582,     0.92581,      0.9258,     0.92579,     0.92578,     0.92577,     0.92576,     0.92575,\n",
       "            0.92574,     0.92573,     0.92572,     0.92571,      0.9257,     0.92568,     0.92567,     0.92566,     0.92565,     0.92564,     0.92563,     0.92562,     0.92561,      0.9256,     0.92559,     0.92558,     0.92557,     0.92556,     0.92555,     0.92554,     0.92667,     0.92852,     0.93036,\n",
       "            0.93066,     0.93084,     0.93103,     0.93122,      0.9314,     0.93159,     0.93177,     0.93196,     0.93215,     0.93233,     0.93252,     0.93271,     0.93289,     0.93308,     0.93327,     0.93345,     0.93364,     0.93383,     0.93401,      0.9342,     0.93439,     0.93457,     0.93476,\n",
       "            0.93494,     0.93513,     0.93532,     0.93551,     0.93573,     0.93596,     0.93618,     0.93641,     0.93663,     0.93686,     0.93709,     0.93731,     0.93754,     0.93776,     0.93799,     0.93821,     0.93844,     0.93866,     0.93889,     0.93911,     0.93934,     0.93956,     0.93979,\n",
       "            0.94002,     0.94024,     0.94047,     0.94075,     0.94106,     0.94138,     0.94169,       0.942,     0.94231,     0.94263,     0.94294,     0.94325,     0.94356,     0.94388,     0.94419,      0.9445,     0.94482,     0.94513,     0.94544,     0.94565,     0.94563,     0.94562,     0.94561,\n",
       "            0.94559,     0.94558,     0.94557,     0.94555,     0.94554,     0.94553,     0.94551,      0.9455,     0.94549,     0.94547,     0.94546,     0.94544,     0.94543,     0.94542,      0.9454,     0.94539,     0.94538,     0.94536,     0.94545,      0.9457,     0.94596,     0.94621,     0.94646,\n",
       "            0.94672,     0.94697,     0.94723,     0.94748,     0.94773,     0.94799,     0.94824,     0.94849,     0.94875,       0.949,     0.94925,     0.94951,     0.94976,     0.95001,     0.95027,     0.95052,     0.95054,     0.95053,     0.95052,      0.9505,     0.95049,     0.95048,     0.95047,\n",
       "            0.95046,     0.95045,     0.95043,     0.95042,     0.95041,      0.9504,     0.95039,     0.95038,     0.95036,     0.95035,     0.95034,     0.95033,     0.95032,     0.95031,     0.95029,     0.95028,     0.95039,     0.95064,     0.95089,     0.95113,     0.95138,     0.95162,     0.95187,\n",
       "            0.95212,     0.95236,     0.95261,     0.95285,      0.9531,     0.95334,     0.95359,     0.95384,     0.95408,     0.95433,     0.95457,     0.95482,     0.95507,     0.95531,     0.95556,     0.95555,     0.95555,     0.95554,     0.95554,     0.95554,     0.95553,     0.95553,     0.95552,\n",
       "            0.95552,     0.95552,     0.95551,     0.95551,     0.95551,      0.9555,      0.9555,     0.95549,     0.95549,     0.95549,     0.95548,     0.95548,     0.95547,     0.95547,     0.95547,     0.95546,     0.95546,     0.95546,     0.95545,     0.95545,     0.95544,     0.95544,     0.95544,\n",
       "            0.95543,     0.95543,     0.95542,     0.95542,     0.95542,     0.95541,     0.95541,     0.95541,      0.9554,      0.9554,     0.95539,     0.95539,     0.95539,     0.95538,     0.95538,     0.95537,     0.95537,     0.95537,     0.95536,     0.95536,     0.95535,     0.95535,     0.95535,\n",
       "            0.95534,     0.95534,     0.95534,     0.95533,     0.95533,     0.95532,     0.95532,     0.95532,     0.95531,     0.95531,     0.95523,      0.9551,     0.95522,     0.95546,      0.9557,     0.95594,     0.95618,     0.95642,     0.95666,      0.9569,     0.95714,     0.95738,     0.95762,\n",
       "            0.95786,      0.9581,     0.95834,     0.95858,     0.95883,     0.95907,     0.95931,     0.95955,     0.95979,     0.96003,     0.96027,     0.96045,     0.96043,     0.96042,      0.9604,     0.96039,     0.96037,     0.96036,     0.96034,     0.96033,     0.96031,      0.9603,     0.96029,\n",
       "            0.96027,     0.96026,     0.96024,     0.96023,     0.96021,      0.9602,     0.96019,     0.96018,     0.96017,     0.96016,     0.96015,     0.96014,     0.96013,     0.96012,      0.9601,     0.96009,     0.96008,     0.96007,     0.96006,     0.96005,     0.96004,     0.96003,     0.96002,\n",
       "               0.96,     0.96023,     0.96059,     0.96096,     0.96132,     0.96169,     0.96205,     0.96242,     0.96278,     0.96315,     0.96351,     0.96388,     0.96424,     0.96461,     0.96497,     0.96534,     0.96549,     0.96545,      0.9654,     0.96536,     0.96532,     0.96531,     0.96531,\n",
       "             0.9653,      0.9653,      0.9653,     0.96529,     0.96529,     0.96528,     0.96528,     0.96527,     0.96527,     0.96526,     0.96526,     0.96526,     0.96525,     0.96525,     0.96524,     0.96524,     0.96523,     0.96523,     0.96523,     0.96522,     0.96522,     0.96521,     0.96521,\n",
       "             0.9652,      0.9652,     0.96519,     0.96519,     0.96519,     0.96518,     0.96518,     0.96517,     0.96517,     0.96516,     0.96516,     0.96515,     0.96515,     0.96515,     0.96514,     0.96514,     0.96513,     0.96513,     0.96512,     0.96512,     0.96509,     0.96498,      0.9649,\n",
       "            0.96485,      0.9648,     0.96476,     0.96471,     0.96461,      0.9645,     0.96421,     0.96414,     0.96411,     0.96503,     0.96594,     0.96686,     0.96777,     0.96869,     0.96961,     0.96979,     0.97066,      0.9747,     0.97545,     0.97543,     0.97541,      0.9754,     0.97538,\n",
       "            0.97537,     0.97535,     0.97533,     0.97532,      0.9753,     0.97527,     0.97524,     0.97522,     0.97519,     0.97516,     0.97513,      0.9751,     0.97506,     0.97503,     0.97499,     0.97497,     0.97494,     0.97491,     0.97489,     0.97486,     0.97483,      0.9748,     0.97478,\n",
       "            0.97475,     0.97472,      0.9747,     0.97462,     0.97452,     0.97448,     0.97443,     0.97439,     0.97435,     0.97429,     0.97424,     0.97401,     0.97395,     0.97389,     0.97474,     0.97737,     0.97999,     0.98024,     0.98022,     0.98019,     0.98017,     0.98014,     0.98011,\n",
       "            0.98008,     0.98005,     0.98001,     0.97998,     0.97996,     0.97993,     0.97991,     0.97988,     0.97985,      0.9798,     0.97974,     0.97971,     0.97968,     0.97966,     0.97963,     0.97961,     0.97958,     0.97955,     0.97952,     0.97949,     0.97946,     0.97937,     0.97911,\n",
       "            0.97887,     0.97882,     0.97878,     0.97874,      0.9787,     0.97866,     0.97862,     0.97858,     0.97853,     0.97849,     0.97844,     0.97839,     0.97833,     0.97826,      0.9781,     0.97804,     0.97797,     0.97785,     0.97768,     0.97754,     0.97744,     0.97739,     0.97734,\n",
       "            0.97729,     0.97721,     0.97712,     0.97706,     0.97701,     0.97696,     0.97686,     0.97672,     0.97667,     0.97662,     0.97656,     0.97614,     0.97609,     0.97605,     0.97599,     0.97579,     0.97559,     0.97539,     0.97525,     0.97506,     0.97496,     0.97491,     0.97485,\n",
       "             0.9748,     0.97477,     0.97474,     0.97471,     0.97469,     0.97466,     0.97463,      0.9746,     0.97458,     0.97435,     0.97402,     0.97355,     0.97338,     0.97326,     0.97306,     0.97281,     0.97261,     0.97245,     0.97232,     0.97221,     0.97216,     0.97211,     0.97206,\n",
       "            0.97202,     0.97197,     0.97104,     0.97079,     0.97059,        0.97,     0.96985,     0.96967,      0.9751,     0.97925,     0.97892,      0.9787,     0.97854,     0.97833,     0.97641,     0.97605,     0.97568,     0.97519,     0.97503,     0.97441,     0.97407,     0.97347,     0.97266,\n",
       "            0.97204,     0.97184,     0.97102,     0.96991,     0.96953,      0.9692,      0.9682,     0.96761,     0.96602,     0.96531,     0.96448,     0.96191,     0.96141,      0.9609,     0.96047,     0.96007,     0.96831,     0.97835,     0.97881,           1,           1,           1,           1,\n",
       "                  1,           1,           1,           1,           1,           1,           1,           1,           1,           1,           1,           1,           1,           1,           1,           1,           1,           1,           1,           1,           1,           1,           1,\n",
       "                  1,           1,           1,           1,           1,           1,           1,           1,           1,           1,           1,           1,           1,           1,           1,           1,           1,           1,           1,           1,           1,           1,           1,\n",
       "                  1,           1,           1,           1,           1,           1,           1,           1,           1,           1,           1,           1,           1,           1,           1,           1,           1,           1,           1,           1,           1,           1,           1,\n",
       "                  1,           1,           1,           1,           1,           1,           1,           1,           1,           1,           1]]), 'Confidence', 'Precision'], [array([          0,    0.001001,    0.002002,    0.003003,    0.004004,    0.005005,    0.006006,    0.007007,    0.008008,    0.009009,     0.01001,    0.011011,    0.012012,    0.013013,    0.014014,    0.015015,    0.016016,    0.017017,    0.018018,    0.019019,     0.02002,    0.021021,    0.022022,    0.023023,\n",
       "          0.024024,    0.025025,    0.026026,    0.027027,    0.028028,    0.029029,     0.03003,    0.031031,    0.032032,    0.033033,    0.034034,    0.035035,    0.036036,    0.037037,    0.038038,    0.039039,     0.04004,    0.041041,    0.042042,    0.043043,    0.044044,    0.045045,    0.046046,    0.047047,\n",
       "          0.048048,    0.049049,     0.05005,    0.051051,    0.052052,    0.053053,    0.054054,    0.055055,    0.056056,    0.057057,    0.058058,    0.059059,     0.06006,    0.061061,    0.062062,    0.063063,    0.064064,    0.065065,    0.066066,    0.067067,    0.068068,    0.069069,     0.07007,    0.071071,\n",
       "          0.072072,    0.073073,    0.074074,    0.075075,    0.076076,    0.077077,    0.078078,    0.079079,     0.08008,    0.081081,    0.082082,    0.083083,    0.084084,    0.085085,    0.086086,    0.087087,    0.088088,    0.089089,     0.09009,    0.091091,    0.092092,    0.093093,    0.094094,    0.095095,\n",
       "          0.096096,    0.097097,    0.098098,    0.099099,      0.1001,      0.1011,      0.1021,      0.1031,      0.1041,     0.10511,     0.10611,     0.10711,     0.10811,     0.10911,     0.11011,     0.11111,     0.11211,     0.11311,     0.11411,     0.11512,     0.11612,     0.11712,     0.11812,     0.11912,\n",
       "           0.12012,     0.12112,     0.12212,     0.12312,     0.12412,     0.12513,     0.12613,     0.12713,     0.12813,     0.12913,     0.13013,     0.13113,     0.13213,     0.13313,     0.13413,     0.13514,     0.13614,     0.13714,     0.13814,     0.13914,     0.14014,     0.14114,     0.14214,     0.14314,\n",
       "           0.14414,     0.14515,     0.14615,     0.14715,     0.14815,     0.14915,     0.15015,     0.15115,     0.15215,     0.15315,     0.15415,     0.15516,     0.15616,     0.15716,     0.15816,     0.15916,     0.16016,     0.16116,     0.16216,     0.16316,     0.16416,     0.16517,     0.16617,     0.16717,\n",
       "           0.16817,     0.16917,     0.17017,     0.17117,     0.17217,     0.17317,     0.17417,     0.17518,     0.17618,     0.17718,     0.17818,     0.17918,     0.18018,     0.18118,     0.18218,     0.18318,     0.18418,     0.18519,     0.18619,     0.18719,     0.18819,     0.18919,     0.19019,     0.19119,\n",
       "           0.19219,     0.19319,     0.19419,      0.1952,      0.1962,      0.1972,      0.1982,      0.1992,      0.2002,      0.2012,      0.2022,      0.2032,      0.2042,     0.20521,     0.20621,     0.20721,     0.20821,     0.20921,     0.21021,     0.21121,     0.21221,     0.21321,     0.21421,     0.21522,\n",
       "           0.21622,     0.21722,     0.21822,     0.21922,     0.22022,     0.22122,     0.22222,     0.22322,     0.22422,     0.22523,     0.22623,     0.22723,     0.22823,     0.22923,     0.23023,     0.23123,     0.23223,     0.23323,     0.23423,     0.23524,     0.23624,     0.23724,     0.23824,     0.23924,\n",
       "           0.24024,     0.24124,     0.24224,     0.24324,     0.24424,     0.24525,     0.24625,     0.24725,     0.24825,     0.24925,     0.25025,     0.25125,     0.25225,     0.25325,     0.25425,     0.25526,     0.25626,     0.25726,     0.25826,     0.25926,     0.26026,     0.26126,     0.26226,     0.26326,\n",
       "           0.26426,     0.26527,     0.26627,     0.26727,     0.26827,     0.26927,     0.27027,     0.27127,     0.27227,     0.27327,     0.27427,     0.27528,     0.27628,     0.27728,     0.27828,     0.27928,     0.28028,     0.28128,     0.28228,     0.28328,     0.28428,     0.28529,     0.28629,     0.28729,\n",
       "           0.28829,     0.28929,     0.29029,     0.29129,     0.29229,     0.29329,     0.29429,      0.2953,      0.2963,      0.2973,      0.2983,      0.2993,      0.3003,      0.3013,      0.3023,      0.3033,      0.3043,     0.30531,     0.30631,     0.30731,     0.30831,     0.30931,     0.31031,     0.31131,\n",
       "           0.31231,     0.31331,     0.31431,     0.31532,     0.31632,     0.31732,     0.31832,     0.31932,     0.32032,     0.32132,     0.32232,     0.32332,     0.32432,     0.32533,     0.32633,     0.32733,     0.32833,     0.32933,     0.33033,     0.33133,     0.33233,     0.33333,     0.33433,     0.33534,\n",
       "           0.33634,     0.33734,     0.33834,     0.33934,     0.34034,     0.34134,     0.34234,     0.34334,     0.34434,     0.34535,     0.34635,     0.34735,     0.34835,     0.34935,     0.35035,     0.35135,     0.35235,     0.35335,     0.35435,     0.35536,     0.35636,     0.35736,     0.35836,     0.35936,\n",
       "           0.36036,     0.36136,     0.36236,     0.36336,     0.36436,     0.36537,     0.36637,     0.36737,     0.36837,     0.36937,     0.37037,     0.37137,     0.37237,     0.37337,     0.37437,     0.37538,     0.37638,     0.37738,     0.37838,     0.37938,     0.38038,     0.38138,     0.38238,     0.38338,\n",
       "           0.38438,     0.38539,     0.38639,     0.38739,     0.38839,     0.38939,     0.39039,     0.39139,     0.39239,     0.39339,     0.39439,      0.3954,      0.3964,      0.3974,      0.3984,      0.3994,      0.4004,      0.4014,      0.4024,      0.4034,      0.4044,     0.40541,     0.40641,     0.40741,\n",
       "           0.40841,     0.40941,     0.41041,     0.41141,     0.41241,     0.41341,     0.41441,     0.41542,     0.41642,     0.41742,     0.41842,     0.41942,     0.42042,     0.42142,     0.42242,     0.42342,     0.42442,     0.42543,     0.42643,     0.42743,     0.42843,     0.42943,     0.43043,     0.43143,\n",
       "           0.43243,     0.43343,     0.43443,     0.43544,     0.43644,     0.43744,     0.43844,     0.43944,     0.44044,     0.44144,     0.44244,     0.44344,     0.44444,     0.44545,     0.44645,     0.44745,     0.44845,     0.44945,     0.45045,     0.45145,     0.45245,     0.45345,     0.45445,     0.45546,\n",
       "           0.45646,     0.45746,     0.45846,     0.45946,     0.46046,     0.46146,     0.46246,     0.46346,     0.46446,     0.46547,     0.46647,     0.46747,     0.46847,     0.46947,     0.47047,     0.47147,     0.47247,     0.47347,     0.47447,     0.47548,     0.47648,     0.47748,     0.47848,     0.47948,\n",
       "           0.48048,     0.48148,     0.48248,     0.48348,     0.48448,     0.48549,     0.48649,     0.48749,     0.48849,     0.48949,     0.49049,     0.49149,     0.49249,     0.49349,     0.49449,      0.4955,      0.4965,      0.4975,      0.4985,      0.4995,      0.5005,      0.5015,      0.5025,      0.5035,\n",
       "            0.5045,     0.50551,     0.50651,     0.50751,     0.50851,     0.50951,     0.51051,     0.51151,     0.51251,     0.51351,     0.51451,     0.51552,     0.51652,     0.51752,     0.51852,     0.51952,     0.52052,     0.52152,     0.52252,     0.52352,     0.52452,     0.52553,     0.52653,     0.52753,\n",
       "           0.52853,     0.52953,     0.53053,     0.53153,     0.53253,     0.53353,     0.53453,     0.53554,     0.53654,     0.53754,     0.53854,     0.53954,     0.54054,     0.54154,     0.54254,     0.54354,     0.54454,     0.54555,     0.54655,     0.54755,     0.54855,     0.54955,     0.55055,     0.55155,\n",
       "           0.55255,     0.55355,     0.55455,     0.55556,     0.55656,     0.55756,     0.55856,     0.55956,     0.56056,     0.56156,     0.56256,     0.56356,     0.56456,     0.56557,     0.56657,     0.56757,     0.56857,     0.56957,     0.57057,     0.57157,     0.57257,     0.57357,     0.57457,     0.57558,\n",
       "           0.57658,     0.57758,     0.57858,     0.57958,     0.58058,     0.58158,     0.58258,     0.58358,     0.58458,     0.58559,     0.58659,     0.58759,     0.58859,     0.58959,     0.59059,     0.59159,     0.59259,     0.59359,     0.59459,      0.5956,      0.5966,      0.5976,      0.5986,      0.5996,\n",
       "            0.6006,      0.6016,      0.6026,      0.6036,      0.6046,     0.60561,     0.60661,     0.60761,     0.60861,     0.60961,     0.61061,     0.61161,     0.61261,     0.61361,     0.61461,     0.61562,     0.61662,     0.61762,     0.61862,     0.61962,     0.62062,     0.62162,     0.62262,     0.62362,\n",
       "           0.62462,     0.62563,     0.62663,     0.62763,     0.62863,     0.62963,     0.63063,     0.63163,     0.63263,     0.63363,     0.63463,     0.63564,     0.63664,     0.63764,     0.63864,     0.63964,     0.64064,     0.64164,     0.64264,     0.64364,     0.64464,     0.64565,     0.64665,     0.64765,\n",
       "           0.64865,     0.64965,     0.65065,     0.65165,     0.65265,     0.65365,     0.65465,     0.65566,     0.65666,     0.65766,     0.65866,     0.65966,     0.66066,     0.66166,     0.66266,     0.66366,     0.66466,     0.66567,     0.66667,     0.66767,     0.66867,     0.66967,     0.67067,     0.67167,\n",
       "           0.67267,     0.67367,     0.67467,     0.67568,     0.67668,     0.67768,     0.67868,     0.67968,     0.68068,     0.68168,     0.68268,     0.68368,     0.68468,     0.68569,     0.68669,     0.68769,     0.68869,     0.68969,     0.69069,     0.69169,     0.69269,     0.69369,     0.69469,      0.6957,\n",
       "            0.6967,      0.6977,      0.6987,      0.6997,      0.7007,      0.7017,      0.7027,      0.7037,      0.7047,     0.70571,     0.70671,     0.70771,     0.70871,     0.70971,     0.71071,     0.71171,     0.71271,     0.71371,     0.71471,     0.71572,     0.71672,     0.71772,     0.71872,     0.71972,\n",
       "           0.72072,     0.72172,     0.72272,     0.72372,     0.72472,     0.72573,     0.72673,     0.72773,     0.72873,     0.72973,     0.73073,     0.73173,     0.73273,     0.73373,     0.73473,     0.73574,     0.73674,     0.73774,     0.73874,     0.73974,     0.74074,     0.74174,     0.74274,     0.74374,\n",
       "           0.74474,     0.74575,     0.74675,     0.74775,     0.74875,     0.74975,     0.75075,     0.75175,     0.75275,     0.75375,     0.75475,     0.75576,     0.75676,     0.75776,     0.75876,     0.75976,     0.76076,     0.76176,     0.76276,     0.76376,     0.76476,     0.76577,     0.76677,     0.76777,\n",
       "           0.76877,     0.76977,     0.77077,     0.77177,     0.77277,     0.77377,     0.77477,     0.77578,     0.77678,     0.77778,     0.77878,     0.77978,     0.78078,     0.78178,     0.78278,     0.78378,     0.78478,     0.78579,     0.78679,     0.78779,     0.78879,     0.78979,     0.79079,     0.79179,\n",
       "           0.79279,     0.79379,     0.79479,      0.7958,      0.7968,      0.7978,      0.7988,      0.7998,      0.8008,      0.8018,      0.8028,      0.8038,      0.8048,     0.80581,     0.80681,     0.80781,     0.80881,     0.80981,     0.81081,     0.81181,     0.81281,     0.81381,     0.81481,     0.81582,\n",
       "           0.81682,     0.81782,     0.81882,     0.81982,     0.82082,     0.82182,     0.82282,     0.82382,     0.82482,     0.82583,     0.82683,     0.82783,     0.82883,     0.82983,     0.83083,     0.83183,     0.83283,     0.83383,     0.83483,     0.83584,     0.83684,     0.83784,     0.83884,     0.83984,\n",
       "           0.84084,     0.84184,     0.84284,     0.84384,     0.84484,     0.84585,     0.84685,     0.84785,     0.84885,     0.84985,     0.85085,     0.85185,     0.85285,     0.85385,     0.85485,     0.85586,     0.85686,     0.85786,     0.85886,     0.85986,     0.86086,     0.86186,     0.86286,     0.86386,\n",
       "           0.86486,     0.86587,     0.86687,     0.86787,     0.86887,     0.86987,     0.87087,     0.87187,     0.87287,     0.87387,     0.87487,     0.87588,     0.87688,     0.87788,     0.87888,     0.87988,     0.88088,     0.88188,     0.88288,     0.88388,     0.88488,     0.88589,     0.88689,     0.88789,\n",
       "           0.88889,     0.88989,     0.89089,     0.89189,     0.89289,     0.89389,     0.89489,      0.8959,      0.8969,      0.8979,      0.8989,      0.8999,      0.9009,      0.9019,      0.9029,      0.9039,      0.9049,     0.90591,     0.90691,     0.90791,     0.90891,     0.90991,     0.91091,     0.91191,\n",
       "           0.91291,     0.91391,     0.91491,     0.91592,     0.91692,     0.91792,     0.91892,     0.91992,     0.92092,     0.92192,     0.92292,     0.92392,     0.92492,     0.92593,     0.92693,     0.92793,     0.92893,     0.92993,     0.93093,     0.93193,     0.93293,     0.93393,     0.93493,     0.93594,\n",
       "           0.93694,     0.93794,     0.93894,     0.93994,     0.94094,     0.94194,     0.94294,     0.94394,     0.94494,     0.94595,     0.94695,     0.94795,     0.94895,     0.94995,     0.95095,     0.95195,     0.95295,     0.95395,     0.95495,     0.95596,     0.95696,     0.95796,     0.95896,     0.95996,\n",
       "           0.96096,     0.96196,     0.96296,     0.96396,     0.96496,     0.96597,     0.96697,     0.96797,     0.96897,     0.96997,     0.97097,     0.97197,     0.97297,     0.97397,     0.97497,     0.97598,     0.97698,     0.97798,     0.97898,     0.97998,     0.98098,     0.98198,     0.98298,     0.98398,\n",
       "           0.98498,     0.98599,     0.98699,     0.98799,     0.98899,     0.98999,     0.99099,     0.99199,     0.99299,     0.99399,     0.99499,       0.996,       0.997,       0.998,       0.999,           1]), array([[    0.94872,     0.94872,     0.94872,     0.94359,     0.94359,     0.94359,     0.94359,     0.94359,     0.94359,     0.94359,     0.94359,     0.94359,     0.94359,     0.93846,     0.93333,     0.93333,     0.93333,     0.93333,     0.93333,     0.93333,     0.93333,     0.93333,     0.93333,\n",
       "            0.93333,     0.93333,     0.93333,     0.93333,     0.93333,      0.9314,     0.92821,     0.92821,     0.92821,     0.92821,     0.92821,     0.92821,     0.92821,     0.92821,     0.92821,     0.92821,     0.92821,     0.92821,     0.92821,     0.92821,     0.92821,     0.92821,     0.92821,\n",
       "            0.92821,     0.92821,     0.92821,     0.92821,     0.92821,     0.92821,     0.92821,     0.92821,     0.92821,     0.92821,     0.92821,     0.92821,     0.92821,     0.92821,     0.92821,     0.92821,     0.92821,     0.92821,     0.92821,     0.92821,     0.92821,     0.92821,     0.92821,\n",
       "            0.92821,     0.92821,     0.92821,     0.92821,     0.92821,     0.92821,     0.92821,     0.92821,     0.92821,     0.92821,     0.92821,     0.92821,     0.92821,     0.92821,     0.92821,     0.92821,     0.92821,     0.92821,     0.92821,     0.92821,     0.92821,     0.92821,     0.92821,\n",
       "            0.92821,     0.92821,     0.92821,     0.92821,     0.92821,     0.92821,     0.92821,     0.92821,     0.92743,     0.92664,     0.92584,     0.92505,     0.92426,     0.92346,     0.92308,     0.92308,     0.92308,     0.91675,     0.91448,     0.91282,     0.91282,     0.91282,     0.91282,\n",
       "            0.91282,     0.91282,     0.91282,     0.91282,     0.91282,     0.91282,     0.91282,     0.91282,     0.91282,     0.91282,     0.91282,     0.91282,     0.91282,     0.91282,     0.91282,     0.91282,     0.91282,     0.91282,     0.91282,     0.91282,     0.91282,     0.91282,     0.91282,\n",
       "            0.91282,     0.91282,     0.91282,     0.91282,     0.91282,     0.91282,     0.91282,     0.91282,     0.91282,     0.91282,     0.91282,     0.91282,     0.91282,     0.91282,     0.91279,     0.91263,     0.91247,     0.91231,     0.91214,     0.91198,     0.91182,     0.91166,     0.91149,\n",
       "            0.91133,     0.91117,     0.91101,     0.91084,     0.91068,     0.91052,     0.91036,     0.91019,     0.91003,     0.90987,     0.90971,     0.90954,     0.90938,     0.90922,     0.90906,      0.9089,     0.90873,     0.90857,     0.90841,     0.90825,     0.90808,     0.90792,     0.90776,\n",
       "            0.90767,     0.90763,     0.90759,     0.90755,     0.90751,     0.90747,     0.90743,     0.90739,     0.90735,     0.90731,     0.90727,     0.90723,     0.90719,     0.90715,     0.90711,     0.90707,     0.90703,     0.90699,     0.90695,     0.90691,     0.90687,     0.90683,     0.90679,\n",
       "            0.90675,     0.90671,     0.90667,     0.90663,     0.90659,     0.90655,     0.90651,     0.90647,     0.90643,     0.90639,     0.90635,     0.90631,     0.90627,     0.90623,     0.90619,     0.90615,     0.90611,     0.90607,     0.90603,     0.90599,     0.90595,     0.90591,     0.90587,\n",
       "            0.90583,     0.90579,     0.90575,     0.90571,     0.90567,     0.90563,     0.90559,     0.90555,     0.90551,     0.90547,     0.90543,     0.90539,     0.90535,     0.90531,     0.90527,     0.90524,      0.9052,     0.90516,     0.90512,     0.90508,     0.90504,       0.905,     0.90496,\n",
       "            0.90492,     0.90488,     0.90484,      0.9048,     0.90476,     0.90472,     0.90468,     0.90464,      0.9046,     0.90456,     0.90452,     0.90448,     0.90444,      0.9044,     0.90436,     0.90432,     0.90428,     0.90424,      0.9042,     0.90416,     0.90412,     0.90408,     0.90404,\n",
       "              0.904,     0.90396,     0.90392,     0.90388,     0.90384,      0.9038,     0.90376,     0.90372,     0.90368,     0.90364,      0.9036,     0.90356,     0.90352,     0.90348,     0.90344,      0.9034,     0.90336,     0.90332,     0.90328,     0.90324,      0.9032,     0.90316,     0.90312,\n",
       "            0.90308,     0.90304,       0.903,     0.90296,     0.90292,     0.90288,     0.90284,      0.9028,     0.90276,     0.90272,     0.90268,     0.90264,      0.9026,     0.90255,     0.90221,     0.90188,     0.90154,     0.90121,     0.90088,     0.90054,     0.90021,     0.89988,     0.89954,\n",
       "            0.89921,     0.89887,     0.89854,     0.89821,     0.89787,     0.89754,     0.89734,      0.8972,     0.89706,     0.89693,     0.89679,     0.89665,     0.89651,     0.89637,     0.89623,      0.8961,     0.89596,     0.89582,     0.89568,     0.89554,      0.8954,     0.89527,     0.89513,\n",
       "            0.89499,     0.89485,     0.89471,     0.89457,     0.89444,      0.8943,     0.89416,     0.89402,     0.89388,     0.89374,     0.89361,     0.89347,     0.89333,     0.89319,     0.89305,     0.89291,     0.89278,     0.89264,      0.8925,     0.89236,     0.89231,     0.89231,     0.89231,\n",
       "            0.89231,     0.89231,     0.89231,     0.89231,     0.89231,     0.89231,     0.89231,     0.89231,     0.89231,     0.89231,     0.89231,     0.89231,     0.89231,     0.89231,     0.89231,     0.89231,     0.89231,     0.89231,     0.89231,     0.89231,     0.89231,     0.89231,     0.89231,\n",
       "            0.89231,     0.89231,     0.89231,     0.89231,     0.89231,     0.89231,     0.89231,     0.89231,     0.89231,     0.89231,     0.89231,     0.89231,     0.89231,     0.89231,     0.89231,     0.89231,     0.89231,     0.89231,     0.89231,     0.89231,     0.89231,     0.89231,     0.89231,\n",
       "            0.89231,     0.89231,     0.89231,     0.89231,     0.89231,     0.89231,     0.89231,     0.89231,     0.89231,     0.89231,     0.89231,     0.89231,     0.89231,     0.89231,     0.89231,     0.89231,     0.89231,     0.89231,     0.89231,     0.89223,       0.892,     0.89176,     0.89153,\n",
       "             0.8913,     0.89106,     0.89083,      0.8906,     0.89036,     0.89013,     0.88989,     0.88966,     0.88943,     0.88919,     0.88896,     0.88873,     0.88849,     0.88826,     0.88803,     0.88779,     0.88756,     0.88733,     0.88718,     0.88718,     0.88718,     0.88718,     0.88718,\n",
       "            0.88718,     0.88718,     0.88718,     0.88718,     0.88718,     0.88718,     0.88718,     0.88718,     0.88718,     0.88718,     0.88718,     0.88718,     0.88718,     0.88718,     0.88718,     0.88718,     0.88698,     0.88677,     0.88655,     0.88633,     0.88611,     0.88589,     0.88567,\n",
       "            0.88545,     0.88523,     0.88501,     0.88479,     0.88458,     0.88436,     0.88414,     0.88392,      0.8837,     0.88348,     0.88326,     0.88304,     0.88282,      0.8826,     0.88239,     0.88217,     0.88205,     0.88205,     0.88205,     0.88205,     0.88205,     0.88205,     0.88205,\n",
       "            0.88205,     0.88205,     0.88205,     0.88205,     0.88205,     0.88205,     0.88205,     0.88205,     0.88205,     0.88205,     0.88205,     0.88205,     0.88205,     0.88205,     0.88205,     0.88197,     0.88189,     0.88181,     0.88173,     0.88165,     0.88157,     0.88149,     0.88141,\n",
       "            0.88133,     0.88125,     0.88117,     0.88109,     0.88101,     0.88094,     0.88086,     0.88078,      0.8807,     0.88062,     0.88054,     0.88046,     0.88038,      0.8803,     0.88022,     0.88014,     0.88006,     0.87998,      0.8799,     0.87982,     0.87974,     0.87966,     0.87958,\n",
       "             0.8795,     0.87942,     0.87934,     0.87926,     0.87918,      0.8791,     0.87902,     0.87894,     0.87886,     0.87878,     0.87871,     0.87863,     0.87855,     0.87847,     0.87839,     0.87831,     0.87823,     0.87815,     0.87807,     0.87799,     0.87791,     0.87783,     0.87775,\n",
       "            0.87767,     0.87759,     0.87751,     0.87743,     0.87735,     0.87727,     0.87719,     0.87711,     0.87703,     0.87695,     0.87528,     0.87265,     0.87179,     0.87179,     0.87179,     0.87179,     0.87179,     0.87179,     0.87179,     0.87179,     0.87179,     0.87179,     0.87179,\n",
       "            0.87179,     0.87179,     0.87179,     0.87179,     0.87179,     0.87179,     0.87179,     0.87179,     0.87179,     0.87179,     0.87179,     0.87172,     0.87138,     0.87104,      0.8707,     0.87036,     0.87002,     0.86968,     0.86934,       0.869,     0.86866,     0.86832,     0.86798,\n",
       "            0.86765,     0.86731,     0.86697,     0.86664,     0.86639,     0.86614,     0.86589,     0.86564,     0.86539,     0.86514,     0.86489,     0.86464,     0.86439,     0.86414,     0.86389,     0.86363,     0.86338,     0.86313,     0.86288,     0.86263,     0.86238,     0.86213,     0.86188,\n",
       "            0.86163,     0.86154,     0.86154,     0.86154,     0.86154,     0.86154,     0.86154,     0.86154,     0.86154,     0.86154,     0.86154,     0.86154,     0.86154,     0.86154,     0.86154,     0.86154,     0.86095,     0.85978,     0.85861,     0.85745,      0.8564,     0.85629,     0.85617,\n",
       "            0.85606,     0.85595,     0.85584,     0.85573,     0.85561,      0.8555,     0.85539,     0.85528,     0.85517,     0.85506,     0.85494,     0.85483,     0.85472,     0.85461,      0.8545,     0.85438,     0.85427,     0.85416,     0.85405,     0.85394,     0.85383,     0.85371,      0.8536,\n",
       "            0.85349,     0.85338,     0.85327,     0.85315,     0.85304,     0.85293,     0.85282,     0.85271,     0.85259,     0.85248,     0.85237,     0.85226,     0.85215,     0.85204,     0.85192,     0.85181,      0.8517,     0.85159,     0.85148,     0.85136,      0.8506,     0.84797,     0.84579,\n",
       "            0.84462,     0.84346,     0.84229,     0.84112,     0.83861,     0.83598,     0.82907,     0.82732,     0.82564,     0.82564,     0.82564,     0.82564,     0.82564,     0.82564,     0.82564,     0.82319,     0.82051,     0.82051,     0.81496,      0.8144,     0.81385,      0.8133,     0.81274,\n",
       "            0.81219,     0.81164,     0.81108,     0.81053,     0.80981,     0.80894,     0.80806,     0.80718,     0.80631,     0.80543,     0.80437,      0.8032,     0.80203,     0.80086,     0.79977,     0.79889,     0.79802,     0.79714,     0.79627,     0.79539,     0.79451,     0.79364,     0.79276,\n",
       "            0.79189,     0.79101,     0.79013,      0.7878,     0.78449,     0.78318,     0.78187,     0.78055,     0.77916,      0.7774,     0.77565,     0.76877,     0.76702,     0.76527,      0.7641,      0.7641,      0.7641,     0.76325,     0.76229,     0.76133,     0.76038,     0.75942,     0.75828,\n",
       "            0.75696,     0.75565,     0.75433,     0.75325,     0.75229,     0.75133,     0.75038,     0.74942,     0.74816,     0.74606,     0.74396,      0.7428,     0.74185,     0.74089,     0.73993,     0.73898,     0.73798,     0.73693,     0.73588,     0.73483,     0.73377,     0.73028,     0.72096,\n",
       "            0.71261,     0.71111,      0.7096,      0.7081,     0.70674,     0.70542,     0.70411,     0.70279,     0.70133,     0.69982,     0.69832,     0.69657,     0.69447,     0.69237,      0.6872,     0.68509,     0.68298,     0.67913,     0.67387,     0.66967,     0.66645,     0.66495,     0.66345,\n",
       "            0.66195,     0.65963,       0.657,     0.65524,     0.65374,     0.65224,     0.64938,     0.64557,     0.64407,     0.64257,     0.64107,     0.62949,     0.62818,     0.62686,     0.62528,     0.62002,     0.61476,     0.60976,     0.60625,     0.60156,     0.59908,     0.59776,     0.59645,\n",
       "            0.59513,     0.59435,     0.59369,     0.59303,     0.59237,     0.59172,     0.59106,      0.5904,     0.58975,     0.58439,     0.57668,      0.5663,     0.56257,     0.55994,     0.55566,      0.5504,     0.54634,     0.54302,     0.54039,     0.53821,     0.53725,      0.5363,     0.53534,\n",
       "            0.53439,     0.53343,     0.51579,     0.51129,     0.50779,     0.49745,     0.49482,     0.49183,     0.48718,     0.48412,      0.4763,     0.47129,     0.46779,     0.46309,      0.4245,     0.41798,     0.41142,     0.40308,     0.40046,     0.39053,     0.38527,     0.37642,      0.3649,\n",
       "            0.35655,     0.35392,      0.3436,     0.33065,     0.32633,      0.3227,     0.31232,     0.30643,     0.29155,     0.28541,     0.27847,     0.25907,     0.25556,     0.25206,     0.24924,     0.24661,     0.24615,     0.24615,     0.23694,     0.22347,     0.21822,     0.20541,     0.18719,\n",
       "            0.18283,     0.16874,     0.16263,        0.16,     0.15225,     0.14962,     0.14527,     0.13745,     0.13104,     0.12437,     0.12109,     0.11847,     0.11001,     0.10078,     0.09135,    0.088722,    0.062324,    0.059917,    0.058165,    0.056413,    0.043469,    0.030603,    0.027099,\n",
       "           0.023595,    0.020415,    0.019607,    0.018798,    0.017989,     0.01718,    0.016372,    0.015563,    0.013336,    0.010708,   0.0093858,   0.0083345,   0.0072832,   0.0062319,   0.0051806,           0,           0,           0,           0,           0,           0,           0,           0,\n",
       "                  0,           0,           0,           0,           0,           0,           0,           0,           0,           0,           0,           0,           0,           0,           0,           0,           0,           0,           0,           0,           0,           0,           0,\n",
       "                  0,           0,           0,           0,           0,           0,           0,           0,           0,           0,           0]]), 'Confidence', 'Recall']]\n",
       "fitness: np.float64(0.7762020733284906)\n",
       "keys: ['metrics/precision(B)', 'metrics/recall(B)', 'metrics/mAP50(B)', 'metrics/mAP50-95(B)']\n",
       "maps: array([    0.75901])\n",
       "names: {0: 'tumor'}\n",
       "plot: True\n",
       "results_dict: {'metrics/precision(B)': np.float64(0.9266937975050936), 'metrics/recall(B)': np.float64(0.9075889785567205), 'metrics/mAP50(B)': np.float64(0.9309122124365807), 'metrics/mAP50-95(B)': np.float64(0.7590120578720361), 'fitness': np.float64(0.7762020733284906)}\n",
       "save_dir: WindowsPath('runs/detect/train6')\n",
       "speed: {'preprocess': 0.06082653999328613, 'inference': 3.0741354693537173, 'loss': 0.0, 'postprocess': 1.0409044182818867}\n",
       "task: 'detect'"
      ]
     },
     "execution_count": 5,
     "metadata": {},
     "output_type": "execute_result"
    }
   ],
   "source": [
    "from ultralytics import YOLO\n",
    "# load model\n",
    "model=YOLO('yolov3u.pt')\n",
    "model.train(data=r\"D:\\YOLO Comparision\\BrainTumor\\data.yaml\",epochs=20,imgsz=150,device=0)"
   ]
  },
  {
   "cell_type": "code",
   "execution_count": 8,
   "id": "b5c1e776-d4e9-4d0f-98bf-41b20a26bee2",
   "metadata": {},
   "outputs": [
    {
     "name": "stdout",
     "output_type": "stream",
     "text": [
      "\n",
      "image 1/1 C:\\Users\\krish\\Downloads\\test_image.jpg: 160x160 1 tumor, 22.1ms\n",
      "Speed: 1.0ms preprocess, 22.1ms inference, 4.0ms postprocess per image at shape (1, 3, 160, 160)\n"
     ]
    }
   ],
   "source": [
    "from ultralytics import YOLO\n",
    "model = YOLO(\"runs/detect/train6/weights/best.pt\")\n",
    "results = model(\"C:/Users/krish/Downloads/test_image.jpg\")\n",
    "results[0].show()"
   ]
  },
  {
   "cell_type": "code",
   "execution_count": null,
   "id": "afe6e67c-1f60-42a6-b151-aa7f75409443",
   "metadata": {},
   "outputs": [],
   "source": []
  }
 ],
 "metadata": {
  "kernelspec": {
   "display_name": "base",
   "language": "python",
   "name": "python3"
  },
  "language_info": {
   "codemirror_mode": {
    "name": "ipython",
    "version": 3
   },
   "file_extension": ".py",
   "mimetype": "text/x-python",
   "name": "python",
   "nbconvert_exporter": "python",
   "pygments_lexer": "ipython3",
   "version": "3.12.7"
  }
 },
 "nbformat": 4,
 "nbformat_minor": 5
}
