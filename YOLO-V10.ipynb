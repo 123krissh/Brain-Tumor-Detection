{
 "cells": [
  {
   "cell_type": "code",
   "execution_count": 1,
   "id": "b3f47196-27ad-4adb-a61e-7ad662e6d469",
   "metadata": {},
   "outputs": [
    {
     "data": {
      "text/plain": [
       "True"
      ]
     },
     "execution_count": 1,
     "metadata": {},
     "output_type": "execute_result"
    }
   ],
   "source": [
    "import torch\n",
    "torch.cuda.is_available()"
   ]
  },
  {
   "cell_type": "code",
   "execution_count": 2,
   "id": "dd10f665-ee97-4d93-817c-7be44585d820",
   "metadata": {},
   "outputs": [
    {
     "data": {
      "text/plain": [
       "'NVIDIA GeForce RTX 3050 6GB Laptop GPU'"
      ]
     },
     "execution_count": 2,
     "metadata": {},
     "output_type": "execute_result"
    }
   ],
   "source": [
    "torch.cuda.get_device_name(0)"
   ]
  },
  {
   "cell_type": "code",
   "execution_count": 3,
   "id": "a3163fc4-6934-4349-97b9-714a6f4e6219",
   "metadata": {},
   "outputs": [],
   "source": [
    "import os\n",
    "os.environ['KMP_DUPLICATE_LIB_OK']='True'"
   ]
  },
  {
   "cell_type": "code",
   "execution_count": 4,
   "id": "a5f99d50-d59d-47f1-80db-3c318126e6e6",
   "metadata": {},
   "outputs": [
    {
     "data": {
      "text/plain": [
       "'8.3.70'"
      ]
     },
     "execution_count": 4,
     "metadata": {},
     "output_type": "execute_result"
    }
   ],
   "source": [
    "import ultralytics\n",
    "ultralytics.__version__"
   ]
  },
  {
   "cell_type": "code",
   "execution_count": 5,
   "id": "4b3b6590-8247-49b2-93f6-0a76d6bd7ea5",
   "metadata": {},
   "outputs": [
    {
     "data": {
      "text/plain": [
       "'2.6.0+cu124'"
      ]
     },
     "execution_count": 5,
     "metadata": {},
     "output_type": "execute_result"
    }
   ],
   "source": [
    "import torch\n",
    "torch.__version__"
   ]
  },
  {
   "cell_type": "code",
   "execution_count": 6,
   "id": "ada6436d-d6b8-4a75-b506-eae35d60f244",
   "metadata": {},
   "outputs": [],
   "source": [
    "import numpy as np"
   ]
  },
  {
   "cell_type": "code",
   "execution_count": 7,
   "id": "de692871-216c-4127-8ed9-360427de599c",
   "metadata": {},
   "outputs": [
    {
     "name": "stdout",
     "output_type": "stream",
     "text": [
      "Ultralytics 8.3.70  Python-3.12.6 torch-2.6.0+cu124 CUDA:0 (NVIDIA GeForce RTX 3050 6GB Laptop GPU, 6144MiB)\n",
      "\u001b[34m\u001b[1mengine\\trainer: \u001b[0mtask=detect, mode=train, model=yolov10s.pt, data=D:\\YOLO Comparision\\BrainTumor\\data.yaml, epochs=20, time=None, patience=100, batch=16, imgsz=150, save=True, save_period=-1, cache=False, device=0, workers=8, project=None, name=train5, exist_ok=False, pretrained=True, optimizer=auto, verbose=True, seed=0, deterministic=True, single_cls=False, rect=False, cos_lr=False, close_mosaic=10, resume=False, amp=True, fraction=1.0, profile=False, freeze=None, multi_scale=False, overlap_mask=True, mask_ratio=4, dropout=0.0, val=True, split=val, save_json=False, save_hybrid=False, conf=None, iou=0.7, max_det=300, half=False, dnn=False, plots=True, source=None, vid_stride=1, stream_buffer=False, visualize=False, augment=False, agnostic_nms=False, classes=None, retina_masks=False, embed=None, show=False, save_frames=False, save_txt=False, save_conf=False, save_crop=False, show_labels=True, show_conf=True, show_boxes=True, line_width=None, format=torchscript, keras=False, optimize=False, int8=False, dynamic=False, simplify=True, opset=None, workspace=None, nms=False, lr0=0.01, lrf=0.01, momentum=0.937, weight_decay=0.0005, warmup_epochs=3.0, warmup_momentum=0.8, warmup_bias_lr=0.1, box=7.5, cls=0.5, dfl=1.5, pose=12.0, kobj=1.0, nbs=64, hsv_h=0.015, hsv_s=0.7, hsv_v=0.4, degrees=0.0, translate=0.1, scale=0.5, shear=0.0, perspective=0.0, flipud=0.0, fliplr=0.5, bgr=0.0, mosaic=1.0, mixup=0.0, copy_paste=0.0, copy_paste_mode=flip, auto_augment=randaugment, erasing=0.4, crop_fraction=1.0, cfg=None, tracker=botsort.yaml, save_dir=runs\\detect\\train5\n",
      "Overriding model.yaml nc=80 with nc=1\n",
      "\n",
      "                   from  n    params  module                                       arguments                     \n",
      "  0                  -1  1       928  ultralytics.nn.modules.conv.Conv             [3, 32, 3, 2]                 \n",
      "  1                  -1  1     18560  ultralytics.nn.modules.conv.Conv             [32, 64, 3, 2]                \n",
      "  2                  -1  1     29056  ultralytics.nn.modules.block.C2f             [64, 64, 1, True]             \n",
      "  3                  -1  1     73984  ultralytics.nn.modules.conv.Conv             [64, 128, 3, 2]               \n",
      "  4                  -1  2    197632  ultralytics.nn.modules.block.C2f             [128, 128, 2, True]           \n",
      "  5                  -1  1     36096  ultralytics.nn.modules.block.SCDown          [128, 256, 3, 2]              \n",
      "  6                  -1  2    788480  ultralytics.nn.modules.block.C2f             [256, 256, 2, True]           \n",
      "  7                  -1  1    137728  ultralytics.nn.modules.block.SCDown          [256, 512, 3, 2]              \n",
      "  8                  -1  1    958464  ultralytics.nn.modules.block.C2fCIB          [512, 512, 1, True, True]     \n",
      "  9                  -1  1    656896  ultralytics.nn.modules.block.SPPF            [512, 512, 5]                 \n",
      " 10                  -1  1    990976  ultralytics.nn.modules.block.PSA             [512, 512]                    \n",
      " 11                  -1  1         0  torch.nn.modules.upsampling.Upsample         [None, 2, 'nearest']          \n",
      " 12             [-1, 6]  1         0  ultralytics.nn.modules.conv.Concat           [1]                           \n",
      " 13                  -1  1    591360  ultralytics.nn.modules.block.C2f             [768, 256, 1]                 \n",
      " 14                  -1  1         0  torch.nn.modules.upsampling.Upsample         [None, 2, 'nearest']          \n",
      " 15             [-1, 4]  1         0  ultralytics.nn.modules.conv.Concat           [1]                           \n",
      " 16                  -1  1    148224  ultralytics.nn.modules.block.C2f             [384, 128, 1]                 \n",
      " 17                  -1  1    147712  ultralytics.nn.modules.conv.Conv             [128, 128, 3, 2]              \n",
      " 18            [-1, 13]  1         0  ultralytics.nn.modules.conv.Concat           [1]                           \n",
      " 19                  -1  1    493056  ultralytics.nn.modules.block.C2f             [384, 256, 1]                 \n",
      " 20                  -1  1     68864  ultralytics.nn.modules.block.SCDown          [256, 256, 3, 2]              \n",
      " 21            [-1, 10]  1         0  ultralytics.nn.modules.conv.Concat           [1]                           \n",
      " 22                  -1  1   1089536  ultralytics.nn.modules.block.C2fCIB          [768, 512, 1, True, True]     \n",
      " 23        [16, 19, 22]  1   1639574  ultralytics.nn.modules.head.v10Detect        [1, [128, 256, 512]]          \n",
      "YOLOv10s summary: 402 layers, 8,067,126 parameters, 8,067,110 gradients, 24.8 GFLOPs\n",
      "\n",
      "Transferred 607/619 items from pretrained weights\n",
      "Freezing layer 'model.23.dfl.conv.weight'\n",
      "\u001b[34m\u001b[1mAMP: \u001b[0mrunning Automatic Mixed Precision (AMP) checks...\n",
      "\u001b[34m\u001b[1mAMP: \u001b[0mchecks passed \n",
      "WARNING  imgsz=[150] must be multiple of max stride 32, updating to [160]\n"
     ]
    },
    {
     "name": "stderr",
     "output_type": "stream",
     "text": [
      "\u001b[34m\u001b[1mtrain: \u001b[0mScanning D:\\YOLO Comparision\\BrainTumor\\train\\labels.cache... 2766 images, 153 backgrounds, 0 corrupt: 100%|████\u001b[0m\n",
      "\u001b[34m\u001b[1mval: \u001b[0mScanning D:\\YOLO Comparision\\BrainTumor\\valid\\labels.cache... 184 images, 0 backgrounds, 0 corrupt: 100%|█████████\u001b[0m\n"
     ]
    },
    {
     "name": "stdout",
     "output_type": "stream",
     "text": [
      "Plotting labels to runs\\detect\\train5\\labels.jpg... \n",
      "\u001b[34m\u001b[1moptimizer:\u001b[0m 'optimizer=auto' found, ignoring 'lr0=0.01' and 'momentum=0.937' and determining best 'optimizer', 'lr0' and 'momentum' automatically... \n",
      "\u001b[34m\u001b[1moptimizer:\u001b[0m AdamW(lr=0.002, momentum=0.9) with parameter groups 99 weight(decay=0.0), 112 weight(decay=0.0005), 111 bias(decay=0.0)\n",
      "Image sizes 160 train, 160 val\n",
      "Using 8 dataloader workers\n",
      "Logging results to \u001b[1mruns\\detect\\train5\u001b[0m\n",
      "Starting training for 20 epochs...\n",
      "\n",
      "      Epoch    GPU_mem   box_loss   cls_loss   dfl_loss  Instances       Size\n"
     ]
    },
    {
     "name": "stderr",
     "output_type": "stream",
     "text": [
      "       1/20     0.537G      2.519      3.371      2.244         26        160: 100%|██████████| 173/173 [00:28<00:00,  \n",
      "                 Class     Images  Instances      Box(P          R      mAP50  mAP50-95): 100%|██████████| 6/6 [00:00<0"
     ]
    },
    {
     "name": "stdout",
     "output_type": "stream",
     "text": [
      "                   all        184        195      0.804      0.646      0.734      0.454\n"
     ]
    },
    {
     "name": "stderr",
     "output_type": "stream",
     "text": [
      "\n"
     ]
    },
    {
     "name": "stdout",
     "output_type": "stream",
     "text": [
      "\n",
      "      Epoch    GPU_mem   box_loss   cls_loss   dfl_loss  Instances       Size\n"
     ]
    },
    {
     "name": "stderr",
     "output_type": "stream",
     "text": [
      "       2/20     0.558G      2.461      1.872      2.225         21        160: 100%|██████████| 173/173 [00:22<00:00,  \n",
      "                 Class     Images  Instances      Box(P          R      mAP50  mAP50-95): 100%|██████████| 6/6 [00:00<0"
     ]
    },
    {
     "name": "stdout",
     "output_type": "stream",
     "text": [
      "                   all        184        195      0.672      0.735      0.745      0.496\n"
     ]
    },
    {
     "name": "stderr",
     "output_type": "stream",
     "text": [
      "\n"
     ]
    },
    {
     "name": "stdout",
     "output_type": "stream",
     "text": [
      "\n",
      "      Epoch    GPU_mem   box_loss   cls_loss   dfl_loss  Instances       Size\n"
     ]
    },
    {
     "name": "stderr",
     "output_type": "stream",
     "text": [
      "       3/20     0.558G      2.481      1.823      2.208         14        160: 100%|██████████| 173/173 [00:23<00:00,  \n",
      "                 Class     Images  Instances      Box(P          R      mAP50  mAP50-95): 100%|██████████| 6/6 [00:00<0"
     ]
    },
    {
     "name": "stdout",
     "output_type": "stream",
     "text": [
      "                   all        184        195      0.809      0.738      0.805      0.541\n"
     ]
    },
    {
     "name": "stderr",
     "output_type": "stream",
     "text": [
      "\n"
     ]
    },
    {
     "name": "stdout",
     "output_type": "stream",
     "text": [
      "\n",
      "      Epoch    GPU_mem   box_loss   cls_loss   dfl_loss  Instances       Size\n"
     ]
    },
    {
     "name": "stderr",
     "output_type": "stream",
     "text": [
      "       4/20     0.558G       2.37      1.727       2.18         24        160: 100%|██████████| 173/173 [00:23<00:00,  \n",
      "                 Class     Images  Instances      Box(P          R      mAP50  mAP50-95): 100%|██████████| 6/6 [00:00<0"
     ]
    },
    {
     "name": "stdout",
     "output_type": "stream",
     "text": [
      "                   all        184        195      0.843      0.742      0.817      0.594\n"
     ]
    },
    {
     "name": "stderr",
     "output_type": "stream",
     "text": [
      "\n"
     ]
    },
    {
     "name": "stdout",
     "output_type": "stream",
     "text": [
      "\n",
      "      Epoch    GPU_mem   box_loss   cls_loss   dfl_loss  Instances       Size\n"
     ]
    },
    {
     "name": "stderr",
     "output_type": "stream",
     "text": [
      "       5/20     0.558G      2.276      1.623      2.125         25        160: 100%|██████████| 173/173 [00:24<00:00,  \n",
      "                 Class     Images  Instances      Box(P          R      mAP50  mAP50-95): 100%|██████████| 6/6 [00:00<0"
     ]
    },
    {
     "name": "stdout",
     "output_type": "stream",
     "text": [
      "                   all        184        195      0.867      0.826      0.866      0.625\n"
     ]
    },
    {
     "name": "stderr",
     "output_type": "stream",
     "text": [
      "\n"
     ]
    },
    {
     "name": "stdout",
     "output_type": "stream",
     "text": [
      "\n",
      "      Epoch    GPU_mem   box_loss   cls_loss   dfl_loss  Instances       Size\n"
     ]
    },
    {
     "name": "stderr",
     "output_type": "stream",
     "text": [
      "       6/20     0.558G      2.186      1.525      2.103         24        160: 100%|██████████| 173/173 [00:23<00:00,  \n",
      "                 Class     Images  Instances      Box(P          R      mAP50  mAP50-95): 100%|██████████| 6/6 [00:00<0"
     ]
    },
    {
     "name": "stdout",
     "output_type": "stream",
     "text": [
      "                   all        184        195      0.901      0.831      0.892      0.674\n"
     ]
    },
    {
     "name": "stderr",
     "output_type": "stream",
     "text": [
      "\n"
     ]
    },
    {
     "name": "stdout",
     "output_type": "stream",
     "text": [
      "\n",
      "      Epoch    GPU_mem   box_loss   cls_loss   dfl_loss  Instances       Size\n"
     ]
    },
    {
     "name": "stderr",
     "output_type": "stream",
     "text": [
      "       7/20     0.558G      2.142      1.456      2.082         25        160: 100%|██████████| 173/173 [00:26<00:00,  \n",
      "                 Class     Images  Instances      Box(P          R      mAP50  mAP50-95): 100%|██████████| 6/6 [00:01<0"
     ]
    },
    {
     "name": "stdout",
     "output_type": "stream",
     "text": [
      "                   all        184        195       0.95      0.836      0.895      0.676\n"
     ]
    },
    {
     "name": "stderr",
     "output_type": "stream",
     "text": [
      "\n"
     ]
    },
    {
     "name": "stdout",
     "output_type": "stream",
     "text": [
      "\n",
      "      Epoch    GPU_mem   box_loss   cls_loss   dfl_loss  Instances       Size\n"
     ]
    },
    {
     "name": "stderr",
     "output_type": "stream",
     "text": [
      "       8/20     0.558G      2.048      1.361      2.064         25        160: 100%|██████████| 173/173 [00:25<00:00,  \n",
      "                 Class     Images  Instances      Box(P          R      mAP50  mAP50-95): 100%|██████████| 6/6 [00:00<0"
     ]
    },
    {
     "name": "stdout",
     "output_type": "stream",
     "text": [
      "                   all        184        195      0.946      0.836      0.905      0.693\n"
     ]
    },
    {
     "name": "stderr",
     "output_type": "stream",
     "text": [
      "\n"
     ]
    },
    {
     "name": "stdout",
     "output_type": "stream",
     "text": [
      "\n",
      "      Epoch    GPU_mem   box_loss   cls_loss   dfl_loss  Instances       Size\n"
     ]
    },
    {
     "name": "stderr",
     "output_type": "stream",
     "text": [
      "       9/20     0.558G      1.986      1.354      2.043         28        160: 100%|██████████| 173/173 [00:23<00:00,  \n",
      "                 Class     Images  Instances      Box(P          R      mAP50  mAP50-95): 100%|██████████| 6/6 [00:00<0"
     ]
    },
    {
     "name": "stdout",
     "output_type": "stream",
     "text": [
      "                   all        184        195      0.898      0.862      0.893      0.676\n"
     ]
    },
    {
     "name": "stderr",
     "output_type": "stream",
     "text": [
      "\n"
     ]
    },
    {
     "name": "stdout",
     "output_type": "stream",
     "text": [
      "\n",
      "      Epoch    GPU_mem   box_loss   cls_loss   dfl_loss  Instances       Size\n"
     ]
    },
    {
     "name": "stderr",
     "output_type": "stream",
     "text": [
      "      10/20     0.558G      1.924       1.24      2.021         22        160: 100%|██████████| 173/173 [00:23<00:00,  \n",
      "                 Class     Images  Instances      Box(P          R      mAP50  mAP50-95): 100%|██████████| 6/6 [00:00<0"
     ]
    },
    {
     "name": "stdout",
     "output_type": "stream",
     "text": [
      "                   all        184        195      0.949      0.859      0.916      0.705\n"
     ]
    },
    {
     "name": "stderr",
     "output_type": "stream",
     "text": [
      "\n"
     ]
    },
    {
     "name": "stdout",
     "output_type": "stream",
     "text": [
      "Closing dataloader mosaic\n",
      "\n",
      "      Epoch    GPU_mem   box_loss   cls_loss   dfl_loss  Instances       Size\n"
     ]
    },
    {
     "name": "stderr",
     "output_type": "stream",
     "text": [
      "      11/20     0.558G      1.687      1.079      2.055         14        160: 100%|██████████| 173/173 [00:24<00:00,  \n",
      "                 Class     Images  Instances      Box(P          R      mAP50  mAP50-95): 100%|██████████| 6/6 [00:00<0"
     ]
    },
    {
     "name": "stdout",
     "output_type": "stream",
     "text": [
      "                   all        184        195       0.91      0.821       0.91      0.673\n"
     ]
    },
    {
     "name": "stderr",
     "output_type": "stream",
     "text": [
      "\n"
     ]
    },
    {
     "name": "stdout",
     "output_type": "stream",
     "text": [
      "\n",
      "      Epoch    GPU_mem   box_loss   cls_loss   dfl_loss  Instances       Size\n"
     ]
    },
    {
     "name": "stderr",
     "output_type": "stream",
     "text": [
      "      12/20     0.558G      1.679       1.04      2.028         14        160: 100%|██████████| 173/173 [00:22<00:00,  \n",
      "                 Class     Images  Instances      Box(P          R      mAP50  mAP50-95): 100%|██████████| 6/6 [00:00<0"
     ]
    },
    {
     "name": "stdout",
     "output_type": "stream",
     "text": [
      "                   all        184        195      0.946      0.877      0.918      0.705\n"
     ]
    },
    {
     "name": "stderr",
     "output_type": "stream",
     "text": [
      "\n"
     ]
    },
    {
     "name": "stdout",
     "output_type": "stream",
     "text": [
      "\n",
      "      Epoch    GPU_mem   box_loss   cls_loss   dfl_loss  Instances       Size\n"
     ]
    },
    {
     "name": "stderr",
     "output_type": "stream",
     "text": [
      "      13/20     0.558G      1.575     0.9596      1.967         14        160: 100%|██████████| 173/173 [00:21<00:00,  \n",
      "                 Class     Images  Instances      Box(P          R      mAP50  mAP50-95): 100%|██████████| 6/6 [00:00<0"
     ]
    },
    {
     "name": "stdout",
     "output_type": "stream",
     "text": [
      "                   all        184        195      0.929       0.87       0.92      0.727\n"
     ]
    },
    {
     "name": "stderr",
     "output_type": "stream",
     "text": [
      "\n"
     ]
    },
    {
     "name": "stdout",
     "output_type": "stream",
     "text": [
      "\n",
      "      Epoch    GPU_mem   box_loss   cls_loss   dfl_loss  Instances       Size\n"
     ]
    },
    {
     "name": "stderr",
     "output_type": "stream",
     "text": [
      "      14/20     0.558G      1.567       0.92      1.972         15        160: 100%|██████████| 173/173 [00:21<00:00,  \n",
      "                 Class     Images  Instances      Box(P          R      mAP50  mAP50-95): 100%|██████████| 6/6 [00:00<0"
     ]
    },
    {
     "name": "stdout",
     "output_type": "stream",
     "text": [
      "                   all        184        195      0.934      0.913      0.945      0.735\n"
     ]
    },
    {
     "name": "stderr",
     "output_type": "stream",
     "text": [
      "\n"
     ]
    },
    {
     "name": "stdout",
     "output_type": "stream",
     "text": [
      "\n",
      "      Epoch    GPU_mem   box_loss   cls_loss   dfl_loss  Instances       Size\n"
     ]
    },
    {
     "name": "stderr",
     "output_type": "stream",
     "text": [
      "      15/20     0.558G       1.49     0.8811      1.929         14        160: 100%|██████████| 173/173 [00:23<00:00,  \n",
      "                 Class     Images  Instances      Box(P          R      mAP50  mAP50-95): 100%|██████████| 6/6 [00:00<0"
     ]
    },
    {
     "name": "stdout",
     "output_type": "stream",
     "text": [
      "                   all        184        195      0.952      0.897      0.938      0.738\n"
     ]
    },
    {
     "name": "stderr",
     "output_type": "stream",
     "text": [
      "\n"
     ]
    },
    {
     "name": "stdout",
     "output_type": "stream",
     "text": [
      "\n",
      "      Epoch    GPU_mem   box_loss   cls_loss   dfl_loss  Instances       Size\n"
     ]
    },
    {
     "name": "stderr",
     "output_type": "stream",
     "text": [
      "      16/20     0.558G      1.478     0.8463      1.925         15        160: 100%|██████████| 173/173 [00:22<00:00,  \n",
      "                 Class     Images  Instances      Box(P          R      mAP50  mAP50-95): 100%|██████████| 6/6 [00:00<0"
     ]
    },
    {
     "name": "stdout",
     "output_type": "stream",
     "text": [
      "                   all        184        195      0.942      0.913      0.939       0.75\n"
     ]
    },
    {
     "name": "stderr",
     "output_type": "stream",
     "text": [
      "\n"
     ]
    },
    {
     "name": "stdout",
     "output_type": "stream",
     "text": [
      "\n",
      "      Epoch    GPU_mem   box_loss   cls_loss   dfl_loss  Instances       Size\n"
     ]
    },
    {
     "name": "stderr",
     "output_type": "stream",
     "text": [
      "      17/20     0.558G       1.42     0.8177       1.88         13        160: 100%|██████████| 173/173 [00:22<00:00,  \n",
      "                 Class     Images  Instances      Box(P          R      mAP50  mAP50-95): 100%|██████████| 6/6 [00:00<0"
     ]
    },
    {
     "name": "stdout",
     "output_type": "stream",
     "text": [
      "                   all        184        195      0.957      0.914      0.947      0.754\n"
     ]
    },
    {
     "name": "stderr",
     "output_type": "stream",
     "text": [
      "\n"
     ]
    },
    {
     "name": "stdout",
     "output_type": "stream",
     "text": [
      "\n",
      "      Epoch    GPU_mem   box_loss   cls_loss   dfl_loss  Instances       Size\n"
     ]
    },
    {
     "name": "stderr",
     "output_type": "stream",
     "text": [
      "      18/20     0.558G      1.385     0.7998      1.884         13        160: 100%|██████████| 173/173 [00:24<00:00,  \n",
      "                 Class     Images  Instances      Box(P          R      mAP50  mAP50-95): 100%|██████████| 6/6 [00:00<0"
     ]
    },
    {
     "name": "stdout",
     "output_type": "stream",
     "text": [
      "                   all        184        195      0.954      0.867      0.947      0.756\n"
     ]
    },
    {
     "name": "stderr",
     "output_type": "stream",
     "text": [
      "\n"
     ]
    },
    {
     "name": "stdout",
     "output_type": "stream",
     "text": [
      "\n",
      "      Epoch    GPU_mem   box_loss   cls_loss   dfl_loss  Instances       Size\n"
     ]
    },
    {
     "name": "stderr",
     "output_type": "stream",
     "text": [
      "      19/20     0.558G      1.349     0.7531      1.866         13        160: 100%|██████████| 173/173 [00:22<00:00,  \n",
      "                 Class     Images  Instances      Box(P          R      mAP50  mAP50-95): 100%|██████████| 6/6 [00:00<0"
     ]
    },
    {
     "name": "stdout",
     "output_type": "stream",
     "text": [
      "                   all        184        195      0.944      0.892      0.947      0.761\n"
     ]
    },
    {
     "name": "stderr",
     "output_type": "stream",
     "text": [
      "\n"
     ]
    },
    {
     "name": "stdout",
     "output_type": "stream",
     "text": [
      "\n",
      "      Epoch    GPU_mem   box_loss   cls_loss   dfl_loss  Instances       Size\n"
     ]
    },
    {
     "name": "stderr",
     "output_type": "stream",
     "text": [
      "      20/20     0.558G      1.291     0.7396      1.829         13        160: 100%|██████████| 173/173 [00:24<00:00,  \n",
      "                 Class     Images  Instances      Box(P          R      mAP50  mAP50-95): 100%|██████████| 6/6 [00:01<0"
     ]
    },
    {
     "name": "stdout",
     "output_type": "stream",
     "text": [
      "                   all        184        195      0.941      0.897      0.944       0.76\n"
     ]
    },
    {
     "name": "stderr",
     "output_type": "stream",
     "text": [
      "\n"
     ]
    },
    {
     "name": "stdout",
     "output_type": "stream",
     "text": [
      "\n",
      "20 epochs completed in 0.148 hours.\n",
      "Optimizer stripped from runs\\detect\\train5\\weights\\last.pt, 16.5MB\n",
      "Optimizer stripped from runs\\detect\\train5\\weights\\best.pt, 16.5MB\n",
      "\n",
      "Validating runs\\detect\\train5\\weights\\best.pt...\n",
      "Ultralytics 8.3.70  Python-3.12.6 torch-2.6.0+cu124 CUDA:0 (NVIDIA GeForce RTX 3050 6GB Laptop GPU, 6144MiB)\n",
      "YOLOv10s summary (fused): 293 layers, 8,035,734 parameters, 0 gradients, 24.4 GFLOPs\n"
     ]
    },
    {
     "name": "stderr",
     "output_type": "stream",
     "text": [
      "                 Class     Images  Instances      Box(P          R      mAP50  mAP50-95): 100%|██████████| 6/6 [00:01<0\n"
     ]
    },
    {
     "name": "stdout",
     "output_type": "stream",
     "text": [
      "                   all        184        195      0.943      0.892      0.947       0.76\n",
      "Speed: 0.1ms preprocess, 2.1ms inference, 0.0ms loss, 0.3ms postprocess per image\n",
      "Results saved to \u001b[1mruns\\detect\\train5\u001b[0m\n"
     ]
    },
    {
     "data": {
      "text/plain": [
       "ultralytics.utils.metrics.DetMetrics object with attributes:\n",
       "\n",
       "ap_class_index: array([0])\n",
       "box: ultralytics.utils.metrics.Metric object\n",
       "confusion_matrix: <ultralytics.utils.metrics.ConfusionMatrix object at 0x0000019D71C75C70>\n",
       "curves: ['Precision-Recall(B)', 'F1-Confidence(B)', 'Precision-Confidence(B)', 'Recall-Confidence(B)']\n",
       "curves_results: [[array([          0,    0.001001,    0.002002,    0.003003,    0.004004,    0.005005,    0.006006,    0.007007,    0.008008,    0.009009,     0.01001,    0.011011,    0.012012,    0.013013,    0.014014,    0.015015,    0.016016,    0.017017,    0.018018,    0.019019,     0.02002,    0.021021,    0.022022,    0.023023,\n",
       "          0.024024,    0.025025,    0.026026,    0.027027,    0.028028,    0.029029,     0.03003,    0.031031,    0.032032,    0.033033,    0.034034,    0.035035,    0.036036,    0.037037,    0.038038,    0.039039,     0.04004,    0.041041,    0.042042,    0.043043,    0.044044,    0.045045,    0.046046,    0.047047,\n",
       "          0.048048,    0.049049,     0.05005,    0.051051,    0.052052,    0.053053,    0.054054,    0.055055,    0.056056,    0.057057,    0.058058,    0.059059,     0.06006,    0.061061,    0.062062,    0.063063,    0.064064,    0.065065,    0.066066,    0.067067,    0.068068,    0.069069,     0.07007,    0.071071,\n",
       "          0.072072,    0.073073,    0.074074,    0.075075,    0.076076,    0.077077,    0.078078,    0.079079,     0.08008,    0.081081,    0.082082,    0.083083,    0.084084,    0.085085,    0.086086,    0.087087,    0.088088,    0.089089,     0.09009,    0.091091,    0.092092,    0.093093,    0.094094,    0.095095,\n",
       "          0.096096,    0.097097,    0.098098,    0.099099,      0.1001,      0.1011,      0.1021,      0.1031,      0.1041,     0.10511,     0.10611,     0.10711,     0.10811,     0.10911,     0.11011,     0.11111,     0.11211,     0.11311,     0.11411,     0.11512,     0.11612,     0.11712,     0.11812,     0.11912,\n",
       "           0.12012,     0.12112,     0.12212,     0.12312,     0.12412,     0.12513,     0.12613,     0.12713,     0.12813,     0.12913,     0.13013,     0.13113,     0.13213,     0.13313,     0.13413,     0.13514,     0.13614,     0.13714,     0.13814,     0.13914,     0.14014,     0.14114,     0.14214,     0.14314,\n",
       "           0.14414,     0.14515,     0.14615,     0.14715,     0.14815,     0.14915,     0.15015,     0.15115,     0.15215,     0.15315,     0.15415,     0.15516,     0.15616,     0.15716,     0.15816,     0.15916,     0.16016,     0.16116,     0.16216,     0.16316,     0.16416,     0.16517,     0.16617,     0.16717,\n",
       "           0.16817,     0.16917,     0.17017,     0.17117,     0.17217,     0.17317,     0.17417,     0.17518,     0.17618,     0.17718,     0.17818,     0.17918,     0.18018,     0.18118,     0.18218,     0.18318,     0.18418,     0.18519,     0.18619,     0.18719,     0.18819,     0.18919,     0.19019,     0.19119,\n",
       "           0.19219,     0.19319,     0.19419,      0.1952,      0.1962,      0.1972,      0.1982,      0.1992,      0.2002,      0.2012,      0.2022,      0.2032,      0.2042,     0.20521,     0.20621,     0.20721,     0.20821,     0.20921,     0.21021,     0.21121,     0.21221,     0.21321,     0.21421,     0.21522,\n",
       "           0.21622,     0.21722,     0.21822,     0.21922,     0.22022,     0.22122,     0.22222,     0.22322,     0.22422,     0.22523,     0.22623,     0.22723,     0.22823,     0.22923,     0.23023,     0.23123,     0.23223,     0.23323,     0.23423,     0.23524,     0.23624,     0.23724,     0.23824,     0.23924,\n",
       "           0.24024,     0.24124,     0.24224,     0.24324,     0.24424,     0.24525,     0.24625,     0.24725,     0.24825,     0.24925,     0.25025,     0.25125,     0.25225,     0.25325,     0.25425,     0.25526,     0.25626,     0.25726,     0.25826,     0.25926,     0.26026,     0.26126,     0.26226,     0.26326,\n",
       "           0.26426,     0.26527,     0.26627,     0.26727,     0.26827,     0.26927,     0.27027,     0.27127,     0.27227,     0.27327,     0.27427,     0.27528,     0.27628,     0.27728,     0.27828,     0.27928,     0.28028,     0.28128,     0.28228,     0.28328,     0.28428,     0.28529,     0.28629,     0.28729,\n",
       "           0.28829,     0.28929,     0.29029,     0.29129,     0.29229,     0.29329,     0.29429,      0.2953,      0.2963,      0.2973,      0.2983,      0.2993,      0.3003,      0.3013,      0.3023,      0.3033,      0.3043,     0.30531,     0.30631,     0.30731,     0.30831,     0.30931,     0.31031,     0.31131,\n",
       "           0.31231,     0.31331,     0.31431,     0.31532,     0.31632,     0.31732,     0.31832,     0.31932,     0.32032,     0.32132,     0.32232,     0.32332,     0.32432,     0.32533,     0.32633,     0.32733,     0.32833,     0.32933,     0.33033,     0.33133,     0.33233,     0.33333,     0.33433,     0.33534,\n",
       "           0.33634,     0.33734,     0.33834,     0.33934,     0.34034,     0.34134,     0.34234,     0.34334,     0.34434,     0.34535,     0.34635,     0.34735,     0.34835,     0.34935,     0.35035,     0.35135,     0.35235,     0.35335,     0.35435,     0.35536,     0.35636,     0.35736,     0.35836,     0.35936,\n",
       "           0.36036,     0.36136,     0.36236,     0.36336,     0.36436,     0.36537,     0.36637,     0.36737,     0.36837,     0.36937,     0.37037,     0.37137,     0.37237,     0.37337,     0.37437,     0.37538,     0.37638,     0.37738,     0.37838,     0.37938,     0.38038,     0.38138,     0.38238,     0.38338,\n",
       "           0.38438,     0.38539,     0.38639,     0.38739,     0.38839,     0.38939,     0.39039,     0.39139,     0.39239,     0.39339,     0.39439,      0.3954,      0.3964,      0.3974,      0.3984,      0.3994,      0.4004,      0.4014,      0.4024,      0.4034,      0.4044,     0.40541,     0.40641,     0.40741,\n",
       "           0.40841,     0.40941,     0.41041,     0.41141,     0.41241,     0.41341,     0.41441,     0.41542,     0.41642,     0.41742,     0.41842,     0.41942,     0.42042,     0.42142,     0.42242,     0.42342,     0.42442,     0.42543,     0.42643,     0.42743,     0.42843,     0.42943,     0.43043,     0.43143,\n",
       "           0.43243,     0.43343,     0.43443,     0.43544,     0.43644,     0.43744,     0.43844,     0.43944,     0.44044,     0.44144,     0.44244,     0.44344,     0.44444,     0.44545,     0.44645,     0.44745,     0.44845,     0.44945,     0.45045,     0.45145,     0.45245,     0.45345,     0.45445,     0.45546,\n",
       "           0.45646,     0.45746,     0.45846,     0.45946,     0.46046,     0.46146,     0.46246,     0.46346,     0.46446,     0.46547,     0.46647,     0.46747,     0.46847,     0.46947,     0.47047,     0.47147,     0.47247,     0.47347,     0.47447,     0.47548,     0.47648,     0.47748,     0.47848,     0.47948,\n",
       "           0.48048,     0.48148,     0.48248,     0.48348,     0.48448,     0.48549,     0.48649,     0.48749,     0.48849,     0.48949,     0.49049,     0.49149,     0.49249,     0.49349,     0.49449,      0.4955,      0.4965,      0.4975,      0.4985,      0.4995,      0.5005,      0.5015,      0.5025,      0.5035,\n",
       "            0.5045,     0.50551,     0.50651,     0.50751,     0.50851,     0.50951,     0.51051,     0.51151,     0.51251,     0.51351,     0.51451,     0.51552,     0.51652,     0.51752,     0.51852,     0.51952,     0.52052,     0.52152,     0.52252,     0.52352,     0.52452,     0.52553,     0.52653,     0.52753,\n",
       "           0.52853,     0.52953,     0.53053,     0.53153,     0.53253,     0.53353,     0.53453,     0.53554,     0.53654,     0.53754,     0.53854,     0.53954,     0.54054,     0.54154,     0.54254,     0.54354,     0.54454,     0.54555,     0.54655,     0.54755,     0.54855,     0.54955,     0.55055,     0.55155,\n",
       "           0.55255,     0.55355,     0.55455,     0.55556,     0.55656,     0.55756,     0.55856,     0.55956,     0.56056,     0.56156,     0.56256,     0.56356,     0.56456,     0.56557,     0.56657,     0.56757,     0.56857,     0.56957,     0.57057,     0.57157,     0.57257,     0.57357,     0.57457,     0.57558,\n",
       "           0.57658,     0.57758,     0.57858,     0.57958,     0.58058,     0.58158,     0.58258,     0.58358,     0.58458,     0.58559,     0.58659,     0.58759,     0.58859,     0.58959,     0.59059,     0.59159,     0.59259,     0.59359,     0.59459,      0.5956,      0.5966,      0.5976,      0.5986,      0.5996,\n",
       "            0.6006,      0.6016,      0.6026,      0.6036,      0.6046,     0.60561,     0.60661,     0.60761,     0.60861,     0.60961,     0.61061,     0.61161,     0.61261,     0.61361,     0.61461,     0.61562,     0.61662,     0.61762,     0.61862,     0.61962,     0.62062,     0.62162,     0.62262,     0.62362,\n",
       "           0.62462,     0.62563,     0.62663,     0.62763,     0.62863,     0.62963,     0.63063,     0.63163,     0.63263,     0.63363,     0.63463,     0.63564,     0.63664,     0.63764,     0.63864,     0.63964,     0.64064,     0.64164,     0.64264,     0.64364,     0.64464,     0.64565,     0.64665,     0.64765,\n",
       "           0.64865,     0.64965,     0.65065,     0.65165,     0.65265,     0.65365,     0.65465,     0.65566,     0.65666,     0.65766,     0.65866,     0.65966,     0.66066,     0.66166,     0.66266,     0.66366,     0.66466,     0.66567,     0.66667,     0.66767,     0.66867,     0.66967,     0.67067,     0.67167,\n",
       "           0.67267,     0.67367,     0.67467,     0.67568,     0.67668,     0.67768,     0.67868,     0.67968,     0.68068,     0.68168,     0.68268,     0.68368,     0.68468,     0.68569,     0.68669,     0.68769,     0.68869,     0.68969,     0.69069,     0.69169,     0.69269,     0.69369,     0.69469,      0.6957,\n",
       "            0.6967,      0.6977,      0.6987,      0.6997,      0.7007,      0.7017,      0.7027,      0.7037,      0.7047,     0.70571,     0.70671,     0.70771,     0.70871,     0.70971,     0.71071,     0.71171,     0.71271,     0.71371,     0.71471,     0.71572,     0.71672,     0.71772,     0.71872,     0.71972,\n",
       "           0.72072,     0.72172,     0.72272,     0.72372,     0.72472,     0.72573,     0.72673,     0.72773,     0.72873,     0.72973,     0.73073,     0.73173,     0.73273,     0.73373,     0.73473,     0.73574,     0.73674,     0.73774,     0.73874,     0.73974,     0.74074,     0.74174,     0.74274,     0.74374,\n",
       "           0.74474,     0.74575,     0.74675,     0.74775,     0.74875,     0.74975,     0.75075,     0.75175,     0.75275,     0.75375,     0.75475,     0.75576,     0.75676,     0.75776,     0.75876,     0.75976,     0.76076,     0.76176,     0.76276,     0.76376,     0.76476,     0.76577,     0.76677,     0.76777,\n",
       "           0.76877,     0.76977,     0.77077,     0.77177,     0.77277,     0.77377,     0.77477,     0.77578,     0.77678,     0.77778,     0.77878,     0.77978,     0.78078,     0.78178,     0.78278,     0.78378,     0.78478,     0.78579,     0.78679,     0.78779,     0.78879,     0.78979,     0.79079,     0.79179,\n",
       "           0.79279,     0.79379,     0.79479,      0.7958,      0.7968,      0.7978,      0.7988,      0.7998,      0.8008,      0.8018,      0.8028,      0.8038,      0.8048,     0.80581,     0.80681,     0.80781,     0.80881,     0.80981,     0.81081,     0.81181,     0.81281,     0.81381,     0.81481,     0.81582,\n",
       "           0.81682,     0.81782,     0.81882,     0.81982,     0.82082,     0.82182,     0.82282,     0.82382,     0.82482,     0.82583,     0.82683,     0.82783,     0.82883,     0.82983,     0.83083,     0.83183,     0.83283,     0.83383,     0.83483,     0.83584,     0.83684,     0.83784,     0.83884,     0.83984,\n",
       "           0.84084,     0.84184,     0.84284,     0.84384,     0.84484,     0.84585,     0.84685,     0.84785,     0.84885,     0.84985,     0.85085,     0.85185,     0.85285,     0.85385,     0.85485,     0.85586,     0.85686,     0.85786,     0.85886,     0.85986,     0.86086,     0.86186,     0.86286,     0.86386,\n",
       "           0.86486,     0.86587,     0.86687,     0.86787,     0.86887,     0.86987,     0.87087,     0.87187,     0.87287,     0.87387,     0.87487,     0.87588,     0.87688,     0.87788,     0.87888,     0.87988,     0.88088,     0.88188,     0.88288,     0.88388,     0.88488,     0.88589,     0.88689,     0.88789,\n",
       "           0.88889,     0.88989,     0.89089,     0.89189,     0.89289,     0.89389,     0.89489,      0.8959,      0.8969,      0.8979,      0.8989,      0.8999,      0.9009,      0.9019,      0.9029,      0.9039,      0.9049,     0.90591,     0.90691,     0.90791,     0.90891,     0.90991,     0.91091,     0.91191,\n",
       "           0.91291,     0.91391,     0.91491,     0.91592,     0.91692,     0.91792,     0.91892,     0.91992,     0.92092,     0.92192,     0.92292,     0.92392,     0.92492,     0.92593,     0.92693,     0.92793,     0.92893,     0.92993,     0.93093,     0.93193,     0.93293,     0.93393,     0.93493,     0.93594,\n",
       "           0.93694,     0.93794,     0.93894,     0.93994,     0.94094,     0.94194,     0.94294,     0.94394,     0.94494,     0.94595,     0.94695,     0.94795,     0.94895,     0.94995,     0.95095,     0.95195,     0.95295,     0.95395,     0.95495,     0.95596,     0.95696,     0.95796,     0.95896,     0.95996,\n",
       "           0.96096,     0.96196,     0.96296,     0.96396,     0.96496,     0.96597,     0.96697,     0.96797,     0.96897,     0.96997,     0.97097,     0.97197,     0.97297,     0.97397,     0.97497,     0.97598,     0.97698,     0.97798,     0.97898,     0.97998,     0.98098,     0.98198,     0.98298,     0.98398,\n",
       "           0.98498,     0.98599,     0.98699,     0.98799,     0.98899,     0.98999,     0.99099,     0.99199,     0.99299,     0.99399,     0.99499,       0.996,       0.997,       0.998,       0.999,           1]), array([[          1,           1,           1,           1,           1,           1,           1,           1,           1,           1,           1,           1,           1,           1,           1,           1,           1,           1,           1,           1,           1,           1,           1,\n",
       "                  1,           1,           1,           1,           1,           1,           1,           1,           1,           1,           1,           1,           1,           1,           1,           1,           1,           1,           1,           1,           1,           1,           1,\n",
       "                  1,           1,           1,           1,           1,           1,           1,           1,           1,           1,           1,           1,           1,           1,           1,           1,           1,           1,           1,           1,           1,           1,           1,\n",
       "                  1,           1,           1,           1,           1,           1,           1,           1,           1,           1,           1,           1,           1,           1,           1,           1,           1,           1,           1,           1,           1,           1,           1,\n",
       "                  1,           1,           1,           1,           1,           1,           1,           1,           1,           1,           1,           1,           1,           1,           1,           1,           1,           1,           1,           1,           1,           1,           1,\n",
       "                  1,           1,           1,           1,           1,           1,           1,           1,           1,           1,           1,           1,           1,           1,           1,           1,           1,           1,           1,           1,           1,           1,           1,\n",
       "                  1,           1,           1,           1,           1,           1,           1,           1,           1,           1,           1,           1,           1,           1,           1,           1,           1,           1,           1,           1,           1,           1,           1,\n",
       "                  1,           1,           1,           1,           1,           1,           1,           1,           1,           1,           1,           1,           1,           1,           1,           1,           1,           1,           1,           1,           1,           1,           1,\n",
       "                  1,           1,           1,           1,           1,           1,           1,           1,           1,           1,           1,           1,           1,           1,           1,           1,           1,           1,           1,           1,           1,           1,           1,\n",
       "                  1,           1,           1,           1,           1,           1,           1,           1,           1,           1,           1,           1,           1,           1,           1,           1,           1,           1,           1,           1,           1,           1,           1,\n",
       "                  1,           1,           1,           1,           1,           1,           1,           1,           1,           1,           1,           1,           1,           1,           1,           1,           1,           1,           1,           1,           1,           1,           1,\n",
       "                  1,           1,           1,           1,           1,           1,           1,           1,           1,           1,           1,           1,           1,           1,           1,           1,           1,           1,           1,           1,           1,           1,           1,\n",
       "                  1,           1,           1,           1,           1,           1,           1,           1,           1,           1,           1,           1,           1,           1,           1,           1,           1,           1,           1,           1,           1,           1,           1,\n",
       "                  1,           1,           1,           1,           1,           1,           1,           1,           1,           1,           1,           1,           1,           1,           1,           1,           1,           1,           1,           1,           1,           1,           1,\n",
       "                  1,           1,           1,           1,           1,           1,           1,           1,           1,           1,           1,           1,           1,           1,           1,           1,           1,           1,           1,           1,           1,           1,           1,\n",
       "                  1,           1,           1,           1,           1,           1,           1,           1,           1,           1,           1,           1,           1,           1,           1,           1,           1,           1,           1,     0.99306,     0.99306,     0.99306,     0.99306,\n",
       "            0.99306,     0.99306,     0.99306,     0.99306,     0.99306,     0.99306,     0.99306,     0.99306,     0.99306,     0.99306,     0.99306,     0.99306,     0.99306,     0.99306,     0.99306,     0.99306,     0.99306,     0.99306,     0.99306,     0.99306,     0.99306,     0.99306,     0.99306,\n",
       "            0.99306,     0.99306,     0.99306,     0.99306,     0.99306,     0.99306,     0.99306,     0.99306,     0.99306,     0.99306,     0.99306,     0.99306,     0.99306,     0.99306,     0.99306,     0.99306,     0.99306,     0.99306,     0.99306,     0.99306,     0.99306,     0.99306,     0.99306,\n",
       "            0.99306,     0.99306,     0.99306,     0.99306,     0.99306,     0.99306,     0.99306,     0.99306,     0.99306,     0.99306,     0.99306,     0.99306,     0.99306,     0.99306,     0.99306,     0.99306,     0.99306,     0.99306,     0.99306,     0.99306,     0.99306,     0.99306,     0.99306,\n",
       "            0.99306,     0.99306,     0.99306,     0.99306,     0.99306,     0.99306,     0.99306,     0.99306,     0.99306,     0.99306,     0.99306,     0.99306,     0.99306,     0.99306,     0.99306,     0.99306,     0.99306,     0.99306,     0.99306,     0.99306,     0.99306,     0.99306,     0.99306,\n",
       "            0.99306,     0.99306,     0.99306,     0.99306,     0.99306,     0.99306,     0.99306,     0.99306,     0.99306,     0.99306,     0.99306,     0.99306,     0.99306,     0.99306,     0.99306,     0.99306,     0.99306,     0.99306,     0.99306,     0.99306,     0.99306,     0.99306,     0.99306,\n",
       "            0.99306,     0.99306,     0.99306,     0.99306,     0.99306,     0.99306,     0.99306,     0.99306,     0.99306,     0.99306,     0.99306,     0.99306,     0.99306,     0.99306,     0.99306,     0.99306,     0.99306,     0.99306,     0.99306,     0.99306,     0.99306,     0.99306,     0.99306,\n",
       "            0.99306,     0.99306,     0.99306,     0.99306,     0.99306,     0.99306,     0.99306,     0.99306,     0.99306,     0.99306,     0.99306,     0.99306,     0.99306,     0.99306,     0.99306,     0.99306,     0.99306,     0.99306,     0.99306,     0.99306,     0.99306,     0.99306,     0.99306,\n",
       "            0.99306,     0.99306,     0.99306,     0.99306,     0.99306,     0.99306,     0.99306,     0.99306,     0.99306,     0.99306,     0.99306,     0.99306,     0.99306,     0.99306,     0.99306,     0.99306,     0.99306,     0.99306,     0.99306,     0.99306,     0.99306,     0.99306,     0.99306,\n",
       "            0.99306,     0.99306,     0.99306,     0.99306,     0.99306,     0.99306,     0.99306,     0.99306,     0.99306,     0.99306,     0.99306,     0.99306,     0.99306,     0.99306,     0.99306,     0.99306,     0.99306,     0.99306,     0.99306,     0.99306,     0.99306,     0.99306,     0.99306,\n",
       "            0.99306,     0.99306,     0.99306,     0.99306,     0.99306,     0.99306,     0.99306,     0.99306,     0.99306,     0.99306,     0.99306,     0.99306,     0.99306,     0.99306,     0.99306,     0.99306,     0.99306,     0.99306,     0.99306,     0.99306,     0.99306,     0.99306,     0.99306,\n",
       "            0.99306,     0.99306,     0.99306,     0.99306,     0.99306,     0.99306,     0.99306,     0.99306,     0.99306,     0.99306,     0.99306,     0.99306,     0.99306,     0.99306,     0.99306,     0.99306,     0.99306,     0.99306,     0.99306,     0.99306,     0.99306,     0.99306,     0.99306,\n",
       "            0.99306,     0.99306,     0.99306,     0.99306,     0.99306,     0.99306,     0.99306,     0.99306,     0.99306,     0.99306,     0.99306,     0.99306,     0.99306,     0.99306,     0.99306,     0.99306,     0.99306,     0.99306,     0.99306,     0.99306,     0.99306,     0.99306,     0.99306,\n",
       "            0.99306,     0.99306,     0.99306,     0.99306,     0.99306,     0.99306,     0.99306,     0.99306,     0.99306,     0.99306,     0.99306,     0.99306,     0.99306,     0.99306,     0.99306,     0.99306,     0.99306,     0.99306,     0.99306,     0.99306,     0.99306,     0.99306,     0.99306,\n",
       "            0.99306,     0.99306,     0.99306,     0.99306,     0.99306,     0.99306,     0.99306,     0.99306,     0.99306,     0.99306,     0.99306,     0.99306,     0.99306,     0.99306,     0.99306,     0.99306,     0.99306,     0.99306,     0.99306,     0.99306,     0.99306,     0.99306,     0.99306,\n",
       "            0.99306,     0.99306,     0.99306,     0.99306,     0.99306,     0.99306,     0.99306,     0.99306,     0.99306,     0.99306,     0.99306,     0.99306,     0.99306,     0.99306,     0.99306,     0.99306,     0.99306,     0.99306,     0.99306,     0.99306,     0.99306,     0.99306,     0.99306,\n",
       "            0.99306,     0.99306,     0.99306,     0.99306,     0.99306,     0.99306,     0.99306,     0.99306,     0.99306,     0.99306,     0.99306,     0.99306,     0.99306,     0.99306,     0.99306,     0.99306,     0.99306,     0.99306,     0.99306,     0.99306,     0.98658,     0.98658,     0.98658,\n",
       "            0.98658,     0.98658,     0.98658,     0.98658,     0.98658,     0.98658,     0.98658,     0.98658,     0.98658,     0.98658,     0.98658,     0.98658,     0.98658,     0.98658,     0.98658,     0.98658,     0.98658,     0.98658,     0.98171,     0.98171,     0.98171,     0.98171,     0.98171,\n",
       "            0.98171,     0.98171,     0.98171,     0.98171,     0.98171,     0.98171,     0.98171,     0.98171,     0.98171,     0.98171,     0.98171,     0.98171,     0.98171,     0.98171,     0.98171,     0.98171,     0.98171,     0.98171,     0.98171,     0.98171,     0.98171,     0.98171,     0.98171,\n",
       "            0.98171,     0.98171,     0.98171,     0.98171,     0.98171,     0.98171,     0.98171,     0.98171,     0.98171,     0.98171,     0.98171,     0.98171,     0.98171,     0.98171,     0.98171,     0.98171,     0.98171,     0.98171,     0.98171,     0.98171,     0.98171,     0.98171,     0.98171,\n",
       "            0.98171,     0.98171,     0.98171,     0.98171,     0.98171,     0.98171,     0.98171,     0.98171,     0.98171,     0.98171,     0.98171,     0.98171,     0.98171,     0.98171,     0.98171,     0.98171,     0.98171,     0.98171,     0.98171,     0.98171,     0.97661,     0.97661,     0.97661,\n",
       "            0.97661,     0.97661,     0.97661,     0.97661,     0.97661,     0.97661,     0.97661,     0.97661,     0.97661,     0.97661,     0.97661,     0.97661,     0.97661,     0.97661,     0.97661,     0.97661,     0.97661,     0.97661,     0.97661,     0.97661,     0.97661,     0.97661,     0.97661,\n",
       "            0.97661,     0.97661,     0.97661,     0.97661,     0.97661,      0.9711,      0.9711,      0.9711,      0.9711,      0.9711,     0.96571,     0.96571,     0.96571,     0.96571,     0.96571,     0.96111,     0.96111,     0.96111,     0.96111,     0.96111,     0.96111,     0.96111,     0.96111,\n",
       "            0.96111,     0.96111,     0.96111,     0.96111,     0.96111,     0.96111,     0.96111,     0.96111,     0.96111,     0.96111,     0.96111,     0.96111,     0.96111,     0.95604,     0.95604,     0.95604,     0.95604,     0.95604,     0.94086,     0.94086,     0.94086,     0.94086,     0.94086,\n",
       "            0.92632,     0.92632,     0.92632,     0.92632,     0.92632,     0.89899,     0.89899,     0.89899,     0.89899,     0.89899,     0.89899,     0.89899,     0.89899,     0.89899,     0.89899,     0.88177,     0.88177,     0.88177,     0.88177,     0.88177,     0.88177,     0.86538,     0.86538,\n",
       "            0.86538,     0.86538,     0.86538,     0.84977,     0.84977,     0.84977,     0.84977,     0.84977,      0.8125,      0.8125,      0.8125,      0.8125,      0.8125,     0.74089,     0.74089,     0.74089,     0.74089,     0.74089,     0.68148,     0.68148,     0.68148,     0.68148,     0.68148,\n",
       "            0.62712,     0.62712,     0.62712,     0.62712,     0.62712,     0.57407,     0.57407,     0.57407,     0.57407,     0.57407,      0.3904,      0.3904,      0.3904,      0.3904,      0.3904,      0.3904,       0.376,       0.376,       0.376,       0.376,       0.376,     0.36346,     0.36346,\n",
       "            0.36346,     0.36346,     0.36346,     0.31457,     0.31457,     0.31457,     0.31457,     0.31457,     0.30222,     0.30222,     0.30222,     0.30222,     0.30222,     0.28786,     0.28786,     0.28786,     0.28786,     0.28786,     0.17066,     0.15928,     0.14791,     0.13653,     0.12515,\n",
       "            0.11377,      0.1024,     0.09102,    0.079642,    0.068265,    0.056887,     0.04551,    0.034132,    0.022755,    0.011377,           0]]), 'Recall', 'Precision'], [array([          0,    0.001001,    0.002002,    0.003003,    0.004004,    0.005005,    0.006006,    0.007007,    0.008008,    0.009009,     0.01001,    0.011011,    0.012012,    0.013013,    0.014014,    0.015015,    0.016016,    0.017017,    0.018018,    0.019019,     0.02002,    0.021021,    0.022022,    0.023023,\n",
       "          0.024024,    0.025025,    0.026026,    0.027027,    0.028028,    0.029029,     0.03003,    0.031031,    0.032032,    0.033033,    0.034034,    0.035035,    0.036036,    0.037037,    0.038038,    0.039039,     0.04004,    0.041041,    0.042042,    0.043043,    0.044044,    0.045045,    0.046046,    0.047047,\n",
       "          0.048048,    0.049049,     0.05005,    0.051051,    0.052052,    0.053053,    0.054054,    0.055055,    0.056056,    0.057057,    0.058058,    0.059059,     0.06006,    0.061061,    0.062062,    0.063063,    0.064064,    0.065065,    0.066066,    0.067067,    0.068068,    0.069069,     0.07007,    0.071071,\n",
       "          0.072072,    0.073073,    0.074074,    0.075075,    0.076076,    0.077077,    0.078078,    0.079079,     0.08008,    0.081081,    0.082082,    0.083083,    0.084084,    0.085085,    0.086086,    0.087087,    0.088088,    0.089089,     0.09009,    0.091091,    0.092092,    0.093093,    0.094094,    0.095095,\n",
       "          0.096096,    0.097097,    0.098098,    0.099099,      0.1001,      0.1011,      0.1021,      0.1031,      0.1041,     0.10511,     0.10611,     0.10711,     0.10811,     0.10911,     0.11011,     0.11111,     0.11211,     0.11311,     0.11411,     0.11512,     0.11612,     0.11712,     0.11812,     0.11912,\n",
       "           0.12012,     0.12112,     0.12212,     0.12312,     0.12412,     0.12513,     0.12613,     0.12713,     0.12813,     0.12913,     0.13013,     0.13113,     0.13213,     0.13313,     0.13413,     0.13514,     0.13614,     0.13714,     0.13814,     0.13914,     0.14014,     0.14114,     0.14214,     0.14314,\n",
       "           0.14414,     0.14515,     0.14615,     0.14715,     0.14815,     0.14915,     0.15015,     0.15115,     0.15215,     0.15315,     0.15415,     0.15516,     0.15616,     0.15716,     0.15816,     0.15916,     0.16016,     0.16116,     0.16216,     0.16316,     0.16416,     0.16517,     0.16617,     0.16717,\n",
       "           0.16817,     0.16917,     0.17017,     0.17117,     0.17217,     0.17317,     0.17417,     0.17518,     0.17618,     0.17718,     0.17818,     0.17918,     0.18018,     0.18118,     0.18218,     0.18318,     0.18418,     0.18519,     0.18619,     0.18719,     0.18819,     0.18919,     0.19019,     0.19119,\n",
       "           0.19219,     0.19319,     0.19419,      0.1952,      0.1962,      0.1972,      0.1982,      0.1992,      0.2002,      0.2012,      0.2022,      0.2032,      0.2042,     0.20521,     0.20621,     0.20721,     0.20821,     0.20921,     0.21021,     0.21121,     0.21221,     0.21321,     0.21421,     0.21522,\n",
       "           0.21622,     0.21722,     0.21822,     0.21922,     0.22022,     0.22122,     0.22222,     0.22322,     0.22422,     0.22523,     0.22623,     0.22723,     0.22823,     0.22923,     0.23023,     0.23123,     0.23223,     0.23323,     0.23423,     0.23524,     0.23624,     0.23724,     0.23824,     0.23924,\n",
       "           0.24024,     0.24124,     0.24224,     0.24324,     0.24424,     0.24525,     0.24625,     0.24725,     0.24825,     0.24925,     0.25025,     0.25125,     0.25225,     0.25325,     0.25425,     0.25526,     0.25626,     0.25726,     0.25826,     0.25926,     0.26026,     0.26126,     0.26226,     0.26326,\n",
       "           0.26426,     0.26527,     0.26627,     0.26727,     0.26827,     0.26927,     0.27027,     0.27127,     0.27227,     0.27327,     0.27427,     0.27528,     0.27628,     0.27728,     0.27828,     0.27928,     0.28028,     0.28128,     0.28228,     0.28328,     0.28428,     0.28529,     0.28629,     0.28729,\n",
       "           0.28829,     0.28929,     0.29029,     0.29129,     0.29229,     0.29329,     0.29429,      0.2953,      0.2963,      0.2973,      0.2983,      0.2993,      0.3003,      0.3013,      0.3023,      0.3033,      0.3043,     0.30531,     0.30631,     0.30731,     0.30831,     0.30931,     0.31031,     0.31131,\n",
       "           0.31231,     0.31331,     0.31431,     0.31532,     0.31632,     0.31732,     0.31832,     0.31932,     0.32032,     0.32132,     0.32232,     0.32332,     0.32432,     0.32533,     0.32633,     0.32733,     0.32833,     0.32933,     0.33033,     0.33133,     0.33233,     0.33333,     0.33433,     0.33534,\n",
       "           0.33634,     0.33734,     0.33834,     0.33934,     0.34034,     0.34134,     0.34234,     0.34334,     0.34434,     0.34535,     0.34635,     0.34735,     0.34835,     0.34935,     0.35035,     0.35135,     0.35235,     0.35335,     0.35435,     0.35536,     0.35636,     0.35736,     0.35836,     0.35936,\n",
       "           0.36036,     0.36136,     0.36236,     0.36336,     0.36436,     0.36537,     0.36637,     0.36737,     0.36837,     0.36937,     0.37037,     0.37137,     0.37237,     0.37337,     0.37437,     0.37538,     0.37638,     0.37738,     0.37838,     0.37938,     0.38038,     0.38138,     0.38238,     0.38338,\n",
       "           0.38438,     0.38539,     0.38639,     0.38739,     0.38839,     0.38939,     0.39039,     0.39139,     0.39239,     0.39339,     0.39439,      0.3954,      0.3964,      0.3974,      0.3984,      0.3994,      0.4004,      0.4014,      0.4024,      0.4034,      0.4044,     0.40541,     0.40641,     0.40741,\n",
       "           0.40841,     0.40941,     0.41041,     0.41141,     0.41241,     0.41341,     0.41441,     0.41542,     0.41642,     0.41742,     0.41842,     0.41942,     0.42042,     0.42142,     0.42242,     0.42342,     0.42442,     0.42543,     0.42643,     0.42743,     0.42843,     0.42943,     0.43043,     0.43143,\n",
       "           0.43243,     0.43343,     0.43443,     0.43544,     0.43644,     0.43744,     0.43844,     0.43944,     0.44044,     0.44144,     0.44244,     0.44344,     0.44444,     0.44545,     0.44645,     0.44745,     0.44845,     0.44945,     0.45045,     0.45145,     0.45245,     0.45345,     0.45445,     0.45546,\n",
       "           0.45646,     0.45746,     0.45846,     0.45946,     0.46046,     0.46146,     0.46246,     0.46346,     0.46446,     0.46547,     0.46647,     0.46747,     0.46847,     0.46947,     0.47047,     0.47147,     0.47247,     0.47347,     0.47447,     0.47548,     0.47648,     0.47748,     0.47848,     0.47948,\n",
       "           0.48048,     0.48148,     0.48248,     0.48348,     0.48448,     0.48549,     0.48649,     0.48749,     0.48849,     0.48949,     0.49049,     0.49149,     0.49249,     0.49349,     0.49449,      0.4955,      0.4965,      0.4975,      0.4985,      0.4995,      0.5005,      0.5015,      0.5025,      0.5035,\n",
       "            0.5045,     0.50551,     0.50651,     0.50751,     0.50851,     0.50951,     0.51051,     0.51151,     0.51251,     0.51351,     0.51451,     0.51552,     0.51652,     0.51752,     0.51852,     0.51952,     0.52052,     0.52152,     0.52252,     0.52352,     0.52452,     0.52553,     0.52653,     0.52753,\n",
       "           0.52853,     0.52953,     0.53053,     0.53153,     0.53253,     0.53353,     0.53453,     0.53554,     0.53654,     0.53754,     0.53854,     0.53954,     0.54054,     0.54154,     0.54254,     0.54354,     0.54454,     0.54555,     0.54655,     0.54755,     0.54855,     0.54955,     0.55055,     0.55155,\n",
       "           0.55255,     0.55355,     0.55455,     0.55556,     0.55656,     0.55756,     0.55856,     0.55956,     0.56056,     0.56156,     0.56256,     0.56356,     0.56456,     0.56557,     0.56657,     0.56757,     0.56857,     0.56957,     0.57057,     0.57157,     0.57257,     0.57357,     0.57457,     0.57558,\n",
       "           0.57658,     0.57758,     0.57858,     0.57958,     0.58058,     0.58158,     0.58258,     0.58358,     0.58458,     0.58559,     0.58659,     0.58759,     0.58859,     0.58959,     0.59059,     0.59159,     0.59259,     0.59359,     0.59459,      0.5956,      0.5966,      0.5976,      0.5986,      0.5996,\n",
       "            0.6006,      0.6016,      0.6026,      0.6036,      0.6046,     0.60561,     0.60661,     0.60761,     0.60861,     0.60961,     0.61061,     0.61161,     0.61261,     0.61361,     0.61461,     0.61562,     0.61662,     0.61762,     0.61862,     0.61962,     0.62062,     0.62162,     0.62262,     0.62362,\n",
       "           0.62462,     0.62563,     0.62663,     0.62763,     0.62863,     0.62963,     0.63063,     0.63163,     0.63263,     0.63363,     0.63463,     0.63564,     0.63664,     0.63764,     0.63864,     0.63964,     0.64064,     0.64164,     0.64264,     0.64364,     0.64464,     0.64565,     0.64665,     0.64765,\n",
       "           0.64865,     0.64965,     0.65065,     0.65165,     0.65265,     0.65365,     0.65465,     0.65566,     0.65666,     0.65766,     0.65866,     0.65966,     0.66066,     0.66166,     0.66266,     0.66366,     0.66466,     0.66567,     0.66667,     0.66767,     0.66867,     0.66967,     0.67067,     0.67167,\n",
       "           0.67267,     0.67367,     0.67467,     0.67568,     0.67668,     0.67768,     0.67868,     0.67968,     0.68068,     0.68168,     0.68268,     0.68368,     0.68468,     0.68569,     0.68669,     0.68769,     0.68869,     0.68969,     0.69069,     0.69169,     0.69269,     0.69369,     0.69469,      0.6957,\n",
       "            0.6967,      0.6977,      0.6987,      0.6997,      0.7007,      0.7017,      0.7027,      0.7037,      0.7047,     0.70571,     0.70671,     0.70771,     0.70871,     0.70971,     0.71071,     0.71171,     0.71271,     0.71371,     0.71471,     0.71572,     0.71672,     0.71772,     0.71872,     0.71972,\n",
       "           0.72072,     0.72172,     0.72272,     0.72372,     0.72472,     0.72573,     0.72673,     0.72773,     0.72873,     0.72973,     0.73073,     0.73173,     0.73273,     0.73373,     0.73473,     0.73574,     0.73674,     0.73774,     0.73874,     0.73974,     0.74074,     0.74174,     0.74274,     0.74374,\n",
       "           0.74474,     0.74575,     0.74675,     0.74775,     0.74875,     0.74975,     0.75075,     0.75175,     0.75275,     0.75375,     0.75475,     0.75576,     0.75676,     0.75776,     0.75876,     0.75976,     0.76076,     0.76176,     0.76276,     0.76376,     0.76476,     0.76577,     0.76677,     0.76777,\n",
       "           0.76877,     0.76977,     0.77077,     0.77177,     0.77277,     0.77377,     0.77477,     0.77578,     0.77678,     0.77778,     0.77878,     0.77978,     0.78078,     0.78178,     0.78278,     0.78378,     0.78478,     0.78579,     0.78679,     0.78779,     0.78879,     0.78979,     0.79079,     0.79179,\n",
       "           0.79279,     0.79379,     0.79479,      0.7958,      0.7968,      0.7978,      0.7988,      0.7998,      0.8008,      0.8018,      0.8028,      0.8038,      0.8048,     0.80581,     0.80681,     0.80781,     0.80881,     0.80981,     0.81081,     0.81181,     0.81281,     0.81381,     0.81481,     0.81582,\n",
       "           0.81682,     0.81782,     0.81882,     0.81982,     0.82082,     0.82182,     0.82282,     0.82382,     0.82482,     0.82583,     0.82683,     0.82783,     0.82883,     0.82983,     0.83083,     0.83183,     0.83283,     0.83383,     0.83483,     0.83584,     0.83684,     0.83784,     0.83884,     0.83984,\n",
       "           0.84084,     0.84184,     0.84284,     0.84384,     0.84484,     0.84585,     0.84685,     0.84785,     0.84885,     0.84985,     0.85085,     0.85185,     0.85285,     0.85385,     0.85485,     0.85586,     0.85686,     0.85786,     0.85886,     0.85986,     0.86086,     0.86186,     0.86286,     0.86386,\n",
       "           0.86486,     0.86587,     0.86687,     0.86787,     0.86887,     0.86987,     0.87087,     0.87187,     0.87287,     0.87387,     0.87487,     0.87588,     0.87688,     0.87788,     0.87888,     0.87988,     0.88088,     0.88188,     0.88288,     0.88388,     0.88488,     0.88589,     0.88689,     0.88789,\n",
       "           0.88889,     0.88989,     0.89089,     0.89189,     0.89289,     0.89389,     0.89489,      0.8959,      0.8969,      0.8979,      0.8989,      0.8999,      0.9009,      0.9019,      0.9029,      0.9039,      0.9049,     0.90591,     0.90691,     0.90791,     0.90891,     0.90991,     0.91091,     0.91191,\n",
       "           0.91291,     0.91391,     0.91491,     0.91592,     0.91692,     0.91792,     0.91892,     0.91992,     0.92092,     0.92192,     0.92292,     0.92392,     0.92492,     0.92593,     0.92693,     0.92793,     0.92893,     0.92993,     0.93093,     0.93193,     0.93293,     0.93393,     0.93493,     0.93594,\n",
       "           0.93694,     0.93794,     0.93894,     0.93994,     0.94094,     0.94194,     0.94294,     0.94394,     0.94494,     0.94595,     0.94695,     0.94795,     0.94895,     0.94995,     0.95095,     0.95195,     0.95295,     0.95395,     0.95495,     0.95596,     0.95696,     0.95796,     0.95896,     0.95996,\n",
       "           0.96096,     0.96196,     0.96296,     0.96396,     0.96496,     0.96597,     0.96697,     0.96797,     0.96897,     0.96997,     0.97097,     0.97197,     0.97297,     0.97397,     0.97497,     0.97598,     0.97698,     0.97798,     0.97898,     0.97998,     0.98098,     0.98198,     0.98298,     0.98398,\n",
       "           0.98498,     0.98599,     0.98699,     0.98799,     0.98899,     0.98999,     0.99099,     0.99199,     0.99299,     0.99399,     0.99499,       0.996,       0.997,       0.998,       0.999,           1]), array([[    0.29698,     0.29725,     0.40248,     0.46481,     0.51739,      0.5575,     0.59523,      0.6282,     0.65269,     0.67552,      0.6995,     0.71613,     0.71924,     0.72684,     0.73984,     0.74812,      0.7526,     0.75753,        0.76,     0.76601,     0.77034,     0.77756,     0.77981,\n",
       "            0.78351,     0.78895,     0.79301,     0.79776,     0.79955,     0.80056,     0.80383,     0.80694,     0.81113,     0.81439,     0.81593,     0.81717,     0.82012,     0.82302,     0.82454,     0.82607,     0.82744,     0.82574,     0.82714,     0.83057,      0.8354,       0.837,     0.83815,\n",
       "            0.84105,     0.84217,     0.84433,     0.84491,     0.84529,     0.84568,     0.84607,     0.84646,     0.84746,     0.84856,     0.84976,     0.85082,     0.85167,     0.85252,     0.85343,     0.85434,     0.85718,      0.8583,     0.86155,      0.8627,     0.86346,     0.86423,     0.86481,\n",
       "            0.86522,     0.86563,     0.86603,     0.86644,     0.86782,     0.86613,      0.8671,     0.86807,     0.86858,     0.86907,     0.86956,     0.87004,     0.87082,     0.87173,     0.87443,     0.87484,     0.87524,     0.87565,     0.87606,     0.87647,     0.87718,     0.87792,     0.87866,\n",
       "            0.87948,     0.88029,     0.88115,     0.88208,       0.883,     0.88389,     0.88478,     0.88529,     0.88561,     0.88594,     0.88626,     0.88658,      0.8869,     0.88722,     0.88661,     0.88587,     0.88514,     0.88465,     0.88547,     0.88628,     0.88947,     0.89139,     0.89182,\n",
       "            0.89225,     0.89268,     0.89311,     0.89203,     0.89061,     0.89078,     0.89095,     0.89113,      0.8913,     0.89148,     0.89165,     0.89182,       0.892,     0.89217,     0.89234,     0.89252,     0.89269,     0.89291,     0.89318,     0.89345,     0.89372,     0.89399,     0.89426,\n",
       "            0.89453,      0.8948,     0.89524,     0.89621,     0.89718,     0.89943,     0.89927,     0.89911,     0.89895,      0.8988,     0.89864,     0.89848,     0.89832,     0.89817,     0.89801,     0.89785,     0.89769,     0.89753,     0.89738,     0.89722,     0.89706,      0.8969,     0.89674,\n",
       "            0.89916,     0.89958,     0.90001,     0.90043,     0.90085,     0.90129,     0.90214,       0.903,     0.90366,     0.90398,     0.90429,     0.90461,     0.90492,     0.90523,     0.90555,     0.90582,     0.90455,     0.90327,     0.90292,     0.90275,     0.90258,     0.90241,     0.90224,\n",
       "            0.90208,     0.90191,     0.90174,     0.90157,      0.9014,     0.90123,     0.90106,     0.90089,     0.90072,     0.90055,     0.90038,     0.90041,     0.90102,     0.90163,     0.90224,     0.90502,      0.9053,     0.90559,     0.90588,     0.90616,     0.90645,     0.90673,     0.90702,\n",
       "            0.90757,     0.90878,     0.90961,     0.90976,     0.90991,     0.91006,     0.91021,     0.91036,     0.91051,     0.91065,      0.9108,     0.91095,      0.9111,     0.91125,      0.9114,     0.91155,     0.91169,     0.91184,     0.91201,     0.91219,     0.91237,     0.91255,     0.91273,\n",
       "            0.91291,     0.91309,     0.91327,     0.91345,     0.91363,     0.91381,     0.91398,     0.91416,     0.91424,      0.9141,     0.91396,     0.91383,     0.91369,     0.91355,     0.91341,     0.91327,     0.91313,     0.91299,     0.91285,     0.91272,     0.91258,     0.91244,      0.9123,\n",
       "            0.91216,     0.91202,     0.91188,     0.91174,      0.9116,     0.91146,      0.9115,     0.91154,     0.91157,     0.91161,     0.91165,     0.91169,     0.91173,     0.91177,     0.91181,     0.91185,     0.91189,     0.91193,     0.91197,     0.91201,     0.91205,     0.91208,     0.91212,\n",
       "            0.91216,      0.9122,     0.91224,     0.91228,     0.91232,     0.91236,      0.9124,     0.91244,     0.91248,     0.91252,     0.91256,     0.91259,     0.91263,     0.91267,     0.91271,     0.91275,     0.91279,     0.91283,     0.91287,     0.91291,     0.91295,     0.91299,     0.91303,\n",
       "            0.91306,      0.9131,     0.91314,     0.91318,     0.91322,     0.91326,      0.9133,     0.91334,     0.91338,     0.91342,     0.91346,      0.9135,     0.91353,     0.91357,     0.91361,     0.91365,     0.91369,     0.91373,     0.91377,     0.91381,     0.91404,     0.91493,     0.91583,\n",
       "            0.91636,     0.91659,     0.91683,     0.91706,      0.9173,     0.91753,     0.91777,       0.918,     0.91824,     0.91847,     0.91858,     0.91839,      0.9182,       0.918,     0.91781,     0.91762,     0.91743,     0.91724,     0.91705,     0.91686,     0.91667,     0.91647,     0.91628,\n",
       "            0.91609,      0.9159,     0.91583,     0.91593,     0.91602,     0.91612,     0.91622,     0.91631,     0.91641,      0.9165,      0.9166,      0.9167,     0.91679,     0.91689,     0.91699,     0.91708,     0.91718,     0.91727,     0.91737,     0.91747,     0.91756,     0.91766,     0.91775,\n",
       "            0.91785,     0.91795,     0.91804,     0.91814,     0.91829,     0.91856,     0.91883,      0.9191,     0.91937,     0.91963,      0.9199,     0.92017,     0.92044,     0.92081,     0.92144,     0.92206,     0.92269,     0.92278,       0.922,     0.92122,     0.92043,     0.92049,     0.92088,\n",
       "            0.92127,     0.92165,     0.92204,     0.92243,     0.92245,     0.92186,     0.92127,     0.92067,     0.92008,     0.91925,     0.91817,     0.91709,     0.91446,     0.91387,     0.91374,     0.91361,     0.91348,     0.91336,     0.91323,      0.9131,     0.91297,     0.91284,     0.91271,\n",
       "            0.91258,     0.91245,     0.91232,     0.91219,     0.91207,     0.91194,     0.91181,     0.91168,     0.91155,     0.91142,     0.91129,     0.91116,     0.91108,     0.91128,     0.91148,     0.91168,     0.91188,     0.91207,     0.91227,     0.91247,     0.91267,     0.91287,     0.91306,\n",
       "            0.91326,     0.91346,      0.9133,       0.913,     0.91269,     0.91239,     0.91209,     0.91179,     0.91149,     0.91119,     0.91088,     0.91058,     0.91065,     0.91074,     0.91082,     0.91091,     0.91099,     0.91108,     0.91116,     0.91125,     0.91133,     0.91142,     0.91151,\n",
       "            0.91159,     0.91168,     0.91176,     0.91185,     0.91193,     0.91202,      0.9121,     0.91219,     0.91227,     0.91236,     0.91244,     0.91253,     0.91261,      0.9127,     0.91278,     0.91287,     0.91295,     0.91304,     0.91284,     0.91262,     0.91241,     0.91219,     0.91197,\n",
       "            0.91176,     0.91154,     0.91132,     0.91111,     0.91089,     0.91067,     0.91046,     0.91024,     0.91032,     0.91117,     0.91202,     0.91251,     0.91234,     0.91217,       0.912,     0.91183,     0.91166,     0.91149,     0.91132,     0.91115,     0.91098,     0.91081,     0.91064,\n",
       "            0.91047,      0.9103,     0.91013,     0.90996,     0.90979,     0.90962,     0.90951,     0.90941,     0.90931,     0.90921,     0.90912,     0.90902,     0.90892,     0.90882,     0.90872,     0.90862,     0.90852,     0.90842,     0.90832,     0.90822,     0.90813,     0.90803,     0.90793,\n",
       "            0.90783,     0.90773,     0.90763,     0.90753,     0.90743,     0.90733,     0.90723,     0.90713,     0.90704,     0.90694,     0.90684,     0.90674,     0.90664,     0.90617,      0.9054,     0.90463,     0.90385,     0.90157,     0.90044,     0.90027,      0.9001,     0.89993,     0.89977,\n",
       "             0.8996,     0.89943,     0.89926,     0.89909,     0.89892,     0.89875,     0.89858,     0.89842,     0.89825,     0.89808,     0.89791,     0.89774,     0.89757,     0.89737,     0.89714,     0.89692,      0.8967,     0.89647,     0.89625,     0.89602,      0.8958,     0.89558,     0.89535,\n",
       "            0.89513,      0.8949,     0.89468,     0.89445,      0.8946,     0.89477,     0.89493,      0.8951,     0.89526,     0.89543,     0.89559,     0.89576,     0.89592,     0.89609,     0.89625,     0.89642,     0.89658,     0.89675,     0.89691,     0.89662,     0.89625,     0.89588,     0.89551,\n",
       "            0.89514,     0.89477,     0.89439,     0.89402,     0.89298,     0.89139,     0.89064,     0.89044,     0.89024,     0.89004,     0.88984,     0.88964,     0.88944,     0.88924,     0.88904,     0.88884,     0.88864,     0.88844,     0.88824,     0.88804,     0.88784,     0.88764,     0.88736,\n",
       "            0.88709,     0.88681,     0.88653,     0.88625,     0.88597,     0.88569,     0.88541,     0.88513,     0.88485,     0.88457,     0.88395,     0.88324,     0.88252,      0.8818,     0.88086,     0.87956,     0.87826,     0.87803,     0.87786,      0.8777,     0.87753,     0.87736,     0.87719,\n",
       "            0.87703,     0.87686,     0.87669,     0.87652,     0.87636,     0.87619,     0.87602,     0.87585,     0.87569,     0.87552,     0.87535,     0.87518,     0.87501,     0.87299,     0.87029,     0.86849,     0.86831,     0.86813,     0.86795,     0.86777,     0.86759,     0.86741,     0.86723,\n",
       "            0.86705,     0.86687,     0.86669,     0.86651,     0.86633,     0.86615,     0.86597,     0.86579,     0.86561,     0.86543,     0.86507,     0.86446,     0.86385,     0.86325,     0.86264,     0.86203,     0.86135,     0.86068,     0.86001,     0.85934,     0.85877,     0.85865,     0.85853,\n",
       "            0.85841,     0.85829,     0.85816,     0.85804,     0.85792,      0.8578,     0.85768,     0.85756,     0.85744,     0.85732,      0.8572,     0.85708,     0.85696,     0.85684,     0.85672,      0.8566,     0.85647,     0.85635,     0.85623,     0.85611,     0.85599,     0.85587,     0.85575,\n",
       "            0.85563,     0.85551,     0.85352,      0.8523,     0.85262,     0.85294,     0.85326,     0.85358,     0.85389,     0.85421,     0.85453,     0.85085,     0.85009,     0.84932,     0.84856,     0.84759,     0.84586,     0.84132,     0.84189,     0.84246,     0.84302,     0.84359,     0.84162,\n",
       "            0.84006,     0.83962,     0.83918,     0.83874,      0.8383,     0.83785,     0.83741,     0.83697,     0.83662,     0.83632,     0.83603,     0.83573,     0.83544,     0.83514,     0.83485,     0.83455,     0.83425,     0.83396,     0.83366,     0.83336,     0.83288,     0.83237,     0.83186,\n",
       "            0.83135,     0.83084,     0.83033,      0.8298,       0.829,      0.8282,     0.82741,     0.82661,       0.826,     0.82548,     0.82497,     0.82445,     0.82394,     0.82342,      0.8229,     0.82205,     0.82115,     0.82024,     0.81933,     0.81851,      0.8177,     0.81689,     0.81607,\n",
       "             0.8152,     0.81428,     0.81336,     0.81244,     0.81116,     0.80968,     0.80837,     0.80769,     0.80701,     0.80634,     0.80566,     0.80498,     0.80439,     0.80381,     0.80324,     0.80266,     0.80209,     0.80151,     0.79931,     0.79714,     0.79639,     0.79563,     0.79487,\n",
       "            0.79411,     0.79366,     0.79338,      0.7931,     0.79282,     0.79253,     0.79225,     0.79197,     0.79169,      0.7914,     0.79112,     0.79084,     0.79055,     0.79027,     0.78827,     0.78182,     0.78027,     0.77492,      0.7738,     0.77268,     0.77155,     0.77042,     0.76929,\n",
       "            0.76816,     0.76634,     0.75907,     0.75746,     0.75584,     0.75495,     0.75421,     0.75347,     0.75273,     0.75199,     0.75066,     0.74861,     0.74149,     0.73881,     0.73742,     0.73603,     0.73295,     0.72962,     0.72692,      0.7248,     0.70959,     0.70574,     0.70355,\n",
       "            0.70071,     0.69628,     0.68846,     0.68696,     0.68545,     0.68363,     0.68136,     0.67981,     0.67911,     0.67841,     0.67771,       0.677,      0.6763,      0.6754,     0.67311,     0.66133,     0.65735,     0.65641,     0.65547,     0.65452,     0.65357,     0.65242,     0.65084,\n",
       "            0.64925,     0.64704,     0.64384,     0.63914,     0.63428,      0.6236,     0.62162,     0.61461,     0.60957,     0.60402,     0.59875,      0.5967,     0.57955,     0.57859,     0.57763,     0.57667,      0.5757,     0.57474,     0.57027,     0.56787,     0.56608,     0.56428,     0.55733,\n",
       "            0.55369,      0.5483,      0.5325,     0.52248,     0.50833,     0.49958,     0.49392,     0.49094,     0.48664,     0.46857,     0.46548,     0.46019,     0.45393,     0.44921,     0.43627,     0.42683,     0.42497,     0.42311,     0.42124,     0.40541,     0.39575,     0.38861,     0.36823,\n",
       "            0.36129,     0.35894,     0.35657,     0.35307,     0.33601,      0.3287,     0.32295,     0.31024,      0.3027,      0.2951,     0.28845,     0.28459,     0.27949,       0.269,     0.25699,      0.2547,     0.25241,     0.24147,     0.23739,      0.2192,      0.2168,     0.21441,     0.21201,\n",
       "             0.1911,     0.18396,     0.14905,     0.12794,     0.11169,     0.10542,    0.099114,    0.083389,    0.075986,    0.066207,    0.052943,    0.038973,    0.035598,    0.032211,    0.029707,    0.028346,    0.026983,    0.025618,    0.024251,    0.022882,    0.021511,    0.019056,           0,\n",
       "                  0,           0,           0,           0,           0,           0,           0,           0,           0,           0,           0,           0,           0,           0,           0,           0,           0,           0,           0,           0,           0,           0,           0,\n",
       "                  0,           0,           0,           0,           0,           0,           0,           0,           0,           0,           0]]), 'Confidence', 'F1'], [array([          0,    0.001001,    0.002002,    0.003003,    0.004004,    0.005005,    0.006006,    0.007007,    0.008008,    0.009009,     0.01001,    0.011011,    0.012012,    0.013013,    0.014014,    0.015015,    0.016016,    0.017017,    0.018018,    0.019019,     0.02002,    0.021021,    0.022022,    0.023023,\n",
       "          0.024024,    0.025025,    0.026026,    0.027027,    0.028028,    0.029029,     0.03003,    0.031031,    0.032032,    0.033033,    0.034034,    0.035035,    0.036036,    0.037037,    0.038038,    0.039039,     0.04004,    0.041041,    0.042042,    0.043043,    0.044044,    0.045045,    0.046046,    0.047047,\n",
       "          0.048048,    0.049049,     0.05005,    0.051051,    0.052052,    0.053053,    0.054054,    0.055055,    0.056056,    0.057057,    0.058058,    0.059059,     0.06006,    0.061061,    0.062062,    0.063063,    0.064064,    0.065065,    0.066066,    0.067067,    0.068068,    0.069069,     0.07007,    0.071071,\n",
       "          0.072072,    0.073073,    0.074074,    0.075075,    0.076076,    0.077077,    0.078078,    0.079079,     0.08008,    0.081081,    0.082082,    0.083083,    0.084084,    0.085085,    0.086086,    0.087087,    0.088088,    0.089089,     0.09009,    0.091091,    0.092092,    0.093093,    0.094094,    0.095095,\n",
       "          0.096096,    0.097097,    0.098098,    0.099099,      0.1001,      0.1011,      0.1021,      0.1031,      0.1041,     0.10511,     0.10611,     0.10711,     0.10811,     0.10911,     0.11011,     0.11111,     0.11211,     0.11311,     0.11411,     0.11512,     0.11612,     0.11712,     0.11812,     0.11912,\n",
       "           0.12012,     0.12112,     0.12212,     0.12312,     0.12412,     0.12513,     0.12613,     0.12713,     0.12813,     0.12913,     0.13013,     0.13113,     0.13213,     0.13313,     0.13413,     0.13514,     0.13614,     0.13714,     0.13814,     0.13914,     0.14014,     0.14114,     0.14214,     0.14314,\n",
       "           0.14414,     0.14515,     0.14615,     0.14715,     0.14815,     0.14915,     0.15015,     0.15115,     0.15215,     0.15315,     0.15415,     0.15516,     0.15616,     0.15716,     0.15816,     0.15916,     0.16016,     0.16116,     0.16216,     0.16316,     0.16416,     0.16517,     0.16617,     0.16717,\n",
       "           0.16817,     0.16917,     0.17017,     0.17117,     0.17217,     0.17317,     0.17417,     0.17518,     0.17618,     0.17718,     0.17818,     0.17918,     0.18018,     0.18118,     0.18218,     0.18318,     0.18418,     0.18519,     0.18619,     0.18719,     0.18819,     0.18919,     0.19019,     0.19119,\n",
       "           0.19219,     0.19319,     0.19419,      0.1952,      0.1962,      0.1972,      0.1982,      0.1992,      0.2002,      0.2012,      0.2022,      0.2032,      0.2042,     0.20521,     0.20621,     0.20721,     0.20821,     0.20921,     0.21021,     0.21121,     0.21221,     0.21321,     0.21421,     0.21522,\n",
       "           0.21622,     0.21722,     0.21822,     0.21922,     0.22022,     0.22122,     0.22222,     0.22322,     0.22422,     0.22523,     0.22623,     0.22723,     0.22823,     0.22923,     0.23023,     0.23123,     0.23223,     0.23323,     0.23423,     0.23524,     0.23624,     0.23724,     0.23824,     0.23924,\n",
       "           0.24024,     0.24124,     0.24224,     0.24324,     0.24424,     0.24525,     0.24625,     0.24725,     0.24825,     0.24925,     0.25025,     0.25125,     0.25225,     0.25325,     0.25425,     0.25526,     0.25626,     0.25726,     0.25826,     0.25926,     0.26026,     0.26126,     0.26226,     0.26326,\n",
       "           0.26426,     0.26527,     0.26627,     0.26727,     0.26827,     0.26927,     0.27027,     0.27127,     0.27227,     0.27327,     0.27427,     0.27528,     0.27628,     0.27728,     0.27828,     0.27928,     0.28028,     0.28128,     0.28228,     0.28328,     0.28428,     0.28529,     0.28629,     0.28729,\n",
       "           0.28829,     0.28929,     0.29029,     0.29129,     0.29229,     0.29329,     0.29429,      0.2953,      0.2963,      0.2973,      0.2983,      0.2993,      0.3003,      0.3013,      0.3023,      0.3033,      0.3043,     0.30531,     0.30631,     0.30731,     0.30831,     0.30931,     0.31031,     0.31131,\n",
       "           0.31231,     0.31331,     0.31431,     0.31532,     0.31632,     0.31732,     0.31832,     0.31932,     0.32032,     0.32132,     0.32232,     0.32332,     0.32432,     0.32533,     0.32633,     0.32733,     0.32833,     0.32933,     0.33033,     0.33133,     0.33233,     0.33333,     0.33433,     0.33534,\n",
       "           0.33634,     0.33734,     0.33834,     0.33934,     0.34034,     0.34134,     0.34234,     0.34334,     0.34434,     0.34535,     0.34635,     0.34735,     0.34835,     0.34935,     0.35035,     0.35135,     0.35235,     0.35335,     0.35435,     0.35536,     0.35636,     0.35736,     0.35836,     0.35936,\n",
       "           0.36036,     0.36136,     0.36236,     0.36336,     0.36436,     0.36537,     0.36637,     0.36737,     0.36837,     0.36937,     0.37037,     0.37137,     0.37237,     0.37337,     0.37437,     0.37538,     0.37638,     0.37738,     0.37838,     0.37938,     0.38038,     0.38138,     0.38238,     0.38338,\n",
       "           0.38438,     0.38539,     0.38639,     0.38739,     0.38839,     0.38939,     0.39039,     0.39139,     0.39239,     0.39339,     0.39439,      0.3954,      0.3964,      0.3974,      0.3984,      0.3994,      0.4004,      0.4014,      0.4024,      0.4034,      0.4044,     0.40541,     0.40641,     0.40741,\n",
       "           0.40841,     0.40941,     0.41041,     0.41141,     0.41241,     0.41341,     0.41441,     0.41542,     0.41642,     0.41742,     0.41842,     0.41942,     0.42042,     0.42142,     0.42242,     0.42342,     0.42442,     0.42543,     0.42643,     0.42743,     0.42843,     0.42943,     0.43043,     0.43143,\n",
       "           0.43243,     0.43343,     0.43443,     0.43544,     0.43644,     0.43744,     0.43844,     0.43944,     0.44044,     0.44144,     0.44244,     0.44344,     0.44444,     0.44545,     0.44645,     0.44745,     0.44845,     0.44945,     0.45045,     0.45145,     0.45245,     0.45345,     0.45445,     0.45546,\n",
       "           0.45646,     0.45746,     0.45846,     0.45946,     0.46046,     0.46146,     0.46246,     0.46346,     0.46446,     0.46547,     0.46647,     0.46747,     0.46847,     0.46947,     0.47047,     0.47147,     0.47247,     0.47347,     0.47447,     0.47548,     0.47648,     0.47748,     0.47848,     0.47948,\n",
       "           0.48048,     0.48148,     0.48248,     0.48348,     0.48448,     0.48549,     0.48649,     0.48749,     0.48849,     0.48949,     0.49049,     0.49149,     0.49249,     0.49349,     0.49449,      0.4955,      0.4965,      0.4975,      0.4985,      0.4995,      0.5005,      0.5015,      0.5025,      0.5035,\n",
       "            0.5045,     0.50551,     0.50651,     0.50751,     0.50851,     0.50951,     0.51051,     0.51151,     0.51251,     0.51351,     0.51451,     0.51552,     0.51652,     0.51752,     0.51852,     0.51952,     0.52052,     0.52152,     0.52252,     0.52352,     0.52452,     0.52553,     0.52653,     0.52753,\n",
       "           0.52853,     0.52953,     0.53053,     0.53153,     0.53253,     0.53353,     0.53453,     0.53554,     0.53654,     0.53754,     0.53854,     0.53954,     0.54054,     0.54154,     0.54254,     0.54354,     0.54454,     0.54555,     0.54655,     0.54755,     0.54855,     0.54955,     0.55055,     0.55155,\n",
       "           0.55255,     0.55355,     0.55455,     0.55556,     0.55656,     0.55756,     0.55856,     0.55956,     0.56056,     0.56156,     0.56256,     0.56356,     0.56456,     0.56557,     0.56657,     0.56757,     0.56857,     0.56957,     0.57057,     0.57157,     0.57257,     0.57357,     0.57457,     0.57558,\n",
       "           0.57658,     0.57758,     0.57858,     0.57958,     0.58058,     0.58158,     0.58258,     0.58358,     0.58458,     0.58559,     0.58659,     0.58759,     0.58859,     0.58959,     0.59059,     0.59159,     0.59259,     0.59359,     0.59459,      0.5956,      0.5966,      0.5976,      0.5986,      0.5996,\n",
       "            0.6006,      0.6016,      0.6026,      0.6036,      0.6046,     0.60561,     0.60661,     0.60761,     0.60861,     0.60961,     0.61061,     0.61161,     0.61261,     0.61361,     0.61461,     0.61562,     0.61662,     0.61762,     0.61862,     0.61962,     0.62062,     0.62162,     0.62262,     0.62362,\n",
       "           0.62462,     0.62563,     0.62663,     0.62763,     0.62863,     0.62963,     0.63063,     0.63163,     0.63263,     0.63363,     0.63463,     0.63564,     0.63664,     0.63764,     0.63864,     0.63964,     0.64064,     0.64164,     0.64264,     0.64364,     0.64464,     0.64565,     0.64665,     0.64765,\n",
       "           0.64865,     0.64965,     0.65065,     0.65165,     0.65265,     0.65365,     0.65465,     0.65566,     0.65666,     0.65766,     0.65866,     0.65966,     0.66066,     0.66166,     0.66266,     0.66366,     0.66466,     0.66567,     0.66667,     0.66767,     0.66867,     0.66967,     0.67067,     0.67167,\n",
       "           0.67267,     0.67367,     0.67467,     0.67568,     0.67668,     0.67768,     0.67868,     0.67968,     0.68068,     0.68168,     0.68268,     0.68368,     0.68468,     0.68569,     0.68669,     0.68769,     0.68869,     0.68969,     0.69069,     0.69169,     0.69269,     0.69369,     0.69469,      0.6957,\n",
       "            0.6967,      0.6977,      0.6987,      0.6997,      0.7007,      0.7017,      0.7027,      0.7037,      0.7047,     0.70571,     0.70671,     0.70771,     0.70871,     0.70971,     0.71071,     0.71171,     0.71271,     0.71371,     0.71471,     0.71572,     0.71672,     0.71772,     0.71872,     0.71972,\n",
       "           0.72072,     0.72172,     0.72272,     0.72372,     0.72472,     0.72573,     0.72673,     0.72773,     0.72873,     0.72973,     0.73073,     0.73173,     0.73273,     0.73373,     0.73473,     0.73574,     0.73674,     0.73774,     0.73874,     0.73974,     0.74074,     0.74174,     0.74274,     0.74374,\n",
       "           0.74474,     0.74575,     0.74675,     0.74775,     0.74875,     0.74975,     0.75075,     0.75175,     0.75275,     0.75375,     0.75475,     0.75576,     0.75676,     0.75776,     0.75876,     0.75976,     0.76076,     0.76176,     0.76276,     0.76376,     0.76476,     0.76577,     0.76677,     0.76777,\n",
       "           0.76877,     0.76977,     0.77077,     0.77177,     0.77277,     0.77377,     0.77477,     0.77578,     0.77678,     0.77778,     0.77878,     0.77978,     0.78078,     0.78178,     0.78278,     0.78378,     0.78478,     0.78579,     0.78679,     0.78779,     0.78879,     0.78979,     0.79079,     0.79179,\n",
       "           0.79279,     0.79379,     0.79479,      0.7958,      0.7968,      0.7978,      0.7988,      0.7998,      0.8008,      0.8018,      0.8028,      0.8038,      0.8048,     0.80581,     0.80681,     0.80781,     0.80881,     0.80981,     0.81081,     0.81181,     0.81281,     0.81381,     0.81481,     0.81582,\n",
       "           0.81682,     0.81782,     0.81882,     0.81982,     0.82082,     0.82182,     0.82282,     0.82382,     0.82482,     0.82583,     0.82683,     0.82783,     0.82883,     0.82983,     0.83083,     0.83183,     0.83283,     0.83383,     0.83483,     0.83584,     0.83684,     0.83784,     0.83884,     0.83984,\n",
       "           0.84084,     0.84184,     0.84284,     0.84384,     0.84484,     0.84585,     0.84685,     0.84785,     0.84885,     0.84985,     0.85085,     0.85185,     0.85285,     0.85385,     0.85485,     0.85586,     0.85686,     0.85786,     0.85886,     0.85986,     0.86086,     0.86186,     0.86286,     0.86386,\n",
       "           0.86486,     0.86587,     0.86687,     0.86787,     0.86887,     0.86987,     0.87087,     0.87187,     0.87287,     0.87387,     0.87487,     0.87588,     0.87688,     0.87788,     0.87888,     0.87988,     0.88088,     0.88188,     0.88288,     0.88388,     0.88488,     0.88589,     0.88689,     0.88789,\n",
       "           0.88889,     0.88989,     0.89089,     0.89189,     0.89289,     0.89389,     0.89489,      0.8959,      0.8969,      0.8979,      0.8989,      0.8999,      0.9009,      0.9019,      0.9029,      0.9039,      0.9049,     0.90591,     0.90691,     0.90791,     0.90891,     0.90991,     0.91091,     0.91191,\n",
       "           0.91291,     0.91391,     0.91491,     0.91592,     0.91692,     0.91792,     0.91892,     0.91992,     0.92092,     0.92192,     0.92292,     0.92392,     0.92492,     0.92593,     0.92693,     0.92793,     0.92893,     0.92993,     0.93093,     0.93193,     0.93293,     0.93393,     0.93493,     0.93594,\n",
       "           0.93694,     0.93794,     0.93894,     0.93994,     0.94094,     0.94194,     0.94294,     0.94394,     0.94494,     0.94595,     0.94695,     0.94795,     0.94895,     0.94995,     0.95095,     0.95195,     0.95295,     0.95395,     0.95495,     0.95596,     0.95696,     0.95796,     0.95896,     0.95996,\n",
       "           0.96096,     0.96196,     0.96296,     0.96396,     0.96496,     0.96597,     0.96697,     0.96797,     0.96897,     0.96997,     0.97097,     0.97197,     0.97297,     0.97397,     0.97497,     0.97598,     0.97698,     0.97798,     0.97898,     0.97998,     0.98098,     0.98198,     0.98298,     0.98398,\n",
       "           0.98498,     0.98599,     0.98699,     0.98799,     0.98899,     0.98999,     0.99099,     0.99199,     0.99299,     0.99399,     0.99499,       0.996,       0.997,       0.998,       0.999,           1]), array([[    0.17486,     0.17505,     0.25293,      0.3052,     0.35288,     0.39385,     0.43259,     0.46832,     0.49607,     0.52293,     0.55225,     0.57326,     0.57916,     0.58907,     0.60634,     0.61755,     0.62587,     0.63275,     0.63622,     0.64468,     0.65085,     0.66122,     0.66448,\n",
       "            0.66986,     0.68053,     0.68659,     0.69375,     0.69646,       0.698,     0.70298,     0.70775,     0.71422,     0.71929,     0.72169,     0.72365,     0.72828,     0.73287,     0.73528,     0.73771,     0.73991,     0.74039,     0.74264,     0.74819,     0.75607,     0.75869,     0.76059,\n",
       "            0.76538,     0.76723,     0.77082,     0.77178,     0.77243,     0.77308,     0.77373,     0.77438,     0.77605,      0.7779,     0.77993,     0.78171,     0.78315,     0.78459,     0.78614,     0.78768,     0.79251,     0.79443,     0.80002,     0.80201,     0.80333,     0.80465,     0.80566,\n",
       "            0.80637,     0.80708,     0.80779,     0.80849,      0.8109,     0.81183,     0.81354,     0.81526,     0.81615,     0.81701,     0.81788,     0.81874,     0.82012,     0.82173,     0.82654,     0.82727,       0.828,     0.82873,     0.82947,      0.8302,     0.83147,      0.8328,     0.83414,\n",
       "            0.83561,     0.83709,     0.83864,     0.84033,       0.842,     0.84361,     0.84523,     0.84618,     0.84676,     0.84735,     0.84794,     0.84852,     0.84911,      0.8497,      0.8496,     0.84941,     0.84922,      0.8493,      0.8508,      0.8523,     0.85822,      0.8618,     0.86261,\n",
       "            0.86342,     0.86422,     0.86503,     0.86508,     0.86485,     0.86518,      0.8655,     0.86583,     0.86616,     0.86649,     0.86681,     0.86714,     0.86747,      0.8678,     0.86813,     0.86845,     0.86878,     0.86921,     0.86972,     0.87023,     0.87074,     0.87125,     0.87176,\n",
       "            0.87227,     0.87279,     0.87363,     0.87547,     0.87732,     0.88176,     0.88173,     0.88169,     0.88166,     0.88163,     0.88159,     0.88156,     0.88153,     0.88149,     0.88146,     0.88143,     0.88139,     0.88136,     0.88133,     0.88129,     0.88126,     0.88123,     0.88119,\n",
       "             0.8859,     0.88672,     0.88755,     0.88837,      0.8892,     0.89005,     0.89171,     0.89338,     0.89469,      0.8953,     0.89592,     0.89654,     0.89716,     0.89777,     0.89839,     0.89898,     0.89875,     0.89852,     0.89845,     0.89842,     0.89839,     0.89836,     0.89833,\n",
       "            0.89829,     0.89826,     0.89823,      0.8982,     0.89817,     0.89814,     0.89811,     0.89808,     0.89805,     0.89801,     0.89798,     0.89826,     0.89948,      0.9007,     0.90192,     0.90749,     0.90806,     0.90864,     0.90921,     0.90979,     0.91036,     0.91094,     0.91151,\n",
       "            0.91264,     0.91508,     0.91677,     0.91707,     0.91738,     0.91768,     0.91798,     0.91829,     0.91859,     0.91889,     0.91919,      0.9195,      0.9198,      0.9201,      0.9204,     0.92071,     0.92101,     0.92131,     0.92165,     0.92202,     0.92238,     0.92275,     0.92312,\n",
       "            0.92349,     0.92386,     0.92423,     0.92459,     0.92496,     0.92533,      0.9257,     0.92607,     0.92631,     0.92629,     0.92627,     0.92625,     0.92623,     0.92621,     0.92619,     0.92618,     0.92616,     0.92614,     0.92612,      0.9261,     0.92608,     0.92606,     0.92604,\n",
       "            0.92602,       0.926,     0.92598,     0.92597,     0.92595,     0.92593,       0.926,     0.92608,     0.92617,     0.92625,     0.92633,     0.92641,     0.92649,     0.92657,     0.92665,     0.92673,     0.92681,      0.9269,     0.92698,     0.92706,     0.92714,     0.92722,      0.9273,\n",
       "            0.92738,     0.92746,     0.92754,     0.92763,     0.92771,     0.92779,     0.92787,     0.92795,     0.92803,     0.92811,     0.92819,     0.92827,     0.92836,     0.92844,     0.92852,      0.9286,     0.92868,     0.92876,     0.92884,     0.92892,       0.929,     0.92909,     0.92917,\n",
       "            0.92925,     0.92933,     0.92941,     0.92949,     0.92957,     0.92965,     0.92973,     0.92982,      0.9299,     0.92998,     0.93006,     0.93014,     0.93022,      0.9303,     0.93038,     0.93046,     0.93055,     0.93063,     0.93071,     0.93079,     0.93127,     0.93313,     0.93498,\n",
       "             0.9361,     0.93659,     0.93708,     0.93757,     0.93806,     0.93855,     0.93904,     0.93953,     0.94003,     0.94052,     0.94085,     0.94083,     0.94081,     0.94079,     0.94077,     0.94075,     0.94072,      0.9407,     0.94068,     0.94066,     0.94064,     0.94062,      0.9406,\n",
       "            0.94057,     0.94055,     0.94063,     0.94083,     0.94103,     0.94124,     0.94144,     0.94164,     0.94185,     0.94205,     0.94225,     0.94246,     0.94266,     0.94286,     0.94307,     0.94327,     0.94348,     0.94368,     0.94388,     0.94409,     0.94429,     0.94449,      0.9447,\n",
       "             0.9449,      0.9451,     0.94531,     0.94551,     0.94582,      0.9464,     0.94697,     0.94754,     0.94812,     0.94869,     0.94926,     0.94983,     0.95041,     0.95119,     0.95253,     0.95387,     0.95521,     0.95602,     0.95595,     0.95589,     0.95582,      0.9564,     0.95724,\n",
       "            0.95808,     0.95891,     0.95975,     0.96059,     0.96109,     0.96105,     0.96101,     0.96096,     0.96092,     0.96085,     0.96077,     0.96069,     0.96049,     0.96044,     0.96043,     0.96042,     0.96041,      0.9604,     0.96039,     0.96038,     0.96037,     0.96036,     0.96035,\n",
       "            0.96034,     0.96033,     0.96032,     0.96031,      0.9603,      0.9603,     0.96029,     0.96028,     0.96027,     0.96026,     0.96025,     0.96024,      0.9603,     0.96074,     0.96118,     0.96162,     0.96206,      0.9625,     0.96294,     0.96338,     0.96383,     0.96427,     0.96471,\n",
       "            0.96515,     0.96559,      0.9657,     0.96568,     0.96566,     0.96564,     0.96562,      0.9656,     0.96558,     0.96556,     0.96554,     0.96552,      0.9657,     0.96589,     0.96609,     0.96628,     0.96647,     0.96666,     0.96686,     0.96705,     0.96724,     0.96743,     0.96763,\n",
       "            0.96782,     0.96801,      0.9682,     0.96839,     0.96859,     0.96878,     0.96897,     0.96916,     0.96936,     0.96955,     0.96974,     0.96993,     0.97012,     0.97032,     0.97051,      0.9707,     0.97089,     0.97109,     0.97109,     0.97107,     0.97106,     0.97105,     0.97104,\n",
       "            0.97103,     0.97101,       0.971,     0.97099,     0.97098,     0.97096,     0.97095,     0.97094,     0.97147,     0.97341,     0.97535,     0.97661,      0.9766,     0.97659,     0.97658,     0.97657,     0.97657,     0.97656,     0.97655,     0.97654,     0.97653,     0.97653,     0.97652,\n",
       "            0.97651,      0.9765,      0.9765,     0.97649,     0.97648,     0.97647,     0.97647,     0.97646,     0.97646,     0.97645,     0.97645,     0.97644,     0.97644,     0.97643,     0.97643,     0.97643,     0.97642,     0.97642,     0.97641,     0.97641,      0.9764,      0.9764,     0.97639,\n",
       "            0.97639,     0.97638,     0.97638,     0.97637,     0.97637,     0.97637,     0.97636,     0.97636,     0.97635,     0.97635,     0.97634,     0.97634,     0.97633,     0.97631,     0.97628,     0.97624,      0.9762,      0.9761,     0.97604,     0.97603,     0.97603,     0.97602,     0.97601,\n",
       "              0.976,     0.97599,     0.97599,     0.97598,     0.97597,     0.97596,     0.97595,     0.97595,     0.97594,     0.97593,     0.97592,     0.97591,     0.97591,      0.9759,     0.97589,     0.97588,     0.97586,     0.97585,     0.97584,     0.97583,     0.97582,     0.97581,      0.9758,\n",
       "            0.97579,     0.97578,     0.97577,     0.97576,     0.97614,     0.97653,     0.97692,     0.97732,     0.97771,      0.9781,      0.9785,     0.97889,     0.97929,     0.97968,     0.98007,     0.98047,     0.98086,     0.98125,     0.98165,      0.9817,     0.98168,     0.98167,     0.98166,\n",
       "            0.98164,     0.98163,     0.98161,      0.9816,     0.98156,      0.9815,     0.98148,     0.98147,     0.98146,     0.98145,     0.98145,     0.98144,     0.98143,     0.98143,     0.98142,     0.98141,      0.9814,      0.9814,     0.98139,     0.98138,     0.98137,     0.98137,     0.98136,\n",
       "            0.98135,     0.98134,     0.98133,     0.98131,      0.9813,     0.98129,     0.98128,     0.98127,     0.98126,     0.98125,     0.98123,      0.9812,     0.98118,     0.98115,     0.98111,     0.98106,     0.98102,     0.98101,       0.981,     0.98099,     0.98099,     0.98098,     0.98097,\n",
       "            0.98097,     0.98096,     0.98096,     0.98095,     0.98094,     0.98094,     0.98093,     0.98092,     0.98092,     0.98091,      0.9809,      0.9809,     0.98089,     0.98081,     0.98071,     0.98064,     0.98063,     0.98063,     0.98062,     0.98061,     0.98061,      0.9806,     0.98059,\n",
       "            0.98059,     0.98058,     0.98057,     0.98057,     0.98056,     0.98055,     0.98054,     0.98054,     0.98053,     0.98052,     0.98051,     0.98049,     0.98046,     0.98044,     0.98041,     0.98039,     0.98036,     0.98034,     0.98031,     0.98028,     0.98026,     0.98026,     0.98025,\n",
       "            0.98025,     0.98024,     0.98024,     0.98023,     0.98023,     0.98022,     0.98022,     0.98021,     0.98021,      0.9802,      0.9802,      0.9802,     0.98019,     0.98019,     0.98018,     0.98018,     0.98017,     0.98017,     0.98016,     0.98016,     0.98015,     0.98015,     0.98014,\n",
       "            0.98014,     0.98013,     0.98005,     0.98034,     0.98119,     0.98203,     0.98287,     0.98371,     0.98456,      0.9854,     0.98624,     0.98647,     0.98645,     0.98643,     0.98641,     0.98638,     0.98634,     0.98662,     0.98818,     0.98974,      0.9913,     0.99286,     0.99303,\n",
       "              0.993,       0.993,     0.99299,     0.99299,     0.99298,     0.99297,     0.99297,     0.99296,     0.99296,     0.99295,     0.99295,     0.99294,     0.99294,     0.99293,     0.99293,     0.99293,     0.99292,     0.99292,     0.99291,     0.99291,      0.9929,     0.99289,     0.99289,\n",
       "            0.99288,     0.99287,     0.99286,     0.99286,     0.99284,     0.99283,     0.99282,     0.99281,      0.9928,     0.99279,     0.99279,     0.99278,     0.99277,     0.99276,     0.99275,     0.99274,     0.99273,     0.99272,      0.9927,     0.99269,     0.99268,     0.99266,     0.99265,\n",
       "            0.99264,     0.99263,     0.99261,      0.9926,     0.99258,     0.99256,     0.99254,     0.99252,     0.99251,      0.9925,     0.99249,     0.99248,     0.99247,     0.99246,     0.99246,     0.99245,     0.99244,     0.99243,     0.99239,     0.99236,     0.99235,     0.99234,     0.99232,\n",
       "            0.99231,      0.9923,      0.9923,      0.9923,     0.99229,     0.99229,     0.99228,     0.99228,     0.99227,     0.99227,     0.99226,     0.99226,     0.99225,     0.99225,     0.99222,     0.99211,     0.99209,       0.992,     0.99198,     0.99196,     0.99194,     0.99192,      0.9919,\n",
       "            0.99188,     0.99185,     0.99173,      0.9917,     0.99167,     0.99166,     0.99164,     0.99163,     0.99162,      0.9916,     0.99158,     0.99154,     0.99141,     0.99137,     0.99134,     0.99131,     0.99126,     0.99119,     0.99114,      0.9911,     0.99081,     0.99073,     0.99069,\n",
       "            0.99063,     0.99054,     0.99037,     0.99034,     0.99031,     0.99027,     0.99022,     0.99019,     0.99017,     0.99016,     0.99014,     0.99013,     0.99011,     0.99009,     0.99004,     0.98978,     0.98969,     0.98966,     0.98964,     0.98962,      0.9896,     0.98957,     0.98953,\n",
       "             0.9895,     0.98944,     0.98937,     0.98925,     0.98913,     0.98886,     0.98881,     0.98863,      0.9885,     0.98835,      0.9882,     0.98814,     0.98765,     0.98762,     0.98759,     0.98756,     0.98753,     0.98751,     0.98737,      0.9873,     0.98724,     0.98719,     0.98696,\n",
       "            0.98685,     0.98667,     0.99072,           1,           1,           1,           1,           1,           1,           1,           1,           1,           1,           1,           1,           1,           1,           1,           1,           1,           1,           1,           1,\n",
       "                  1,           1,           1,           1,           1,           1,           1,           1,           1,           1,           1,           1,           1,           1,           1,           1,           1,           1,           1,           1,           1,           1,           1,\n",
       "                  1,           1,           1,           1,           1,           1,           1,           1,           1,           1,           1,           1,           1,           1,           1,           1,           1,           1,           1,           1,           1,           1,           1,\n",
       "                  1,           1,           1,           1,           1,           1,           1,           1,           1,           1,           1,           1,           1,           1,           1,           1,           1,           1,           1,           1,           1,           1,           1,\n",
       "                  1,           1,           1,           1,           1,           1,           1,           1,           1,           1,           1]]), 'Confidence', 'Precision'], [array([          0,    0.001001,    0.002002,    0.003003,    0.004004,    0.005005,    0.006006,    0.007007,    0.008008,    0.009009,     0.01001,    0.011011,    0.012012,    0.013013,    0.014014,    0.015015,    0.016016,    0.017017,    0.018018,    0.019019,     0.02002,    0.021021,    0.022022,    0.023023,\n",
       "          0.024024,    0.025025,    0.026026,    0.027027,    0.028028,    0.029029,     0.03003,    0.031031,    0.032032,    0.033033,    0.034034,    0.035035,    0.036036,    0.037037,    0.038038,    0.039039,     0.04004,    0.041041,    0.042042,    0.043043,    0.044044,    0.045045,    0.046046,    0.047047,\n",
       "          0.048048,    0.049049,     0.05005,    0.051051,    0.052052,    0.053053,    0.054054,    0.055055,    0.056056,    0.057057,    0.058058,    0.059059,     0.06006,    0.061061,    0.062062,    0.063063,    0.064064,    0.065065,    0.066066,    0.067067,    0.068068,    0.069069,     0.07007,    0.071071,\n",
       "          0.072072,    0.073073,    0.074074,    0.075075,    0.076076,    0.077077,    0.078078,    0.079079,     0.08008,    0.081081,    0.082082,    0.083083,    0.084084,    0.085085,    0.086086,    0.087087,    0.088088,    0.089089,     0.09009,    0.091091,    0.092092,    0.093093,    0.094094,    0.095095,\n",
       "          0.096096,    0.097097,    0.098098,    0.099099,      0.1001,      0.1011,      0.1021,      0.1031,      0.1041,     0.10511,     0.10611,     0.10711,     0.10811,     0.10911,     0.11011,     0.11111,     0.11211,     0.11311,     0.11411,     0.11512,     0.11612,     0.11712,     0.11812,     0.11912,\n",
       "           0.12012,     0.12112,     0.12212,     0.12312,     0.12412,     0.12513,     0.12613,     0.12713,     0.12813,     0.12913,     0.13013,     0.13113,     0.13213,     0.13313,     0.13413,     0.13514,     0.13614,     0.13714,     0.13814,     0.13914,     0.14014,     0.14114,     0.14214,     0.14314,\n",
       "           0.14414,     0.14515,     0.14615,     0.14715,     0.14815,     0.14915,     0.15015,     0.15115,     0.15215,     0.15315,     0.15415,     0.15516,     0.15616,     0.15716,     0.15816,     0.15916,     0.16016,     0.16116,     0.16216,     0.16316,     0.16416,     0.16517,     0.16617,     0.16717,\n",
       "           0.16817,     0.16917,     0.17017,     0.17117,     0.17217,     0.17317,     0.17417,     0.17518,     0.17618,     0.17718,     0.17818,     0.17918,     0.18018,     0.18118,     0.18218,     0.18318,     0.18418,     0.18519,     0.18619,     0.18719,     0.18819,     0.18919,     0.19019,     0.19119,\n",
       "           0.19219,     0.19319,     0.19419,      0.1952,      0.1962,      0.1972,      0.1982,      0.1992,      0.2002,      0.2012,      0.2022,      0.2032,      0.2042,     0.20521,     0.20621,     0.20721,     0.20821,     0.20921,     0.21021,     0.21121,     0.21221,     0.21321,     0.21421,     0.21522,\n",
       "           0.21622,     0.21722,     0.21822,     0.21922,     0.22022,     0.22122,     0.22222,     0.22322,     0.22422,     0.22523,     0.22623,     0.22723,     0.22823,     0.22923,     0.23023,     0.23123,     0.23223,     0.23323,     0.23423,     0.23524,     0.23624,     0.23724,     0.23824,     0.23924,\n",
       "           0.24024,     0.24124,     0.24224,     0.24324,     0.24424,     0.24525,     0.24625,     0.24725,     0.24825,     0.24925,     0.25025,     0.25125,     0.25225,     0.25325,     0.25425,     0.25526,     0.25626,     0.25726,     0.25826,     0.25926,     0.26026,     0.26126,     0.26226,     0.26326,\n",
       "           0.26426,     0.26527,     0.26627,     0.26727,     0.26827,     0.26927,     0.27027,     0.27127,     0.27227,     0.27327,     0.27427,     0.27528,     0.27628,     0.27728,     0.27828,     0.27928,     0.28028,     0.28128,     0.28228,     0.28328,     0.28428,     0.28529,     0.28629,     0.28729,\n",
       "           0.28829,     0.28929,     0.29029,     0.29129,     0.29229,     0.29329,     0.29429,      0.2953,      0.2963,      0.2973,      0.2983,      0.2993,      0.3003,      0.3013,      0.3023,      0.3033,      0.3043,     0.30531,     0.30631,     0.30731,     0.30831,     0.30931,     0.31031,     0.31131,\n",
       "           0.31231,     0.31331,     0.31431,     0.31532,     0.31632,     0.31732,     0.31832,     0.31932,     0.32032,     0.32132,     0.32232,     0.32332,     0.32432,     0.32533,     0.32633,     0.32733,     0.32833,     0.32933,     0.33033,     0.33133,     0.33233,     0.33333,     0.33433,     0.33534,\n",
       "           0.33634,     0.33734,     0.33834,     0.33934,     0.34034,     0.34134,     0.34234,     0.34334,     0.34434,     0.34535,     0.34635,     0.34735,     0.34835,     0.34935,     0.35035,     0.35135,     0.35235,     0.35335,     0.35435,     0.35536,     0.35636,     0.35736,     0.35836,     0.35936,\n",
       "           0.36036,     0.36136,     0.36236,     0.36336,     0.36436,     0.36537,     0.36637,     0.36737,     0.36837,     0.36937,     0.37037,     0.37137,     0.37237,     0.37337,     0.37437,     0.37538,     0.37638,     0.37738,     0.37838,     0.37938,     0.38038,     0.38138,     0.38238,     0.38338,\n",
       "           0.38438,     0.38539,     0.38639,     0.38739,     0.38839,     0.38939,     0.39039,     0.39139,     0.39239,     0.39339,     0.39439,      0.3954,      0.3964,      0.3974,      0.3984,      0.3994,      0.4004,      0.4014,      0.4024,      0.4034,      0.4044,     0.40541,     0.40641,     0.40741,\n",
       "           0.40841,     0.40941,     0.41041,     0.41141,     0.41241,     0.41341,     0.41441,     0.41542,     0.41642,     0.41742,     0.41842,     0.41942,     0.42042,     0.42142,     0.42242,     0.42342,     0.42442,     0.42543,     0.42643,     0.42743,     0.42843,     0.42943,     0.43043,     0.43143,\n",
       "           0.43243,     0.43343,     0.43443,     0.43544,     0.43644,     0.43744,     0.43844,     0.43944,     0.44044,     0.44144,     0.44244,     0.44344,     0.44444,     0.44545,     0.44645,     0.44745,     0.44845,     0.44945,     0.45045,     0.45145,     0.45245,     0.45345,     0.45445,     0.45546,\n",
       "           0.45646,     0.45746,     0.45846,     0.45946,     0.46046,     0.46146,     0.46246,     0.46346,     0.46446,     0.46547,     0.46647,     0.46747,     0.46847,     0.46947,     0.47047,     0.47147,     0.47247,     0.47347,     0.47447,     0.47548,     0.47648,     0.47748,     0.47848,     0.47948,\n",
       "           0.48048,     0.48148,     0.48248,     0.48348,     0.48448,     0.48549,     0.48649,     0.48749,     0.48849,     0.48949,     0.49049,     0.49149,     0.49249,     0.49349,     0.49449,      0.4955,      0.4965,      0.4975,      0.4985,      0.4995,      0.5005,      0.5015,      0.5025,      0.5035,\n",
       "            0.5045,     0.50551,     0.50651,     0.50751,     0.50851,     0.50951,     0.51051,     0.51151,     0.51251,     0.51351,     0.51451,     0.51552,     0.51652,     0.51752,     0.51852,     0.51952,     0.52052,     0.52152,     0.52252,     0.52352,     0.52452,     0.52553,     0.52653,     0.52753,\n",
       "           0.52853,     0.52953,     0.53053,     0.53153,     0.53253,     0.53353,     0.53453,     0.53554,     0.53654,     0.53754,     0.53854,     0.53954,     0.54054,     0.54154,     0.54254,     0.54354,     0.54454,     0.54555,     0.54655,     0.54755,     0.54855,     0.54955,     0.55055,     0.55155,\n",
       "           0.55255,     0.55355,     0.55455,     0.55556,     0.55656,     0.55756,     0.55856,     0.55956,     0.56056,     0.56156,     0.56256,     0.56356,     0.56456,     0.56557,     0.56657,     0.56757,     0.56857,     0.56957,     0.57057,     0.57157,     0.57257,     0.57357,     0.57457,     0.57558,\n",
       "           0.57658,     0.57758,     0.57858,     0.57958,     0.58058,     0.58158,     0.58258,     0.58358,     0.58458,     0.58559,     0.58659,     0.58759,     0.58859,     0.58959,     0.59059,     0.59159,     0.59259,     0.59359,     0.59459,      0.5956,      0.5966,      0.5976,      0.5986,      0.5996,\n",
       "            0.6006,      0.6016,      0.6026,      0.6036,      0.6046,     0.60561,     0.60661,     0.60761,     0.60861,     0.60961,     0.61061,     0.61161,     0.61261,     0.61361,     0.61461,     0.61562,     0.61662,     0.61762,     0.61862,     0.61962,     0.62062,     0.62162,     0.62262,     0.62362,\n",
       "           0.62462,     0.62563,     0.62663,     0.62763,     0.62863,     0.62963,     0.63063,     0.63163,     0.63263,     0.63363,     0.63463,     0.63564,     0.63664,     0.63764,     0.63864,     0.63964,     0.64064,     0.64164,     0.64264,     0.64364,     0.64464,     0.64565,     0.64665,     0.64765,\n",
       "           0.64865,     0.64965,     0.65065,     0.65165,     0.65265,     0.65365,     0.65465,     0.65566,     0.65666,     0.65766,     0.65866,     0.65966,     0.66066,     0.66166,     0.66266,     0.66366,     0.66466,     0.66567,     0.66667,     0.66767,     0.66867,     0.66967,     0.67067,     0.67167,\n",
       "           0.67267,     0.67367,     0.67467,     0.67568,     0.67668,     0.67768,     0.67868,     0.67968,     0.68068,     0.68168,     0.68268,     0.68368,     0.68468,     0.68569,     0.68669,     0.68769,     0.68869,     0.68969,     0.69069,     0.69169,     0.69269,     0.69369,     0.69469,      0.6957,\n",
       "            0.6967,      0.6977,      0.6987,      0.6997,      0.7007,      0.7017,      0.7027,      0.7037,      0.7047,     0.70571,     0.70671,     0.70771,     0.70871,     0.70971,     0.71071,     0.71171,     0.71271,     0.71371,     0.71471,     0.71572,     0.71672,     0.71772,     0.71872,     0.71972,\n",
       "           0.72072,     0.72172,     0.72272,     0.72372,     0.72472,     0.72573,     0.72673,     0.72773,     0.72873,     0.72973,     0.73073,     0.73173,     0.73273,     0.73373,     0.73473,     0.73574,     0.73674,     0.73774,     0.73874,     0.73974,     0.74074,     0.74174,     0.74274,     0.74374,\n",
       "           0.74474,     0.74575,     0.74675,     0.74775,     0.74875,     0.74975,     0.75075,     0.75175,     0.75275,     0.75375,     0.75475,     0.75576,     0.75676,     0.75776,     0.75876,     0.75976,     0.76076,     0.76176,     0.76276,     0.76376,     0.76476,     0.76577,     0.76677,     0.76777,\n",
       "           0.76877,     0.76977,     0.77077,     0.77177,     0.77277,     0.77377,     0.77477,     0.77578,     0.77678,     0.77778,     0.77878,     0.77978,     0.78078,     0.78178,     0.78278,     0.78378,     0.78478,     0.78579,     0.78679,     0.78779,     0.78879,     0.78979,     0.79079,     0.79179,\n",
       "           0.79279,     0.79379,     0.79479,      0.7958,      0.7968,      0.7978,      0.7988,      0.7998,      0.8008,      0.8018,      0.8028,      0.8038,      0.8048,     0.80581,     0.80681,     0.80781,     0.80881,     0.80981,     0.81081,     0.81181,     0.81281,     0.81381,     0.81481,     0.81582,\n",
       "           0.81682,     0.81782,     0.81882,     0.81982,     0.82082,     0.82182,     0.82282,     0.82382,     0.82482,     0.82583,     0.82683,     0.82783,     0.82883,     0.82983,     0.83083,     0.83183,     0.83283,     0.83383,     0.83483,     0.83584,     0.83684,     0.83784,     0.83884,     0.83984,\n",
       "           0.84084,     0.84184,     0.84284,     0.84384,     0.84484,     0.84585,     0.84685,     0.84785,     0.84885,     0.84985,     0.85085,     0.85185,     0.85285,     0.85385,     0.85485,     0.85586,     0.85686,     0.85786,     0.85886,     0.85986,     0.86086,     0.86186,     0.86286,     0.86386,\n",
       "           0.86486,     0.86587,     0.86687,     0.86787,     0.86887,     0.86987,     0.87087,     0.87187,     0.87287,     0.87387,     0.87487,     0.87588,     0.87688,     0.87788,     0.87888,     0.87988,     0.88088,     0.88188,     0.88288,     0.88388,     0.88488,     0.88589,     0.88689,     0.88789,\n",
       "           0.88889,     0.88989,     0.89089,     0.89189,     0.89289,     0.89389,     0.89489,      0.8959,      0.8969,      0.8979,      0.8989,      0.8999,      0.9009,      0.9019,      0.9029,      0.9039,      0.9049,     0.90591,     0.90691,     0.90791,     0.90891,     0.90991,     0.91091,     0.91191,\n",
       "           0.91291,     0.91391,     0.91491,     0.91592,     0.91692,     0.91792,     0.91892,     0.91992,     0.92092,     0.92192,     0.92292,     0.92392,     0.92492,     0.92593,     0.92693,     0.92793,     0.92893,     0.92993,     0.93093,     0.93193,     0.93293,     0.93393,     0.93493,     0.93594,\n",
       "           0.93694,     0.93794,     0.93894,     0.93994,     0.94094,     0.94194,     0.94294,     0.94394,     0.94494,     0.94595,     0.94695,     0.94795,     0.94895,     0.94995,     0.95095,     0.95195,     0.95295,     0.95395,     0.95495,     0.95596,     0.95696,     0.95796,     0.95896,     0.95996,\n",
       "           0.96096,     0.96196,     0.96296,     0.96396,     0.96496,     0.96597,     0.96697,     0.96797,     0.96897,     0.96997,     0.97097,     0.97197,     0.97297,     0.97397,     0.97497,     0.97598,     0.97698,     0.97798,     0.97898,     0.97998,     0.98098,     0.98198,     0.98298,     0.98398,\n",
       "           0.98498,     0.98599,     0.98699,     0.98799,     0.98899,     0.98999,     0.99099,     0.99199,     0.99299,     0.99399,     0.99499,       0.996,       0.997,       0.998,       0.999,           1]), array([[    0.98462,     0.98462,     0.98462,     0.97436,     0.96923,     0.95385,     0.95385,     0.95385,     0.95385,     0.95385,     0.95385,     0.95385,     0.94872,     0.94872,     0.94872,     0.94872,     0.94367,     0.94359,     0.94359,     0.94359,     0.94359,     0.94359,     0.94359,\n",
       "            0.94359,     0.93846,     0.93846,     0.93846,     0.93846,     0.93846,     0.93846,     0.93846,     0.93846,     0.93846,     0.93846,     0.93846,     0.93846,     0.93846,     0.93846,     0.93846,     0.93846,     0.93333,     0.93333,     0.93333,     0.93333,     0.93333,     0.93333,\n",
       "            0.93333,     0.93333,     0.93333,     0.93333,     0.93333,     0.93333,     0.93333,     0.93333,     0.93333,     0.93333,     0.93333,     0.93333,     0.93333,     0.93333,     0.93333,     0.93333,     0.93333,     0.93333,     0.93333,     0.93333,     0.93333,     0.93333,     0.93333,\n",
       "            0.93333,     0.93333,     0.93333,     0.93333,     0.93333,     0.92821,     0.92821,     0.92821,     0.92821,     0.92821,     0.92821,     0.92821,     0.92821,     0.92821,     0.92821,     0.92821,     0.92821,     0.92821,     0.92821,     0.92821,     0.92821,     0.92821,     0.92821,\n",
       "            0.92821,     0.92821,     0.92821,     0.92821,     0.92821,     0.92821,     0.92821,     0.92821,     0.92821,     0.92821,     0.92821,     0.92821,     0.92821,     0.92821,     0.92699,     0.92561,     0.92423,     0.92308,     0.92308,     0.92308,     0.92308,     0.92308,     0.92308,\n",
       "            0.92308,     0.92308,     0.92308,     0.92071,     0.91795,     0.91795,     0.91795,     0.91795,     0.91795,     0.91795,     0.91795,     0.91795,     0.91795,     0.91795,     0.91795,     0.91795,     0.91795,     0.91795,     0.91795,     0.91795,     0.91795,     0.91795,     0.91795,\n",
       "            0.91795,     0.91795,     0.91795,     0.91795,     0.91795,     0.91782,     0.91753,     0.91724,     0.91694,     0.91665,     0.91636,     0.91607,     0.91578,     0.91548,     0.91519,      0.9149,     0.91461,     0.91432,     0.91402,     0.91373,     0.91344,     0.91315,     0.91285,\n",
       "            0.91282,     0.91282,     0.91282,     0.91282,     0.91282,     0.91282,     0.91282,     0.91282,     0.91282,     0.91282,     0.91282,     0.91282,     0.91282,     0.91282,     0.91282,     0.91275,     0.91042,     0.90808,     0.90743,     0.90713,     0.90682,     0.90651,      0.9062,\n",
       "            0.90589,     0.90558,     0.90527,     0.90496,     0.90465,     0.90434,     0.90403,     0.90372,     0.90341,     0.90311,      0.9028,     0.90256,     0.90256,     0.90256,     0.90256,     0.90256,     0.90256,     0.90256,     0.90256,     0.90256,     0.90256,     0.90256,     0.90256,\n",
       "            0.90256,     0.90256,     0.90256,     0.90256,     0.90256,     0.90256,     0.90256,     0.90256,     0.90256,     0.90256,     0.90256,     0.90256,     0.90256,     0.90256,     0.90256,     0.90256,     0.90256,     0.90256,     0.90256,     0.90256,     0.90256,     0.90256,     0.90256,\n",
       "            0.90256,     0.90256,     0.90256,     0.90256,     0.90256,     0.90256,     0.90256,     0.90256,     0.90248,     0.90223,     0.90198,     0.90173,     0.90148,     0.90122,     0.90097,     0.90072,     0.90047,     0.90022,     0.89996,     0.89971,     0.89946,     0.89921,     0.89896,\n",
       "            0.89871,     0.89845,      0.8982,     0.89795,      0.8977,     0.89745,     0.89744,     0.89744,     0.89744,     0.89744,     0.89744,     0.89744,     0.89744,     0.89744,     0.89744,     0.89744,     0.89744,     0.89744,     0.89744,     0.89744,     0.89744,     0.89744,     0.89744,\n",
       "            0.89744,     0.89744,     0.89744,     0.89744,     0.89744,     0.89744,     0.89744,     0.89744,     0.89744,     0.89744,     0.89744,     0.89744,     0.89744,     0.89744,     0.89744,     0.89744,     0.89744,     0.89744,     0.89744,     0.89744,     0.89744,     0.89744,     0.89744,\n",
       "            0.89744,     0.89744,     0.89744,     0.89744,     0.89744,     0.89744,     0.89744,     0.89744,     0.89744,     0.89744,     0.89744,     0.89744,     0.89744,     0.89744,     0.89744,     0.89744,     0.89744,     0.89744,     0.89744,     0.89744,     0.89744,     0.89744,     0.89744,\n",
       "            0.89744,     0.89744,     0.89744,     0.89744,     0.89744,     0.89744,     0.89744,     0.89744,     0.89744,     0.89744,     0.89733,     0.89699,     0.89664,      0.8963,     0.89595,     0.89561,     0.89526,     0.89492,     0.89457,     0.89423,     0.89389,     0.89354,      0.8932,\n",
       "            0.89285,     0.89251,     0.89231,     0.89231,     0.89231,     0.89231,     0.89231,     0.89231,     0.89231,     0.89231,     0.89231,     0.89231,     0.89231,     0.89231,     0.89231,     0.89231,     0.89231,     0.89231,     0.89231,     0.89231,     0.89231,     0.89231,     0.89231,\n",
       "            0.89231,     0.89231,     0.89231,     0.89231,     0.89231,     0.89231,     0.89231,     0.89231,     0.89231,     0.89231,     0.89231,     0.89231,     0.89231,     0.89231,     0.89231,     0.89231,     0.89231,     0.89178,     0.89038,     0.88898,     0.88758,     0.88718,     0.88718,\n",
       "            0.88718,     0.88718,     0.88718,     0.88718,     0.88678,     0.88573,     0.88468,     0.88363,     0.88258,      0.8811,     0.87919,     0.87728,     0.87264,     0.87161,     0.87138,     0.87115,     0.87093,      0.8707,     0.87047,     0.87025,     0.87002,      0.8698,     0.86957,\n",
       "            0.86934,     0.86912,     0.86889,     0.86867,     0.86844,     0.86821,     0.86799,     0.86776,     0.86754,     0.86731,     0.86708,     0.86686,     0.86667,     0.86667,     0.86667,     0.86667,     0.86667,     0.86667,     0.86667,     0.86667,     0.86667,     0.86667,     0.86667,\n",
       "            0.86667,     0.86667,     0.86629,     0.86576,     0.86524,     0.86471,     0.86419,     0.86366,     0.86314,     0.86261,     0.86208,     0.86156,     0.86154,     0.86154,     0.86154,     0.86154,     0.86154,     0.86154,     0.86154,     0.86154,     0.86154,     0.86154,     0.86154,\n",
       "            0.86154,     0.86154,     0.86154,     0.86154,     0.86154,     0.86154,     0.86154,     0.86154,     0.86154,     0.86154,     0.86154,     0.86154,     0.86154,     0.86154,     0.86154,     0.86154,     0.86154,     0.86154,     0.86119,     0.86081,     0.86044,     0.86006,     0.85968,\n",
       "            0.85931,     0.85893,     0.85856,     0.85818,     0.85781,     0.85743,     0.85706,     0.85668,     0.85641,     0.85641,     0.85641,     0.85631,     0.85601,     0.85572,     0.85543,     0.85514,     0.85485,     0.85455,     0.85426,     0.85397,     0.85368,     0.85339,     0.85309,\n",
       "             0.8528,     0.85251,     0.85222,     0.85193,     0.85163,     0.85134,     0.85115,     0.85098,     0.85081,     0.85064,     0.85047,      0.8503,     0.85013,     0.84996,     0.84979,     0.84962,     0.84945,     0.84928,     0.84911,     0.84894,     0.84877,      0.8486,     0.84843,\n",
       "            0.84826,      0.8481,     0.84793,     0.84776,     0.84759,     0.84742,     0.84725,     0.84708,     0.84691,     0.84674,     0.84657,      0.8464,     0.84623,     0.84543,     0.84412,      0.8428,     0.84149,     0.83762,     0.83571,     0.83542,     0.83514,     0.83485,     0.83457,\n",
       "            0.83429,       0.834,     0.83372,     0.83343,     0.83315,     0.83287,     0.83258,      0.8323,     0.83201,     0.83173,     0.83144,     0.83116,     0.83088,     0.83054,     0.83016,     0.82978,     0.82941,     0.82903,     0.82866,     0.82828,     0.82791,     0.82753,     0.82716,\n",
       "            0.82678,      0.8264,     0.82603,     0.82565,     0.82564,     0.82564,     0.82564,     0.82564,     0.82564,     0.82564,     0.82564,     0.82564,     0.82564,     0.82564,     0.82564,     0.82564,     0.82564,     0.82564,     0.82564,     0.82512,      0.8245,     0.82388,     0.82326,\n",
       "            0.82265,     0.82203,     0.82141,     0.82079,     0.81906,     0.81644,     0.81519,     0.81486,     0.81453,      0.8142,     0.81387,     0.81354,     0.81322,     0.81289,     0.81256,     0.81223,      0.8119,     0.81157,     0.81125,     0.81092,     0.81059,     0.81026,      0.8098,\n",
       "            0.80935,     0.80889,     0.80843,     0.80798,     0.80752,     0.80706,      0.8066,     0.80615,     0.80569,     0.80523,     0.80423,     0.80306,     0.80189,     0.80072,      0.7992,      0.7971,     0.79499,     0.79462,     0.79435,     0.79408,     0.79381,     0.79354,     0.79327,\n",
       "              0.793,     0.79273,     0.79246,     0.79219,     0.79192,     0.79165,     0.79138,     0.79111,     0.79084,     0.79057,      0.7903,     0.79004,     0.78977,     0.78652,     0.78222,     0.77935,     0.77907,     0.77878,      0.7785,     0.77821,     0.77793,     0.77765,     0.77736,\n",
       "            0.77708,     0.77679,     0.77651,     0.77623,     0.77594,     0.77566,     0.77537,     0.77509,      0.7748,     0.77452,     0.77395,     0.77299,     0.77204,     0.77108,     0.77012,     0.76916,     0.76811,     0.76706,     0.76601,     0.76496,     0.76407,     0.76388,     0.76369,\n",
       "             0.7635,     0.76332,     0.76313,     0.76294,     0.76275,     0.76257,     0.76238,     0.76219,       0.762,     0.76181,     0.76163,     0.76144,     0.76125,     0.76106,     0.76088,     0.76069,      0.7605,     0.76031,     0.76012,     0.75994,     0.75975,     0.75956,     0.75937,\n",
       "            0.75919,       0.759,     0.75592,     0.75385,     0.75385,     0.75385,     0.75385,     0.75385,     0.75385,     0.75385,     0.75385,     0.74801,     0.74685,     0.74568,     0.74451,     0.74303,      0.7404,     0.73333,     0.73333,     0.73333,     0.73333,     0.73333,     0.73028,\n",
       "            0.72794,     0.72728,     0.72662,     0.72597,     0.72531,     0.72465,     0.72399,     0.72334,     0.72281,     0.72237,     0.72194,      0.7215,     0.72106,     0.72062,     0.72018,     0.71975,     0.71931,     0.71887,     0.71843,     0.71799,     0.71728,     0.71652,     0.71577,\n",
       "            0.71502,     0.71427,     0.71352,     0.71274,     0.71157,     0.71041,     0.70924,     0.70807,     0.70718,     0.70643,     0.70568,     0.70493,     0.70418,     0.70343,     0.70268,     0.70145,     0.70014,     0.69882,     0.69751,     0.69633,     0.69516,     0.69399,     0.69283,\n",
       "            0.69158,     0.69026,     0.68895,     0.68764,     0.68581,      0.6837,     0.68185,     0.68089,     0.67993,     0.67898,     0.67802,     0.67707,     0.67624,     0.67543,     0.67462,     0.67381,       0.673,     0.67219,     0.66913,     0.66611,     0.66506,     0.66401,     0.66295,\n",
       "             0.6619,     0.66128,     0.66089,     0.66051,     0.66012,     0.65973,     0.65934,     0.65895,     0.65856,     0.65817,     0.65778,     0.65739,       0.657,     0.65661,     0.65387,     0.64509,     0.64298,     0.63579,     0.63429,     0.63279,     0.63129,     0.62979,     0.62828,\n",
       "            0.62678,     0.62438,     0.61483,     0.61273,     0.61062,     0.60947,     0.60851,     0.60756,      0.6066,     0.60564,     0.60392,     0.60129,      0.5922,     0.58881,     0.58706,     0.58531,     0.58143,     0.57728,     0.57392,     0.57129,     0.55271,     0.54809,     0.54546,\n",
       "            0.54207,     0.53681,     0.52761,     0.52586,     0.52411,       0.522,     0.51937,     0.51758,     0.51677,     0.51596,     0.51515,     0.51434,     0.51353,     0.51251,     0.50988,     0.49656,     0.49211,     0.49105,        0.49,     0.48895,      0.4879,     0.48663,     0.48488,\n",
       "            0.48313,     0.48069,     0.47719,     0.47207,     0.46681,     0.45539,     0.45329,     0.44591,     0.44066,      0.4349,     0.42949,     0.42739,      0.4101,     0.40914,     0.40818,     0.40723,     0.40627,     0.40532,     0.40091,     0.39855,      0.3968,     0.39505,      0.3883,\n",
       "             0.3848,     0.37963,      0.3641,     0.35362,     0.34078,     0.33296,     0.32795,     0.32533,     0.32156,     0.30597,     0.30334,     0.29886,      0.2936,     0.28967,       0.279,     0.27132,     0.26982,     0.26832,     0.26682,     0.25424,     0.24669,     0.24116,     0.22566,\n",
       "            0.22047,     0.21872,     0.21697,     0.21438,     0.20193,     0.19668,     0.19257,      0.1836,     0.17834,     0.17309,     0.16853,      0.1659,     0.16244,      0.1554,     0.14744,     0.14594,     0.14443,     0.13731,     0.13468,     0.12309,     0.12158,     0.12008,     0.11857,\n",
       "            0.10565,      0.1013,    0.080527,     0.06834,     0.05915,    0.055645,    0.052141,    0.043508,    0.039493,    0.034237,    0.027191,    0.019874,    0.018122,    0.016369,    0.015078,    0.014377,    0.013676,    0.012975,    0.012274,    0.011573,    0.010872,   0.0096199,           0,\n",
       "                  0,           0,           0,           0,           0,           0,           0,           0,           0,           0,           0,           0,           0,           0,           0,           0,           0,           0,           0,           0,           0,           0,           0,\n",
       "                  0,           0,           0,           0,           0,           0,           0,           0,           0,           0,           0]]), 'Confidence', 'Recall']]\n",
       "fitness: np.float64(0.7791463886520695)\n",
       "keys: ['metrics/precision(B)', 'metrics/recall(B)', 'metrics/mAP50(B)', 'metrics/mAP50-95(B)']\n",
       "maps: array([    0.76048])\n",
       "names: {0: 'tumor'}\n",
       "plot: True\n",
       "results_dict: {'metrics/precision(B)': np.float64(0.942661408627776), 'metrics/recall(B)': np.float64(0.8923076923076924), 'metrics/mAP50(B)': np.float64(0.9471818281302692), 'metrics/mAP50-95(B)': np.float64(0.7604757842656029), 'fitness': np.float64(0.7791463886520695)}\n",
       "save_dir: WindowsPath('runs/detect/train5')\n",
       "speed: {'preprocess': 0.0707183195197064, 'inference': 2.0529407521952754, 'loss': 0.0, 'postprocess': 0.269512767377107}\n",
       "task: 'detect'"
      ]
     },
     "execution_count": 7,
     "metadata": {},
     "output_type": "execute_result"
    }
   ],
   "source": [
    "from ultralytics import YOLO\n",
    "# load model\n",
    "model=YOLO('yolov10s.pt')\n",
    "model.train(data=r\"D:\\YOLO Comparision\\BrainTumor\\data.yaml\",epochs=20,imgsz=150,device=0)"
   ]
  },
  {
   "cell_type": "code",
   "execution_count": 3,
   "id": "adbe84fb-d1ba-4c7e-8517-0a486f96cec8",
   "metadata": {},
   "outputs": [
    {
     "name": "stdout",
     "output_type": "stream",
     "text": [
      "\n",
      "image 1/1 C:\\Users\\krish\\Downloads\\test_image.jpg: 160x160 1 tumor, 19.9ms\n",
      "Speed: 1.0ms preprocess, 19.9ms inference, 1.0ms postprocess per image at shape (1, 3, 160, 160)\n"
     ]
    }
   ],
   "source": [
    "from ultralytics import YOLO\n",
    "model = YOLO(\"runs/detect/train5/weights/best.pt\")\n",
    "results = model(\"C:/Users/krish/Downloads/test_image.jpg\")\n",
    "results[0].show()"
   ]
  },
  {
   "cell_type": "code",
   "execution_count": null,
   "id": "6ea6cbeb-1924-4c5e-ae12-627461e0ac4b",
   "metadata": {},
   "outputs": [],
   "source": []
  }
 ],
 "metadata": {
  "kernelspec": {
   "display_name": "Python 3 (ipykernel)",
   "language": "python",
   "name": "python3"
  },
  "language_info": {
   "codemirror_mode": {
    "name": "ipython",
    "version": 3
   },
   "file_extension": ".py",
   "mimetype": "text/x-python",
   "name": "python",
   "nbconvert_exporter": "python",
   "pygments_lexer": "ipython3",
   "version": "3.12.6"
  }
 },
 "nbformat": 4,
 "nbformat_minor": 5
}
