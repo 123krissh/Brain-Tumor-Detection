{
 "cells": [
  {
   "cell_type": "code",
   "execution_count": 1,
   "id": "8447b02f-82d7-4d60-8fe7-cb0773450e6d",
   "metadata": {},
   "outputs": [
    {
     "data": {
      "text/plain": [
       "True"
      ]
     },
     "execution_count": 1,
     "metadata": {},
     "output_type": "execute_result"
    }
   ],
   "source": [
    "import torch\n",
    "torch.cuda.is_available()"
   ]
  },
  {
   "cell_type": "code",
   "execution_count": 2,
   "id": "59100d2f-5f1e-400b-b3fb-2206c9bbb907",
   "metadata": {},
   "outputs": [
    {
     "data": {
      "text/plain": [
       "'NVIDIA GeForce RTX 3050 6GB Laptop GPU'"
      ]
     },
     "execution_count": 2,
     "metadata": {},
     "output_type": "execute_result"
    }
   ],
   "source": [
    "torch.cuda.get_device_name(0)"
   ]
  },
  {
   "cell_type": "code",
   "execution_count": 3,
   "id": "ab44efa8-54e0-4333-836c-507e1538790f",
   "metadata": {},
   "outputs": [],
   "source": [
    "import os\n",
    "os.environ['KMP_DUPLICATE_LIB_OK']='True'"
   ]
  },
  {
   "cell_type": "code",
   "execution_count": 4,
   "id": "83d4bc02-0d36-45db-a7b7-81e503395bcf",
   "metadata": {},
   "outputs": [
    {
     "data": {
      "text/plain": [
       "'8.3.70'"
      ]
     },
     "execution_count": 4,
     "metadata": {},
     "output_type": "execute_result"
    }
   ],
   "source": [
    "import ultralytics\n",
    "ultralytics.__version__"
   ]
  },
  {
   "cell_type": "code",
   "execution_count": 5,
   "id": "d827d69c-18ac-44db-ab6d-bc1229634f32",
   "metadata": {},
   "outputs": [
    {
     "data": {
      "text/plain": [
       "'2.6.0+cu124'"
      ]
     },
     "execution_count": 5,
     "metadata": {},
     "output_type": "execute_result"
    }
   ],
   "source": [
    "import torch\n",
    "torch.__version__"
   ]
  },
  {
   "cell_type": "code",
   "execution_count": 6,
   "id": "a484c364-6942-400e-b4b1-4f21962df012",
   "metadata": {},
   "outputs": [],
   "source": [
    "import numpy as np"
   ]
  },
  {
   "cell_type": "code",
   "execution_count": 7,
   "id": "eee157cf-82ab-47f4-b84f-ada46cce297f",
   "metadata": {},
   "outputs": [
    {
     "name": "stdout",
     "output_type": "stream",
     "text": [
      "Ultralytics 8.3.70  Python-3.12.6 torch-2.6.0+cu124 CUDA:0 (NVIDIA GeForce RTX 3050 6GB Laptop GPU, 6144MiB)\n",
      "\u001b[34m\u001b[1mengine\\trainer: \u001b[0mtask=detect, mode=train, model=yolo11n.pt, data=D:\\YOLO Comparision\\BrainTumor\\data.yaml, epochs=20, time=None, patience=100, batch=16, imgsz=150, save=True, save_period=-1, cache=False, device=0, workers=8, project=None, name=train3, exist_ok=False, pretrained=True, optimizer=auto, verbose=True, seed=0, deterministic=True, single_cls=False, rect=False, cos_lr=False, close_mosaic=10, resume=False, amp=True, fraction=1.0, profile=False, freeze=None, multi_scale=False, overlap_mask=True, mask_ratio=4, dropout=0.0, val=True, split=val, save_json=False, save_hybrid=False, conf=None, iou=0.7, max_det=300, half=False, dnn=False, plots=True, source=None, vid_stride=1, stream_buffer=False, visualize=False, augment=False, agnostic_nms=False, classes=None, retina_masks=False, embed=None, show=False, save_frames=False, save_txt=False, save_conf=False, save_crop=False, show_labels=True, show_conf=True, show_boxes=True, line_width=None, format=torchscript, keras=False, optimize=False, int8=False, dynamic=False, simplify=True, opset=None, workspace=None, nms=False, lr0=0.01, lrf=0.01, momentum=0.937, weight_decay=0.0005, warmup_epochs=3.0, warmup_momentum=0.8, warmup_bias_lr=0.1, box=7.5, cls=0.5, dfl=1.5, pose=12.0, kobj=1.0, nbs=64, hsv_h=0.015, hsv_s=0.7, hsv_v=0.4, degrees=0.0, translate=0.1, scale=0.5, shear=0.0, perspective=0.0, flipud=0.0, fliplr=0.5, bgr=0.0, mosaic=1.0, mixup=0.0, copy_paste=0.0, copy_paste_mode=flip, auto_augment=randaugment, erasing=0.4, crop_fraction=1.0, cfg=None, tracker=botsort.yaml, save_dir=runs\\detect\\train3\n",
      "Overriding model.yaml nc=80 with nc=1\n",
      "\n",
      "                   from  n    params  module                                       arguments                     \n",
      "  0                  -1  1       464  ultralytics.nn.modules.conv.Conv             [3, 16, 3, 2]                 \n",
      "  1                  -1  1      4672  ultralytics.nn.modules.conv.Conv             [16, 32, 3, 2]                \n",
      "  2                  -1  1      6640  ultralytics.nn.modules.block.C3k2            [32, 64, 1, False, 0.25]      \n",
      "  3                  -1  1     36992  ultralytics.nn.modules.conv.Conv             [64, 64, 3, 2]                \n",
      "  4                  -1  1     26080  ultralytics.nn.modules.block.C3k2            [64, 128, 1, False, 0.25]     \n",
      "  5                  -1  1    147712  ultralytics.nn.modules.conv.Conv             [128, 128, 3, 2]              \n",
      "  6                  -1  1     87040  ultralytics.nn.modules.block.C3k2            [128, 128, 1, True]           \n",
      "  7                  -1  1    295424  ultralytics.nn.modules.conv.Conv             [128, 256, 3, 2]              \n",
      "  8                  -1  1    346112  ultralytics.nn.modules.block.C3k2            [256, 256, 1, True]           \n",
      "  9                  -1  1    164608  ultralytics.nn.modules.block.SPPF            [256, 256, 5]                 \n",
      " 10                  -1  1    249728  ultralytics.nn.modules.block.C2PSA           [256, 256, 1]                 \n",
      " 11                  -1  1         0  torch.nn.modules.upsampling.Upsample         [None, 2, 'nearest']          \n",
      " 12             [-1, 6]  1         0  ultralytics.nn.modules.conv.Concat           [1]                           \n",
      " 13                  -1  1    111296  ultralytics.nn.modules.block.C3k2            [384, 128, 1, False]          \n",
      " 14                  -1  1         0  torch.nn.modules.upsampling.Upsample         [None, 2, 'nearest']          \n",
      " 15             [-1, 4]  1         0  ultralytics.nn.modules.conv.Concat           [1]                           \n",
      " 16                  -1  1     32096  ultralytics.nn.modules.block.C3k2            [256, 64, 1, False]           \n",
      " 17                  -1  1     36992  ultralytics.nn.modules.conv.Conv             [64, 64, 3, 2]                \n",
      " 18            [-1, 13]  1         0  ultralytics.nn.modules.conv.Concat           [1]                           \n",
      " 19                  -1  1     86720  ultralytics.nn.modules.block.C3k2            [192, 128, 1, False]          \n",
      " 20                  -1  1    147712  ultralytics.nn.modules.conv.Conv             [128, 128, 3, 2]              \n",
      " 21            [-1, 10]  1         0  ultralytics.nn.modules.conv.Concat           [1]                           \n",
      " 22                  -1  1    378880  ultralytics.nn.modules.block.C3k2            [384, 256, 1, True]           \n",
      " 23        [16, 19, 22]  1    430867  ultralytics.nn.modules.head.Detect           [1, [64, 128, 256]]           \n",
      "YOLO11n summary: 319 layers, 2,590,035 parameters, 2,590,019 gradients, 6.4 GFLOPs\n",
      "\n",
      "Transferred 448/499 items from pretrained weights\n",
      "Freezing layer 'model.23.dfl.conv.weight'\n",
      "\u001b[34m\u001b[1mAMP: \u001b[0mrunning Automatic Mixed Precision (AMP) checks...\n",
      "\u001b[34m\u001b[1mAMP: \u001b[0mchecks passed \n",
      "WARNING  imgsz=[150] must be multiple of max stride 32, updating to [160]\n"
     ]
    },
    {
     "name": "stderr",
     "output_type": "stream",
     "text": [
      "\u001b[34m\u001b[1mtrain: \u001b[0mScanning D:\\YOLO Comparision\\BrainTumor\\train\\labels.cache... 2766 images, 153 backgrounds, 0 corrupt: 100%|████\u001b[0m\n",
      "\u001b[34m\u001b[1mval: \u001b[0mScanning D:\\YOLO Comparision\\BrainTumor\\valid\\labels.cache... 184 images, 0 backgrounds, 0 corrupt: 100%|█████████\u001b[0m\n"
     ]
    },
    {
     "name": "stdout",
     "output_type": "stream",
     "text": [
      "Plotting labels to runs\\detect\\train3\\labels.jpg... \n",
      "\u001b[34m\u001b[1moptimizer:\u001b[0m 'optimizer=auto' found, ignoring 'lr0=0.01' and 'momentum=0.937' and determining best 'optimizer', 'lr0' and 'momentum' automatically... \n",
      "\u001b[34m\u001b[1moptimizer:\u001b[0m AdamW(lr=0.002, momentum=0.9) with parameter groups 81 weight(decay=0.0), 88 weight(decay=0.0005), 87 bias(decay=0.0)\n",
      "Image sizes 160 train, 160 val\n",
      "Using 8 dataloader workers\n",
      "Logging results to \u001b[1mruns\\detect\\train3\u001b[0m\n",
      "Starting training for 20 epochs...\n",
      "\n",
      "      Epoch    GPU_mem   box_loss   cls_loss   dfl_loss  Instances       Size\n"
     ]
    },
    {
     "name": "stderr",
     "output_type": "stream",
     "text": [
      "       1/20     0.271G      1.311      1.733      1.121         26        160: 100%|██████████| 173/173 [00:24<00:00,  \n",
      "                 Class     Images  Instances      Box(P          R      mAP50  mAP50-95): 100%|██████████| 6/6 [00:00<0\n"
     ]
    },
    {
     "name": "stdout",
     "output_type": "stream",
     "text": [
      "                   all        184        195      0.803      0.793      0.848      0.592\n",
      "\n",
      "      Epoch    GPU_mem   box_loss   cls_loss   dfl_loss  Instances       Size\n"
     ]
    },
    {
     "name": "stderr",
     "output_type": "stream",
     "text": [
      "       2/20     0.273G      1.124     0.9684      1.039         21        160: 100%|██████████| 173/173 [00:18<00:00,  \n",
      "                 Class     Images  Instances      Box(P          R      mAP50  mAP50-95): 100%|██████████| 6/6 [00:00<0"
     ]
    },
    {
     "name": "stdout",
     "output_type": "stream",
     "text": [
      "                   all        184        195      0.857      0.802      0.877      0.603\n"
     ]
    },
    {
     "name": "stderr",
     "output_type": "stream",
     "text": [
      "\n"
     ]
    },
    {
     "name": "stdout",
     "output_type": "stream",
     "text": [
      "\n",
      "      Epoch    GPU_mem   box_loss   cls_loss   dfl_loss  Instances       Size\n"
     ]
    },
    {
     "name": "stderr",
     "output_type": "stream",
     "text": [
      "       3/20     0.273G      1.098     0.8839      1.031         14        160: 100%|██████████| 173/173 [00:16<00:00, 1\n",
      "                 Class     Images  Instances      Box(P          R      mAP50  mAP50-95): 100%|██████████| 6/6 [00:00<0"
     ]
    },
    {
     "name": "stdout",
     "output_type": "stream",
     "text": [
      "                   all        184        195      0.877      0.844      0.877      0.609\n"
     ]
    },
    {
     "name": "stderr",
     "output_type": "stream",
     "text": [
      "\n"
     ]
    },
    {
     "name": "stdout",
     "output_type": "stream",
     "text": [
      "\n",
      "      Epoch    GPU_mem   box_loss   cls_loss   dfl_loss  Instances       Size\n"
     ]
    },
    {
     "name": "stderr",
     "output_type": "stream",
     "text": [
      "       4/20     0.273G      1.073      0.853      1.025         24        160: 100%|██████████| 173/173 [00:16<00:00, 1\n",
      "                 Class     Images  Instances      Box(P          R      mAP50  mAP50-95): 100%|██████████| 6/6 [00:00<0"
     ]
    },
    {
     "name": "stdout",
     "output_type": "stream",
     "text": [
      "                   all        184        195       0.94      0.851      0.891       0.64\n"
     ]
    },
    {
     "name": "stderr",
     "output_type": "stream",
     "text": [
      "\n"
     ]
    },
    {
     "name": "stdout",
     "output_type": "stream",
     "text": [
      "\n",
      "      Epoch    GPU_mem   box_loss   cls_loss   dfl_loss  Instances       Size\n"
     ]
    },
    {
     "name": "stderr",
     "output_type": "stream",
     "text": [
      "       5/20     0.273G      1.048     0.8022      1.013         25        160: 100%|██████████| 173/173 [00:17<00:00,  \n",
      "                 Class     Images  Instances      Box(P          R      mAP50  mAP50-95): 100%|██████████| 6/6 [00:00<0"
     ]
    },
    {
     "name": "stdout",
     "output_type": "stream",
     "text": [
      "                   all        184        195      0.955      0.864      0.912      0.677\n"
     ]
    },
    {
     "name": "stderr",
     "output_type": "stream",
     "text": [
      "\n"
     ]
    },
    {
     "name": "stdout",
     "output_type": "stream",
     "text": [
      "\n",
      "      Epoch    GPU_mem   box_loss   cls_loss   dfl_loss  Instances       Size\n"
     ]
    },
    {
     "name": "stderr",
     "output_type": "stream",
     "text": [
      "       6/20     0.271G      1.008     0.7609      1.008         24        160: 100%|██████████| 173/173 [00:18<00:00,  \n",
      "                 Class     Images  Instances      Box(P          R      mAP50  mAP50-95): 100%|██████████| 6/6 [00:00<0"
     ]
    },
    {
     "name": "stdout",
     "output_type": "stream",
     "text": [
      "                   all        184        195      0.944      0.868      0.913      0.651\n"
     ]
    },
    {
     "name": "stderr",
     "output_type": "stream",
     "text": [
      "\n"
     ]
    },
    {
     "name": "stdout",
     "output_type": "stream",
     "text": [
      "\n",
      "      Epoch    GPU_mem   box_loss   cls_loss   dfl_loss  Instances       Size\n"
     ]
    },
    {
     "name": "stderr",
     "output_type": "stream",
     "text": [
      "       7/20     0.271G      0.991     0.7457     0.9989         25        160: 100%|██████████| 173/173 [00:18<00:00,  \n",
      "                 Class     Images  Instances      Box(P          R      mAP50  mAP50-95): 100%|██████████| 6/6 [00:00<0"
     ]
    },
    {
     "name": "stdout",
     "output_type": "stream",
     "text": [
      "                   all        184        195      0.943      0.854      0.895      0.678\n"
     ]
    },
    {
     "name": "stderr",
     "output_type": "stream",
     "text": [
      "\n"
     ]
    },
    {
     "name": "stdout",
     "output_type": "stream",
     "text": [
      "\n",
      "      Epoch    GPU_mem   box_loss   cls_loss   dfl_loss  Instances       Size\n"
     ]
    },
    {
     "name": "stderr",
     "output_type": "stream",
     "text": [
      "       8/20     0.271G     0.9545     0.7032     0.9902         25        160: 100%|██████████| 173/173 [00:19<00:00,  \n",
      "                 Class     Images  Instances      Box(P          R      mAP50  mAP50-95): 100%|██████████| 6/6 [00:01<0"
     ]
    },
    {
     "name": "stdout",
     "output_type": "stream",
     "text": [
      "                   all        184        195      0.935      0.885      0.912      0.709\n"
     ]
    },
    {
     "name": "stderr",
     "output_type": "stream",
     "text": [
      "\n"
     ]
    },
    {
     "name": "stdout",
     "output_type": "stream",
     "text": [
      "\n",
      "      Epoch    GPU_mem   box_loss   cls_loss   dfl_loss  Instances       Size\n"
     ]
    },
    {
     "name": "stderr",
     "output_type": "stream",
     "text": [
      "       9/20     0.271G     0.9312     0.6785     0.9819         28        160: 100%|██████████| 173/173 [00:22<00:00,  \n",
      "                 Class     Images  Instances      Box(P          R      mAP50  mAP50-95): 100%|██████████| 6/6 [00:00<0"
     ]
    },
    {
     "name": "stdout",
     "output_type": "stream",
     "text": [
      "                   all        184        195      0.923      0.892      0.897      0.692\n"
     ]
    },
    {
     "name": "stderr",
     "output_type": "stream",
     "text": [
      "\n"
     ]
    },
    {
     "name": "stdout",
     "output_type": "stream",
     "text": [
      "\n",
      "      Epoch    GPU_mem   box_loss   cls_loss   dfl_loss  Instances       Size\n"
     ]
    },
    {
     "name": "stderr",
     "output_type": "stream",
     "text": [
      "      10/20     0.271G     0.9046     0.6448     0.9745         22        160: 100%|██████████| 173/173 [00:19<00:00,  \n",
      "                 Class     Images  Instances      Box(P          R      mAP50  mAP50-95): 100%|██████████| 6/6 [00:01<0"
     ]
    },
    {
     "name": "stdout",
     "output_type": "stream",
     "text": [
      "                   all        184        195      0.972      0.881      0.922       0.73\n"
     ]
    },
    {
     "name": "stderr",
     "output_type": "stream",
     "text": [
      "\n"
     ]
    },
    {
     "name": "stdout",
     "output_type": "stream",
     "text": [
      "Closing dataloader mosaic\n",
      "\n",
      "      Epoch    GPU_mem   box_loss   cls_loss   dfl_loss  Instances       Size\n"
     ]
    },
    {
     "name": "stderr",
     "output_type": "stream",
     "text": [
      "      11/20     0.271G     0.8202     0.5995      0.952         14        160: 100%|██████████| 173/173 [00:20<00:00,  \n",
      "                 Class     Images  Instances      Box(P          R      mAP50  mAP50-95): 100%|██████████| 6/6 [00:01<0"
     ]
    },
    {
     "name": "stdout",
     "output_type": "stream",
     "text": [
      "                   all        184        195      0.961      0.887      0.934      0.727\n"
     ]
    },
    {
     "name": "stderr",
     "output_type": "stream",
     "text": [
      "\n"
     ]
    },
    {
     "name": "stdout",
     "output_type": "stream",
     "text": [
      "\n",
      "      Epoch    GPU_mem   box_loss   cls_loss   dfl_loss  Instances       Size\n"
     ]
    },
    {
     "name": "stderr",
     "output_type": "stream",
     "text": [
      "      12/20     0.271G      0.815     0.5737     0.9409         14        160: 100%|██████████| 173/173 [00:20<00:00,  \n",
      "                 Class     Images  Instances      Box(P          R      mAP50  mAP50-95): 100%|██████████| 6/6 [00:00<0"
     ]
    },
    {
     "name": "stdout",
     "output_type": "stream",
     "text": [
      "                   all        184        195      0.961      0.897      0.936       0.72\n"
     ]
    },
    {
     "name": "stderr",
     "output_type": "stream",
     "text": [
      "\n"
     ]
    },
    {
     "name": "stdout",
     "output_type": "stream",
     "text": [
      "\n",
      "      Epoch    GPU_mem   box_loss   cls_loss   dfl_loss  Instances       Size\n"
     ]
    },
    {
     "name": "stderr",
     "output_type": "stream",
     "text": [
      "      13/20     0.271G     0.7808     0.5538     0.9236         14        160: 100%|██████████| 173/173 [00:20<00:00,  \n",
      "                 Class     Images  Instances      Box(P          R      mAP50  mAP50-95): 100%|██████████| 6/6 [00:00<0"
     ]
    },
    {
     "name": "stdout",
     "output_type": "stream",
     "text": [
      "                   all        184        195      0.928      0.913      0.941      0.732\n"
     ]
    },
    {
     "name": "stderr",
     "output_type": "stream",
     "text": [
      "\n"
     ]
    },
    {
     "name": "stdout",
     "output_type": "stream",
     "text": [
      "\n",
      "      Epoch    GPU_mem   box_loss   cls_loss   dfl_loss  Instances       Size\n"
     ]
    },
    {
     "name": "stderr",
     "output_type": "stream",
     "text": [
      "      14/20     0.271G     0.7642     0.5183     0.9223         15        160: 100%|██████████| 173/173 [00:19<00:00,  \n",
      "                 Class     Images  Instances      Box(P          R      mAP50  mAP50-95): 100%|██████████| 6/6 [00:00<0"
     ]
    },
    {
     "name": "stdout",
     "output_type": "stream",
     "text": [
      "                   all        184        195      0.973      0.909      0.948      0.728\n"
     ]
    },
    {
     "name": "stderr",
     "output_type": "stream",
     "text": [
      "\n"
     ]
    },
    {
     "name": "stdout",
     "output_type": "stream",
     "text": [
      "\n",
      "      Epoch    GPU_mem   box_loss   cls_loss   dfl_loss  Instances       Size\n"
     ]
    },
    {
     "name": "stderr",
     "output_type": "stream",
     "text": [
      "      15/20     0.271G     0.7336     0.5014     0.9107         14        160: 100%|██████████| 173/173 [00:20<00:00,  \n",
      "                 Class     Images  Instances      Box(P          R      mAP50  mAP50-95): 100%|██████████| 6/6 [00:00<0"
     ]
    },
    {
     "name": "stdout",
     "output_type": "stream",
     "text": [
      "                   all        184        195      0.977       0.88      0.942      0.737\n"
     ]
    },
    {
     "name": "stderr",
     "output_type": "stream",
     "text": [
      "\n"
     ]
    },
    {
     "name": "stdout",
     "output_type": "stream",
     "text": [
      "\n",
      "      Epoch    GPU_mem   box_loss   cls_loss   dfl_loss  Instances       Size\n"
     ]
    },
    {
     "name": "stderr",
     "output_type": "stream",
     "text": [
      "      16/20     0.271G     0.7257     0.4918     0.9069         15        160: 100%|██████████| 173/173 [00:20<00:00,  \n",
      "                 Class     Images  Instances      Box(P          R      mAP50  mAP50-95): 100%|██████████| 6/6 [00:00<0"
     ]
    },
    {
     "name": "stdout",
     "output_type": "stream",
     "text": [
      "                   all        184        195      0.966      0.897      0.944      0.742\n"
     ]
    },
    {
     "name": "stderr",
     "output_type": "stream",
     "text": [
      "\n"
     ]
    },
    {
     "name": "stdout",
     "output_type": "stream",
     "text": [
      "\n",
      "      Epoch    GPU_mem   box_loss   cls_loss   dfl_loss  Instances       Size\n"
     ]
    },
    {
     "name": "stderr",
     "output_type": "stream",
     "text": [
      "      17/20     0.271G     0.7084     0.4717     0.8961         13        160: 100%|██████████| 173/173 [00:20<00:00,  \n",
      "                 Class     Images  Instances      Box(P          R      mAP50  mAP50-95): 100%|██████████| 6/6 [00:00<0"
     ]
    },
    {
     "name": "stdout",
     "output_type": "stream",
     "text": [
      "                   all        184        195      0.962      0.907      0.944      0.756\n"
     ]
    },
    {
     "name": "stderr",
     "output_type": "stream",
     "text": [
      "\n"
     ]
    },
    {
     "name": "stdout",
     "output_type": "stream",
     "text": [
      "\n",
      "      Epoch    GPU_mem   box_loss   cls_loss   dfl_loss  Instances       Size\n"
     ]
    },
    {
     "name": "stderr",
     "output_type": "stream",
     "text": [
      "      18/20     0.271G       0.69     0.4543     0.8949         13        160: 100%|██████████| 173/173 [00:20<00:00,  \n",
      "                 Class     Images  Instances      Box(P          R      mAP50  mAP50-95): 100%|██████████| 6/6 [00:00<0"
     ]
    },
    {
     "name": "stdout",
     "output_type": "stream",
     "text": [
      "                   all        184        195      0.957      0.923      0.948      0.758\n"
     ]
    },
    {
     "name": "stderr",
     "output_type": "stream",
     "text": [
      "\n"
     ]
    },
    {
     "name": "stdout",
     "output_type": "stream",
     "text": [
      "\n",
      "      Epoch    GPU_mem   box_loss   cls_loss   dfl_loss  Instances       Size\n"
     ]
    },
    {
     "name": "stderr",
     "output_type": "stream",
     "text": [
      "      19/20     0.271G      0.682     0.4432     0.8899         13        160: 100%|██████████| 173/173 [00:20<00:00,  \n",
      "                 Class     Images  Instances      Box(P          R      mAP50  mAP50-95): 100%|██████████| 6/6 [00:00<0"
     ]
    },
    {
     "name": "stdout",
     "output_type": "stream",
     "text": [
      "                   all        184        195      0.957       0.91      0.943      0.762\n"
     ]
    },
    {
     "name": "stderr",
     "output_type": "stream",
     "text": [
      "\n"
     ]
    },
    {
     "name": "stdout",
     "output_type": "stream",
     "text": [
      "\n",
      "      Epoch    GPU_mem   box_loss   cls_loss   dfl_loss  Instances       Size\n"
     ]
    },
    {
     "name": "stderr",
     "output_type": "stream",
     "text": [
      "      20/20     0.271G     0.6538     0.4316     0.8803         13        160: 100%|██████████| 173/173 [00:16<00:00, 1\n",
      "                 Class     Images  Instances      Box(P          R      mAP50  mAP50-95): 100%|██████████| 6/6 [00:00<0"
     ]
    },
    {
     "name": "stdout",
     "output_type": "stream",
     "text": [
      "                   all        184        195      0.937      0.918      0.947      0.766\n"
     ]
    },
    {
     "name": "stderr",
     "output_type": "stream",
     "text": [
      "\n"
     ]
    },
    {
     "name": "stdout",
     "output_type": "stream",
     "text": [
      "\n",
      "20 epochs completed in 0.124 hours.\n",
      "Optimizer stripped from runs\\detect\\train3\\weights\\last.pt, 5.4MB\n",
      "Optimizer stripped from runs\\detect\\train3\\weights\\best.pt, 5.4MB\n",
      "\n",
      "Validating runs\\detect\\train3\\weights\\best.pt...\n",
      "Ultralytics 8.3.70  Python-3.12.6 torch-2.6.0+cu124 CUDA:0 (NVIDIA GeForce RTX 3050 6GB Laptop GPU, 6144MiB)\n",
      "YOLO11n summary (fused): 238 layers, 2,582,347 parameters, 0 gradients, 6.3 GFLOPs\n"
     ]
    },
    {
     "name": "stderr",
     "output_type": "stream",
     "text": [
      "                 Class     Images  Instances      Box(P          R      mAP50  mAP50-95): 100%|██████████| 6/6 [00:01<0\n"
     ]
    },
    {
     "name": "stdout",
     "output_type": "stream",
     "text": [
      "                   all        184        195      0.962        0.9      0.947      0.767\n",
      "Speed: 0.1ms preprocess, 1.8ms inference, 0.0ms loss, 1.1ms postprocess per image\n",
      "Results saved to \u001b[1mruns\\detect\\train3\u001b[0m\n"
     ]
    },
    {
     "data": {
      "text/plain": [
       "ultralytics.utils.metrics.DetMetrics object with attributes:\n",
       "\n",
       "ap_class_index: array([0])\n",
       "box: ultralytics.utils.metrics.Metric object\n",
       "confusion_matrix: <ultralytics.utils.metrics.ConfusionMatrix object at 0x000002161380F440>\n",
       "curves: ['Precision-Recall(B)', 'F1-Confidence(B)', 'Precision-Confidence(B)', 'Recall-Confidence(B)']\n",
       "curves_results: [[array([          0,    0.001001,    0.002002,    0.003003,    0.004004,    0.005005,    0.006006,    0.007007,    0.008008,    0.009009,     0.01001,    0.011011,    0.012012,    0.013013,    0.014014,    0.015015,    0.016016,    0.017017,    0.018018,    0.019019,     0.02002,    0.021021,    0.022022,    0.023023,\n",
       "          0.024024,    0.025025,    0.026026,    0.027027,    0.028028,    0.029029,     0.03003,    0.031031,    0.032032,    0.033033,    0.034034,    0.035035,    0.036036,    0.037037,    0.038038,    0.039039,     0.04004,    0.041041,    0.042042,    0.043043,    0.044044,    0.045045,    0.046046,    0.047047,\n",
       "          0.048048,    0.049049,     0.05005,    0.051051,    0.052052,    0.053053,    0.054054,    0.055055,    0.056056,    0.057057,    0.058058,    0.059059,     0.06006,    0.061061,    0.062062,    0.063063,    0.064064,    0.065065,    0.066066,    0.067067,    0.068068,    0.069069,     0.07007,    0.071071,\n",
       "          0.072072,    0.073073,    0.074074,    0.075075,    0.076076,    0.077077,    0.078078,    0.079079,     0.08008,    0.081081,    0.082082,    0.083083,    0.084084,    0.085085,    0.086086,    0.087087,    0.088088,    0.089089,     0.09009,    0.091091,    0.092092,    0.093093,    0.094094,    0.095095,\n",
       "          0.096096,    0.097097,    0.098098,    0.099099,      0.1001,      0.1011,      0.1021,      0.1031,      0.1041,     0.10511,     0.10611,     0.10711,     0.10811,     0.10911,     0.11011,     0.11111,     0.11211,     0.11311,     0.11411,     0.11512,     0.11612,     0.11712,     0.11812,     0.11912,\n",
       "           0.12012,     0.12112,     0.12212,     0.12312,     0.12412,     0.12513,     0.12613,     0.12713,     0.12813,     0.12913,     0.13013,     0.13113,     0.13213,     0.13313,     0.13413,     0.13514,     0.13614,     0.13714,     0.13814,     0.13914,     0.14014,     0.14114,     0.14214,     0.14314,\n",
       "           0.14414,     0.14515,     0.14615,     0.14715,     0.14815,     0.14915,     0.15015,     0.15115,     0.15215,     0.15315,     0.15415,     0.15516,     0.15616,     0.15716,     0.15816,     0.15916,     0.16016,     0.16116,     0.16216,     0.16316,     0.16416,     0.16517,     0.16617,     0.16717,\n",
       "           0.16817,     0.16917,     0.17017,     0.17117,     0.17217,     0.17317,     0.17417,     0.17518,     0.17618,     0.17718,     0.17818,     0.17918,     0.18018,     0.18118,     0.18218,     0.18318,     0.18418,     0.18519,     0.18619,     0.18719,     0.18819,     0.18919,     0.19019,     0.19119,\n",
       "           0.19219,     0.19319,     0.19419,      0.1952,      0.1962,      0.1972,      0.1982,      0.1992,      0.2002,      0.2012,      0.2022,      0.2032,      0.2042,     0.20521,     0.20621,     0.20721,     0.20821,     0.20921,     0.21021,     0.21121,     0.21221,     0.21321,     0.21421,     0.21522,\n",
       "           0.21622,     0.21722,     0.21822,     0.21922,     0.22022,     0.22122,     0.22222,     0.22322,     0.22422,     0.22523,     0.22623,     0.22723,     0.22823,     0.22923,     0.23023,     0.23123,     0.23223,     0.23323,     0.23423,     0.23524,     0.23624,     0.23724,     0.23824,     0.23924,\n",
       "           0.24024,     0.24124,     0.24224,     0.24324,     0.24424,     0.24525,     0.24625,     0.24725,     0.24825,     0.24925,     0.25025,     0.25125,     0.25225,     0.25325,     0.25425,     0.25526,     0.25626,     0.25726,     0.25826,     0.25926,     0.26026,     0.26126,     0.26226,     0.26326,\n",
       "           0.26426,     0.26527,     0.26627,     0.26727,     0.26827,     0.26927,     0.27027,     0.27127,     0.27227,     0.27327,     0.27427,     0.27528,     0.27628,     0.27728,     0.27828,     0.27928,     0.28028,     0.28128,     0.28228,     0.28328,     0.28428,     0.28529,     0.28629,     0.28729,\n",
       "           0.28829,     0.28929,     0.29029,     0.29129,     0.29229,     0.29329,     0.29429,      0.2953,      0.2963,      0.2973,      0.2983,      0.2993,      0.3003,      0.3013,      0.3023,      0.3033,      0.3043,     0.30531,     0.30631,     0.30731,     0.30831,     0.30931,     0.31031,     0.31131,\n",
       "           0.31231,     0.31331,     0.31431,     0.31532,     0.31632,     0.31732,     0.31832,     0.31932,     0.32032,     0.32132,     0.32232,     0.32332,     0.32432,     0.32533,     0.32633,     0.32733,     0.32833,     0.32933,     0.33033,     0.33133,     0.33233,     0.33333,     0.33433,     0.33534,\n",
       "           0.33634,     0.33734,     0.33834,     0.33934,     0.34034,     0.34134,     0.34234,     0.34334,     0.34434,     0.34535,     0.34635,     0.34735,     0.34835,     0.34935,     0.35035,     0.35135,     0.35235,     0.35335,     0.35435,     0.35536,     0.35636,     0.35736,     0.35836,     0.35936,\n",
       "           0.36036,     0.36136,     0.36236,     0.36336,     0.36436,     0.36537,     0.36637,     0.36737,     0.36837,     0.36937,     0.37037,     0.37137,     0.37237,     0.37337,     0.37437,     0.37538,     0.37638,     0.37738,     0.37838,     0.37938,     0.38038,     0.38138,     0.38238,     0.38338,\n",
       "           0.38438,     0.38539,     0.38639,     0.38739,     0.38839,     0.38939,     0.39039,     0.39139,     0.39239,     0.39339,     0.39439,      0.3954,      0.3964,      0.3974,      0.3984,      0.3994,      0.4004,      0.4014,      0.4024,      0.4034,      0.4044,     0.40541,     0.40641,     0.40741,\n",
       "           0.40841,     0.40941,     0.41041,     0.41141,     0.41241,     0.41341,     0.41441,     0.41542,     0.41642,     0.41742,     0.41842,     0.41942,     0.42042,     0.42142,     0.42242,     0.42342,     0.42442,     0.42543,     0.42643,     0.42743,     0.42843,     0.42943,     0.43043,     0.43143,\n",
       "           0.43243,     0.43343,     0.43443,     0.43544,     0.43644,     0.43744,     0.43844,     0.43944,     0.44044,     0.44144,     0.44244,     0.44344,     0.44444,     0.44545,     0.44645,     0.44745,     0.44845,     0.44945,     0.45045,     0.45145,     0.45245,     0.45345,     0.45445,     0.45546,\n",
       "           0.45646,     0.45746,     0.45846,     0.45946,     0.46046,     0.46146,     0.46246,     0.46346,     0.46446,     0.46547,     0.46647,     0.46747,     0.46847,     0.46947,     0.47047,     0.47147,     0.47247,     0.47347,     0.47447,     0.47548,     0.47648,     0.47748,     0.47848,     0.47948,\n",
       "           0.48048,     0.48148,     0.48248,     0.48348,     0.48448,     0.48549,     0.48649,     0.48749,     0.48849,     0.48949,     0.49049,     0.49149,     0.49249,     0.49349,     0.49449,      0.4955,      0.4965,      0.4975,      0.4985,      0.4995,      0.5005,      0.5015,      0.5025,      0.5035,\n",
       "            0.5045,     0.50551,     0.50651,     0.50751,     0.50851,     0.50951,     0.51051,     0.51151,     0.51251,     0.51351,     0.51451,     0.51552,     0.51652,     0.51752,     0.51852,     0.51952,     0.52052,     0.52152,     0.52252,     0.52352,     0.52452,     0.52553,     0.52653,     0.52753,\n",
       "           0.52853,     0.52953,     0.53053,     0.53153,     0.53253,     0.53353,     0.53453,     0.53554,     0.53654,     0.53754,     0.53854,     0.53954,     0.54054,     0.54154,     0.54254,     0.54354,     0.54454,     0.54555,     0.54655,     0.54755,     0.54855,     0.54955,     0.55055,     0.55155,\n",
       "           0.55255,     0.55355,     0.55455,     0.55556,     0.55656,     0.55756,     0.55856,     0.55956,     0.56056,     0.56156,     0.56256,     0.56356,     0.56456,     0.56557,     0.56657,     0.56757,     0.56857,     0.56957,     0.57057,     0.57157,     0.57257,     0.57357,     0.57457,     0.57558,\n",
       "           0.57658,     0.57758,     0.57858,     0.57958,     0.58058,     0.58158,     0.58258,     0.58358,     0.58458,     0.58559,     0.58659,     0.58759,     0.58859,     0.58959,     0.59059,     0.59159,     0.59259,     0.59359,     0.59459,      0.5956,      0.5966,      0.5976,      0.5986,      0.5996,\n",
       "            0.6006,      0.6016,      0.6026,      0.6036,      0.6046,     0.60561,     0.60661,     0.60761,     0.60861,     0.60961,     0.61061,     0.61161,     0.61261,     0.61361,     0.61461,     0.61562,     0.61662,     0.61762,     0.61862,     0.61962,     0.62062,     0.62162,     0.62262,     0.62362,\n",
       "           0.62462,     0.62563,     0.62663,     0.62763,     0.62863,     0.62963,     0.63063,     0.63163,     0.63263,     0.63363,     0.63463,     0.63564,     0.63664,     0.63764,     0.63864,     0.63964,     0.64064,     0.64164,     0.64264,     0.64364,     0.64464,     0.64565,     0.64665,     0.64765,\n",
       "           0.64865,     0.64965,     0.65065,     0.65165,     0.65265,     0.65365,     0.65465,     0.65566,     0.65666,     0.65766,     0.65866,     0.65966,     0.66066,     0.66166,     0.66266,     0.66366,     0.66466,     0.66567,     0.66667,     0.66767,     0.66867,     0.66967,     0.67067,     0.67167,\n",
       "           0.67267,     0.67367,     0.67467,     0.67568,     0.67668,     0.67768,     0.67868,     0.67968,     0.68068,     0.68168,     0.68268,     0.68368,     0.68468,     0.68569,     0.68669,     0.68769,     0.68869,     0.68969,     0.69069,     0.69169,     0.69269,     0.69369,     0.69469,      0.6957,\n",
       "            0.6967,      0.6977,      0.6987,      0.6997,      0.7007,      0.7017,      0.7027,      0.7037,      0.7047,     0.70571,     0.70671,     0.70771,     0.70871,     0.70971,     0.71071,     0.71171,     0.71271,     0.71371,     0.71471,     0.71572,     0.71672,     0.71772,     0.71872,     0.71972,\n",
       "           0.72072,     0.72172,     0.72272,     0.72372,     0.72472,     0.72573,     0.72673,     0.72773,     0.72873,     0.72973,     0.73073,     0.73173,     0.73273,     0.73373,     0.73473,     0.73574,     0.73674,     0.73774,     0.73874,     0.73974,     0.74074,     0.74174,     0.74274,     0.74374,\n",
       "           0.74474,     0.74575,     0.74675,     0.74775,     0.74875,     0.74975,     0.75075,     0.75175,     0.75275,     0.75375,     0.75475,     0.75576,     0.75676,     0.75776,     0.75876,     0.75976,     0.76076,     0.76176,     0.76276,     0.76376,     0.76476,     0.76577,     0.76677,     0.76777,\n",
       "           0.76877,     0.76977,     0.77077,     0.77177,     0.77277,     0.77377,     0.77477,     0.77578,     0.77678,     0.77778,     0.77878,     0.77978,     0.78078,     0.78178,     0.78278,     0.78378,     0.78478,     0.78579,     0.78679,     0.78779,     0.78879,     0.78979,     0.79079,     0.79179,\n",
       "           0.79279,     0.79379,     0.79479,      0.7958,      0.7968,      0.7978,      0.7988,      0.7998,      0.8008,      0.8018,      0.8028,      0.8038,      0.8048,     0.80581,     0.80681,     0.80781,     0.80881,     0.80981,     0.81081,     0.81181,     0.81281,     0.81381,     0.81481,     0.81582,\n",
       "           0.81682,     0.81782,     0.81882,     0.81982,     0.82082,     0.82182,     0.82282,     0.82382,     0.82482,     0.82583,     0.82683,     0.82783,     0.82883,     0.82983,     0.83083,     0.83183,     0.83283,     0.83383,     0.83483,     0.83584,     0.83684,     0.83784,     0.83884,     0.83984,\n",
       "           0.84084,     0.84184,     0.84284,     0.84384,     0.84484,     0.84585,     0.84685,     0.84785,     0.84885,     0.84985,     0.85085,     0.85185,     0.85285,     0.85385,     0.85485,     0.85586,     0.85686,     0.85786,     0.85886,     0.85986,     0.86086,     0.86186,     0.86286,     0.86386,\n",
       "           0.86486,     0.86587,     0.86687,     0.86787,     0.86887,     0.86987,     0.87087,     0.87187,     0.87287,     0.87387,     0.87487,     0.87588,     0.87688,     0.87788,     0.87888,     0.87988,     0.88088,     0.88188,     0.88288,     0.88388,     0.88488,     0.88589,     0.88689,     0.88789,\n",
       "           0.88889,     0.88989,     0.89089,     0.89189,     0.89289,     0.89389,     0.89489,      0.8959,      0.8969,      0.8979,      0.8989,      0.8999,      0.9009,      0.9019,      0.9029,      0.9039,      0.9049,     0.90591,     0.90691,     0.90791,     0.90891,     0.90991,     0.91091,     0.91191,\n",
       "           0.91291,     0.91391,     0.91491,     0.91592,     0.91692,     0.91792,     0.91892,     0.91992,     0.92092,     0.92192,     0.92292,     0.92392,     0.92492,     0.92593,     0.92693,     0.92793,     0.92893,     0.92993,     0.93093,     0.93193,     0.93293,     0.93393,     0.93493,     0.93594,\n",
       "           0.93694,     0.93794,     0.93894,     0.93994,     0.94094,     0.94194,     0.94294,     0.94394,     0.94494,     0.94595,     0.94695,     0.94795,     0.94895,     0.94995,     0.95095,     0.95195,     0.95295,     0.95395,     0.95495,     0.95596,     0.95696,     0.95796,     0.95896,     0.95996,\n",
       "           0.96096,     0.96196,     0.96296,     0.96396,     0.96496,     0.96597,     0.96697,     0.96797,     0.96897,     0.96997,     0.97097,     0.97197,     0.97297,     0.97397,     0.97497,     0.97598,     0.97698,     0.97798,     0.97898,     0.97998,     0.98098,     0.98198,     0.98298,     0.98398,\n",
       "           0.98498,     0.98599,     0.98699,     0.98799,     0.98899,     0.98999,     0.99099,     0.99199,     0.99299,     0.99399,     0.99499,       0.996,       0.997,       0.998,       0.999,           1]), array([[          1,           1,           1,           1,           1,           1,           1,           1,           1,           1,           1,           1,           1,           1,           1,           1,           1,           1,           1,           1,           1,           1,           1,\n",
       "                  1,           1,           1,           1,           1,           1,           1,           1,           1,           1,           1,           1,           1,           1,           1,           1,           1,           1,           1,           1,           1,           1,           1,\n",
       "                  1,           1,           1,           1,           1,           1,           1,           1,           1,           1,           1,           1,           1,           1,           1,           1,           1,           1,           1,           1,           1,           1,           1,\n",
       "                  1,           1,           1,           1,           1,           1,           1,           1,           1,           1,           1,           1,           1,           1,           1,           1,           1,           1,           1,           1,           1,           1,           1,\n",
       "                  1,           1,           1,           1,           1,           1,           1,           1,           1,           1,           1,           1,           1,           1,           1,           1,           1,           1,           1,           1,           1,           1,           1,\n",
       "                  1,           1,           1,           1,           1,           1,           1,           1,           1,           1,           1,           1,           1,           1,           1,           1,           1,           1,           1,           1,           1,           1,           1,\n",
       "                  1,           1,           1,           1,           1,           1,           1,           1,           1,           1,           1,           1,           1,           1,           1,           1,           1,           1,           1,           1,           1,           1,           1,\n",
       "                  1,           1,           1,           1,           1,           1,           1,           1,           1,           1,           1,           1,           1,           1,           1,           1,           1,           1,           1,           1,           1,           1,           1,\n",
       "                  1,           1,           1,           1,           1,           1,           1,           1,           1,           1,           1,           1,           1,           1,           1,           1,           1,           1,           1,           1,           1,           1,           1,\n",
       "                  1,           1,           1,           1,           1,           1,           1,           1,           1,           1,           1,           1,           1,           1,           1,           1,           1,           1,           1,           1,           1,           1,           1,\n",
       "                  1,           1,           1,           1,           1,           1,           1,           1,           1,           1,           1,           1,           1,           1,           1,           1,           1,           1,           1,           1,           1,           1,           1,\n",
       "                  1,           1,           1,           1,           1,           1,           1,           1,           1,           1,           1,           1,           1,           1,           1,           1,           1,           1,           1,           1,           1,           1,           1,\n",
       "                  1,           1,           1,           1,           1,           1,           1,           1,           1,           1,           1,           1,           1,           1,           1,           1,           1,           1,           1,           1,           1,           1,           1,\n",
       "                  1,           1,           1,           1,           1,           1,           1,           1,           1,           1,           1,           1,           1,           1,           1,           1,           1,           1,           1,           1,           1,           1,           1,\n",
       "                  1,           1,           1,           1,           1,           1,           1,           1,           1,           1,           1,           1,           1,           1,           1,           1,           1,           1,           1,           1,           1,           1,           1,\n",
       "                  1,           1,           1,           1,           1,           1,           1,           1,           1,           1,           1,           1,           1,           1,           1,           1,           1,           1,           1,           1,           1,           1,           1,\n",
       "                  1,           1,           1,           1,           1,           1,           1,           1,           1,           1,           1,           1,           1,           1,           1,           1,           1,           1,           1,           1,           1,           1,           1,\n",
       "                  1,           1,           1,           1,           1,           1,           1,           1,           1,           1,           1,           1,           1,           1,           1,           1,           1,           1,           1,           1,           1,           1,           1,\n",
       "                  1,           1,           1,           1,           1,           1,           1,           1,           1,           1,           1,           1,           1,           1,           1,           1,           1,           1,           1,           1,           1,           1,           1,\n",
       "                  1,           1,           1,           1,           1,           1,           1,           1,           1,           1,           1,           1,           1,           1,           1,           1,           1,           1,           1,           1,           1,           1,           1,\n",
       "                  1,           1,           1,           1,           1,           1,           1,           1,           1,           1,           1,           1,           1,           1,           1,           1,           1,           1,           1,           1,           1,           1,           1,\n",
       "                  1,           1,           1,           1,           1,           1,           1,           1,           1,           1,           1,           1,           1,           1,           1,           1,           1,           1,           1,           1,           1,           1,           1,\n",
       "                  1,           1,     0.99083,     0.99083,     0.99083,     0.99083,     0.99083,     0.99083,     0.99083,     0.99083,     0.99083,     0.99083,     0.99083,     0.99083,     0.99083,     0.99083,     0.99083,     0.99083,     0.99083,     0.99083,     0.99083,     0.99083,     0.99083,\n",
       "            0.99083,     0.99083,     0.99083,     0.99083,     0.99083,     0.99083,     0.99083,     0.99083,     0.99083,     0.99083,     0.99083,     0.99083,     0.99083,     0.99083,     0.99083,     0.99083,     0.99083,     0.99083,     0.99083,     0.99083,     0.99083,     0.99083,     0.99083,\n",
       "            0.99083,     0.99083,     0.98773,     0.98773,     0.98773,     0.98773,     0.98773,     0.98773,     0.98773,     0.98773,     0.98773,     0.98773,     0.98773,     0.98773,     0.98773,     0.98773,     0.98773,     0.98773,     0.98773,     0.98773,     0.98773,     0.98773,     0.98773,\n",
       "            0.98773,     0.98773,     0.98773,     0.98773,     0.98773,     0.98773,     0.98773,     0.98773,     0.98773,     0.98773,     0.98773,     0.98773,     0.98773,     0.98773,     0.98773,     0.98773,     0.98773,     0.98773,     0.98773,     0.98773,     0.98773,     0.98773,     0.98773,\n",
       "            0.98773,     0.98773,     0.98773,     0.98773,     0.98773,     0.98773,     0.98773,     0.98773,     0.98773,     0.98773,     0.98773,     0.98773,     0.98773,     0.98773,     0.98773,     0.98773,     0.98773,     0.98773,     0.98773,     0.98773,     0.98773,     0.98773,     0.98773,\n",
       "            0.98773,     0.98773,     0.98773,     0.98773,     0.98773,     0.98773,     0.98773,     0.98773,     0.98773,     0.98773,     0.98773,     0.98773,     0.98773,     0.98773,     0.98773,     0.98773,     0.98773,     0.98773,     0.98773,     0.98773,     0.98773,     0.98773,     0.98773,\n",
       "            0.98773,     0.98773,     0.98773,     0.98773,     0.98773,     0.98773,     0.98773,     0.98773,     0.98773,     0.98773,     0.98773,     0.98773,     0.98773,     0.98773,     0.98773,     0.98773,     0.98773,     0.98773,     0.98773,     0.98773,     0.98773,     0.98773,     0.98773,\n",
       "            0.98773,     0.98773,     0.98773,     0.98773,     0.98773,     0.98773,     0.98773,     0.98773,     0.98773,     0.98773,     0.98773,     0.98773,     0.98773,     0.98773,     0.98773,     0.98773,     0.98773,     0.98773,     0.98773,     0.98773,     0.98773,     0.98773,     0.98773,\n",
       "            0.98773,     0.98773,     0.98773,     0.98773,     0.98773,     0.98773,     0.98773,     0.98773,     0.98773,     0.98773,     0.98773,     0.98773,     0.98773,     0.98773,     0.98773,     0.98773,     0.98773,     0.98773,     0.98773,     0.98773,     0.98773,     0.98773,     0.98773,\n",
       "            0.98773,     0.98773,     0.98773,     0.98773,     0.98773,     0.98773,     0.98773,     0.98773,     0.98773,     0.98773,     0.98773,     0.98773,     0.98773,     0.98773,     0.98773,     0.98773,     0.98773,     0.98773,     0.98773,     0.98773,     0.98773,     0.98773,     0.98773,\n",
       "            0.98773,     0.98773,     0.98773,     0.98773,     0.98773,     0.98773,     0.98773,     0.98773,     0.98773,     0.98773,     0.98773,     0.98773,     0.98773,     0.98773,     0.98773,     0.98773,     0.98773,     0.98773,     0.98773,     0.98773,     0.98773,     0.98773,     0.98773,\n",
       "            0.98773,     0.98773,     0.98773,     0.98773,     0.98773,     0.98773,     0.98773,     0.98773,     0.98773,     0.98773,     0.98773,     0.98773,     0.98773,     0.98773,     0.98773,     0.98773,     0.98773,     0.98773,     0.98773,     0.98773,     0.98773,     0.98773,     0.98773,\n",
       "            0.98773,     0.98773,     0.98773,     0.98773,     0.98773,     0.98773,     0.98773,     0.98773,     0.98773,     0.98773,     0.98773,     0.98773,     0.98773,     0.98773,     0.98773,     0.98773,     0.98773,     0.98773,     0.98773,     0.98773,     0.98773,     0.98773,     0.98773,\n",
       "            0.98773,     0.98773,     0.98773,     0.98773,     0.98773,     0.98773,     0.98773,     0.98773,     0.98773,     0.98773,     0.98773,     0.98773,     0.98773,     0.98773,     0.98773,     0.98773,     0.98773,     0.98773,     0.98773,     0.98773,     0.98214,     0.98214,     0.98214,\n",
       "            0.98214,     0.98214,     0.98214,     0.98214,     0.98214,     0.98214,     0.98214,     0.98214,     0.98214,     0.98214,     0.98214,     0.98214,     0.98214,     0.98214,     0.98214,     0.98214,     0.98214,     0.98214,     0.97727,     0.97727,     0.97727,     0.97727,     0.97727,\n",
       "            0.97727,     0.97727,     0.97727,     0.97727,     0.97727,     0.97727,     0.97727,     0.97727,     0.97727,     0.97727,     0.97727,     0.97727,     0.97727,     0.97727,     0.97727,     0.97727,     0.97727,     0.97727,     0.97727,     0.97727,     0.97727,     0.97727,     0.97727,\n",
       "            0.97727,     0.97727,     0.97727,     0.97727,     0.97727,     0.97727,     0.97727,     0.97727,     0.97207,     0.97207,     0.97207,     0.97207,     0.97207,     0.97207,     0.97207,     0.97207,     0.97207,     0.97207,     0.96685,     0.96685,     0.96685,     0.96685,     0.96685,\n",
       "            0.96175,     0.96175,     0.96175,     0.96175,     0.96175,     0.95676,     0.95676,     0.95676,     0.95676,     0.95676,     0.94681,     0.94681,     0.94681,     0.94681,     0.94681,     0.94211,     0.94211,     0.94211,     0.94211,     0.94211,     0.94211,      0.9375,      0.9375,\n",
       "             0.9375,      0.9375,      0.9375,     0.90955,     0.90955,     0.90955,     0.90955,     0.90955,     0.90099,     0.90099,     0.90099,     0.90099,     0.90099,      0.7625,      0.7625,      0.7625,      0.7625,      0.7625,     0.74797,     0.74797,     0.74797,     0.74797,     0.74797,\n",
       "            0.59486,     0.59486,     0.59486,     0.59486,     0.59486,     0.51667,     0.51667,     0.51667,     0.51667,     0.51667,        0.44,        0.44,        0.44,        0.44,        0.44,        0.44,     0.36719,     0.36719,     0.36719,     0.36719,     0.36719,     0.20342,     0.19761,\n",
       "            0.19179,     0.18598,     0.18017,     0.17436,     0.16855,     0.16273,     0.15692,     0.15111,      0.1453,     0.13949,     0.13368,     0.12786,     0.12205,     0.11624,     0.11043,     0.10462,    0.098803,    0.092991,    0.087179,    0.081367,    0.075555,    0.069743,    0.063932,\n",
       "            0.05812,    0.052308,    0.046496,    0.040684,    0.034872,     0.02906,    0.023248,    0.017436,    0.011624,    0.005812,           0]]), 'Recall', 'Precision'], [array([          0,    0.001001,    0.002002,    0.003003,    0.004004,    0.005005,    0.006006,    0.007007,    0.008008,    0.009009,     0.01001,    0.011011,    0.012012,    0.013013,    0.014014,    0.015015,    0.016016,    0.017017,    0.018018,    0.019019,     0.02002,    0.021021,    0.022022,    0.023023,\n",
       "          0.024024,    0.025025,    0.026026,    0.027027,    0.028028,    0.029029,     0.03003,    0.031031,    0.032032,    0.033033,    0.034034,    0.035035,    0.036036,    0.037037,    0.038038,    0.039039,     0.04004,    0.041041,    0.042042,    0.043043,    0.044044,    0.045045,    0.046046,    0.047047,\n",
       "          0.048048,    0.049049,     0.05005,    0.051051,    0.052052,    0.053053,    0.054054,    0.055055,    0.056056,    0.057057,    0.058058,    0.059059,     0.06006,    0.061061,    0.062062,    0.063063,    0.064064,    0.065065,    0.066066,    0.067067,    0.068068,    0.069069,     0.07007,    0.071071,\n",
       "          0.072072,    0.073073,    0.074074,    0.075075,    0.076076,    0.077077,    0.078078,    0.079079,     0.08008,    0.081081,    0.082082,    0.083083,    0.084084,    0.085085,    0.086086,    0.087087,    0.088088,    0.089089,     0.09009,    0.091091,    0.092092,    0.093093,    0.094094,    0.095095,\n",
       "          0.096096,    0.097097,    0.098098,    0.099099,      0.1001,      0.1011,      0.1021,      0.1031,      0.1041,     0.10511,     0.10611,     0.10711,     0.10811,     0.10911,     0.11011,     0.11111,     0.11211,     0.11311,     0.11411,     0.11512,     0.11612,     0.11712,     0.11812,     0.11912,\n",
       "           0.12012,     0.12112,     0.12212,     0.12312,     0.12412,     0.12513,     0.12613,     0.12713,     0.12813,     0.12913,     0.13013,     0.13113,     0.13213,     0.13313,     0.13413,     0.13514,     0.13614,     0.13714,     0.13814,     0.13914,     0.14014,     0.14114,     0.14214,     0.14314,\n",
       "           0.14414,     0.14515,     0.14615,     0.14715,     0.14815,     0.14915,     0.15015,     0.15115,     0.15215,     0.15315,     0.15415,     0.15516,     0.15616,     0.15716,     0.15816,     0.15916,     0.16016,     0.16116,     0.16216,     0.16316,     0.16416,     0.16517,     0.16617,     0.16717,\n",
       "           0.16817,     0.16917,     0.17017,     0.17117,     0.17217,     0.17317,     0.17417,     0.17518,     0.17618,     0.17718,     0.17818,     0.17918,     0.18018,     0.18118,     0.18218,     0.18318,     0.18418,     0.18519,     0.18619,     0.18719,     0.18819,     0.18919,     0.19019,     0.19119,\n",
       "           0.19219,     0.19319,     0.19419,      0.1952,      0.1962,      0.1972,      0.1982,      0.1992,      0.2002,      0.2012,      0.2022,      0.2032,      0.2042,     0.20521,     0.20621,     0.20721,     0.20821,     0.20921,     0.21021,     0.21121,     0.21221,     0.21321,     0.21421,     0.21522,\n",
       "           0.21622,     0.21722,     0.21822,     0.21922,     0.22022,     0.22122,     0.22222,     0.22322,     0.22422,     0.22523,     0.22623,     0.22723,     0.22823,     0.22923,     0.23023,     0.23123,     0.23223,     0.23323,     0.23423,     0.23524,     0.23624,     0.23724,     0.23824,     0.23924,\n",
       "           0.24024,     0.24124,     0.24224,     0.24324,     0.24424,     0.24525,     0.24625,     0.24725,     0.24825,     0.24925,     0.25025,     0.25125,     0.25225,     0.25325,     0.25425,     0.25526,     0.25626,     0.25726,     0.25826,     0.25926,     0.26026,     0.26126,     0.26226,     0.26326,\n",
       "           0.26426,     0.26527,     0.26627,     0.26727,     0.26827,     0.26927,     0.27027,     0.27127,     0.27227,     0.27327,     0.27427,     0.27528,     0.27628,     0.27728,     0.27828,     0.27928,     0.28028,     0.28128,     0.28228,     0.28328,     0.28428,     0.28529,     0.28629,     0.28729,\n",
       "           0.28829,     0.28929,     0.29029,     0.29129,     0.29229,     0.29329,     0.29429,      0.2953,      0.2963,      0.2973,      0.2983,      0.2993,      0.3003,      0.3013,      0.3023,      0.3033,      0.3043,     0.30531,     0.30631,     0.30731,     0.30831,     0.30931,     0.31031,     0.31131,\n",
       "           0.31231,     0.31331,     0.31431,     0.31532,     0.31632,     0.31732,     0.31832,     0.31932,     0.32032,     0.32132,     0.32232,     0.32332,     0.32432,     0.32533,     0.32633,     0.32733,     0.32833,     0.32933,     0.33033,     0.33133,     0.33233,     0.33333,     0.33433,     0.33534,\n",
       "           0.33634,     0.33734,     0.33834,     0.33934,     0.34034,     0.34134,     0.34234,     0.34334,     0.34434,     0.34535,     0.34635,     0.34735,     0.34835,     0.34935,     0.35035,     0.35135,     0.35235,     0.35335,     0.35435,     0.35536,     0.35636,     0.35736,     0.35836,     0.35936,\n",
       "           0.36036,     0.36136,     0.36236,     0.36336,     0.36436,     0.36537,     0.36637,     0.36737,     0.36837,     0.36937,     0.37037,     0.37137,     0.37237,     0.37337,     0.37437,     0.37538,     0.37638,     0.37738,     0.37838,     0.37938,     0.38038,     0.38138,     0.38238,     0.38338,\n",
       "           0.38438,     0.38539,     0.38639,     0.38739,     0.38839,     0.38939,     0.39039,     0.39139,     0.39239,     0.39339,     0.39439,      0.3954,      0.3964,      0.3974,      0.3984,      0.3994,      0.4004,      0.4014,      0.4024,      0.4034,      0.4044,     0.40541,     0.40641,     0.40741,\n",
       "           0.40841,     0.40941,     0.41041,     0.41141,     0.41241,     0.41341,     0.41441,     0.41542,     0.41642,     0.41742,     0.41842,     0.41942,     0.42042,     0.42142,     0.42242,     0.42342,     0.42442,     0.42543,     0.42643,     0.42743,     0.42843,     0.42943,     0.43043,     0.43143,\n",
       "           0.43243,     0.43343,     0.43443,     0.43544,     0.43644,     0.43744,     0.43844,     0.43944,     0.44044,     0.44144,     0.44244,     0.44344,     0.44444,     0.44545,     0.44645,     0.44745,     0.44845,     0.44945,     0.45045,     0.45145,     0.45245,     0.45345,     0.45445,     0.45546,\n",
       "           0.45646,     0.45746,     0.45846,     0.45946,     0.46046,     0.46146,     0.46246,     0.46346,     0.46446,     0.46547,     0.46647,     0.46747,     0.46847,     0.46947,     0.47047,     0.47147,     0.47247,     0.47347,     0.47447,     0.47548,     0.47648,     0.47748,     0.47848,     0.47948,\n",
       "           0.48048,     0.48148,     0.48248,     0.48348,     0.48448,     0.48549,     0.48649,     0.48749,     0.48849,     0.48949,     0.49049,     0.49149,     0.49249,     0.49349,     0.49449,      0.4955,      0.4965,      0.4975,      0.4985,      0.4995,      0.5005,      0.5015,      0.5025,      0.5035,\n",
       "            0.5045,     0.50551,     0.50651,     0.50751,     0.50851,     0.50951,     0.51051,     0.51151,     0.51251,     0.51351,     0.51451,     0.51552,     0.51652,     0.51752,     0.51852,     0.51952,     0.52052,     0.52152,     0.52252,     0.52352,     0.52452,     0.52553,     0.52653,     0.52753,\n",
       "           0.52853,     0.52953,     0.53053,     0.53153,     0.53253,     0.53353,     0.53453,     0.53554,     0.53654,     0.53754,     0.53854,     0.53954,     0.54054,     0.54154,     0.54254,     0.54354,     0.54454,     0.54555,     0.54655,     0.54755,     0.54855,     0.54955,     0.55055,     0.55155,\n",
       "           0.55255,     0.55355,     0.55455,     0.55556,     0.55656,     0.55756,     0.55856,     0.55956,     0.56056,     0.56156,     0.56256,     0.56356,     0.56456,     0.56557,     0.56657,     0.56757,     0.56857,     0.56957,     0.57057,     0.57157,     0.57257,     0.57357,     0.57457,     0.57558,\n",
       "           0.57658,     0.57758,     0.57858,     0.57958,     0.58058,     0.58158,     0.58258,     0.58358,     0.58458,     0.58559,     0.58659,     0.58759,     0.58859,     0.58959,     0.59059,     0.59159,     0.59259,     0.59359,     0.59459,      0.5956,      0.5966,      0.5976,      0.5986,      0.5996,\n",
       "            0.6006,      0.6016,      0.6026,      0.6036,      0.6046,     0.60561,     0.60661,     0.60761,     0.60861,     0.60961,     0.61061,     0.61161,     0.61261,     0.61361,     0.61461,     0.61562,     0.61662,     0.61762,     0.61862,     0.61962,     0.62062,     0.62162,     0.62262,     0.62362,\n",
       "           0.62462,     0.62563,     0.62663,     0.62763,     0.62863,     0.62963,     0.63063,     0.63163,     0.63263,     0.63363,     0.63463,     0.63564,     0.63664,     0.63764,     0.63864,     0.63964,     0.64064,     0.64164,     0.64264,     0.64364,     0.64464,     0.64565,     0.64665,     0.64765,\n",
       "           0.64865,     0.64965,     0.65065,     0.65165,     0.65265,     0.65365,     0.65465,     0.65566,     0.65666,     0.65766,     0.65866,     0.65966,     0.66066,     0.66166,     0.66266,     0.66366,     0.66466,     0.66567,     0.66667,     0.66767,     0.66867,     0.66967,     0.67067,     0.67167,\n",
       "           0.67267,     0.67367,     0.67467,     0.67568,     0.67668,     0.67768,     0.67868,     0.67968,     0.68068,     0.68168,     0.68268,     0.68368,     0.68468,     0.68569,     0.68669,     0.68769,     0.68869,     0.68969,     0.69069,     0.69169,     0.69269,     0.69369,     0.69469,      0.6957,\n",
       "            0.6967,      0.6977,      0.6987,      0.6997,      0.7007,      0.7017,      0.7027,      0.7037,      0.7047,     0.70571,     0.70671,     0.70771,     0.70871,     0.70971,     0.71071,     0.71171,     0.71271,     0.71371,     0.71471,     0.71572,     0.71672,     0.71772,     0.71872,     0.71972,\n",
       "           0.72072,     0.72172,     0.72272,     0.72372,     0.72472,     0.72573,     0.72673,     0.72773,     0.72873,     0.72973,     0.73073,     0.73173,     0.73273,     0.73373,     0.73473,     0.73574,     0.73674,     0.73774,     0.73874,     0.73974,     0.74074,     0.74174,     0.74274,     0.74374,\n",
       "           0.74474,     0.74575,     0.74675,     0.74775,     0.74875,     0.74975,     0.75075,     0.75175,     0.75275,     0.75375,     0.75475,     0.75576,     0.75676,     0.75776,     0.75876,     0.75976,     0.76076,     0.76176,     0.76276,     0.76376,     0.76476,     0.76577,     0.76677,     0.76777,\n",
       "           0.76877,     0.76977,     0.77077,     0.77177,     0.77277,     0.77377,     0.77477,     0.77578,     0.77678,     0.77778,     0.77878,     0.77978,     0.78078,     0.78178,     0.78278,     0.78378,     0.78478,     0.78579,     0.78679,     0.78779,     0.78879,     0.78979,     0.79079,     0.79179,\n",
       "           0.79279,     0.79379,     0.79479,      0.7958,      0.7968,      0.7978,      0.7988,      0.7998,      0.8008,      0.8018,      0.8028,      0.8038,      0.8048,     0.80581,     0.80681,     0.80781,     0.80881,     0.80981,     0.81081,     0.81181,     0.81281,     0.81381,     0.81481,     0.81582,\n",
       "           0.81682,     0.81782,     0.81882,     0.81982,     0.82082,     0.82182,     0.82282,     0.82382,     0.82482,     0.82583,     0.82683,     0.82783,     0.82883,     0.82983,     0.83083,     0.83183,     0.83283,     0.83383,     0.83483,     0.83584,     0.83684,     0.83784,     0.83884,     0.83984,\n",
       "           0.84084,     0.84184,     0.84284,     0.84384,     0.84484,     0.84585,     0.84685,     0.84785,     0.84885,     0.84985,     0.85085,     0.85185,     0.85285,     0.85385,     0.85485,     0.85586,     0.85686,     0.85786,     0.85886,     0.85986,     0.86086,     0.86186,     0.86286,     0.86386,\n",
       "           0.86486,     0.86587,     0.86687,     0.86787,     0.86887,     0.86987,     0.87087,     0.87187,     0.87287,     0.87387,     0.87487,     0.87588,     0.87688,     0.87788,     0.87888,     0.87988,     0.88088,     0.88188,     0.88288,     0.88388,     0.88488,     0.88589,     0.88689,     0.88789,\n",
       "           0.88889,     0.88989,     0.89089,     0.89189,     0.89289,     0.89389,     0.89489,      0.8959,      0.8969,      0.8979,      0.8989,      0.8999,      0.9009,      0.9019,      0.9029,      0.9039,      0.9049,     0.90591,     0.90691,     0.90791,     0.90891,     0.90991,     0.91091,     0.91191,\n",
       "           0.91291,     0.91391,     0.91491,     0.91592,     0.91692,     0.91792,     0.91892,     0.91992,     0.92092,     0.92192,     0.92292,     0.92392,     0.92492,     0.92593,     0.92693,     0.92793,     0.92893,     0.92993,     0.93093,     0.93193,     0.93293,     0.93393,     0.93493,     0.93594,\n",
       "           0.93694,     0.93794,     0.93894,     0.93994,     0.94094,     0.94194,     0.94294,     0.94394,     0.94494,     0.94595,     0.94695,     0.94795,     0.94895,     0.94995,     0.95095,     0.95195,     0.95295,     0.95395,     0.95495,     0.95596,     0.95696,     0.95796,     0.95896,     0.95996,\n",
       "           0.96096,     0.96196,     0.96296,     0.96396,     0.96496,     0.96597,     0.96697,     0.96797,     0.96897,     0.96997,     0.97097,     0.97197,     0.97297,     0.97397,     0.97497,     0.97598,     0.97698,     0.97798,     0.97898,     0.97998,     0.98098,     0.98198,     0.98298,     0.98398,\n",
       "           0.98498,     0.98599,     0.98699,     0.98799,     0.98899,     0.98999,     0.99099,     0.99199,     0.99299,     0.99399,     0.99499,       0.996,       0.997,       0.998,       0.999,           1]), array([[    0.34275,     0.34275,     0.48015,     0.55486,     0.60124,     0.63984,     0.65999,     0.67934,     0.70487,      0.7166,     0.72979,     0.74215,     0.76045,     0.76579,     0.76973,     0.77592,     0.79387,     0.79603,     0.80392,     0.80636,     0.81236,     0.81679,     0.82432,\n",
       "            0.83293,     0.83209,     0.83432,     0.83525,     0.83646,     0.83972,     0.83958,     0.84173,     0.84675,     0.84807,      0.8492,     0.85025,     0.85104,     0.85177,     0.85251,     0.85347,     0.85444,     0.85708,     0.85818,     0.85911,     0.85996,     0.86137,     0.86327,\n",
       "            0.86462,     0.86517,     0.86572,     0.86627,     0.86673,     0.86695,     0.86718,      0.8674,     0.86763,     0.86785,     0.86808,      0.8683,     0.86853,     0.86887,     0.87076,     0.87376,     0.87516,     0.87534,     0.87552,      0.8757,     0.87588,     0.87606,     0.87624,\n",
       "            0.87642,      0.8766,     0.87678,     0.87696,     0.87749,     0.87961,     0.88191,     0.88291,     0.88427,     0.88577,     0.88624,     0.88671,     0.88718,     0.88766,     0.88808,     0.88847,     0.88887,     0.88926,     0.88966,     0.89003,      0.8903,     0.89057,     0.89084,\n",
       "            0.89111,     0.89137,     0.89164,     0.89191,      0.8922,     0.89271,     0.89322,     0.89372,     0.89423,     0.89444,     0.89455,     0.89466,     0.89478,     0.89489,     0.89501,     0.89512,     0.89524,     0.89535,     0.89547,     0.89558,     0.89569,     0.89581,     0.89592,\n",
       "            0.89604,     0.89615,     0.89627,     0.89638,     0.89649,     0.89684,     0.89744,     0.89804,     0.89863,     0.89883,     0.89892,       0.899,     0.89909,     0.89917,     0.89926,     0.89934,     0.89943,     0.89951,      0.8996,     0.89968,     0.89977,     0.89985,     0.89994,\n",
       "            0.90002,     0.90011,     0.90019,     0.90028,     0.90036,     0.90045,     0.90053,     0.90062,      0.9007,     0.90079,     0.90087,     0.90096,     0.90124,     0.90165,     0.90206,     0.90246,     0.90287,     0.90336,     0.90445,      0.9055,     0.90597,     0.90645,     0.90692,\n",
       "             0.9074,     0.90789,     0.90842,     0.90895,     0.90948,     0.91001,     0.91028,     0.91056,     0.91083,     0.91111,     0.91138,     0.91166,     0.91193,     0.91221,     0.91238,     0.91251,     0.91264,     0.91277,      0.9129,     0.91304,     0.91317,      0.9133,     0.91343,\n",
       "            0.91356,     0.91369,     0.91382,     0.91396,     0.91409,     0.91422,     0.91435,     0.91448,     0.91473,     0.91527,     0.91581,     0.91635,     0.91687,     0.91677,     0.91667,     0.91657,     0.91647,     0.91637,     0.91627,     0.91617,     0.91607,     0.91597,     0.91587,\n",
       "            0.91577,     0.91567,     0.91557,     0.91547,     0.91537,     0.91527,     0.91517,     0.91506,     0.91496,     0.91486,     0.91476,     0.91466,     0.91456,     0.91446,     0.91436,     0.91426,     0.91416,     0.91486,     0.91573,     0.91647,     0.91655,     0.91662,      0.9167,\n",
       "            0.91678,     0.91686,     0.91693,     0.91701,     0.91709,     0.91717,     0.91724,     0.91732,      0.9174,     0.91748,     0.91755,     0.91763,     0.91771,     0.91779,     0.91786,     0.91794,     0.91802,      0.9181,     0.91817,     0.91825,     0.91833,     0.91841,     0.91848,\n",
       "            0.91856,     0.91864,     0.91872,      0.9187,     0.91816,     0.91763,     0.91709,     0.91655,     0.91603,     0.91613,     0.91623,     0.91633,     0.91643,     0.91653,     0.91663,     0.91673,     0.91683,     0.91693,     0.91703,     0.91713,     0.91723,     0.91733,     0.91743,\n",
       "            0.91753,     0.91763,     0.91773,     0.91783,     0.91793,     0.91803,     0.91813,     0.91823,     0.91833,     0.91855,     0.91885,     0.91916,     0.91946,     0.91976,     0.92006,     0.92036,     0.92066,     0.92081,     0.92092,     0.92104,     0.92115,     0.92127,     0.92138,\n",
       "            0.92149,     0.92161,     0.92172,     0.92183,     0.92195,     0.92206,     0.92218,     0.92229,      0.9224,     0.92252,     0.92263,     0.92275,     0.92286,     0.92297,     0.92309,     0.92321,     0.92334,     0.92347,     0.92359,     0.92372,     0.92385,     0.92397,      0.9241,\n",
       "            0.92423,     0.92435,     0.92448,      0.9246,     0.92473,     0.92486,     0.92498,     0.92511,     0.92524,     0.92536,     0.92549,     0.92561,     0.92574,     0.92586,     0.92598,     0.92611,     0.92623,     0.92636,     0.92648,      0.9266,     0.92673,     0.92685,     0.92697,\n",
       "             0.9271,     0.92722,     0.92734,     0.92747,     0.92759,     0.92772,     0.92784,     0.92791,     0.92799,     0.92806,     0.92814,     0.92822,     0.92829,     0.92837,     0.92844,     0.92852,      0.9286,     0.92867,     0.92875,     0.92882,      0.9289,     0.92897,     0.92905,\n",
       "            0.92912,      0.9292,     0.92928,     0.92935,     0.92943,      0.9295,     0.92958,     0.92965,     0.92973,      0.9298,     0.92988,     0.92996,     0.93003,     0.93011,     0.93018,     0.93021,     0.93015,     0.93009,     0.93003,     0.92997,     0.92991,     0.92984,     0.92978,\n",
       "            0.92972,     0.92966,      0.9296,     0.92954,     0.92948,     0.92942,     0.92935,     0.92929,     0.92923,     0.92917,     0.92911,     0.92905,     0.92899,     0.92892,     0.92886,      0.9288,     0.92874,     0.92868,     0.92862,     0.92856,     0.92849,     0.92843,     0.92837,\n",
       "            0.92831,     0.92825,     0.92819,     0.92813,     0.92806,       0.928,     0.92794,     0.92788,     0.92782,     0.92776,     0.92769,     0.92763,     0.92757,     0.92751,     0.92747,     0.92752,     0.92758,     0.92763,     0.92768,     0.92773,     0.92778,     0.92784,     0.92789,\n",
       "            0.92794,     0.92799,     0.92804,      0.9281,     0.92815,      0.9282,     0.92825,     0.92831,     0.92836,     0.92841,     0.92846,     0.92851,     0.92857,     0.92862,     0.92867,     0.92872,     0.92877,     0.92883,     0.92888,     0.92893,     0.92898,     0.92903,     0.92908,\n",
       "            0.92914,     0.92919,     0.92924,     0.92929,     0.92934,      0.9294,     0.92945,      0.9295,     0.92955,      0.9296,     0.92966,     0.92971,     0.92976,     0.92981,     0.92986,     0.92969,     0.92949,     0.92929,     0.92908,     0.92888,     0.92867,     0.92847,     0.92827,\n",
       "            0.92806,     0.92786,     0.92765,     0.92745,     0.92725,     0.92734,     0.92858,     0.92948,     0.92939,     0.92931,     0.92922,     0.92913,     0.92905,     0.92896,     0.92887,     0.92879,      0.9287,     0.92861,     0.92853,     0.92844,     0.92835,     0.92826,     0.92818,\n",
       "            0.92809,       0.928,     0.92792,     0.92783,     0.92774,     0.92766,     0.92757,     0.92748,     0.92739,     0.92731,     0.92722,     0.92713,     0.92705,     0.92696,     0.92687,     0.92678,     0.92671,     0.92677,     0.92683,     0.92689,     0.92695,     0.92701,     0.92707,\n",
       "            0.92713,     0.92719,     0.92725,     0.92731,     0.92737,     0.92743,     0.92749,     0.92755,     0.92761,     0.92767,     0.92773,     0.92779,     0.92785,     0.92791,     0.92797,     0.92803,     0.92809,     0.92815,     0.92821,     0.92827,     0.92833,     0.92839,     0.92845,\n",
       "            0.92851,     0.92857,     0.92863,     0.92869,     0.92875,     0.92881,     0.92887,     0.92893,     0.92899,     0.92905,     0.92911,     0.92923,      0.9294,     0.92957,     0.92973,      0.9299,     0.93007,     0.93023,      0.9304,     0.93057,     0.93074,      0.9309,     0.93107,\n",
       "            0.93124,      0.9314,     0.93157,     0.92886,     0.93119,     0.93116,      0.9311,     0.93103,     0.93097,     0.93091,     0.93085,     0.93079,     0.93073,     0.93067,     0.93061,     0.93055,     0.93048,     0.93042,     0.93036,      0.9303,     0.93024,     0.93018,     0.93012,\n",
       "            0.93006,        0.93,     0.92993,     0.92987,     0.92981,     0.92975,     0.92969,     0.92963,     0.92957,     0.92951,     0.92945,     0.92938,     0.92932,     0.92926,      0.9292,     0.92914,     0.92908,     0.92902,     0.92896,     0.92889,     0.92883,     0.92877,     0.92871,\n",
       "            0.92865,     0.92859,     0.92853,     0.92846,      0.9284,     0.92879,     0.92943,     0.93006,     0.93069,     0.93061,     0.93028,     0.92996,     0.92964,     0.92931,     0.92899,     0.92866,     0.92834,     0.92801,     0.92821,     0.92842,     0.92863,     0.92884,     0.92905,\n",
       "            0.92927,     0.92948,     0.92969,      0.9299,     0.93011,     0.93032,     0.93026,     0.92943,     0.92859,     0.92774,     0.92637,     0.92489,     0.92493,     0.92515,     0.92538,      0.9256,     0.92582,     0.92604,     0.92626,     0.92649,     0.92671,     0.92693,     0.92715,\n",
       "            0.92678,     0.92612,     0.92546,      0.9248,      0.9242,     0.92378,     0.92335,     0.92292,      0.9225,     0.92207,     0.92164,     0.92116,     0.92062,     0.92007,     0.91952,     0.91898,     0.91846,     0.91831,     0.91816,     0.91801,     0.91786,     0.91771,     0.91756,\n",
       "            0.91741,     0.91726,     0.91711,     0.91696,     0.91681,     0.91665,      0.9165,     0.91635,      0.9162,     0.91605,      0.9159,     0.91575,      0.9156,     0.91518,     0.91457,     0.91397,     0.91336,     0.91275,     0.90898,      0.9081,     0.90722,     0.90674,     0.90725,\n",
       "            0.90777,     0.90828,     0.90879,     0.90901,     0.90882,     0.90863,     0.90843,     0.90824,     0.90805,     0.90786,     0.90766,     0.90747,     0.90728,     0.90708,     0.90689,      0.9067,      0.9065,     0.90631,     0.90612,     0.90484,     0.90329,     0.90239,     0.90161,\n",
       "            0.90083,     0.90004,     0.89703,     0.89765,     0.89838,     0.89912,     0.89909,     0.89846,     0.89783,      0.8972,     0.89656,     0.89607,     0.89565,     0.89523,      0.8948,     0.89438,     0.89395,     0.89353,     0.88937,     0.88723,     0.88628,     0.88548,     0.88467,\n",
       "            0.88386,     0.88305,     0.88223,     0.88142,      0.8806,     0.87966,     0.87873,      0.8778,     0.87638,     0.87474,     0.87053,     0.86832,     0.86695,     0.86584,     0.86472,     0.85936,     0.85764,      0.8568,     0.85594,     0.85509,      0.8541,     0.85296,     0.85182,\n",
       "             0.8494,     0.84755,     0.84686,     0.84617,     0.84548,     0.84478,     0.84335,     0.84161,     0.83855,     0.83708,      0.8362,     0.83531,     0.83443,     0.83226,     0.82591,      0.8236,     0.82294,     0.82229,     0.82163,     0.82097,     0.81986,     0.81576,     0.81393,\n",
       "            0.81094,     0.80806,     0.80172,     0.79457,     0.79204,     0.78855,     0.77818,     0.77579,     0.77384,      0.7678,     0.76516,     0.76346,     0.76187,     0.76048,     0.75934,     0.75819,     0.75707,     0.75654,       0.756,     0.75546,     0.75493,     0.75439,     0.75385,\n",
       "            0.75331,     0.75022,     0.74503,     0.74428,     0.74353,     0.74279,     0.74204,     0.74129,     0.74015,     0.73897,     0.73779,     0.73617,     0.73409,     0.72863,     0.72786,     0.72709,     0.72633,     0.72556,     0.72007,     0.71607,      0.7132,     0.70839,     0.70919,\n",
       "            0.70998,     0.70984,     0.70766,     0.70039,     0.69424,     0.69219,     0.69091,     0.68962,     0.68237,     0.67111,     0.65969,     0.65732,     0.65472,     0.64469,     0.63566,     0.63103,     0.62774,     0.61838,     0.61458,     0.60624,     0.60283,     0.58531,      0.5811,\n",
       "            0.57898,     0.57686,     0.57344,     0.56674,     0.56103,     0.55557,     0.55373,      0.5519,     0.55006,     0.54821,     0.54636,     0.54318,     0.53687,     0.52757,     0.52376,     0.51993,     0.51403,     0.50691,     0.50102,     0.48927,     0.47212,     0.46519,     0.44978,\n",
       "             0.4344,     0.42759,     0.41679,     0.40476,     0.39144,      0.3815,     0.37805,     0.36078,     0.35606,     0.34975,     0.34501,      0.3414,     0.31717,     0.31036,     0.30534,     0.29534,     0.29023,     0.27628,     0.26204,     0.25233,     0.24088,     0.23544,     0.22997,\n",
       "            0.22622,     0.22415,     0.22207,     0.21999,     0.20973,     0.20762,     0.20551,     0.20339,     0.20105,     0.19862,     0.19618,       0.181,     0.17476,     0.17125,     0.16773,     0.16419,     0.16064,     0.15211,     0.14221,     0.14082,     0.13942,     0.13802,     0.13661,\n",
       "            0.13521,     0.13176,     0.10664,      0.1056,     0.10455,      0.1035,     0.10245,      0.1014,     0.10034,    0.099288,    0.098232,    0.095245,    0.088867,    0.079537,    0.067589,    0.063655,    0.059705,    0.049844,    0.043157,    0.029668,    0.028534,    0.027398,    0.026261,\n",
       "           0.025123,    0.023983,    0.022842,      0.0217,    0.020557,    0.019412,    0.018265,    0.017118,    0.015969,    0.014819,    0.013667,    0.012514,     0.01136,    0.010205,           0,           0,           0,           0,           0,           0,           0,           0,           0,\n",
       "                  0,           0,           0,           0,           0,           0,           0,           0,           0,           0,           0]]), 'Confidence', 'F1'], [array([          0,    0.001001,    0.002002,    0.003003,    0.004004,    0.005005,    0.006006,    0.007007,    0.008008,    0.009009,     0.01001,    0.011011,    0.012012,    0.013013,    0.014014,    0.015015,    0.016016,    0.017017,    0.018018,    0.019019,     0.02002,    0.021021,    0.022022,    0.023023,\n",
       "          0.024024,    0.025025,    0.026026,    0.027027,    0.028028,    0.029029,     0.03003,    0.031031,    0.032032,    0.033033,    0.034034,    0.035035,    0.036036,    0.037037,    0.038038,    0.039039,     0.04004,    0.041041,    0.042042,    0.043043,    0.044044,    0.045045,    0.046046,    0.047047,\n",
       "          0.048048,    0.049049,     0.05005,    0.051051,    0.052052,    0.053053,    0.054054,    0.055055,    0.056056,    0.057057,    0.058058,    0.059059,     0.06006,    0.061061,    0.062062,    0.063063,    0.064064,    0.065065,    0.066066,    0.067067,    0.068068,    0.069069,     0.07007,    0.071071,\n",
       "          0.072072,    0.073073,    0.074074,    0.075075,    0.076076,    0.077077,    0.078078,    0.079079,     0.08008,    0.081081,    0.082082,    0.083083,    0.084084,    0.085085,    0.086086,    0.087087,    0.088088,    0.089089,     0.09009,    0.091091,    0.092092,    0.093093,    0.094094,    0.095095,\n",
       "          0.096096,    0.097097,    0.098098,    0.099099,      0.1001,      0.1011,      0.1021,      0.1031,      0.1041,     0.10511,     0.10611,     0.10711,     0.10811,     0.10911,     0.11011,     0.11111,     0.11211,     0.11311,     0.11411,     0.11512,     0.11612,     0.11712,     0.11812,     0.11912,\n",
       "           0.12012,     0.12112,     0.12212,     0.12312,     0.12412,     0.12513,     0.12613,     0.12713,     0.12813,     0.12913,     0.13013,     0.13113,     0.13213,     0.13313,     0.13413,     0.13514,     0.13614,     0.13714,     0.13814,     0.13914,     0.14014,     0.14114,     0.14214,     0.14314,\n",
       "           0.14414,     0.14515,     0.14615,     0.14715,     0.14815,     0.14915,     0.15015,     0.15115,     0.15215,     0.15315,     0.15415,     0.15516,     0.15616,     0.15716,     0.15816,     0.15916,     0.16016,     0.16116,     0.16216,     0.16316,     0.16416,     0.16517,     0.16617,     0.16717,\n",
       "           0.16817,     0.16917,     0.17017,     0.17117,     0.17217,     0.17317,     0.17417,     0.17518,     0.17618,     0.17718,     0.17818,     0.17918,     0.18018,     0.18118,     0.18218,     0.18318,     0.18418,     0.18519,     0.18619,     0.18719,     0.18819,     0.18919,     0.19019,     0.19119,\n",
       "           0.19219,     0.19319,     0.19419,      0.1952,      0.1962,      0.1972,      0.1982,      0.1992,      0.2002,      0.2012,      0.2022,      0.2032,      0.2042,     0.20521,     0.20621,     0.20721,     0.20821,     0.20921,     0.21021,     0.21121,     0.21221,     0.21321,     0.21421,     0.21522,\n",
       "           0.21622,     0.21722,     0.21822,     0.21922,     0.22022,     0.22122,     0.22222,     0.22322,     0.22422,     0.22523,     0.22623,     0.22723,     0.22823,     0.22923,     0.23023,     0.23123,     0.23223,     0.23323,     0.23423,     0.23524,     0.23624,     0.23724,     0.23824,     0.23924,\n",
       "           0.24024,     0.24124,     0.24224,     0.24324,     0.24424,     0.24525,     0.24625,     0.24725,     0.24825,     0.24925,     0.25025,     0.25125,     0.25225,     0.25325,     0.25425,     0.25526,     0.25626,     0.25726,     0.25826,     0.25926,     0.26026,     0.26126,     0.26226,     0.26326,\n",
       "           0.26426,     0.26527,     0.26627,     0.26727,     0.26827,     0.26927,     0.27027,     0.27127,     0.27227,     0.27327,     0.27427,     0.27528,     0.27628,     0.27728,     0.27828,     0.27928,     0.28028,     0.28128,     0.28228,     0.28328,     0.28428,     0.28529,     0.28629,     0.28729,\n",
       "           0.28829,     0.28929,     0.29029,     0.29129,     0.29229,     0.29329,     0.29429,      0.2953,      0.2963,      0.2973,      0.2983,      0.2993,      0.3003,      0.3013,      0.3023,      0.3033,      0.3043,     0.30531,     0.30631,     0.30731,     0.30831,     0.30931,     0.31031,     0.31131,\n",
       "           0.31231,     0.31331,     0.31431,     0.31532,     0.31632,     0.31732,     0.31832,     0.31932,     0.32032,     0.32132,     0.32232,     0.32332,     0.32432,     0.32533,     0.32633,     0.32733,     0.32833,     0.32933,     0.33033,     0.33133,     0.33233,     0.33333,     0.33433,     0.33534,\n",
       "           0.33634,     0.33734,     0.33834,     0.33934,     0.34034,     0.34134,     0.34234,     0.34334,     0.34434,     0.34535,     0.34635,     0.34735,     0.34835,     0.34935,     0.35035,     0.35135,     0.35235,     0.35335,     0.35435,     0.35536,     0.35636,     0.35736,     0.35836,     0.35936,\n",
       "           0.36036,     0.36136,     0.36236,     0.36336,     0.36436,     0.36537,     0.36637,     0.36737,     0.36837,     0.36937,     0.37037,     0.37137,     0.37237,     0.37337,     0.37437,     0.37538,     0.37638,     0.37738,     0.37838,     0.37938,     0.38038,     0.38138,     0.38238,     0.38338,\n",
       "           0.38438,     0.38539,     0.38639,     0.38739,     0.38839,     0.38939,     0.39039,     0.39139,     0.39239,     0.39339,     0.39439,      0.3954,      0.3964,      0.3974,      0.3984,      0.3994,      0.4004,      0.4014,      0.4024,      0.4034,      0.4044,     0.40541,     0.40641,     0.40741,\n",
       "           0.40841,     0.40941,     0.41041,     0.41141,     0.41241,     0.41341,     0.41441,     0.41542,     0.41642,     0.41742,     0.41842,     0.41942,     0.42042,     0.42142,     0.42242,     0.42342,     0.42442,     0.42543,     0.42643,     0.42743,     0.42843,     0.42943,     0.43043,     0.43143,\n",
       "           0.43243,     0.43343,     0.43443,     0.43544,     0.43644,     0.43744,     0.43844,     0.43944,     0.44044,     0.44144,     0.44244,     0.44344,     0.44444,     0.44545,     0.44645,     0.44745,     0.44845,     0.44945,     0.45045,     0.45145,     0.45245,     0.45345,     0.45445,     0.45546,\n",
       "           0.45646,     0.45746,     0.45846,     0.45946,     0.46046,     0.46146,     0.46246,     0.46346,     0.46446,     0.46547,     0.46647,     0.46747,     0.46847,     0.46947,     0.47047,     0.47147,     0.47247,     0.47347,     0.47447,     0.47548,     0.47648,     0.47748,     0.47848,     0.47948,\n",
       "           0.48048,     0.48148,     0.48248,     0.48348,     0.48448,     0.48549,     0.48649,     0.48749,     0.48849,     0.48949,     0.49049,     0.49149,     0.49249,     0.49349,     0.49449,      0.4955,      0.4965,      0.4975,      0.4985,      0.4995,      0.5005,      0.5015,      0.5025,      0.5035,\n",
       "            0.5045,     0.50551,     0.50651,     0.50751,     0.50851,     0.50951,     0.51051,     0.51151,     0.51251,     0.51351,     0.51451,     0.51552,     0.51652,     0.51752,     0.51852,     0.51952,     0.52052,     0.52152,     0.52252,     0.52352,     0.52452,     0.52553,     0.52653,     0.52753,\n",
       "           0.52853,     0.52953,     0.53053,     0.53153,     0.53253,     0.53353,     0.53453,     0.53554,     0.53654,     0.53754,     0.53854,     0.53954,     0.54054,     0.54154,     0.54254,     0.54354,     0.54454,     0.54555,     0.54655,     0.54755,     0.54855,     0.54955,     0.55055,     0.55155,\n",
       "           0.55255,     0.55355,     0.55455,     0.55556,     0.55656,     0.55756,     0.55856,     0.55956,     0.56056,     0.56156,     0.56256,     0.56356,     0.56456,     0.56557,     0.56657,     0.56757,     0.56857,     0.56957,     0.57057,     0.57157,     0.57257,     0.57357,     0.57457,     0.57558,\n",
       "           0.57658,     0.57758,     0.57858,     0.57958,     0.58058,     0.58158,     0.58258,     0.58358,     0.58458,     0.58559,     0.58659,     0.58759,     0.58859,     0.58959,     0.59059,     0.59159,     0.59259,     0.59359,     0.59459,      0.5956,      0.5966,      0.5976,      0.5986,      0.5996,\n",
       "            0.6006,      0.6016,      0.6026,      0.6036,      0.6046,     0.60561,     0.60661,     0.60761,     0.60861,     0.60961,     0.61061,     0.61161,     0.61261,     0.61361,     0.61461,     0.61562,     0.61662,     0.61762,     0.61862,     0.61962,     0.62062,     0.62162,     0.62262,     0.62362,\n",
       "           0.62462,     0.62563,     0.62663,     0.62763,     0.62863,     0.62963,     0.63063,     0.63163,     0.63263,     0.63363,     0.63463,     0.63564,     0.63664,     0.63764,     0.63864,     0.63964,     0.64064,     0.64164,     0.64264,     0.64364,     0.64464,     0.64565,     0.64665,     0.64765,\n",
       "           0.64865,     0.64965,     0.65065,     0.65165,     0.65265,     0.65365,     0.65465,     0.65566,     0.65666,     0.65766,     0.65866,     0.65966,     0.66066,     0.66166,     0.66266,     0.66366,     0.66466,     0.66567,     0.66667,     0.66767,     0.66867,     0.66967,     0.67067,     0.67167,\n",
       "           0.67267,     0.67367,     0.67467,     0.67568,     0.67668,     0.67768,     0.67868,     0.67968,     0.68068,     0.68168,     0.68268,     0.68368,     0.68468,     0.68569,     0.68669,     0.68769,     0.68869,     0.68969,     0.69069,     0.69169,     0.69269,     0.69369,     0.69469,      0.6957,\n",
       "            0.6967,      0.6977,      0.6987,      0.6997,      0.7007,      0.7017,      0.7027,      0.7037,      0.7047,     0.70571,     0.70671,     0.70771,     0.70871,     0.70971,     0.71071,     0.71171,     0.71271,     0.71371,     0.71471,     0.71572,     0.71672,     0.71772,     0.71872,     0.71972,\n",
       "           0.72072,     0.72172,     0.72272,     0.72372,     0.72472,     0.72573,     0.72673,     0.72773,     0.72873,     0.72973,     0.73073,     0.73173,     0.73273,     0.73373,     0.73473,     0.73574,     0.73674,     0.73774,     0.73874,     0.73974,     0.74074,     0.74174,     0.74274,     0.74374,\n",
       "           0.74474,     0.74575,     0.74675,     0.74775,     0.74875,     0.74975,     0.75075,     0.75175,     0.75275,     0.75375,     0.75475,     0.75576,     0.75676,     0.75776,     0.75876,     0.75976,     0.76076,     0.76176,     0.76276,     0.76376,     0.76476,     0.76577,     0.76677,     0.76777,\n",
       "           0.76877,     0.76977,     0.77077,     0.77177,     0.77277,     0.77377,     0.77477,     0.77578,     0.77678,     0.77778,     0.77878,     0.77978,     0.78078,     0.78178,     0.78278,     0.78378,     0.78478,     0.78579,     0.78679,     0.78779,     0.78879,     0.78979,     0.79079,     0.79179,\n",
       "           0.79279,     0.79379,     0.79479,      0.7958,      0.7968,      0.7978,      0.7988,      0.7998,      0.8008,      0.8018,      0.8028,      0.8038,      0.8048,     0.80581,     0.80681,     0.80781,     0.80881,     0.80981,     0.81081,     0.81181,     0.81281,     0.81381,     0.81481,     0.81582,\n",
       "           0.81682,     0.81782,     0.81882,     0.81982,     0.82082,     0.82182,     0.82282,     0.82382,     0.82482,     0.82583,     0.82683,     0.82783,     0.82883,     0.82983,     0.83083,     0.83183,     0.83283,     0.83383,     0.83483,     0.83584,     0.83684,     0.83784,     0.83884,     0.83984,\n",
       "           0.84084,     0.84184,     0.84284,     0.84384,     0.84484,     0.84585,     0.84685,     0.84785,     0.84885,     0.84985,     0.85085,     0.85185,     0.85285,     0.85385,     0.85485,     0.85586,     0.85686,     0.85786,     0.85886,     0.85986,     0.86086,     0.86186,     0.86286,     0.86386,\n",
       "           0.86486,     0.86587,     0.86687,     0.86787,     0.86887,     0.86987,     0.87087,     0.87187,     0.87287,     0.87387,     0.87487,     0.87588,     0.87688,     0.87788,     0.87888,     0.87988,     0.88088,     0.88188,     0.88288,     0.88388,     0.88488,     0.88589,     0.88689,     0.88789,\n",
       "           0.88889,     0.88989,     0.89089,     0.89189,     0.89289,     0.89389,     0.89489,      0.8959,      0.8969,      0.8979,      0.8989,      0.8999,      0.9009,      0.9019,      0.9029,      0.9039,      0.9049,     0.90591,     0.90691,     0.90791,     0.90891,     0.90991,     0.91091,     0.91191,\n",
       "           0.91291,     0.91391,     0.91491,     0.91592,     0.91692,     0.91792,     0.91892,     0.91992,     0.92092,     0.92192,     0.92292,     0.92392,     0.92492,     0.92593,     0.92693,     0.92793,     0.92893,     0.92993,     0.93093,     0.93193,     0.93293,     0.93393,     0.93493,     0.93594,\n",
       "           0.93694,     0.93794,     0.93894,     0.93994,     0.94094,     0.94194,     0.94294,     0.94394,     0.94494,     0.94595,     0.94695,     0.94795,     0.94895,     0.94995,     0.95095,     0.95195,     0.95295,     0.95395,     0.95495,     0.95596,     0.95696,     0.95796,     0.95896,     0.95996,\n",
       "           0.96096,     0.96196,     0.96296,     0.96396,     0.96496,     0.96597,     0.96697,     0.96797,     0.96897,     0.96997,     0.97097,     0.97197,     0.97297,     0.97397,     0.97497,     0.97598,     0.97698,     0.97798,     0.97898,     0.97998,     0.98098,     0.98198,     0.98298,     0.98398,\n",
       "           0.98498,     0.98599,     0.98699,     0.98799,     0.98899,     0.98999,     0.99099,     0.99199,     0.99299,     0.99399,     0.99499,       0.996,       0.997,       0.998,       0.999,           1]), array([[    0.20843,     0.20843,     0.31968,     0.39036,     0.43789,     0.48137,     0.50455,     0.52911,     0.56074,     0.57574,     0.59295,     0.61158,     0.63684,     0.64437,     0.64997,     0.65885,     0.68516,     0.68837,     0.70027,     0.70397,     0.71318,     0.72004,     0.73182,\n",
       "             0.7455,     0.74705,     0.75098,      0.7525,     0.75446,     0.75978,     0.76295,     0.76651,     0.77486,     0.77708,     0.77899,     0.78075,     0.78209,     0.78332,     0.78456,      0.7862,     0.78784,     0.79234,     0.79423,     0.79582,     0.79728,     0.79971,       0.803,\n",
       "            0.80533,     0.80629,     0.80724,      0.8082,       0.809,     0.80939,     0.80978,     0.81017,     0.81057,     0.81096,     0.81135,     0.81174,     0.81213,     0.81273,     0.81605,     0.82133,     0.82381,     0.82413,     0.82445,     0.82477,     0.82509,     0.82541,     0.82573,\n",
       "            0.82605,     0.82637,     0.82669,     0.82702,     0.82795,     0.83174,     0.83585,     0.83766,     0.84011,     0.84281,     0.84367,     0.84453,     0.84538,     0.84624,     0.84701,     0.84773,     0.84845,     0.84917,     0.84989,     0.85056,     0.85106,     0.85155,     0.85204,\n",
       "            0.85253,     0.85303,     0.85352,     0.85401,     0.85454,     0.85547,      0.8564,     0.85733,     0.85827,     0.85865,     0.85886,     0.85907,     0.85928,      0.8595,     0.85971,     0.85992,     0.86013,     0.86034,     0.86055,     0.86076,     0.86097,     0.86118,      0.8614,\n",
       "            0.86161,     0.86182,     0.86203,     0.86224,     0.86245,      0.8631,     0.86421,     0.86531,     0.86641,     0.86679,     0.86695,     0.86711,     0.86726,     0.86742,     0.86758,     0.86774,      0.8679,     0.86806,     0.86822,     0.86837,     0.86853,     0.86869,     0.86885,\n",
       "            0.86901,     0.86917,     0.86933,     0.86948,     0.86964,      0.8698,     0.86996,     0.87012,     0.87028,     0.87044,     0.87059,     0.87075,     0.87128,     0.87204,     0.87281,     0.87357,     0.87433,     0.87526,      0.8773,     0.87927,     0.88017,     0.88107,     0.88197,\n",
       "            0.88286,     0.88379,      0.8848,     0.88581,     0.88682,     0.88782,     0.88834,     0.88887,     0.88939,     0.88992,     0.89044,     0.89097,     0.89149,     0.89202,     0.89234,     0.89259,     0.89285,      0.8931,     0.89335,      0.8936,     0.89385,     0.89411,     0.89436,\n",
       "            0.89461,     0.89486,     0.89511,     0.89537,     0.89562,     0.89587,     0.89612,     0.89637,     0.89686,      0.8979,     0.89894,     0.89998,     0.90099,     0.90097,     0.90095,     0.90094,     0.90092,      0.9009,     0.90088,     0.90086,     0.90084,     0.90083,     0.90081,\n",
       "            0.90079,     0.90077,     0.90075,     0.90074,     0.90072,      0.9007,     0.90068,     0.90066,     0.90065,     0.90063,     0.90061,     0.90059,     0.90057,     0.90055,     0.90054,     0.90052,      0.9005,      0.9019,     0.90358,     0.90502,     0.90517,     0.90533,     0.90548,\n",
       "            0.90563,     0.90578,     0.90593,     0.90608,     0.90624,     0.90639,     0.90654,     0.90669,     0.90684,     0.90699,     0.90715,      0.9073,     0.90745,      0.9076,     0.90775,      0.9079,     0.90805,     0.90821,     0.90836,     0.90851,     0.90866,     0.90881,     0.90896,\n",
       "            0.90912,     0.90927,     0.90942,     0.90953,     0.90944,     0.90936,     0.90927,     0.90918,      0.9091,     0.90929,     0.90949,     0.90969,     0.90989,     0.91008,     0.91028,     0.91048,     0.91067,     0.91087,     0.91107,     0.91126,     0.91146,     0.91166,     0.91186,\n",
       "            0.91205,     0.91225,     0.91245,     0.91264,     0.91284,     0.91304,     0.91324,     0.91343,     0.91363,     0.91407,     0.91467,     0.91527,     0.91587,     0.91646,     0.91706,     0.91766,     0.91826,     0.91855,     0.91878,     0.91901,     0.91923,     0.91946,     0.91969,\n",
       "            0.91991,     0.92014,     0.92037,      0.9206,     0.92082,     0.92105,     0.92128,     0.92151,     0.92173,     0.92196,     0.92219,     0.92241,     0.92264,     0.92287,      0.9231,     0.92335,      0.9236,     0.92386,     0.92411,     0.92436,     0.92462,     0.92487,     0.92512,\n",
       "            0.92538,     0.92563,     0.92588,     0.92614,     0.92639,     0.92664,      0.9269,     0.92715,      0.9274,     0.92766,     0.92791,     0.92816,     0.92841,     0.92866,     0.92891,     0.92916,     0.92941,     0.92966,     0.92991,     0.93016,     0.93041,     0.93065,      0.9309,\n",
       "            0.93115,      0.9314,     0.93165,      0.9319,     0.93215,      0.9324,     0.93265,      0.9328,     0.93295,     0.93311,     0.93326,     0.93341,     0.93357,     0.93372,     0.93387,     0.93403,     0.93418,     0.93433,     0.93449,     0.93464,     0.93479,     0.93495,      0.9351,\n",
       "            0.93525,     0.93541,     0.93556,     0.93571,     0.93586,     0.93602,     0.93617,     0.93632,     0.93648,     0.93663,     0.93678,     0.93694,     0.93709,     0.93724,      0.9374,      0.9375,     0.93749,     0.93748,     0.93748,     0.93747,     0.93746,     0.93745,     0.93745,\n",
       "            0.93744,     0.93743,     0.93743,     0.93742,     0.93741,      0.9374,      0.9374,     0.93739,     0.93738,     0.93737,     0.93737,     0.93736,     0.93735,     0.93735,     0.93734,     0.93733,     0.93732,     0.93732,     0.93731,      0.9373,     0.93729,     0.93729,     0.93728,\n",
       "            0.93727,     0.93727,     0.93726,     0.93725,     0.93724,     0.93724,     0.93723,     0.93722,     0.93721,     0.93721,      0.9372,     0.93719,     0.93719,     0.93718,     0.93719,      0.9373,     0.93741,     0.93751,     0.93762,     0.93773,     0.93783,     0.93794,     0.93805,\n",
       "            0.93815,     0.93826,     0.93837,     0.93847,     0.93858,     0.93868,     0.93879,      0.9389,       0.939,     0.93911,     0.93922,     0.93932,     0.93943,     0.93954,     0.93964,     0.93975,     0.93986,     0.93996,     0.94007,     0.94017,     0.94028,     0.94039,     0.94049,\n",
       "             0.9406,     0.94071,     0.94081,     0.94092,     0.94103,     0.94113,     0.94124,     0.94135,     0.94145,     0.94156,     0.94167,     0.94177,     0.94188,     0.94198,     0.94209,     0.94209,     0.94206,     0.94204,     0.94202,       0.942,     0.94197,     0.94195,     0.94193,\n",
       "            0.94191,     0.94188,     0.94186,     0.94184,     0.94182,     0.94233,      0.9449,     0.94681,      0.9468,     0.94679,     0.94678,     0.94677,     0.94676,     0.94675,     0.94674,     0.94674,     0.94673,     0.94672,     0.94671,      0.9467,     0.94669,     0.94668,     0.94667,\n",
       "            0.94666,     0.94666,     0.94665,     0.94664,     0.94663,     0.94662,     0.94661,      0.9466,     0.94659,     0.94659,     0.94658,     0.94657,     0.94656,     0.94655,     0.94654,     0.94653,     0.94653,     0.94666,     0.94678,     0.94691,     0.94703,     0.94716,     0.94729,\n",
       "            0.94741,     0.94754,     0.94766,     0.94779,     0.94791,     0.94804,     0.94817,     0.94829,     0.94842,     0.94854,     0.94867,     0.94879,     0.94892,     0.94905,     0.94917,      0.9493,     0.94942,     0.94955,     0.94967,      0.9498,     0.94993,     0.95005,     0.95018,\n",
       "             0.9503,     0.95043,     0.95055,     0.95068,     0.95081,     0.95093,     0.95106,     0.95118,     0.95131,     0.95143,     0.95156,     0.95181,     0.95217,     0.95252,     0.95287,     0.95322,     0.95357,     0.95392,     0.95428,     0.95463,     0.95498,     0.95533,     0.95568,\n",
       "            0.95603,     0.95638,     0.95674,     0.95653,     0.96169,     0.96174,     0.96174,     0.96174,     0.96173,     0.96173,     0.96172,     0.96172,     0.96171,     0.96171,      0.9617,      0.9617,     0.96169,     0.96169,     0.96169,     0.96168,     0.96168,     0.96167,     0.96167,\n",
       "            0.96166,     0.96166,     0.96165,     0.96165,     0.96164,     0.96164,     0.96164,     0.96163,     0.96163,     0.96162,     0.96162,     0.96161,     0.96161,      0.9616,      0.9616,     0.96159,     0.96159,     0.96159,     0.96158,     0.96158,     0.96157,     0.96157,     0.96156,\n",
       "            0.96156,     0.96155,     0.96155,     0.96154,     0.96154,     0.96242,     0.96378,     0.96515,     0.96651,     0.96684,     0.96681,     0.96679,     0.96677,     0.96675,     0.96673,     0.96671,     0.96669,     0.96667,     0.96711,     0.96757,     0.96804,      0.9685,     0.96896,\n",
       "            0.96942,     0.96988,     0.97034,      0.9708,     0.97126,     0.97173,     0.97206,     0.97201,     0.97196,     0.97192,     0.97184,     0.97176,     0.97219,     0.97268,     0.97318,     0.97367,     0.97416,     0.97465,     0.97514,     0.97564,     0.97613,     0.97662,     0.97711,\n",
       "            0.97725,     0.97722,     0.97719,     0.97716,     0.97714,     0.97712,      0.9771,     0.97708,     0.97706,     0.97704,     0.97702,       0.977,     0.97698,     0.97695,     0.97693,      0.9769,     0.97688,     0.97687,     0.97686,     0.97686,     0.97685,     0.97684,     0.97684,\n",
       "            0.97683,     0.97682,     0.97682,     0.97681,      0.9768,      0.9768,     0.97679,     0.97678,     0.97677,     0.97677,     0.97676,     0.97675,     0.97675,     0.97673,      0.9767,     0.97667,     0.97664,     0.97662,     0.97644,      0.9764,     0.97636,     0.97667,     0.97786,\n",
       "            0.97905,     0.98025,     0.98144,     0.98214,     0.98213,     0.98213,     0.98212,     0.98211,     0.98211,      0.9821,     0.98209,     0.98209,     0.98208,     0.98207,     0.98206,     0.98206,     0.98205,     0.98204,     0.98204,     0.98199,     0.98194,      0.9819,     0.98188,\n",
       "            0.98185,     0.98182,     0.98171,     0.98342,     0.98518,     0.98694,     0.98772,     0.98771,     0.98769,     0.98767,     0.98766,     0.98765,     0.98764,     0.98763,     0.98762,     0.98761,     0.98759,     0.98758,     0.98748,     0.98743,      0.9874,     0.98738,     0.98736,\n",
       "            0.98734,     0.98732,      0.9873,     0.98728,     0.98726,     0.98724,     0.98721,     0.98719,     0.98715,     0.98711,       0.987,     0.98694,     0.98691,     0.98688,     0.98685,      0.9867,     0.98666,     0.98663,     0.98661,     0.98659,     0.98656,     0.98653,      0.9865,\n",
       "            0.98643,     0.98638,     0.98636,     0.98635,     0.98633,     0.98631,     0.98627,     0.98622,     0.98613,     0.98609,     0.98607,     0.98604,     0.98602,     0.98596,     0.98577,     0.98571,     0.98569,     0.98567,     0.98565,     0.98563,      0.9856,     0.98548,     0.98542,\n",
       "            0.98533,     0.98525,     0.98505,     0.98483,     0.98475,     0.98464,     0.98431,     0.98423,     0.98417,     0.98397,     0.98388,     0.98382,     0.98377,     0.98372,     0.98368,     0.98364,     0.98361,     0.98359,     0.98357,     0.98355,     0.98353,     0.98351,     0.98349,\n",
       "            0.98348,     0.98337,     0.98319,     0.98316,     0.98313,     0.98311,     0.98308,     0.98305,     0.98301,     0.98297,     0.98293,     0.98287,     0.98279,     0.98259,     0.98257,     0.98254,     0.98251,     0.98248,     0.98227,     0.98212,     0.98201,     0.98256,     0.98564,\n",
       "            0.98871,     0.99081,     0.99077,     0.99062,     0.99049,     0.99045,     0.99043,      0.9904,     0.99024,           1,           1,           1,           1,           1,           1,           1,           1,           1,           1,           1,           1,           1,           1,\n",
       "                  1,           1,           1,           1,           1,           1,           1,           1,           1,           1,           1,           1,           1,           1,           1,           1,           1,           1,           1,           1,           1,           1,           1,\n",
       "                  1,           1,           1,           1,           1,           1,           1,           1,           1,           1,           1,           1,           1,           1,           1,           1,           1,           1,           1,           1,           1,           1,           1,\n",
       "                  1,           1,           1,           1,           1,           1,           1,           1,           1,           1,           1,           1,           1,           1,           1,           1,           1,           1,           1,           1,           1,           1,           1,\n",
       "                  1,           1,           1,           1,           1,           1,           1,           1,           1,           1,           1,           1,           1,           1,           1,           1,           1,           1,           1,           1,           1,           1,           1,\n",
       "                  1,           1,           1,           1,           1,           1,           1,           1,           1,           1,           1,           1,           1,           1,           1,           1,           1,           1,           1,           1,           1,           1,           1,\n",
       "                  1,           1,           1,           1,           1,           1,           1,           1,           1,           1,           1]]), 'Confidence', 'Precision'], [array([          0,    0.001001,    0.002002,    0.003003,    0.004004,    0.005005,    0.006006,    0.007007,    0.008008,    0.009009,     0.01001,    0.011011,    0.012012,    0.013013,    0.014014,    0.015015,    0.016016,    0.017017,    0.018018,    0.019019,     0.02002,    0.021021,    0.022022,    0.023023,\n",
       "          0.024024,    0.025025,    0.026026,    0.027027,    0.028028,    0.029029,     0.03003,    0.031031,    0.032032,    0.033033,    0.034034,    0.035035,    0.036036,    0.037037,    0.038038,    0.039039,     0.04004,    0.041041,    0.042042,    0.043043,    0.044044,    0.045045,    0.046046,    0.047047,\n",
       "          0.048048,    0.049049,     0.05005,    0.051051,    0.052052,    0.053053,    0.054054,    0.055055,    0.056056,    0.057057,    0.058058,    0.059059,     0.06006,    0.061061,    0.062062,    0.063063,    0.064064,    0.065065,    0.066066,    0.067067,    0.068068,    0.069069,     0.07007,    0.071071,\n",
       "          0.072072,    0.073073,    0.074074,    0.075075,    0.076076,    0.077077,    0.078078,    0.079079,     0.08008,    0.081081,    0.082082,    0.083083,    0.084084,    0.085085,    0.086086,    0.087087,    0.088088,    0.089089,     0.09009,    0.091091,    0.092092,    0.093093,    0.094094,    0.095095,\n",
       "          0.096096,    0.097097,    0.098098,    0.099099,      0.1001,      0.1011,      0.1021,      0.1031,      0.1041,     0.10511,     0.10611,     0.10711,     0.10811,     0.10911,     0.11011,     0.11111,     0.11211,     0.11311,     0.11411,     0.11512,     0.11612,     0.11712,     0.11812,     0.11912,\n",
       "           0.12012,     0.12112,     0.12212,     0.12312,     0.12412,     0.12513,     0.12613,     0.12713,     0.12813,     0.12913,     0.13013,     0.13113,     0.13213,     0.13313,     0.13413,     0.13514,     0.13614,     0.13714,     0.13814,     0.13914,     0.14014,     0.14114,     0.14214,     0.14314,\n",
       "           0.14414,     0.14515,     0.14615,     0.14715,     0.14815,     0.14915,     0.15015,     0.15115,     0.15215,     0.15315,     0.15415,     0.15516,     0.15616,     0.15716,     0.15816,     0.15916,     0.16016,     0.16116,     0.16216,     0.16316,     0.16416,     0.16517,     0.16617,     0.16717,\n",
       "           0.16817,     0.16917,     0.17017,     0.17117,     0.17217,     0.17317,     0.17417,     0.17518,     0.17618,     0.17718,     0.17818,     0.17918,     0.18018,     0.18118,     0.18218,     0.18318,     0.18418,     0.18519,     0.18619,     0.18719,     0.18819,     0.18919,     0.19019,     0.19119,\n",
       "           0.19219,     0.19319,     0.19419,      0.1952,      0.1962,      0.1972,      0.1982,      0.1992,      0.2002,      0.2012,      0.2022,      0.2032,      0.2042,     0.20521,     0.20621,     0.20721,     0.20821,     0.20921,     0.21021,     0.21121,     0.21221,     0.21321,     0.21421,     0.21522,\n",
       "           0.21622,     0.21722,     0.21822,     0.21922,     0.22022,     0.22122,     0.22222,     0.22322,     0.22422,     0.22523,     0.22623,     0.22723,     0.22823,     0.22923,     0.23023,     0.23123,     0.23223,     0.23323,     0.23423,     0.23524,     0.23624,     0.23724,     0.23824,     0.23924,\n",
       "           0.24024,     0.24124,     0.24224,     0.24324,     0.24424,     0.24525,     0.24625,     0.24725,     0.24825,     0.24925,     0.25025,     0.25125,     0.25225,     0.25325,     0.25425,     0.25526,     0.25626,     0.25726,     0.25826,     0.25926,     0.26026,     0.26126,     0.26226,     0.26326,\n",
       "           0.26426,     0.26527,     0.26627,     0.26727,     0.26827,     0.26927,     0.27027,     0.27127,     0.27227,     0.27327,     0.27427,     0.27528,     0.27628,     0.27728,     0.27828,     0.27928,     0.28028,     0.28128,     0.28228,     0.28328,     0.28428,     0.28529,     0.28629,     0.28729,\n",
       "           0.28829,     0.28929,     0.29029,     0.29129,     0.29229,     0.29329,     0.29429,      0.2953,      0.2963,      0.2973,      0.2983,      0.2993,      0.3003,      0.3013,      0.3023,      0.3033,      0.3043,     0.30531,     0.30631,     0.30731,     0.30831,     0.30931,     0.31031,     0.31131,\n",
       "           0.31231,     0.31331,     0.31431,     0.31532,     0.31632,     0.31732,     0.31832,     0.31932,     0.32032,     0.32132,     0.32232,     0.32332,     0.32432,     0.32533,     0.32633,     0.32733,     0.32833,     0.32933,     0.33033,     0.33133,     0.33233,     0.33333,     0.33433,     0.33534,\n",
       "           0.33634,     0.33734,     0.33834,     0.33934,     0.34034,     0.34134,     0.34234,     0.34334,     0.34434,     0.34535,     0.34635,     0.34735,     0.34835,     0.34935,     0.35035,     0.35135,     0.35235,     0.35335,     0.35435,     0.35536,     0.35636,     0.35736,     0.35836,     0.35936,\n",
       "           0.36036,     0.36136,     0.36236,     0.36336,     0.36436,     0.36537,     0.36637,     0.36737,     0.36837,     0.36937,     0.37037,     0.37137,     0.37237,     0.37337,     0.37437,     0.37538,     0.37638,     0.37738,     0.37838,     0.37938,     0.38038,     0.38138,     0.38238,     0.38338,\n",
       "           0.38438,     0.38539,     0.38639,     0.38739,     0.38839,     0.38939,     0.39039,     0.39139,     0.39239,     0.39339,     0.39439,      0.3954,      0.3964,      0.3974,      0.3984,      0.3994,      0.4004,      0.4014,      0.4024,      0.4034,      0.4044,     0.40541,     0.40641,     0.40741,\n",
       "           0.40841,     0.40941,     0.41041,     0.41141,     0.41241,     0.41341,     0.41441,     0.41542,     0.41642,     0.41742,     0.41842,     0.41942,     0.42042,     0.42142,     0.42242,     0.42342,     0.42442,     0.42543,     0.42643,     0.42743,     0.42843,     0.42943,     0.43043,     0.43143,\n",
       "           0.43243,     0.43343,     0.43443,     0.43544,     0.43644,     0.43744,     0.43844,     0.43944,     0.44044,     0.44144,     0.44244,     0.44344,     0.44444,     0.44545,     0.44645,     0.44745,     0.44845,     0.44945,     0.45045,     0.45145,     0.45245,     0.45345,     0.45445,     0.45546,\n",
       "           0.45646,     0.45746,     0.45846,     0.45946,     0.46046,     0.46146,     0.46246,     0.46346,     0.46446,     0.46547,     0.46647,     0.46747,     0.46847,     0.46947,     0.47047,     0.47147,     0.47247,     0.47347,     0.47447,     0.47548,     0.47648,     0.47748,     0.47848,     0.47948,\n",
       "           0.48048,     0.48148,     0.48248,     0.48348,     0.48448,     0.48549,     0.48649,     0.48749,     0.48849,     0.48949,     0.49049,     0.49149,     0.49249,     0.49349,     0.49449,      0.4955,      0.4965,      0.4975,      0.4985,      0.4995,      0.5005,      0.5015,      0.5025,      0.5035,\n",
       "            0.5045,     0.50551,     0.50651,     0.50751,     0.50851,     0.50951,     0.51051,     0.51151,     0.51251,     0.51351,     0.51451,     0.51552,     0.51652,     0.51752,     0.51852,     0.51952,     0.52052,     0.52152,     0.52252,     0.52352,     0.52452,     0.52553,     0.52653,     0.52753,\n",
       "           0.52853,     0.52953,     0.53053,     0.53153,     0.53253,     0.53353,     0.53453,     0.53554,     0.53654,     0.53754,     0.53854,     0.53954,     0.54054,     0.54154,     0.54254,     0.54354,     0.54454,     0.54555,     0.54655,     0.54755,     0.54855,     0.54955,     0.55055,     0.55155,\n",
       "           0.55255,     0.55355,     0.55455,     0.55556,     0.55656,     0.55756,     0.55856,     0.55956,     0.56056,     0.56156,     0.56256,     0.56356,     0.56456,     0.56557,     0.56657,     0.56757,     0.56857,     0.56957,     0.57057,     0.57157,     0.57257,     0.57357,     0.57457,     0.57558,\n",
       "           0.57658,     0.57758,     0.57858,     0.57958,     0.58058,     0.58158,     0.58258,     0.58358,     0.58458,     0.58559,     0.58659,     0.58759,     0.58859,     0.58959,     0.59059,     0.59159,     0.59259,     0.59359,     0.59459,      0.5956,      0.5966,      0.5976,      0.5986,      0.5996,\n",
       "            0.6006,      0.6016,      0.6026,      0.6036,      0.6046,     0.60561,     0.60661,     0.60761,     0.60861,     0.60961,     0.61061,     0.61161,     0.61261,     0.61361,     0.61461,     0.61562,     0.61662,     0.61762,     0.61862,     0.61962,     0.62062,     0.62162,     0.62262,     0.62362,\n",
       "           0.62462,     0.62563,     0.62663,     0.62763,     0.62863,     0.62963,     0.63063,     0.63163,     0.63263,     0.63363,     0.63463,     0.63564,     0.63664,     0.63764,     0.63864,     0.63964,     0.64064,     0.64164,     0.64264,     0.64364,     0.64464,     0.64565,     0.64665,     0.64765,\n",
       "           0.64865,     0.64965,     0.65065,     0.65165,     0.65265,     0.65365,     0.65465,     0.65566,     0.65666,     0.65766,     0.65866,     0.65966,     0.66066,     0.66166,     0.66266,     0.66366,     0.66466,     0.66567,     0.66667,     0.66767,     0.66867,     0.66967,     0.67067,     0.67167,\n",
       "           0.67267,     0.67367,     0.67467,     0.67568,     0.67668,     0.67768,     0.67868,     0.67968,     0.68068,     0.68168,     0.68268,     0.68368,     0.68468,     0.68569,     0.68669,     0.68769,     0.68869,     0.68969,     0.69069,     0.69169,     0.69269,     0.69369,     0.69469,      0.6957,\n",
       "            0.6967,      0.6977,      0.6987,      0.6997,      0.7007,      0.7017,      0.7027,      0.7037,      0.7047,     0.70571,     0.70671,     0.70771,     0.70871,     0.70971,     0.71071,     0.71171,     0.71271,     0.71371,     0.71471,     0.71572,     0.71672,     0.71772,     0.71872,     0.71972,\n",
       "           0.72072,     0.72172,     0.72272,     0.72372,     0.72472,     0.72573,     0.72673,     0.72773,     0.72873,     0.72973,     0.73073,     0.73173,     0.73273,     0.73373,     0.73473,     0.73574,     0.73674,     0.73774,     0.73874,     0.73974,     0.74074,     0.74174,     0.74274,     0.74374,\n",
       "           0.74474,     0.74575,     0.74675,     0.74775,     0.74875,     0.74975,     0.75075,     0.75175,     0.75275,     0.75375,     0.75475,     0.75576,     0.75676,     0.75776,     0.75876,     0.75976,     0.76076,     0.76176,     0.76276,     0.76376,     0.76476,     0.76577,     0.76677,     0.76777,\n",
       "           0.76877,     0.76977,     0.77077,     0.77177,     0.77277,     0.77377,     0.77477,     0.77578,     0.77678,     0.77778,     0.77878,     0.77978,     0.78078,     0.78178,     0.78278,     0.78378,     0.78478,     0.78579,     0.78679,     0.78779,     0.78879,     0.78979,     0.79079,     0.79179,\n",
       "           0.79279,     0.79379,     0.79479,      0.7958,      0.7968,      0.7978,      0.7988,      0.7998,      0.8008,      0.8018,      0.8028,      0.8038,      0.8048,     0.80581,     0.80681,     0.80781,     0.80881,     0.80981,     0.81081,     0.81181,     0.81281,     0.81381,     0.81481,     0.81582,\n",
       "           0.81682,     0.81782,     0.81882,     0.81982,     0.82082,     0.82182,     0.82282,     0.82382,     0.82482,     0.82583,     0.82683,     0.82783,     0.82883,     0.82983,     0.83083,     0.83183,     0.83283,     0.83383,     0.83483,     0.83584,     0.83684,     0.83784,     0.83884,     0.83984,\n",
       "           0.84084,     0.84184,     0.84284,     0.84384,     0.84484,     0.84585,     0.84685,     0.84785,     0.84885,     0.84985,     0.85085,     0.85185,     0.85285,     0.85385,     0.85485,     0.85586,     0.85686,     0.85786,     0.85886,     0.85986,     0.86086,     0.86186,     0.86286,     0.86386,\n",
       "           0.86486,     0.86587,     0.86687,     0.86787,     0.86887,     0.86987,     0.87087,     0.87187,     0.87287,     0.87387,     0.87487,     0.87588,     0.87688,     0.87788,     0.87888,     0.87988,     0.88088,     0.88188,     0.88288,     0.88388,     0.88488,     0.88589,     0.88689,     0.88789,\n",
       "           0.88889,     0.88989,     0.89089,     0.89189,     0.89289,     0.89389,     0.89489,      0.8959,      0.8969,      0.8979,      0.8989,      0.8999,      0.9009,      0.9019,      0.9029,      0.9039,      0.9049,     0.90591,     0.90691,     0.90791,     0.90891,     0.90991,     0.91091,     0.91191,\n",
       "           0.91291,     0.91391,     0.91491,     0.91592,     0.91692,     0.91792,     0.91892,     0.91992,     0.92092,     0.92192,     0.92292,     0.92392,     0.92492,     0.92593,     0.92693,     0.92793,     0.92893,     0.92993,     0.93093,     0.93193,     0.93293,     0.93393,     0.93493,     0.93594,\n",
       "           0.93694,     0.93794,     0.93894,     0.93994,     0.94094,     0.94194,     0.94294,     0.94394,     0.94494,     0.94595,     0.94695,     0.94795,     0.94895,     0.94995,     0.95095,     0.95195,     0.95295,     0.95395,     0.95495,     0.95596,     0.95696,     0.95796,     0.95896,     0.95996,\n",
       "           0.96096,     0.96196,     0.96296,     0.96396,     0.96496,     0.96597,     0.96697,     0.96797,     0.96897,     0.96997,     0.97097,     0.97197,     0.97297,     0.97397,     0.97497,     0.97598,     0.97698,     0.97798,     0.97898,     0.97998,     0.98098,     0.98198,     0.98298,     0.98398,\n",
       "           0.98498,     0.98599,     0.98699,     0.98799,     0.98899,     0.98999,     0.99099,     0.99199,     0.99299,     0.99399,     0.99499,       0.996,       0.997,       0.998,       0.999,           1]), array([[     0.9641,      0.9641,      0.9641,     0.95897,     0.95897,     0.95385,     0.95385,     0.94872,     0.94872,     0.94872,     0.94872,     0.94359,     0.94359,     0.94359,     0.94359,     0.94359,     0.94359,     0.94359,     0.94359,     0.94359,     0.94359,     0.94359,     0.94359,\n",
       "            0.94359,       0.939,     0.93846,     0.93846,     0.93846,     0.93846,     0.93333,     0.93333,     0.93333,     0.93333,     0.93333,     0.93333,     0.93333,     0.93333,     0.93333,     0.93333,     0.93333,     0.93333,     0.93333,     0.93333,     0.93333,     0.93333,     0.93333,\n",
       "            0.93333,     0.93333,     0.93333,     0.93333,     0.93333,     0.93333,     0.93333,     0.93333,     0.93333,     0.93333,     0.93333,     0.93333,     0.93333,     0.93333,     0.93333,     0.93333,     0.93333,     0.93333,     0.93333,     0.93333,     0.93333,     0.93333,     0.93333,\n",
       "            0.93333,     0.93333,     0.93333,     0.93333,     0.93333,     0.93333,     0.93333,     0.93333,     0.93333,     0.93333,     0.93333,     0.93333,     0.93333,     0.93333,     0.93333,     0.93333,     0.93333,     0.93333,     0.93333,     0.93333,     0.93333,     0.93333,     0.93333,\n",
       "            0.93333,     0.93333,     0.93333,     0.93333,     0.93333,     0.93333,     0.93333,     0.93333,     0.93333,     0.93333,     0.93333,     0.93333,     0.93333,     0.93333,     0.93333,     0.93333,     0.93333,     0.93333,     0.93333,     0.93333,     0.93333,     0.93333,     0.93333,\n",
       "            0.93333,     0.93333,     0.93333,     0.93333,     0.93333,     0.93333,     0.93333,     0.93333,     0.93333,     0.93333,     0.93333,     0.93333,     0.93333,     0.93333,     0.93333,     0.93333,     0.93333,     0.93333,     0.93333,     0.93333,     0.93333,     0.93333,     0.93333,\n",
       "            0.93333,     0.93333,     0.93333,     0.93333,     0.93333,     0.93333,     0.93333,     0.93333,     0.93333,     0.93333,     0.93333,     0.93333,     0.93333,     0.93333,     0.93333,     0.93333,     0.93333,     0.93333,     0.93333,     0.93333,     0.93333,     0.93333,     0.93333,\n",
       "            0.93333,     0.93333,     0.93333,     0.93333,     0.93333,     0.93333,     0.93333,     0.93333,     0.93333,     0.93333,     0.93333,     0.93333,     0.93333,     0.93333,     0.93333,     0.93333,     0.93333,     0.93333,     0.93333,     0.93333,     0.93333,     0.93333,     0.93333,\n",
       "            0.93333,     0.93333,     0.93333,     0.93333,     0.93333,     0.93333,     0.93333,     0.93333,     0.93333,     0.93333,     0.93333,     0.93333,     0.93333,     0.93314,     0.93295,     0.93276,     0.93257,     0.93238,      0.9322,     0.93201,     0.93182,     0.93163,     0.93144,\n",
       "            0.93125,     0.93106,     0.93088,     0.93069,      0.9305,     0.93031,     0.93012,     0.92993,     0.92974,     0.92956,     0.92937,     0.92918,     0.92899,      0.9288,     0.92861,     0.92842,     0.92824,     0.92821,     0.92821,     0.92821,     0.92821,     0.92821,     0.92821,\n",
       "            0.92821,     0.92821,     0.92821,     0.92821,     0.92821,     0.92821,     0.92821,     0.92821,     0.92821,     0.92821,     0.92821,     0.92821,     0.92821,     0.92821,     0.92821,     0.92821,     0.92821,     0.92821,     0.92821,     0.92821,     0.92821,     0.92821,     0.92821,\n",
       "            0.92821,     0.92821,     0.92821,     0.92805,     0.92705,     0.92605,     0.92505,     0.92405,     0.92308,     0.92308,     0.92308,     0.92308,     0.92308,     0.92308,     0.92308,     0.92308,     0.92308,     0.92308,     0.92308,     0.92308,     0.92308,     0.92308,     0.92308,\n",
       "            0.92308,     0.92308,     0.92308,     0.92308,     0.92308,     0.92308,     0.92308,     0.92308,     0.92308,     0.92308,     0.92308,     0.92308,     0.92308,     0.92308,     0.92308,     0.92308,     0.92308,     0.92308,     0.92308,     0.92308,     0.92308,     0.92308,     0.92308,\n",
       "            0.92308,     0.92308,     0.92308,     0.92308,     0.92308,     0.92308,     0.92308,     0.92308,     0.92308,     0.92308,     0.92308,     0.92308,     0.92308,     0.92308,     0.92308,     0.92308,     0.92308,     0.92308,     0.92308,     0.92308,     0.92308,     0.92308,     0.92308,\n",
       "            0.92308,     0.92308,     0.92308,     0.92308,     0.92308,     0.92308,     0.92308,     0.92308,     0.92308,     0.92308,     0.92308,     0.92308,     0.92308,     0.92308,     0.92308,     0.92308,     0.92308,     0.92308,     0.92308,     0.92308,     0.92308,     0.92308,     0.92308,\n",
       "            0.92308,     0.92308,     0.92308,     0.92308,     0.92308,     0.92308,     0.92308,     0.92308,     0.92308,     0.92308,     0.92308,     0.92308,     0.92308,     0.92308,     0.92308,     0.92308,     0.92308,     0.92308,     0.92308,     0.92308,     0.92308,     0.92308,     0.92308,\n",
       "            0.92308,     0.92308,     0.92308,     0.92308,     0.92308,     0.92308,     0.92308,     0.92308,     0.92308,     0.92308,     0.92308,     0.92308,     0.92308,     0.92308,     0.92308,     0.92304,     0.92293,     0.92281,      0.9227,     0.92259,     0.92247,     0.92236,     0.92224,\n",
       "            0.92213,     0.92202,      0.9219,     0.92179,     0.92168,     0.92156,     0.92145,     0.92134,     0.92122,     0.92111,     0.92099,     0.92088,     0.92077,     0.92065,     0.92054,     0.92043,     0.92031,      0.9202,     0.92008,     0.91997,     0.91986,     0.91974,     0.91963,\n",
       "            0.91952,      0.9194,     0.91929,     0.91918,     0.91906,     0.91895,     0.91883,     0.91872,     0.91861,     0.91849,     0.91838,     0.91827,     0.91815,     0.91804,     0.91795,     0.91795,     0.91795,     0.91795,     0.91795,     0.91795,     0.91795,     0.91795,     0.91795,\n",
       "            0.91795,     0.91795,     0.91795,     0.91795,     0.91795,     0.91795,     0.91795,     0.91795,     0.91795,     0.91795,     0.91795,     0.91795,     0.91795,     0.91795,     0.91795,     0.91795,     0.91795,     0.91795,     0.91795,     0.91795,     0.91795,     0.91795,     0.91795,\n",
       "            0.91795,     0.91795,     0.91795,     0.91795,     0.91795,     0.91795,     0.91795,     0.91795,     0.91795,     0.91795,     0.91795,     0.91795,     0.91795,     0.91795,     0.91795,     0.91762,     0.91725,     0.91687,      0.9165,     0.91612,     0.91575,     0.91537,       0.915,\n",
       "            0.91462,     0.91424,     0.91387,     0.91349,     0.91312,     0.91282,     0.91282,     0.91278,     0.91262,     0.91246,      0.9123,     0.91214,     0.91198,     0.91182,     0.91166,     0.91151,     0.91135,     0.91119,     0.91103,     0.91087,     0.91071,     0.91055,     0.91039,\n",
       "            0.91023,     0.91007,     0.90991,     0.90975,     0.90959,     0.90943,     0.90928,     0.90912,     0.90896,      0.9088,     0.90864,     0.90848,     0.90832,     0.90816,       0.908,     0.90784,     0.90769,     0.90769,     0.90769,     0.90769,     0.90769,     0.90769,     0.90769,\n",
       "            0.90769,     0.90769,     0.90769,     0.90769,     0.90769,     0.90769,     0.90769,     0.90769,     0.90769,     0.90769,     0.90769,     0.90769,     0.90769,     0.90769,     0.90769,     0.90769,     0.90769,     0.90769,     0.90769,     0.90769,     0.90769,     0.90769,     0.90769,\n",
       "            0.90769,     0.90769,     0.90769,     0.90769,     0.90769,     0.90769,     0.90769,     0.90769,     0.90769,     0.90769,     0.90769,     0.90769,     0.90769,     0.90769,     0.90769,     0.90769,     0.90769,     0.90769,     0.90769,     0.90769,     0.90769,     0.90769,     0.90769,\n",
       "            0.90769,     0.90769,     0.90769,     0.90275,     0.90256,     0.90245,     0.90234,     0.90223,     0.90212,     0.90201,      0.9019,     0.90179,     0.90168,     0.90157,     0.90146,     0.90135,     0.90124,     0.90113,     0.90102,     0.90091,     0.90079,     0.90068,     0.90057,\n",
       "            0.90046,     0.90035,     0.90024,     0.90013,     0.90002,     0.89991,      0.8998,     0.89969,     0.89958,     0.89947,     0.89936,     0.89925,     0.89913,     0.89902,     0.89891,      0.8988,     0.89869,     0.89858,     0.89847,     0.89836,     0.89825,     0.89814,     0.89803,\n",
       "            0.89792,     0.89781,      0.8977,     0.89759,     0.89747,     0.89744,     0.89744,     0.89744,     0.89744,       0.897,     0.89642,     0.89583,     0.89525,     0.89466,     0.89408,      0.8935,     0.89291,     0.89233,     0.89231,     0.89231,     0.89231,     0.89231,     0.89231,\n",
       "            0.89231,     0.89231,     0.89231,     0.89231,     0.89231,     0.89231,     0.89192,     0.89042,     0.88891,     0.88741,     0.88496,     0.88233,     0.88205,     0.88205,     0.88205,     0.88205,     0.88205,     0.88205,     0.88205,     0.88205,     0.88205,     0.88205,     0.88205,\n",
       "            0.88126,     0.88009,     0.87893,     0.87776,     0.87671,     0.87596,     0.87521,     0.87446,     0.87371,     0.87295,      0.8722,     0.87136,      0.8704,     0.86945,     0.86849,     0.86754,     0.86664,     0.86638,     0.86612,     0.86585,     0.86559,     0.86533,     0.86507,\n",
       "             0.8648,     0.86454,     0.86428,     0.86401,     0.86375,     0.86349,     0.86323,     0.86296,      0.8627,     0.86244,     0.86217,     0.86191,     0.86165,     0.86093,     0.85988,     0.85883,     0.85778,     0.85673,     0.85023,     0.84873,     0.84723,     0.84615,     0.84615,\n",
       "            0.84615,     0.84615,     0.84615,     0.84602,     0.84569,     0.84536,     0.84503,     0.84471,     0.84438,     0.84405,     0.84372,     0.84339,     0.84306,     0.84273,     0.84241,     0.84208,     0.84175,     0.84142,     0.84109,     0.83893,      0.8363,     0.83478,     0.83347,\n",
       "            0.83216,     0.83084,      0.8258,     0.82564,     0.82564,     0.82564,     0.82506,     0.82401,     0.82296,      0.8219,     0.82085,     0.82004,     0.81934,     0.81864,     0.81794,     0.81724,     0.81653,     0.81583,       0.809,     0.80549,     0.80395,     0.80264,     0.80132,\n",
       "            0.80001,     0.79869,     0.79738,     0.79607,     0.79473,     0.79323,     0.79173,     0.79023,     0.78796,     0.78534,     0.77865,     0.77515,       0.773,     0.77125,      0.7695,     0.76113,     0.75847,     0.75715,     0.75584,     0.75453,       0.753,     0.75125,      0.7495,\n",
       "             0.7458,     0.74298,     0.74193,     0.74088,     0.73983,     0.73877,     0.73662,     0.73399,     0.72939,     0.72719,     0.72587,     0.72456,     0.72324,     0.72002,     0.71067,     0.70728,     0.70632,     0.70537,     0.70441,     0.70345,     0.70185,     0.69591,     0.69328,\n",
       "              0.689,     0.68489,     0.67592,     0.66591,     0.66241,     0.65759,     0.64343,      0.6402,     0.63758,      0.6295,       0.626,     0.62375,     0.62165,     0.61982,     0.61832,     0.61682,     0.61535,     0.61465,     0.61395,     0.61325,     0.61255,     0.61185,     0.61115,\n",
       "            0.61045,     0.60643,     0.59975,     0.59879,     0.59784,     0.59688,     0.59592,     0.59497,     0.59352,     0.59202,     0.59052,     0.58847,     0.58584,     0.57898,     0.57802,     0.57707,     0.57611,     0.57516,     0.56835,     0.56343,     0.55993,     0.55385,     0.55385,\n",
       "            0.55385,     0.55302,     0.55039,     0.54169,      0.5344,     0.53198,     0.53048,     0.52898,     0.52053,     0.50502,     0.49219,     0.48956,     0.48668,     0.47568,     0.46591,     0.46095,     0.45745,     0.44758,      0.4436,     0.43497,     0.43146,     0.41373,     0.40954,\n",
       "            0.40744,     0.40534,     0.40198,     0.39542,     0.38989,     0.38463,     0.38287,     0.38112,     0.37936,     0.37761,     0.37586,     0.37285,     0.36693,      0.3583,      0.3548,     0.35129,     0.34593,      0.3395,     0.33424,     0.32386,       0.309,     0.30309,     0.29014,\n",
       "            0.27746,     0.27194,     0.26326,     0.25373,     0.24335,     0.23571,     0.23308,     0.22009,     0.21659,     0.21194,     0.20847,     0.20584,     0.18847,     0.18368,     0.18018,     0.17326,     0.16975,     0.16028,     0.15078,     0.14438,     0.13693,     0.13343,     0.12992,\n",
       "            0.12753,     0.12622,     0.12491,     0.12359,     0.11715,     0.11584,     0.11452,     0.11321,     0.11176,     0.11026,     0.10876,    0.099505,    0.095747,    0.093644,    0.091542,    0.089439,    0.087337,    0.082316,     0.07655,    0.075741,    0.074932,    0.074123,    0.073315,\n",
       "           0.072506,    0.070527,    0.056326,    0.055741,    0.055157,    0.054573,    0.053989,    0.053405,    0.052821,    0.052237,    0.051653,    0.050004,    0.046499,    0.041416,    0.034977,    0.032874,    0.030771,    0.025559,    0.022055,    0.015058,    0.014473,    0.013889,    0.013305,\n",
       "           0.012721,    0.012137,    0.011553,    0.010969,    0.010385,    0.009801,   0.0092169,   0.0086328,   0.0080488,   0.0074647,   0.0068807,   0.0062966,   0.0057126,   0.0051285,           0,           0,           0,           0,           0,           0,           0,           0,           0,\n",
       "                  0,           0,           0,           0,           0,           0,           0,           0,           0,           0,           0]]), 'Confidence', 'Recall']]\n",
       "fitness: np.float64(0.7851728084407333)\n",
       "keys: ['metrics/precision(B)', 'metrics/recall(B)', 'metrics/mAP50(B)', 'metrics/mAP50-95(B)']\n",
       "maps: array([     0.7672])\n",
       "names: {0: 'tumor'}\n",
       "plot: True\n",
       "results_dict: {'metrics/precision(B)': np.float64(0.9616443659871903), 'metrics/recall(B)': np.float64(0.9000199659848783), 'metrics/mAP50(B)': np.float64(0.9469552135362715), 'metrics/mAP50-95(B)': np.float64(0.7671969856523402), 'fitness': np.float64(0.7851728084407333)}\n",
       "save_dir: WindowsPath('runs/detect/train3')\n",
       "speed: {'preprocess': 0.09935187256854514, 'inference': 1.7839942289435347, 'loss': 0.0, 'postprocess': 1.051534777102263}\n",
       "task: 'detect'"
      ]
     },
     "execution_count": 7,
     "metadata": {},
     "output_type": "execute_result"
    }
   ],
   "source": [
    "from ultralytics import YOLO\n",
    "# load model\n",
    "model=YOLO('yolo11n.pt')\n",
    "model.train(data=r\"D:\\YOLO Comparision\\BrainTumor\\data.yaml\",epochs=20,imgsz=150,device=0)"
   ]
  },
  {
   "cell_type": "code",
   "execution_count": 1,
   "id": "2fd334f6-e7ce-49b8-8ad0-6337adabcb25",
   "metadata": {},
   "outputs": [
    {
     "name": "stdout",
     "output_type": "stream",
     "text": [
      "\n",
      "image 1/1 C:\\Users\\krish\\Downloads\\test_image.jpg: 160x160 1 tumor, 15.5ms\n",
      "Speed: 1.0ms preprocess, 15.5ms inference, 126.0ms postprocess per image at shape (1, 3, 160, 160)\n"
     ]
    }
   ],
   "source": [
    "from ultralytics import YOLO\n",
    "model = YOLO(\"runs/detect/train3/weights/best.pt\")\n",
    "results = model(\"C:/Users/krish/Downloads/test_image.jpg\")\n",
    "results[0].show()"
   ]
  },
  {
   "cell_type": "code",
   "execution_count": null,
   "id": "c2d9f42d-a9cc-42bd-8138-71ced3104a16",
   "metadata": {},
   "outputs": [],
   "source": []
  }
 ],
 "metadata": {
  "kernelspec": {
   "display_name": "Python 3 (ipykernel)",
   "language": "python",
   "name": "python3"
  },
  "language_info": {
   "codemirror_mode": {
    "name": "ipython",
    "version": 3
   },
   "file_extension": ".py",
   "mimetype": "text/x-python",
   "name": "python",
   "nbconvert_exporter": "python",
   "pygments_lexer": "ipython3",
   "version": "3.12.6"
  }
 },
 "nbformat": 4,
 "nbformat_minor": 5
}
