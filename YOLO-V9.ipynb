{
 "cells": [
  {
   "cell_type": "code",
   "execution_count": 1,
   "id": "169edc76-43ba-492d-9d31-f228f96bf565",
   "metadata": {},
   "outputs": [
    {
     "data": {
      "text/plain": [
       "True"
      ]
     },
     "execution_count": 1,
     "metadata": {},
     "output_type": "execute_result"
    }
   ],
   "source": [
    "import torch\n",
    "torch.cuda.is_available()"
   ]
  },
  {
   "cell_type": "code",
   "execution_count": 2,
   "id": "f8004b1c-4115-4892-82b0-b287502b36e7",
   "metadata": {},
   "outputs": [
    {
     "data": {
      "text/plain": [
       "'NVIDIA GeForce RTX 3050 6GB Laptop GPU'"
      ]
     },
     "execution_count": 2,
     "metadata": {},
     "output_type": "execute_result"
    }
   ],
   "source": [
    "torch.cuda.get_device_name(0)"
   ]
  },
  {
   "cell_type": "code",
   "execution_count": 3,
   "id": "245c5058-f288-4982-9de2-113942ccbaa8",
   "metadata": {},
   "outputs": [],
   "source": [
    "import os\n",
    "os.environ['KMP_DUPLICATE_LIB_OK']='True'"
   ]
  },
  {
   "cell_type": "code",
   "execution_count": 4,
   "id": "4d3cf958-4823-46cd-964c-069f19d9bfb7",
   "metadata": {},
   "outputs": [
    {
     "data": {
      "text/plain": [
       "'8.3.70'"
      ]
     },
     "execution_count": 4,
     "metadata": {},
     "output_type": "execute_result"
    }
   ],
   "source": [
    "import ultralytics\n",
    "ultralytics.__version__"
   ]
  },
  {
   "cell_type": "code",
   "execution_count": 5,
   "id": "2aacd14f-7f83-4a82-a1f2-dc1b0f30f043",
   "metadata": {},
   "outputs": [
    {
     "data": {
      "text/plain": [
       "'2.6.0+cu124'"
      ]
     },
     "execution_count": 5,
     "metadata": {},
     "output_type": "execute_result"
    }
   ],
   "source": [
    "import torch\n",
    "torch.__version__"
   ]
  },
  {
   "cell_type": "code",
   "execution_count": 6,
   "id": "2f6e5e02-4acd-4ecb-a7dd-785c0c4b19e8",
   "metadata": {},
   "outputs": [],
   "source": [
    "import numpy as np"
   ]
  },
  {
   "cell_type": "code",
   "execution_count": 7,
   "id": "49baeaf2-eb08-4649-bcf1-84f39ce14b0c",
   "metadata": {
    "scrolled": true
   },
   "outputs": [
    {
     "name": "stdout",
     "output_type": "stream",
     "text": [
      "Ultralytics 8.3.70  Python-3.12.6 torch-2.6.0+cu124 CUDA:0 (NVIDIA GeForce RTX 3050 6GB Laptop GPU, 6144MiB)\n",
      "\u001b[34m\u001b[1mengine\\trainer: \u001b[0mtask=detect, mode=train, model=yolov9s.pt, data=D:\\YOLO Comparision\\BrainTumor\\data.yaml, epochs=20, time=None, patience=100, batch=16, imgsz=150, save=True, save_period=-1, cache=False, device=0, workers=8, project=None, name=train4, exist_ok=False, pretrained=True, optimizer=auto, verbose=True, seed=0, deterministic=True, single_cls=False, rect=False, cos_lr=False, close_mosaic=10, resume=False, amp=True, fraction=1.0, profile=False, freeze=None, multi_scale=False, overlap_mask=True, mask_ratio=4, dropout=0.0, val=True, split=val, save_json=False, save_hybrid=False, conf=None, iou=0.7, max_det=300, half=False, dnn=False, plots=True, source=None, vid_stride=1, stream_buffer=False, visualize=False, augment=False, agnostic_nms=False, classes=None, retina_masks=False, embed=None, show=False, save_frames=False, save_txt=False, save_conf=False, save_crop=False, show_labels=True, show_conf=True, show_boxes=True, line_width=None, format=torchscript, keras=False, optimize=False, int8=False, dynamic=False, simplify=True, opset=None, workspace=None, nms=False, lr0=0.01, lrf=0.01, momentum=0.937, weight_decay=0.0005, warmup_epochs=3.0, warmup_momentum=0.8, warmup_bias_lr=0.1, box=7.5, cls=0.5, dfl=1.5, pose=12.0, kobj=1.0, nbs=64, hsv_h=0.015, hsv_s=0.7, hsv_v=0.4, degrees=0.0, translate=0.1, scale=0.5, shear=0.0, perspective=0.0, flipud=0.0, fliplr=0.5, bgr=0.0, mosaic=1.0, mixup=0.0, copy_paste=0.0, copy_paste_mode=flip, auto_augment=randaugment, erasing=0.4, crop_fraction=1.0, cfg=None, tracker=botsort.yaml, save_dir=runs\\detect\\train4\n",
      "Overriding model.yaml nc=80 with nc=1\n",
      "\n",
      "                   from  n    params  module                                       arguments                     \n",
      "  0                  -1  1       928  ultralytics.nn.modules.conv.Conv             [3, 32, 3, 2]                 \n",
      "  1                  -1  1     18560  ultralytics.nn.modules.conv.Conv             [32, 64, 3, 2]                \n",
      "  2                  -1  1     31104  ultralytics.nn.modules.block.ELAN1           [64, 64, 64, 32]              \n",
      "  3                  -1  1     73984  ultralytics.nn.modules.block.AConv           [64, 128]                     \n",
      "  4                  -1  1    258432  ultralytics.nn.modules.block.RepNCSPELAN4    [128, 128, 128, 64, 3]        \n",
      "  5                  -1  1    221568  ultralytics.nn.modules.block.AConv           [128, 192]                    \n",
      "  6                  -1  1    579648  ultralytics.nn.modules.block.RepNCSPELAN4    [192, 192, 192, 96, 3]        \n",
      "  7                  -1  1    442880  ultralytics.nn.modules.block.AConv           [192, 256]                    \n",
      "  8                  -1  1   1028864  ultralytics.nn.modules.block.RepNCSPELAN4    [256, 256, 256, 128, 3]       \n",
      "  9                  -1  1    164608  ultralytics.nn.modules.block.SPPELAN         [256, 256, 128]               \n",
      " 10                  -1  1         0  torch.nn.modules.upsampling.Upsample         [None, 2, 'nearest']          \n",
      " 11             [-1, 6]  1         0  ultralytics.nn.modules.conv.Concat           [1]                           \n",
      " 12                  -1  1    628800  ultralytics.nn.modules.block.RepNCSPELAN4    [448, 192, 192, 96, 3]        \n",
      " 13                  -1  1         0  torch.nn.modules.upsampling.Upsample         [None, 2, 'nearest']          \n",
      " 14             [-1, 4]  1         0  ultralytics.nn.modules.conv.Concat           [1]                           \n",
      " 15                  -1  1    283008  ultralytics.nn.modules.block.RepNCSPELAN4    [320, 128, 128, 64, 3]        \n",
      " 16                  -1  1    110784  ultralytics.nn.modules.block.AConv           [128, 96]                     \n",
      " 17            [-1, 12]  1         0  ultralytics.nn.modules.conv.Concat           [1]                           \n",
      " 18                  -1  1    598080  ultralytics.nn.modules.block.RepNCSPELAN4    [288, 192, 192, 96, 3]        \n",
      " 19                  -1  1    221440  ultralytics.nn.modules.block.AConv           [192, 128]                    \n",
      " 20             [-1, 9]  1         0  ultralytics.nn.modules.conv.Concat           [1]                           \n",
      " 21                  -1  1   1061632  ultralytics.nn.modules.block.RepNCSPELAN4    [384, 256, 256, 128, 3]       \n",
      " 22        [15, 18, 21]  1   1563475  ultralytics.nn.modules.head.Detect           [1, [128, 192, 256]]          \n",
      "YOLOv9s summary: 917 layers, 7,287,795 parameters, 7,287,779 gradients, 27.4 GFLOPs\n",
      "\n",
      "Transferred 1333/1339 items from pretrained weights\n",
      "Freezing layer 'model.22.dfl.conv.weight'\n",
      "\u001b[34m\u001b[1mAMP: \u001b[0mrunning Automatic Mixed Precision (AMP) checks...\n",
      "\u001b[34m\u001b[1mAMP: \u001b[0mchecks passed \n",
      "WARNING  imgsz=[150] must be multiple of max stride 32, updating to [160]\n"
     ]
    },
    {
     "name": "stderr",
     "output_type": "stream",
     "text": [
      "\u001b[34m\u001b[1mtrain: \u001b[0mScanning D:\\YOLO Comparision\\BrainTumor\\train\\labels.cache... 2766 images, 153 backgrounds, 0 corrupt: 100%|████\u001b[0m\n",
      "\u001b[34m\u001b[1mval: \u001b[0mScanning D:\\YOLO Comparision\\BrainTumor\\valid\\labels.cache... 184 images, 0 backgrounds, 0 corrupt: 100%|█████████\u001b[0m\n"
     ]
    },
    {
     "name": "stdout",
     "output_type": "stream",
     "text": [
      "Plotting labels to runs\\detect\\train4\\labels.jpg... \n",
      "\u001b[34m\u001b[1moptimizer:\u001b[0m 'optimizer=auto' found, ignoring 'lr0=0.01' and 'momentum=0.937' and determining best 'optimizer', 'lr0' and 'momentum' automatically... \n",
      "\u001b[34m\u001b[1moptimizer:\u001b[0m AdamW(lr=0.002, momentum=0.9) with parameter groups 221 weight(decay=0.0), 228 weight(decay=0.0005), 227 bias(decay=0.0)\n",
      "Image sizes 160 train, 160 val\n",
      "Using 8 dataloader workers\n",
      "Logging results to \u001b[1mruns\\detect\\train4\u001b[0m\n",
      "Starting training for 20 epochs...\n",
      "\n",
      "      Epoch    GPU_mem   box_loss   cls_loss   dfl_loss  Instances       Size\n"
     ]
    },
    {
     "name": "stderr",
     "output_type": "stream",
     "text": [
      "       1/20     0.491G      1.198      1.141      1.134         26        160: 100%|██████████| 173/173 [00:41<00:00,  \n",
      "                 Class     Images  Instances      Box(P          R      mAP50  mAP50-95): 100%|██████████| 6/6 [00:01<0"
     ]
    },
    {
     "name": "stdout",
     "output_type": "stream",
     "text": [
      "                   all        184        195      0.897      0.564      0.703      0.461\n"
     ]
    },
    {
     "name": "stderr",
     "output_type": "stream",
     "text": [
      "\n"
     ]
    },
    {
     "name": "stdout",
     "output_type": "stream",
     "text": [
      "\n",
      "      Epoch    GPU_mem   box_loss   cls_loss   dfl_loss  Instances       Size\n"
     ]
    },
    {
     "name": "stderr",
     "output_type": "stream",
     "text": [
      "       2/20     0.491G      1.114      0.814       1.09         21        160: 100%|██████████| 173/173 [00:35<00:00,  \n",
      "                 Class     Images  Instances      Box(P          R      mAP50  mAP50-95): 100%|██████████| 6/6 [00:00<0"
     ]
    },
    {
     "name": "stdout",
     "output_type": "stream",
     "text": [
      "                   all        184        195      0.855      0.579       0.68      0.451\n"
     ]
    },
    {
     "name": "stderr",
     "output_type": "stream",
     "text": [
      "\n"
     ]
    },
    {
     "name": "stdout",
     "output_type": "stream",
     "text": [
      "\n",
      "      Epoch    GPU_mem   box_loss   cls_loss   dfl_loss  Instances       Size\n"
     ]
    },
    {
     "name": "stderr",
     "output_type": "stream",
     "text": [
      "       3/20     0.491G        1.1      0.778      1.077         14        160: 100%|██████████| 173/173 [00:33<00:00,  \n",
      "                 Class     Images  Instances      Box(P          R      mAP50  mAP50-95): 100%|██████████| 6/6 [00:00<0"
     ]
    },
    {
     "name": "stdout",
     "output_type": "stream",
     "text": [
      "                   all        184        195      0.897      0.774       0.86      0.617\n"
     ]
    },
    {
     "name": "stderr",
     "output_type": "stream",
     "text": [
      "\n"
     ]
    },
    {
     "name": "stdout",
     "output_type": "stream",
     "text": [
      "\n",
      "      Epoch    GPU_mem   box_loss   cls_loss   dfl_loss  Instances       Size\n"
     ]
    },
    {
     "name": "stderr",
     "output_type": "stream",
     "text": [
      "       4/20     0.491G      1.069     0.7551      1.068         24        160: 100%|██████████| 173/173 [00:34<00:00,  \n",
      "                 Class     Images  Instances      Box(P          R      mAP50  mAP50-95): 100%|██████████| 6/6 [00:00<0"
     ]
    },
    {
     "name": "stdout",
     "output_type": "stream",
     "text": [
      "                   all        184        195       0.92      0.579      0.713      0.525\n"
     ]
    },
    {
     "name": "stderr",
     "output_type": "stream",
     "text": [
      "\n"
     ]
    },
    {
     "name": "stdout",
     "output_type": "stream",
     "text": [
      "\n",
      "      Epoch    GPU_mem   box_loss   cls_loss   dfl_loss  Instances       Size\n"
     ]
    },
    {
     "name": "stderr",
     "output_type": "stream",
     "text": [
      "       5/20     0.491G      1.029     0.7013      1.048         25        160: 100%|██████████| 173/173 [00:34<00:00,  \n",
      "                 Class     Images  Instances      Box(P          R      mAP50  mAP50-95): 100%|██████████| 6/6 [00:00<0\n"
     ]
    },
    {
     "name": "stdout",
     "output_type": "stream",
     "text": [
      "                   all        184        195      0.944      0.846      0.885       0.64\n",
      "\n",
      "      Epoch    GPU_mem   box_loss   cls_loss   dfl_loss  Instances       Size\n"
     ]
    },
    {
     "name": "stderr",
     "output_type": "stream",
     "text": [
      "       6/20     0.491G      0.992     0.6883      1.042         24        160: 100%|██████████| 173/173 [00:35<00:00,  \n",
      "                 Class     Images  Instances      Box(P          R      mAP50  mAP50-95): 100%|██████████| 6/6 [00:00<0"
     ]
    },
    {
     "name": "stdout",
     "output_type": "stream",
     "text": [
      "                   all        184        195      0.747      0.733      0.743      0.564\n"
     ]
    },
    {
     "name": "stderr",
     "output_type": "stream",
     "text": [
      "\n"
     ]
    },
    {
     "name": "stdout",
     "output_type": "stream",
     "text": [
      "\n",
      "      Epoch    GPU_mem   box_loss   cls_loss   dfl_loss  Instances       Size\n"
     ]
    },
    {
     "name": "stderr",
     "output_type": "stream",
     "text": [
      "       7/20     0.491G     0.9705     0.6596      1.026         25        160: 100%|██████████| 173/173 [00:36<00:00,  \n",
      "                 Class     Images  Instances      Box(P          R      mAP50  mAP50-95): 100%|██████████| 6/6 [00:00<0"
     ]
    },
    {
     "name": "stdout",
     "output_type": "stream",
     "text": [
      "                   all        184        195      0.955      0.877      0.926      0.725\n"
     ]
    },
    {
     "name": "stderr",
     "output_type": "stream",
     "text": [
      "\n"
     ]
    },
    {
     "name": "stdout",
     "output_type": "stream",
     "text": [
      "\n",
      "      Epoch    GPU_mem   box_loss   cls_loss   dfl_loss  Instances       Size\n"
     ]
    },
    {
     "name": "stderr",
     "output_type": "stream",
     "text": [
      "       8/20     0.491G     0.9231     0.6176      1.018         25        160: 100%|██████████| 173/173 [00:37<00:00,  \n",
      "                 Class     Images  Instances      Box(P          R      mAP50  mAP50-95): 100%|██████████| 6/6 [00:01<0"
     ]
    },
    {
     "name": "stdout",
     "output_type": "stream",
     "text": [
      "                   all        184        195      0.933      0.862      0.919      0.712\n"
     ]
    },
    {
     "name": "stderr",
     "output_type": "stream",
     "text": [
      "\n"
     ]
    },
    {
     "name": "stdout",
     "output_type": "stream",
     "text": [
      "\n",
      "      Epoch    GPU_mem   box_loss   cls_loss   dfl_loss  Instances       Size\n"
     ]
    },
    {
     "name": "stderr",
     "output_type": "stream",
     "text": [
      "       9/20     0.491G     0.8918     0.5971      1.004         28        160: 100%|██████████| 173/173 [00:34<00:00,  \n",
      "                 Class     Images  Instances      Box(P          R      mAP50  mAP50-95): 100%|██████████| 6/6 [00:00<0"
     ]
    },
    {
     "name": "stdout",
     "output_type": "stream",
     "text": [
      "                   all        184        195      0.939      0.836       0.89      0.697\n"
     ]
    },
    {
     "name": "stderr",
     "output_type": "stream",
     "text": [
      "\n"
     ]
    },
    {
     "name": "stdout",
     "output_type": "stream",
     "text": [
      "\n",
      "      Epoch    GPU_mem   box_loss   cls_loss   dfl_loss  Instances       Size\n"
     ]
    },
    {
     "name": "stderr",
     "output_type": "stream",
     "text": [
      "      10/20     0.491G     0.8777     0.5684      1.002         22        160: 100%|██████████| 173/173 [00:36<00:00,  \n",
      "                 Class     Images  Instances      Box(P          R      mAP50  mAP50-95): 100%|██████████| 6/6 [00:01<0"
     ]
    },
    {
     "name": "stdout",
     "output_type": "stream",
     "text": [
      "                   all        184        195      0.956        0.9      0.929       0.73\n"
     ]
    },
    {
     "name": "stderr",
     "output_type": "stream",
     "text": [
      "\n"
     ]
    },
    {
     "name": "stdout",
     "output_type": "stream",
     "text": [
      "Closing dataloader mosaic\n",
      "\n",
      "      Epoch    GPU_mem   box_loss   cls_loss   dfl_loss  Instances       Size\n"
     ]
    },
    {
     "name": "stderr",
     "output_type": "stream",
     "text": [
      "      11/20     0.491G     0.7837     0.5046     0.9989         14        160: 100%|██████████| 173/173 [00:35<00:00,  \n",
      "                 Class     Images  Instances      Box(P          R      mAP50  mAP50-95): 100%|██████████| 6/6 [00:00<0"
     ]
    },
    {
     "name": "stdout",
     "output_type": "stream",
     "text": [
      "                   all        184        195      0.932      0.826      0.896      0.715\n"
     ]
    },
    {
     "name": "stderr",
     "output_type": "stream",
     "text": [
      "\n"
     ]
    },
    {
     "name": "stdout",
     "output_type": "stream",
     "text": [
      "\n",
      "      Epoch    GPU_mem   box_loss   cls_loss   dfl_loss  Instances       Size\n"
     ]
    },
    {
     "name": "stderr",
     "output_type": "stream",
     "text": [
      "      12/20     0.491G     0.7743     0.4817     0.9868         14        160: 100%|██████████| 173/173 [00:33<00:00,  \n",
      "                 Class     Images  Instances      Box(P          R      mAP50  mAP50-95): 100%|██████████| 6/6 [00:00<0"
     ]
    },
    {
     "name": "stdout",
     "output_type": "stream",
     "text": [
      "                   all        184        195      0.942      0.892      0.934       0.73\n"
     ]
    },
    {
     "name": "stderr",
     "output_type": "stream",
     "text": [
      "\n"
     ]
    },
    {
     "name": "stdout",
     "output_type": "stream",
     "text": [
      "\n",
      "      Epoch    GPU_mem   box_loss   cls_loss   dfl_loss  Instances       Size\n"
     ]
    },
    {
     "name": "stderr",
     "output_type": "stream",
     "text": [
      "      13/20     0.491G     0.7329     0.4579     0.9635         14        160: 100%|██████████| 173/173 [00:34<00:00,  \n",
      "                 Class     Images  Instances      Box(P          R      mAP50  mAP50-95): 100%|██████████| 6/6 [00:01<0"
     ]
    },
    {
     "name": "stdout",
     "output_type": "stream",
     "text": [
      "                   all        184        195        0.9      0.892      0.928      0.723\n"
     ]
    },
    {
     "name": "stderr",
     "output_type": "stream",
     "text": [
      "\n"
     ]
    },
    {
     "name": "stdout",
     "output_type": "stream",
     "text": [
      "\n",
      "      Epoch    GPU_mem   box_loss   cls_loss   dfl_loss  Instances       Size\n"
     ]
    },
    {
     "name": "stderr",
     "output_type": "stream",
     "text": [
      "      14/20     0.491G     0.7232     0.4412     0.9631         15        160: 100%|██████████| 173/173 [00:34<00:00,  \n",
      "                 Class     Images  Instances      Box(P          R      mAP50  mAP50-95): 100%|██████████| 6/6 [00:00<0"
     ]
    },
    {
     "name": "stdout",
     "output_type": "stream",
     "text": [
      "                   all        184        195      0.968      0.903      0.943      0.744\n"
     ]
    },
    {
     "name": "stderr",
     "output_type": "stream",
     "text": [
      "\n"
     ]
    },
    {
     "name": "stdout",
     "output_type": "stream",
     "text": [
      "\n",
      "      Epoch    GPU_mem   box_loss   cls_loss   dfl_loss  Instances       Size\n"
     ]
    },
    {
     "name": "stderr",
     "output_type": "stream",
     "text": [
      "      15/20     0.491G     0.6896     0.4292     0.9446         14        160: 100%|██████████| 173/173 [00:33<00:00,  \n",
      "                 Class     Images  Instances      Box(P          R      mAP50  mAP50-95): 100%|██████████| 6/6 [00:00<0"
     ]
    },
    {
     "name": "stdout",
     "output_type": "stream",
     "text": [
      "                   all        184        195      0.941      0.893      0.931      0.732\n"
     ]
    },
    {
     "name": "stderr",
     "output_type": "stream",
     "text": [
      "\n"
     ]
    },
    {
     "name": "stdout",
     "output_type": "stream",
     "text": [
      "\n",
      "      Epoch    GPU_mem   box_loss   cls_loss   dfl_loss  Instances       Size\n"
     ]
    },
    {
     "name": "stderr",
     "output_type": "stream",
     "text": [
      "      16/20     0.491G     0.6831     0.4179     0.9408         15        160: 100%|██████████| 173/173 [00:33<00:00,  \n",
      "                 Class     Images  Instances      Box(P          R      mAP50  mAP50-95): 100%|██████████| 6/6 [00:00<0"
     ]
    },
    {
     "name": "stdout",
     "output_type": "stream",
     "text": [
      "                   all        184        195      0.954      0.887      0.943      0.756\n"
     ]
    },
    {
     "name": "stderr",
     "output_type": "stream",
     "text": [
      "\n"
     ]
    },
    {
     "name": "stdout",
     "output_type": "stream",
     "text": [
      "\n",
      "      Epoch    GPU_mem   box_loss   cls_loss   dfl_loss  Instances       Size\n"
     ]
    },
    {
     "name": "stderr",
     "output_type": "stream",
     "text": [
      "      17/20     0.491G     0.6693     0.3958     0.9311         13        160: 100%|██████████| 173/173 [00:32<00:00,  \n",
      "                 Class     Images  Instances      Box(P          R      mAP50  mAP50-95): 100%|██████████| 6/6 [00:01<0"
     ]
    },
    {
     "name": "stdout",
     "output_type": "stream",
     "text": [
      "                   all        184        195      0.932      0.909      0.934      0.755\n"
     ]
    },
    {
     "name": "stderr",
     "output_type": "stream",
     "text": [
      "\n"
     ]
    },
    {
     "name": "stdout",
     "output_type": "stream",
     "text": [
      "\n",
      "      Epoch    GPU_mem   box_loss   cls_loss   dfl_loss  Instances       Size\n"
     ]
    },
    {
     "name": "stderr",
     "output_type": "stream",
     "text": [
      "      18/20     0.491G     0.6397     0.3764     0.9263         13        160: 100%|██████████| 173/173 [00:34<00:00,  \n",
      "                 Class     Images  Instances      Box(P          R      mAP50  mAP50-95): 100%|██████████| 6/6 [00:00<0"
     ]
    },
    {
     "name": "stdout",
     "output_type": "stream",
     "text": [
      "                   all        184        195      0.961      0.897      0.946      0.766\n"
     ]
    },
    {
     "name": "stderr",
     "output_type": "stream",
     "text": [
      "\n"
     ]
    },
    {
     "name": "stdout",
     "output_type": "stream",
     "text": [
      "\n",
      "      Epoch    GPU_mem   box_loss   cls_loss   dfl_loss  Instances       Size\n"
     ]
    },
    {
     "name": "stderr",
     "output_type": "stream",
     "text": [
      "      19/20     0.491G     0.6166     0.3636     0.9167         13        160: 100%|██████████| 173/173 [00:33<00:00,  \n",
      "                 Class     Images  Instances      Box(P          R      mAP50  mAP50-95): 100%|██████████| 6/6 [00:00<0"
     ]
    },
    {
     "name": "stdout",
     "output_type": "stream",
     "text": [
      "                   all        184        195      0.967      0.907      0.944      0.759\n"
     ]
    },
    {
     "name": "stderr",
     "output_type": "stream",
     "text": [
      "\n"
     ]
    },
    {
     "name": "stdout",
     "output_type": "stream",
     "text": [
      "\n",
      "      Epoch    GPU_mem   box_loss   cls_loss   dfl_loss  Instances       Size\n"
     ]
    },
    {
     "name": "stderr",
     "output_type": "stream",
     "text": [
      "      20/20     0.491G     0.5989     0.3513     0.9049         13        160: 100%|██████████| 173/173 [00:34<00:00,  \n",
      "                 Class     Images  Instances      Box(P          R      mAP50  mAP50-95): 100%|██████████| 6/6 [00:01<0"
     ]
    },
    {
     "name": "stdout",
     "output_type": "stream",
     "text": [
      "                   all        184        195      0.962      0.928      0.953      0.764\n"
     ]
    },
    {
     "name": "stderr",
     "output_type": "stream",
     "text": [
      "\n"
     ]
    },
    {
     "name": "stdout",
     "output_type": "stream",
     "text": [
      "\n",
      "20 epochs completed in 0.213 hours.\n",
      "Optimizer stripped from runs\\detect\\train4\\weights\\last.pt, 15.2MB\n",
      "Optimizer stripped from runs\\detect\\train4\\weights\\best.pt, 15.2MB\n",
      "\n",
      "Validating runs\\detect\\train4\\weights\\best.pt...\n",
      "Ultralytics 8.3.70  Python-3.12.6 torch-2.6.0+cu124 CUDA:0 (NVIDIA GeForce RTX 3050 6GB Laptop GPU, 6144MiB)\n",
      "YOLOv9s summary (fused): 486 layers, 7,167,475 parameters, 0 gradients, 26.7 GFLOPs\n"
     ]
    },
    {
     "name": "stderr",
     "output_type": "stream",
     "text": [
      "                 Class     Images  Instances      Box(P          R      mAP50  mAP50-95): 100%|██████████| 6/6 [00:01<0\n"
     ]
    },
    {
     "name": "stdout",
     "output_type": "stream",
     "text": [
      "                   all        184        195      0.961      0.897      0.946      0.766\n",
      "Speed: 0.1ms preprocess, 2.7ms inference, 0.0ms loss, 1.0ms postprocess per image\n",
      "Results saved to \u001b[1mruns\\detect\\train4\u001b[0m\n"
     ]
    },
    {
     "data": {
      "text/plain": [
       "ultralytics.utils.metrics.DetMetrics object with attributes:\n",
       "\n",
       "ap_class_index: array([0])\n",
       "box: ultralytics.utils.metrics.Metric object\n",
       "confusion_matrix: <ultralytics.utils.metrics.ConfusionMatrix object at 0x000001AE5BC27E60>\n",
       "curves: ['Precision-Recall(B)', 'F1-Confidence(B)', 'Precision-Confidence(B)', 'Recall-Confidence(B)']\n",
       "curves_results: [[array([          0,    0.001001,    0.002002,    0.003003,    0.004004,    0.005005,    0.006006,    0.007007,    0.008008,    0.009009,     0.01001,    0.011011,    0.012012,    0.013013,    0.014014,    0.015015,    0.016016,    0.017017,    0.018018,    0.019019,     0.02002,    0.021021,    0.022022,    0.023023,\n",
       "          0.024024,    0.025025,    0.026026,    0.027027,    0.028028,    0.029029,     0.03003,    0.031031,    0.032032,    0.033033,    0.034034,    0.035035,    0.036036,    0.037037,    0.038038,    0.039039,     0.04004,    0.041041,    0.042042,    0.043043,    0.044044,    0.045045,    0.046046,    0.047047,\n",
       "          0.048048,    0.049049,     0.05005,    0.051051,    0.052052,    0.053053,    0.054054,    0.055055,    0.056056,    0.057057,    0.058058,    0.059059,     0.06006,    0.061061,    0.062062,    0.063063,    0.064064,    0.065065,    0.066066,    0.067067,    0.068068,    0.069069,     0.07007,    0.071071,\n",
       "          0.072072,    0.073073,    0.074074,    0.075075,    0.076076,    0.077077,    0.078078,    0.079079,     0.08008,    0.081081,    0.082082,    0.083083,    0.084084,    0.085085,    0.086086,    0.087087,    0.088088,    0.089089,     0.09009,    0.091091,    0.092092,    0.093093,    0.094094,    0.095095,\n",
       "          0.096096,    0.097097,    0.098098,    0.099099,      0.1001,      0.1011,      0.1021,      0.1031,      0.1041,     0.10511,     0.10611,     0.10711,     0.10811,     0.10911,     0.11011,     0.11111,     0.11211,     0.11311,     0.11411,     0.11512,     0.11612,     0.11712,     0.11812,     0.11912,\n",
       "           0.12012,     0.12112,     0.12212,     0.12312,     0.12412,     0.12513,     0.12613,     0.12713,     0.12813,     0.12913,     0.13013,     0.13113,     0.13213,     0.13313,     0.13413,     0.13514,     0.13614,     0.13714,     0.13814,     0.13914,     0.14014,     0.14114,     0.14214,     0.14314,\n",
       "           0.14414,     0.14515,     0.14615,     0.14715,     0.14815,     0.14915,     0.15015,     0.15115,     0.15215,     0.15315,     0.15415,     0.15516,     0.15616,     0.15716,     0.15816,     0.15916,     0.16016,     0.16116,     0.16216,     0.16316,     0.16416,     0.16517,     0.16617,     0.16717,\n",
       "           0.16817,     0.16917,     0.17017,     0.17117,     0.17217,     0.17317,     0.17417,     0.17518,     0.17618,     0.17718,     0.17818,     0.17918,     0.18018,     0.18118,     0.18218,     0.18318,     0.18418,     0.18519,     0.18619,     0.18719,     0.18819,     0.18919,     0.19019,     0.19119,\n",
       "           0.19219,     0.19319,     0.19419,      0.1952,      0.1962,      0.1972,      0.1982,      0.1992,      0.2002,      0.2012,      0.2022,      0.2032,      0.2042,     0.20521,     0.20621,     0.20721,     0.20821,     0.20921,     0.21021,     0.21121,     0.21221,     0.21321,     0.21421,     0.21522,\n",
       "           0.21622,     0.21722,     0.21822,     0.21922,     0.22022,     0.22122,     0.22222,     0.22322,     0.22422,     0.22523,     0.22623,     0.22723,     0.22823,     0.22923,     0.23023,     0.23123,     0.23223,     0.23323,     0.23423,     0.23524,     0.23624,     0.23724,     0.23824,     0.23924,\n",
       "           0.24024,     0.24124,     0.24224,     0.24324,     0.24424,     0.24525,     0.24625,     0.24725,     0.24825,     0.24925,     0.25025,     0.25125,     0.25225,     0.25325,     0.25425,     0.25526,     0.25626,     0.25726,     0.25826,     0.25926,     0.26026,     0.26126,     0.26226,     0.26326,\n",
       "           0.26426,     0.26527,     0.26627,     0.26727,     0.26827,     0.26927,     0.27027,     0.27127,     0.27227,     0.27327,     0.27427,     0.27528,     0.27628,     0.27728,     0.27828,     0.27928,     0.28028,     0.28128,     0.28228,     0.28328,     0.28428,     0.28529,     0.28629,     0.28729,\n",
       "           0.28829,     0.28929,     0.29029,     0.29129,     0.29229,     0.29329,     0.29429,      0.2953,      0.2963,      0.2973,      0.2983,      0.2993,      0.3003,      0.3013,      0.3023,      0.3033,      0.3043,     0.30531,     0.30631,     0.30731,     0.30831,     0.30931,     0.31031,     0.31131,\n",
       "           0.31231,     0.31331,     0.31431,     0.31532,     0.31632,     0.31732,     0.31832,     0.31932,     0.32032,     0.32132,     0.32232,     0.32332,     0.32432,     0.32533,     0.32633,     0.32733,     0.32833,     0.32933,     0.33033,     0.33133,     0.33233,     0.33333,     0.33433,     0.33534,\n",
       "           0.33634,     0.33734,     0.33834,     0.33934,     0.34034,     0.34134,     0.34234,     0.34334,     0.34434,     0.34535,     0.34635,     0.34735,     0.34835,     0.34935,     0.35035,     0.35135,     0.35235,     0.35335,     0.35435,     0.35536,     0.35636,     0.35736,     0.35836,     0.35936,\n",
       "           0.36036,     0.36136,     0.36236,     0.36336,     0.36436,     0.36537,     0.36637,     0.36737,     0.36837,     0.36937,     0.37037,     0.37137,     0.37237,     0.37337,     0.37437,     0.37538,     0.37638,     0.37738,     0.37838,     0.37938,     0.38038,     0.38138,     0.38238,     0.38338,\n",
       "           0.38438,     0.38539,     0.38639,     0.38739,     0.38839,     0.38939,     0.39039,     0.39139,     0.39239,     0.39339,     0.39439,      0.3954,      0.3964,      0.3974,      0.3984,      0.3994,      0.4004,      0.4014,      0.4024,      0.4034,      0.4044,     0.40541,     0.40641,     0.40741,\n",
       "           0.40841,     0.40941,     0.41041,     0.41141,     0.41241,     0.41341,     0.41441,     0.41542,     0.41642,     0.41742,     0.41842,     0.41942,     0.42042,     0.42142,     0.42242,     0.42342,     0.42442,     0.42543,     0.42643,     0.42743,     0.42843,     0.42943,     0.43043,     0.43143,\n",
       "           0.43243,     0.43343,     0.43443,     0.43544,     0.43644,     0.43744,     0.43844,     0.43944,     0.44044,     0.44144,     0.44244,     0.44344,     0.44444,     0.44545,     0.44645,     0.44745,     0.44845,     0.44945,     0.45045,     0.45145,     0.45245,     0.45345,     0.45445,     0.45546,\n",
       "           0.45646,     0.45746,     0.45846,     0.45946,     0.46046,     0.46146,     0.46246,     0.46346,     0.46446,     0.46547,     0.46647,     0.46747,     0.46847,     0.46947,     0.47047,     0.47147,     0.47247,     0.47347,     0.47447,     0.47548,     0.47648,     0.47748,     0.47848,     0.47948,\n",
       "           0.48048,     0.48148,     0.48248,     0.48348,     0.48448,     0.48549,     0.48649,     0.48749,     0.48849,     0.48949,     0.49049,     0.49149,     0.49249,     0.49349,     0.49449,      0.4955,      0.4965,      0.4975,      0.4985,      0.4995,      0.5005,      0.5015,      0.5025,      0.5035,\n",
       "            0.5045,     0.50551,     0.50651,     0.50751,     0.50851,     0.50951,     0.51051,     0.51151,     0.51251,     0.51351,     0.51451,     0.51552,     0.51652,     0.51752,     0.51852,     0.51952,     0.52052,     0.52152,     0.52252,     0.52352,     0.52452,     0.52553,     0.52653,     0.52753,\n",
       "           0.52853,     0.52953,     0.53053,     0.53153,     0.53253,     0.53353,     0.53453,     0.53554,     0.53654,     0.53754,     0.53854,     0.53954,     0.54054,     0.54154,     0.54254,     0.54354,     0.54454,     0.54555,     0.54655,     0.54755,     0.54855,     0.54955,     0.55055,     0.55155,\n",
       "           0.55255,     0.55355,     0.55455,     0.55556,     0.55656,     0.55756,     0.55856,     0.55956,     0.56056,     0.56156,     0.56256,     0.56356,     0.56456,     0.56557,     0.56657,     0.56757,     0.56857,     0.56957,     0.57057,     0.57157,     0.57257,     0.57357,     0.57457,     0.57558,\n",
       "           0.57658,     0.57758,     0.57858,     0.57958,     0.58058,     0.58158,     0.58258,     0.58358,     0.58458,     0.58559,     0.58659,     0.58759,     0.58859,     0.58959,     0.59059,     0.59159,     0.59259,     0.59359,     0.59459,      0.5956,      0.5966,      0.5976,      0.5986,      0.5996,\n",
       "            0.6006,      0.6016,      0.6026,      0.6036,      0.6046,     0.60561,     0.60661,     0.60761,     0.60861,     0.60961,     0.61061,     0.61161,     0.61261,     0.61361,     0.61461,     0.61562,     0.61662,     0.61762,     0.61862,     0.61962,     0.62062,     0.62162,     0.62262,     0.62362,\n",
       "           0.62462,     0.62563,     0.62663,     0.62763,     0.62863,     0.62963,     0.63063,     0.63163,     0.63263,     0.63363,     0.63463,     0.63564,     0.63664,     0.63764,     0.63864,     0.63964,     0.64064,     0.64164,     0.64264,     0.64364,     0.64464,     0.64565,     0.64665,     0.64765,\n",
       "           0.64865,     0.64965,     0.65065,     0.65165,     0.65265,     0.65365,     0.65465,     0.65566,     0.65666,     0.65766,     0.65866,     0.65966,     0.66066,     0.66166,     0.66266,     0.66366,     0.66466,     0.66567,     0.66667,     0.66767,     0.66867,     0.66967,     0.67067,     0.67167,\n",
       "           0.67267,     0.67367,     0.67467,     0.67568,     0.67668,     0.67768,     0.67868,     0.67968,     0.68068,     0.68168,     0.68268,     0.68368,     0.68468,     0.68569,     0.68669,     0.68769,     0.68869,     0.68969,     0.69069,     0.69169,     0.69269,     0.69369,     0.69469,      0.6957,\n",
       "            0.6967,      0.6977,      0.6987,      0.6997,      0.7007,      0.7017,      0.7027,      0.7037,      0.7047,     0.70571,     0.70671,     0.70771,     0.70871,     0.70971,     0.71071,     0.71171,     0.71271,     0.71371,     0.71471,     0.71572,     0.71672,     0.71772,     0.71872,     0.71972,\n",
       "           0.72072,     0.72172,     0.72272,     0.72372,     0.72472,     0.72573,     0.72673,     0.72773,     0.72873,     0.72973,     0.73073,     0.73173,     0.73273,     0.73373,     0.73473,     0.73574,     0.73674,     0.73774,     0.73874,     0.73974,     0.74074,     0.74174,     0.74274,     0.74374,\n",
       "           0.74474,     0.74575,     0.74675,     0.74775,     0.74875,     0.74975,     0.75075,     0.75175,     0.75275,     0.75375,     0.75475,     0.75576,     0.75676,     0.75776,     0.75876,     0.75976,     0.76076,     0.76176,     0.76276,     0.76376,     0.76476,     0.76577,     0.76677,     0.76777,\n",
       "           0.76877,     0.76977,     0.77077,     0.77177,     0.77277,     0.77377,     0.77477,     0.77578,     0.77678,     0.77778,     0.77878,     0.77978,     0.78078,     0.78178,     0.78278,     0.78378,     0.78478,     0.78579,     0.78679,     0.78779,     0.78879,     0.78979,     0.79079,     0.79179,\n",
       "           0.79279,     0.79379,     0.79479,      0.7958,      0.7968,      0.7978,      0.7988,      0.7998,      0.8008,      0.8018,      0.8028,      0.8038,      0.8048,     0.80581,     0.80681,     0.80781,     0.80881,     0.80981,     0.81081,     0.81181,     0.81281,     0.81381,     0.81481,     0.81582,\n",
       "           0.81682,     0.81782,     0.81882,     0.81982,     0.82082,     0.82182,     0.82282,     0.82382,     0.82482,     0.82583,     0.82683,     0.82783,     0.82883,     0.82983,     0.83083,     0.83183,     0.83283,     0.83383,     0.83483,     0.83584,     0.83684,     0.83784,     0.83884,     0.83984,\n",
       "           0.84084,     0.84184,     0.84284,     0.84384,     0.84484,     0.84585,     0.84685,     0.84785,     0.84885,     0.84985,     0.85085,     0.85185,     0.85285,     0.85385,     0.85485,     0.85586,     0.85686,     0.85786,     0.85886,     0.85986,     0.86086,     0.86186,     0.86286,     0.86386,\n",
       "           0.86486,     0.86587,     0.86687,     0.86787,     0.86887,     0.86987,     0.87087,     0.87187,     0.87287,     0.87387,     0.87487,     0.87588,     0.87688,     0.87788,     0.87888,     0.87988,     0.88088,     0.88188,     0.88288,     0.88388,     0.88488,     0.88589,     0.88689,     0.88789,\n",
       "           0.88889,     0.88989,     0.89089,     0.89189,     0.89289,     0.89389,     0.89489,      0.8959,      0.8969,      0.8979,      0.8989,      0.8999,      0.9009,      0.9019,      0.9029,      0.9039,      0.9049,     0.90591,     0.90691,     0.90791,     0.90891,     0.90991,     0.91091,     0.91191,\n",
       "           0.91291,     0.91391,     0.91491,     0.91592,     0.91692,     0.91792,     0.91892,     0.91992,     0.92092,     0.92192,     0.92292,     0.92392,     0.92492,     0.92593,     0.92693,     0.92793,     0.92893,     0.92993,     0.93093,     0.93193,     0.93293,     0.93393,     0.93493,     0.93594,\n",
       "           0.93694,     0.93794,     0.93894,     0.93994,     0.94094,     0.94194,     0.94294,     0.94394,     0.94494,     0.94595,     0.94695,     0.94795,     0.94895,     0.94995,     0.95095,     0.95195,     0.95295,     0.95395,     0.95495,     0.95596,     0.95696,     0.95796,     0.95896,     0.95996,\n",
       "           0.96096,     0.96196,     0.96296,     0.96396,     0.96496,     0.96597,     0.96697,     0.96797,     0.96897,     0.96997,     0.97097,     0.97197,     0.97297,     0.97397,     0.97497,     0.97598,     0.97698,     0.97798,     0.97898,     0.97998,     0.98098,     0.98198,     0.98298,     0.98398,\n",
       "           0.98498,     0.98599,     0.98699,     0.98799,     0.98899,     0.98999,     0.99099,     0.99199,     0.99299,     0.99399,     0.99499,       0.996,       0.997,       0.998,       0.999,           1]), array([[          1,           1,           1,           1,           1,           1,           1,           1,           1,           1,           1,           1,           1,           1,           1,           1,           1,           1,           1,           1,           1,           1,           1,\n",
       "                  1,           1,           1,           1,           1,           1,           1,           1,           1,           1,           1,           1,           1,           1,           1,           1,           1,           1,           1,           1,           1,           1,           1,\n",
       "                  1,           1,           1,           1,           1,           1,           1,           1,           1,           1,           1,           1,           1,           1,           1,           1,           1,           1,           1,           1,           1,           1,           1,\n",
       "                  1,           1,           1,           1,           1,           1,           1,           1,           1,           1,           1,           1,           1,           1,           1,           1,           1,           1,           1,           1,           1,           1,           1,\n",
       "                  1,           1,           1,           1,           1,           1,           1,           1,           1,           1,           1,           1,           1,           1,           1,           1,           1,           1,           1,           1,           1,           1,           1,\n",
       "                  1,           1,           1,           1,           1,           1,           1,           1,           1,           1,           1,           1,           1,           1,           1,           1,           1,           1,           1,           1,           1,           1,           1,\n",
       "                  1,           1,           1,           1,           1,           1,           1,           1,           1,           1,           1,           1,           1,           1,           1,           1,           1,           1,           1,           1,           1,           1,           1,\n",
       "                  1,           1,           1,           1,           1,           1,           1,           1,           1,           1,           1,           1,           1,           1,           1,           1,           1,           1,           1,           1,           1,           1,           1,\n",
       "                  1,           1,           1,           1,           1,           1,           1,           1,           1,           1,           1,           1,           1,           1,           1,           1,           1,           1,           1,           1,           1,           1,           1,\n",
       "                  1,           1,           1,           1,           1,           1,           1,           1,           1,           1,           1,           1,           1,           1,           1,           1,           1,           1,           1,           1,           1,           1,           1,\n",
       "                  1,           1,           1,           1,           1,           1,           1,           1,           1,           1,           1,           1,           1,           1,           1,           1,           1,           1,           1,           1,           1,           1,           1,\n",
       "                  1,           1,           1,           1,           1,           1,           1,           1,           1,           1,           1,           1,           1,           1,           1,           1,           1,           1,           1,           1,           1,           1,           1,\n",
       "                  1,           1,           1,           1,           1,           1,           1,           1,           1,           1,           1,           1,           1,           1,           1,           1,           1,           1,           1,           1,           1,           1,           1,\n",
       "                  1,           1,           1,           1,           1,           1,           1,           1,           1,           1,           1,           1,           1,           1,           1,           1,           1,           1,           1,           1,           1,           1,           1,\n",
       "                  1,           1,           1,           1,           1,           1,           1,           1,           1,           1,           1,           1,           1,           1,           1,           1,           1,           1,           1,           1,           1,           1,           1,\n",
       "                  1,           1,           1,           1,           1,           1,           1,           1,           1,           1,           1,           1,           1,           1,           1,           1,           1,           1,           1,           1,           1,           1,           1,\n",
       "                  1,           1,           1,           1,           1,           1,           1,           1,           1,           1,           1,           1,           1,           1,           1,           1,           1,           1,           1,           1,           1,           1,           1,\n",
       "                  1,           1,           1,           1,           1,           1,           1,           1,           1,           1,           1,           1,           1,           1,           1,           1,           1,           1,           1,           1,           1,           1,           1,\n",
       "                  1,           1,           1,           1,           1,           1,           1,           1,           1,           1,           1,           1,           1,           1,           1,           1,           1,           1,           1,           1,           1,           1,           1,\n",
       "                  1,           1,           1,           1,           1,           1,           1,           1,           1,           1,           1,           1,           1,           1,           1,           1,           1,           1,           1,           1,           1,           1,           1,\n",
       "                  1,           1,           1,           1,           1,           1,           1,     0.99153,     0.99153,     0.99153,     0.99153,     0.99153,     0.99153,     0.99153,     0.99153,     0.99153,     0.99153,     0.99153,     0.99153,     0.99153,     0.99153,     0.99153,     0.99153,\n",
       "            0.99153,     0.99153,     0.99153,     0.99153,     0.99153,     0.99153,     0.99153,     0.99153,     0.99153,     0.99153,     0.99153,     0.99153,     0.99153,     0.99153,     0.99153,     0.99153,     0.99153,     0.99153,     0.99153,     0.99153,     0.99153,     0.99153,     0.99153,\n",
       "            0.99153,     0.99153,     0.99153,     0.99153,     0.99153,     0.99153,     0.99153,     0.99153,     0.99153,     0.99153,     0.99153,     0.99153,     0.99153,     0.99153,     0.99153,     0.99153,     0.99153,     0.99153,     0.99153,     0.99153,     0.99153,     0.99153,     0.99153,\n",
       "            0.99153,     0.99153,     0.99153,     0.99153,     0.99153,     0.99153,     0.99153,     0.99153,     0.99153,     0.99153,     0.99153,     0.99153,     0.99153,     0.99153,     0.99153,     0.99153,     0.99153,     0.99153,     0.99153,     0.99153,     0.99153,     0.99153,     0.99153,\n",
       "            0.99153,     0.99153,     0.99153,     0.99153,     0.99153,     0.99153,     0.99153,     0.99153,     0.99153,     0.99153,     0.99153,     0.99153,     0.99153,     0.99153,     0.99153,     0.99153,     0.99153,     0.99153,     0.99153,     0.99153,     0.99153,     0.99153,     0.99153,\n",
       "            0.99153,     0.99153,     0.99153,     0.99153,     0.99153,     0.99153,     0.99153,     0.99153,     0.99153,     0.99153,     0.99153,     0.99153,     0.99153,     0.99153,     0.99153,     0.99153,     0.99153,     0.99153,     0.99153,     0.99153,     0.99153,     0.99153,     0.99153,\n",
       "            0.99153,     0.99153,     0.98551,     0.98551,     0.98551,     0.98551,     0.98551,     0.98551,     0.98551,     0.98551,     0.98551,     0.98551,     0.98551,     0.98551,     0.98551,     0.98551,     0.98551,     0.98551,     0.98551,     0.98551,     0.98551,     0.98551,     0.98551,\n",
       "            0.98551,     0.98551,     0.98551,     0.98551,     0.98551,     0.98551,     0.98551,     0.98551,     0.98551,     0.98551,     0.98551,     0.98551,     0.98551,     0.98551,     0.98551,     0.98551,     0.98551,     0.98551,     0.98551,     0.98551,     0.98551,     0.98551,     0.98551,\n",
       "            0.98551,     0.98551,     0.98551,     0.98551,     0.98551,     0.98551,     0.98551,     0.98551,     0.98551,     0.98551,     0.98551,     0.98551,     0.98551,     0.98551,     0.98551,     0.98551,     0.98551,     0.98551,     0.98551,     0.98551,     0.98551,     0.98551,     0.98551,\n",
       "            0.98551,     0.98551,     0.98551,     0.98551,     0.98551,     0.98551,     0.98551,     0.98551,     0.98551,     0.98551,     0.98551,     0.98551,     0.98551,     0.98551,     0.98551,     0.98551,     0.98551,     0.98551,     0.98551,     0.98551,     0.98551,     0.98551,     0.98551,\n",
       "            0.98551,     0.98551,     0.98551,     0.98551,     0.98551,     0.98551,     0.98551,     0.98182,     0.98182,     0.98182,     0.98182,     0.98182,     0.98182,     0.98182,     0.98182,     0.98182,     0.98182,     0.98182,     0.98182,     0.98182,     0.98182,     0.98182,     0.98182,\n",
       "            0.98182,     0.98182,     0.98182,     0.98182,     0.98182,     0.98182,     0.98182,     0.98182,     0.98182,     0.98182,     0.98182,     0.98182,     0.98182,     0.98182,     0.98182,     0.98182,     0.98182,     0.98182,     0.98182,     0.98182,     0.98182,     0.98182,     0.98182,\n",
       "            0.98182,     0.98182,     0.98182,     0.98182,     0.98182,     0.98182,     0.98182,     0.98182,     0.98182,     0.98182,     0.98182,     0.98182,     0.98182,     0.98182,     0.98182,     0.98182,     0.98182,     0.98182,     0.98182,     0.98182,     0.98182,     0.98182,     0.98182,\n",
       "            0.98182,     0.98182,     0.98182,     0.98182,     0.98182,     0.98182,     0.98182,     0.98182,     0.98182,     0.98182,     0.98182,     0.98182,     0.98182,     0.98182,     0.98182,     0.98182,     0.98182,     0.98182,     0.98182,     0.98182,     0.98182,     0.98182,     0.98182,\n",
       "            0.98182,     0.98182,     0.98182,     0.98182,     0.98182,     0.98182,     0.98182,     0.98182,     0.98182,     0.98182,     0.98182,     0.98182,     0.98182,     0.98182,     0.98182,     0.98182,     0.98182,     0.98182,     0.98182,     0.98182,     0.98182,     0.98182,     0.98182,\n",
       "            0.98182,     0.98182,     0.98182,     0.98182,     0.98182,     0.98182,     0.98182,     0.98182,     0.98182,     0.98182,     0.98182,     0.98182,     0.98182,     0.98182,     0.98182,     0.98182,     0.98182,     0.98182,     0.98182,     0.98182,     0.98182,     0.98182,     0.98182,\n",
       "            0.98182,     0.98182,     0.97688,     0.97688,     0.97688,     0.97688,     0.97688,     0.97688,     0.97688,     0.97688,     0.97688,     0.97688,     0.97688,     0.97688,     0.97688,     0.97688,     0.97688,     0.97688,     0.97688,     0.97688,     0.97688,     0.97688,     0.97688,\n",
       "            0.97688,     0.97688,     0.97688,     0.97688,     0.97688,     0.97688,     0.97688,     0.97688,     0.97688,     0.97688,     0.97688,     0.97688,     0.97688,     0.97688,     0.97688,     0.97222,     0.97222,     0.97222,     0.97222,     0.97222,     0.97222,     0.97222,     0.97222,\n",
       "            0.97222,     0.97222,     0.97222,     0.97222,     0.97222,     0.97222,     0.97222,     0.97222,     0.97222,     0.97222,     0.97222,     0.97222,     0.97222,     0.97222,     0.97222,     0.97222,     0.97222,     0.97222,     0.97222,     0.97222,     0.97222,     0.97222,     0.97222,\n",
       "            0.95652,     0.95652,     0.95652,     0.95652,     0.95652,     0.94149,     0.94149,     0.94149,     0.94149,     0.94149,     0.93194,     0.93194,     0.93194,     0.93194,     0.93194,     0.92746,     0.92746,     0.92746,     0.92746,     0.92746,     0.92746,      0.8867,      0.8867,\n",
       "             0.8867,      0.8867,      0.8867,      0.8744,      0.8744,      0.8744,      0.8744,      0.8744,     0.78788,     0.78788,     0.78788,     0.78788,     0.78788,     0.77542,     0.77542,     0.77542,     0.77542,     0.77542,     0.77311,     0.77311,     0.77311,     0.77311,     0.77311,\n",
       "            0.73123,     0.73123,     0.73123,     0.73123,     0.73123,     0.71538,     0.71538,     0.71538,     0.71538,     0.71538,     0.55325,     0.55325,     0.55325,     0.55325,     0.55325,     0.55325,     0.35472,     0.35472,     0.35472,     0.35472,     0.35472,     0.24169,     0.24169,\n",
       "            0.24169,     0.24169,     0.24169,     0.19408,     0.19408,     0.19408,     0.19408,     0.19408,      0.1433,     0.13757,     0.13184,     0.12611,     0.12038,     0.11464,     0.10891,     0.10318,    0.097447,    0.091715,    0.085982,     0.08025,    0.074518,    0.068786,    0.063054,\n",
       "           0.057322,    0.051589,    0.045857,    0.040125,    0.034393,    0.028661,    0.022929,    0.017196,    0.011464,   0.0057322,           0]]), 'Recall', 'Precision'], [array([          0,    0.001001,    0.002002,    0.003003,    0.004004,    0.005005,    0.006006,    0.007007,    0.008008,    0.009009,     0.01001,    0.011011,    0.012012,    0.013013,    0.014014,    0.015015,    0.016016,    0.017017,    0.018018,    0.019019,     0.02002,    0.021021,    0.022022,    0.023023,\n",
       "          0.024024,    0.025025,    0.026026,    0.027027,    0.028028,    0.029029,     0.03003,    0.031031,    0.032032,    0.033033,    0.034034,    0.035035,    0.036036,    0.037037,    0.038038,    0.039039,     0.04004,    0.041041,    0.042042,    0.043043,    0.044044,    0.045045,    0.046046,    0.047047,\n",
       "          0.048048,    0.049049,     0.05005,    0.051051,    0.052052,    0.053053,    0.054054,    0.055055,    0.056056,    0.057057,    0.058058,    0.059059,     0.06006,    0.061061,    0.062062,    0.063063,    0.064064,    0.065065,    0.066066,    0.067067,    0.068068,    0.069069,     0.07007,    0.071071,\n",
       "          0.072072,    0.073073,    0.074074,    0.075075,    0.076076,    0.077077,    0.078078,    0.079079,     0.08008,    0.081081,    0.082082,    0.083083,    0.084084,    0.085085,    0.086086,    0.087087,    0.088088,    0.089089,     0.09009,    0.091091,    0.092092,    0.093093,    0.094094,    0.095095,\n",
       "          0.096096,    0.097097,    0.098098,    0.099099,      0.1001,      0.1011,      0.1021,      0.1031,      0.1041,     0.10511,     0.10611,     0.10711,     0.10811,     0.10911,     0.11011,     0.11111,     0.11211,     0.11311,     0.11411,     0.11512,     0.11612,     0.11712,     0.11812,     0.11912,\n",
       "           0.12012,     0.12112,     0.12212,     0.12312,     0.12412,     0.12513,     0.12613,     0.12713,     0.12813,     0.12913,     0.13013,     0.13113,     0.13213,     0.13313,     0.13413,     0.13514,     0.13614,     0.13714,     0.13814,     0.13914,     0.14014,     0.14114,     0.14214,     0.14314,\n",
       "           0.14414,     0.14515,     0.14615,     0.14715,     0.14815,     0.14915,     0.15015,     0.15115,     0.15215,     0.15315,     0.15415,     0.15516,     0.15616,     0.15716,     0.15816,     0.15916,     0.16016,     0.16116,     0.16216,     0.16316,     0.16416,     0.16517,     0.16617,     0.16717,\n",
       "           0.16817,     0.16917,     0.17017,     0.17117,     0.17217,     0.17317,     0.17417,     0.17518,     0.17618,     0.17718,     0.17818,     0.17918,     0.18018,     0.18118,     0.18218,     0.18318,     0.18418,     0.18519,     0.18619,     0.18719,     0.18819,     0.18919,     0.19019,     0.19119,\n",
       "           0.19219,     0.19319,     0.19419,      0.1952,      0.1962,      0.1972,      0.1982,      0.1992,      0.2002,      0.2012,      0.2022,      0.2032,      0.2042,     0.20521,     0.20621,     0.20721,     0.20821,     0.20921,     0.21021,     0.21121,     0.21221,     0.21321,     0.21421,     0.21522,\n",
       "           0.21622,     0.21722,     0.21822,     0.21922,     0.22022,     0.22122,     0.22222,     0.22322,     0.22422,     0.22523,     0.22623,     0.22723,     0.22823,     0.22923,     0.23023,     0.23123,     0.23223,     0.23323,     0.23423,     0.23524,     0.23624,     0.23724,     0.23824,     0.23924,\n",
       "           0.24024,     0.24124,     0.24224,     0.24324,     0.24424,     0.24525,     0.24625,     0.24725,     0.24825,     0.24925,     0.25025,     0.25125,     0.25225,     0.25325,     0.25425,     0.25526,     0.25626,     0.25726,     0.25826,     0.25926,     0.26026,     0.26126,     0.26226,     0.26326,\n",
       "           0.26426,     0.26527,     0.26627,     0.26727,     0.26827,     0.26927,     0.27027,     0.27127,     0.27227,     0.27327,     0.27427,     0.27528,     0.27628,     0.27728,     0.27828,     0.27928,     0.28028,     0.28128,     0.28228,     0.28328,     0.28428,     0.28529,     0.28629,     0.28729,\n",
       "           0.28829,     0.28929,     0.29029,     0.29129,     0.29229,     0.29329,     0.29429,      0.2953,      0.2963,      0.2973,      0.2983,      0.2993,      0.3003,      0.3013,      0.3023,      0.3033,      0.3043,     0.30531,     0.30631,     0.30731,     0.30831,     0.30931,     0.31031,     0.31131,\n",
       "           0.31231,     0.31331,     0.31431,     0.31532,     0.31632,     0.31732,     0.31832,     0.31932,     0.32032,     0.32132,     0.32232,     0.32332,     0.32432,     0.32533,     0.32633,     0.32733,     0.32833,     0.32933,     0.33033,     0.33133,     0.33233,     0.33333,     0.33433,     0.33534,\n",
       "           0.33634,     0.33734,     0.33834,     0.33934,     0.34034,     0.34134,     0.34234,     0.34334,     0.34434,     0.34535,     0.34635,     0.34735,     0.34835,     0.34935,     0.35035,     0.35135,     0.35235,     0.35335,     0.35435,     0.35536,     0.35636,     0.35736,     0.35836,     0.35936,\n",
       "           0.36036,     0.36136,     0.36236,     0.36336,     0.36436,     0.36537,     0.36637,     0.36737,     0.36837,     0.36937,     0.37037,     0.37137,     0.37237,     0.37337,     0.37437,     0.37538,     0.37638,     0.37738,     0.37838,     0.37938,     0.38038,     0.38138,     0.38238,     0.38338,\n",
       "           0.38438,     0.38539,     0.38639,     0.38739,     0.38839,     0.38939,     0.39039,     0.39139,     0.39239,     0.39339,     0.39439,      0.3954,      0.3964,      0.3974,      0.3984,      0.3994,      0.4004,      0.4014,      0.4024,      0.4034,      0.4044,     0.40541,     0.40641,     0.40741,\n",
       "           0.40841,     0.40941,     0.41041,     0.41141,     0.41241,     0.41341,     0.41441,     0.41542,     0.41642,     0.41742,     0.41842,     0.41942,     0.42042,     0.42142,     0.42242,     0.42342,     0.42442,     0.42543,     0.42643,     0.42743,     0.42843,     0.42943,     0.43043,     0.43143,\n",
       "           0.43243,     0.43343,     0.43443,     0.43544,     0.43644,     0.43744,     0.43844,     0.43944,     0.44044,     0.44144,     0.44244,     0.44344,     0.44444,     0.44545,     0.44645,     0.44745,     0.44845,     0.44945,     0.45045,     0.45145,     0.45245,     0.45345,     0.45445,     0.45546,\n",
       "           0.45646,     0.45746,     0.45846,     0.45946,     0.46046,     0.46146,     0.46246,     0.46346,     0.46446,     0.46547,     0.46647,     0.46747,     0.46847,     0.46947,     0.47047,     0.47147,     0.47247,     0.47347,     0.47447,     0.47548,     0.47648,     0.47748,     0.47848,     0.47948,\n",
       "           0.48048,     0.48148,     0.48248,     0.48348,     0.48448,     0.48549,     0.48649,     0.48749,     0.48849,     0.48949,     0.49049,     0.49149,     0.49249,     0.49349,     0.49449,      0.4955,      0.4965,      0.4975,      0.4985,      0.4995,      0.5005,      0.5015,      0.5025,      0.5035,\n",
       "            0.5045,     0.50551,     0.50651,     0.50751,     0.50851,     0.50951,     0.51051,     0.51151,     0.51251,     0.51351,     0.51451,     0.51552,     0.51652,     0.51752,     0.51852,     0.51952,     0.52052,     0.52152,     0.52252,     0.52352,     0.52452,     0.52553,     0.52653,     0.52753,\n",
       "           0.52853,     0.52953,     0.53053,     0.53153,     0.53253,     0.53353,     0.53453,     0.53554,     0.53654,     0.53754,     0.53854,     0.53954,     0.54054,     0.54154,     0.54254,     0.54354,     0.54454,     0.54555,     0.54655,     0.54755,     0.54855,     0.54955,     0.55055,     0.55155,\n",
       "           0.55255,     0.55355,     0.55455,     0.55556,     0.55656,     0.55756,     0.55856,     0.55956,     0.56056,     0.56156,     0.56256,     0.56356,     0.56456,     0.56557,     0.56657,     0.56757,     0.56857,     0.56957,     0.57057,     0.57157,     0.57257,     0.57357,     0.57457,     0.57558,\n",
       "           0.57658,     0.57758,     0.57858,     0.57958,     0.58058,     0.58158,     0.58258,     0.58358,     0.58458,     0.58559,     0.58659,     0.58759,     0.58859,     0.58959,     0.59059,     0.59159,     0.59259,     0.59359,     0.59459,      0.5956,      0.5966,      0.5976,      0.5986,      0.5996,\n",
       "            0.6006,      0.6016,      0.6026,      0.6036,      0.6046,     0.60561,     0.60661,     0.60761,     0.60861,     0.60961,     0.61061,     0.61161,     0.61261,     0.61361,     0.61461,     0.61562,     0.61662,     0.61762,     0.61862,     0.61962,     0.62062,     0.62162,     0.62262,     0.62362,\n",
       "           0.62462,     0.62563,     0.62663,     0.62763,     0.62863,     0.62963,     0.63063,     0.63163,     0.63263,     0.63363,     0.63463,     0.63564,     0.63664,     0.63764,     0.63864,     0.63964,     0.64064,     0.64164,     0.64264,     0.64364,     0.64464,     0.64565,     0.64665,     0.64765,\n",
       "           0.64865,     0.64965,     0.65065,     0.65165,     0.65265,     0.65365,     0.65465,     0.65566,     0.65666,     0.65766,     0.65866,     0.65966,     0.66066,     0.66166,     0.66266,     0.66366,     0.66466,     0.66567,     0.66667,     0.66767,     0.66867,     0.66967,     0.67067,     0.67167,\n",
       "           0.67267,     0.67367,     0.67467,     0.67568,     0.67668,     0.67768,     0.67868,     0.67968,     0.68068,     0.68168,     0.68268,     0.68368,     0.68468,     0.68569,     0.68669,     0.68769,     0.68869,     0.68969,     0.69069,     0.69169,     0.69269,     0.69369,     0.69469,      0.6957,\n",
       "            0.6967,      0.6977,      0.6987,      0.6997,      0.7007,      0.7017,      0.7027,      0.7037,      0.7047,     0.70571,     0.70671,     0.70771,     0.70871,     0.70971,     0.71071,     0.71171,     0.71271,     0.71371,     0.71471,     0.71572,     0.71672,     0.71772,     0.71872,     0.71972,\n",
       "           0.72072,     0.72172,     0.72272,     0.72372,     0.72472,     0.72573,     0.72673,     0.72773,     0.72873,     0.72973,     0.73073,     0.73173,     0.73273,     0.73373,     0.73473,     0.73574,     0.73674,     0.73774,     0.73874,     0.73974,     0.74074,     0.74174,     0.74274,     0.74374,\n",
       "           0.74474,     0.74575,     0.74675,     0.74775,     0.74875,     0.74975,     0.75075,     0.75175,     0.75275,     0.75375,     0.75475,     0.75576,     0.75676,     0.75776,     0.75876,     0.75976,     0.76076,     0.76176,     0.76276,     0.76376,     0.76476,     0.76577,     0.76677,     0.76777,\n",
       "           0.76877,     0.76977,     0.77077,     0.77177,     0.77277,     0.77377,     0.77477,     0.77578,     0.77678,     0.77778,     0.77878,     0.77978,     0.78078,     0.78178,     0.78278,     0.78378,     0.78478,     0.78579,     0.78679,     0.78779,     0.78879,     0.78979,     0.79079,     0.79179,\n",
       "           0.79279,     0.79379,     0.79479,      0.7958,      0.7968,      0.7978,      0.7988,      0.7998,      0.8008,      0.8018,      0.8028,      0.8038,      0.8048,     0.80581,     0.80681,     0.80781,     0.80881,     0.80981,     0.81081,     0.81181,     0.81281,     0.81381,     0.81481,     0.81582,\n",
       "           0.81682,     0.81782,     0.81882,     0.81982,     0.82082,     0.82182,     0.82282,     0.82382,     0.82482,     0.82583,     0.82683,     0.82783,     0.82883,     0.82983,     0.83083,     0.83183,     0.83283,     0.83383,     0.83483,     0.83584,     0.83684,     0.83784,     0.83884,     0.83984,\n",
       "           0.84084,     0.84184,     0.84284,     0.84384,     0.84484,     0.84585,     0.84685,     0.84785,     0.84885,     0.84985,     0.85085,     0.85185,     0.85285,     0.85385,     0.85485,     0.85586,     0.85686,     0.85786,     0.85886,     0.85986,     0.86086,     0.86186,     0.86286,     0.86386,\n",
       "           0.86486,     0.86587,     0.86687,     0.86787,     0.86887,     0.86987,     0.87087,     0.87187,     0.87287,     0.87387,     0.87487,     0.87588,     0.87688,     0.87788,     0.87888,     0.87988,     0.88088,     0.88188,     0.88288,     0.88388,     0.88488,     0.88589,     0.88689,     0.88789,\n",
       "           0.88889,     0.88989,     0.89089,     0.89189,     0.89289,     0.89389,     0.89489,      0.8959,      0.8969,      0.8979,      0.8989,      0.8999,      0.9009,      0.9019,      0.9029,      0.9039,      0.9049,     0.90591,     0.90691,     0.90791,     0.90891,     0.90991,     0.91091,     0.91191,\n",
       "           0.91291,     0.91391,     0.91491,     0.91592,     0.91692,     0.91792,     0.91892,     0.91992,     0.92092,     0.92192,     0.92292,     0.92392,     0.92492,     0.92593,     0.92693,     0.92793,     0.92893,     0.92993,     0.93093,     0.93193,     0.93293,     0.93393,     0.93493,     0.93594,\n",
       "           0.93694,     0.93794,     0.93894,     0.93994,     0.94094,     0.94194,     0.94294,     0.94394,     0.94494,     0.94595,     0.94695,     0.94795,     0.94895,     0.94995,     0.95095,     0.95195,     0.95295,     0.95395,     0.95495,     0.95596,     0.95696,     0.95796,     0.95896,     0.95996,\n",
       "           0.96096,     0.96196,     0.96296,     0.96396,     0.96496,     0.96597,     0.96697,     0.96797,     0.96897,     0.96997,     0.97097,     0.97197,     0.97297,     0.97397,     0.97497,     0.97598,     0.97698,     0.97798,     0.97898,     0.97998,     0.98098,     0.98198,     0.98298,     0.98398,\n",
       "           0.98498,     0.98599,     0.98699,     0.98799,     0.98899,     0.98999,     0.99099,     0.99199,     0.99299,     0.99399,     0.99499,       0.996,       0.997,       0.998,       0.999,           1]), array([[     0.2552,      0.2552,     0.33317,      0.3814,     0.41451,     0.45225,     0.48042,     0.50324,     0.52466,      0.5598,     0.60323,     0.64739,     0.69397,     0.71927,     0.73836,     0.75039,     0.75706,      0.7668,     0.77118,     0.77581,     0.78482,     0.79696,     0.80095,\n",
       "            0.81075,     0.81332,     0.81636,     0.81557,     0.81673,     0.81862,     0.82196,     0.82271,     0.82322,     0.82374,     0.82532,     0.82383,     0.82497,     0.82656,     0.82753,     0.82829,     0.82909,     0.83002,     0.83289,     0.83746,     0.84435,       0.845,     0.84566,\n",
       "            0.84811,     0.84913,     0.84856,     0.84865,     0.84769,     0.84672,     0.84766,     0.84897,     0.85007,     0.85126,     0.85249,     0.85368,     0.85383,     0.85203,     0.85398,     0.85513,     0.85909,     0.86067,     0.86175,     0.86316,     0.86426,     0.86491,     0.86556,\n",
       "            0.86626,     0.86707,     0.86788,     0.87081,     0.87258,     0.87323,     0.87388,     0.87447,     0.87483,     0.87519,     0.87555,      0.8759,     0.87626,     0.87675,     0.87754,     0.87833,     0.87899,     0.87957,     0.88014,     0.88072,     0.88287,     0.88328,     0.88365,\n",
       "            0.88401,     0.88438,     0.88474,     0.88513,     0.88584,     0.88655,     0.88726,      0.8876,     0.88794,     0.88828,     0.88862,     0.88896,      0.8893,      0.8898,     0.89039,     0.89097,     0.89156,      0.8925,     0.89347,     0.89612,     0.89644,     0.89675,     0.89706,\n",
       "            0.89737,     0.89768,     0.89799,     0.89828,     0.89839,     0.89851,     0.89862,     0.89874,     0.89885,     0.89896,     0.89908,     0.89919,     0.89931,     0.89942,     0.89954,     0.89965,     0.89976,     0.89988,     0.89999,     0.90011,     0.90022,     0.90033,     0.90045,\n",
       "            0.90039,     0.90019,     0.89999,      0.8998,      0.8996,      0.8994,      0.8992,     0.89901,     0.89881,     0.89861,     0.89841,     0.89822,     0.89802,     0.89782,     0.89847,     0.89956,     0.90019,      0.9005,     0.90081,     0.90113,     0.90144,     0.90175,     0.90207,\n",
       "            0.90238,     0.90271,     0.90304,     0.90336,     0.90369,     0.90402,     0.90434,     0.90432,     0.90387,     0.90342,     0.90297,     0.90251,     0.90206,     0.90183,     0.90203,     0.90223,     0.90243,     0.90263,     0.90283,     0.90303,     0.90322,     0.90342,     0.90362,\n",
       "            0.90382,     0.90402,      0.9057,     0.90643,     0.90658,     0.90673,     0.90688,     0.90703,     0.90719,     0.90734,     0.90749,     0.90764,     0.90779,     0.90794,     0.90809,     0.90824,     0.90839,     0.90854,     0.90872,     0.90893,     0.90914,     0.90935,     0.90956,\n",
       "            0.90977,     0.90998,     0.91019,      0.9104,     0.91061,     0.91082,     0.91121,      0.9118,      0.9124,     0.91299,     0.91329,     0.91333,     0.91338,     0.91342,     0.91347,     0.91351,     0.91356,      0.9136,     0.91365,     0.91369,     0.91374,     0.91378,     0.91383,\n",
       "            0.91387,     0.91392,     0.91396,     0.91401,     0.91405,     0.91409,     0.91414,     0.91418,     0.91423,     0.91427,     0.91432,     0.91436,     0.91441,     0.91445,      0.9145,     0.91454,     0.91459,     0.91463,     0.91467,     0.91472,     0.91476,     0.91481,     0.91485,\n",
       "             0.9149,     0.91494,     0.91499,     0.91503,     0.91508,     0.91512,     0.91517,     0.91521,     0.91525,      0.9153,     0.91534,     0.91539,     0.91543,     0.91548,     0.91552,     0.91557,     0.91584,     0.91691,     0.91795,     0.91801,     0.91808,     0.91814,     0.91821,\n",
       "            0.91827,     0.91834,      0.9184,     0.91846,     0.91853,     0.91859,     0.91866,     0.91872,     0.91879,     0.91885,     0.91891,     0.91898,     0.91904,     0.91911,     0.91917,     0.91923,      0.9193,     0.91936,     0.91943,     0.91949,     0.91955,     0.91962,     0.91968,\n",
       "            0.91975,     0.91981,     0.91987,     0.91994,        0.92,     0.92007,     0.92013,     0.92019,     0.92026,     0.92034,     0.92047,      0.9206,     0.92074,     0.92087,       0.921,     0.92114,     0.92127,      0.9214,     0.92154,     0.92167,      0.9218,     0.92194,     0.92207,\n",
       "             0.9222,     0.92233,     0.92247,      0.9226,     0.92264,     0.92254,     0.92243,     0.92233,     0.92223,     0.92213,     0.92202,     0.92192,     0.92182,     0.92172,     0.92161,     0.92151,     0.92141,      0.9213,      0.9212,      0.9211,       0.921,     0.92089,     0.92079,\n",
       "            0.92069,     0.92058,     0.92048,     0.92038,     0.92028,     0.92017,     0.92007,     0.91997,     0.92069,     0.92224,     0.92212,       0.922,     0.92188,     0.92176,     0.92164,     0.92152,      0.9214,     0.92128,     0.92116,     0.92104,     0.92092,      0.9208,     0.92069,\n",
       "            0.92057,     0.92045,     0.92033,     0.92021,     0.92009,     0.91997,     0.91985,     0.91973,     0.91961,     0.91949,      0.9196,     0.91973,     0.91986,     0.91999,     0.92012,     0.92025,     0.92038,     0.92051,     0.92064,     0.92077,     0.92089,     0.92102,     0.92115,\n",
       "            0.92128,     0.92141,     0.92154,     0.92167,      0.9218,     0.92237,      0.9236,     0.92364,     0.92219,     0.92156,     0.92176,     0.92196,     0.92216,     0.92236,     0.92256,     0.92276,     0.92295,     0.92315,     0.92335,     0.92355,     0.92375,     0.92393,     0.92406,\n",
       "             0.9242,     0.92433,     0.92447,      0.9246,     0.92474,     0.92487,       0.925,     0.92514,     0.92527,     0.92541,     0.92554,     0.92568,     0.92581,     0.92595,     0.92608,     0.92622,      0.9264,     0.92672,     0.92705,     0.92737,     0.92769,     0.92802,     0.92834,\n",
       "            0.92866,     0.92859,     0.92835,     0.92811,     0.92787,     0.92763,     0.92738,     0.92714,      0.9269,     0.92666,     0.92641,     0.92617,     0.92593,     0.92599,     0.92605,     0.92612,     0.92618,     0.92624,     0.92631,     0.92637,     0.92643,      0.9265,     0.92656,\n",
       "            0.92662,     0.92669,     0.92675,     0.92681,     0.92688,     0.92694,       0.927,     0.92707,     0.92713,     0.92719,     0.92726,     0.92732,     0.92738,     0.92745,     0.92751,     0.92757,     0.92764,      0.9277,     0.92776,     0.92783,     0.92789,     0.92795,     0.92802,\n",
       "            0.92808,     0.92814,     0.92821,     0.92827,     0.92833,     0.92851,     0.92915,     0.92978,     0.93041,      0.9309,     0.93105,      0.9312,     0.93135,      0.9315,     0.93165,      0.9318,     0.93195,      0.9321,     0.93225,      0.9324,     0.93254,     0.93269,     0.93284,\n",
       "            0.93299,     0.93314,     0.93329,     0.93281,     0.93208,     0.93135,     0.93062,     0.93039,     0.93028,     0.93016,     0.93005,     0.92994,     0.92982,     0.92971,      0.9296,     0.92949,     0.92937,     0.92926,     0.92915,     0.92903,     0.92892,     0.92881,     0.92869,\n",
       "            0.92858,     0.92847,     0.92836,     0.92824,     0.92813,     0.92802,      0.9279,     0.92779,     0.92768,     0.92695,     0.92547,     0.92463,     0.92441,      0.9242,     0.92399,     0.92378,     0.92357,     0.92335,     0.92314,     0.92293,     0.92272,      0.9225,     0.92229,\n",
       "            0.92208,     0.92187,     0.92163,     0.92139,     0.92115,     0.92092,     0.92068,     0.92044,      0.9202,     0.91996,     0.91972,     0.91948,     0.91924,       0.919,     0.91843,     0.91768,     0.91693,     0.91618,     0.91694,     0.91822,     0.91838,     0.91825,     0.91812,\n",
       "            0.91799,     0.91786,     0.91773,     0.91761,     0.91748,     0.91735,     0.91722,     0.91709,     0.91696,     0.91684,     0.91671,     0.91658,     0.91645,     0.91632,     0.91619,     0.91606,     0.91593,     0.91581,     0.91568,     0.91555,     0.91544,     0.91534,     0.91524,\n",
       "            0.91513,     0.91503,     0.91493,     0.91483,     0.91472,     0.91462,     0.91452,     0.91441,     0.91431,     0.91421,     0.91411,       0.914,      0.9139,      0.9138,     0.91369,     0.91359,     0.91349,     0.91338,     0.91328,     0.91318,     0.91308,     0.91297,     0.91287,\n",
       "            0.91277,     0.91266,     0.91256,     0.91241,     0.91226,     0.91211,     0.91196,     0.91181,     0.91166,     0.91151,     0.91137,     0.91122,     0.91107,     0.91092,     0.91077,     0.91062,     0.91047,     0.91032,     0.91017,     0.91002,     0.90987,     0.90973,     0.90954,\n",
       "            0.90903,     0.90852,     0.90801,      0.9075,     0.90699,     0.90648,     0.90601,     0.90553,     0.90506,     0.90458,     0.90411,     0.90363,     0.90279,      0.9019,     0.90102,     0.89906,     0.89764,     0.89789,     0.89815,      0.8984,     0.89866,     0.89892,     0.89917,\n",
       "            0.89943,     0.89968,     0.89994,     0.89941,     0.89863,     0.89784,     0.89706,     0.89634,     0.89564,     0.89494,     0.89424,     0.89313,     0.89154,     0.89035,     0.88956,     0.88876,     0.88796,     0.88743,     0.88707,     0.88671,     0.88636,       0.886,     0.88564,\n",
       "            0.88529,     0.88493,     0.88457,     0.88421,     0.88385,      0.8835,     0.88314,     0.88278,     0.88242,     0.88206,      0.8817,      0.8813,        0.88,      0.8787,     0.87368,     0.87166,     0.87072,     0.86978,     0.86883,     0.86788,     0.86694,     0.86599,     0.86464,\n",
       "            0.86241,     0.85784,     0.85671,     0.85558,     0.85501,     0.85449,     0.85397,     0.85344,     0.85292,     0.85239,     0.85187,     0.85135,     0.85082,     0.85029,     0.84977,     0.84924,     0.84829,       0.846,     0.84507,     0.84454,     0.84401,     0.84347,     0.84294,\n",
       "            0.84241,      0.8416,     0.84045,     0.83928,     0.83842,     0.83783,     0.83725,     0.83667,     0.83608,      0.8355,     0.83478,       0.834,     0.83322,     0.83244,     0.83124,     0.82888,     0.82802,     0.82755,     0.82707,      0.8266,     0.82612,     0.82565,     0.82517,\n",
       "            0.82027,     0.81439,     0.81522,     0.81606,     0.81668,     0.81522,     0.81376,     0.81246,     0.81123,        0.81,     0.80788,     0.80541,     0.80293,     0.80044,     0.79488,     0.79419,      0.7935,     0.79281,     0.79212,     0.79143,     0.78621,     0.78467,     0.78259,\n",
       "            0.78001,     0.77742,     0.77404,     0.77094,     0.76445,      0.7618,     0.75245,     0.75144,     0.75043,     0.74941,     0.74594,     0.74657,      0.7426,     0.73983,     0.73806,     0.73639,     0.73356,     0.73058,     0.72889,      0.7272,      0.7255,      0.7238,     0.71855,\n",
       "            0.71789,     0.71723,     0.71657,     0.71591,     0.71524,     0.70594,     0.70469,     0.70343,     0.70218,     0.69949,     0.69161,     0.67826,     0.67435,     0.67128,     0.66894,      0.6666,      0.6635,     0.66081,     0.65846,       0.651,     0.64808,     0.64671,     0.64535,\n",
       "            0.64397,     0.64009,     0.63452,     0.63207,     0.62895,     0.62509,      0.6152,     0.61014,     0.60004,     0.59562,     0.59216,      0.5844,     0.58176,     0.57912,     0.57627,     0.56079,      0.5598,     0.55881,     0.55782,     0.55682,     0.55583,     0.53523,     0.52687,\n",
       "            0.52497,     0.52306,     0.51798,     0.51218,     0.50403,     0.50207,      0.5001,     0.49334,     0.49242,      0.4915,     0.49058,     0.48966,     0.48874,     0.47533,     0.47329,     0.47124,      0.4664,     0.45782,     0.45469,     0.45071,     0.43876,     0.43448,     0.43107,\n",
       "            0.42783,     0.42171,     0.41958,     0.41794,     0.41629,     0.41464,     0.40802,     0.39444,     0.37112,     0.36548,     0.36101,     0.35818,     0.35534,     0.34958,     0.33938,     0.33453,     0.32061,     0.31082,     0.30781,      0.3048,     0.29261,     0.27893,      0.2711,\n",
       "            0.26321,     0.25648,     0.25113,     0.24048,     0.22702,     0.22149,     0.19946,     0.19239,      0.1653,     0.15963,     0.15517,     0.14775,      0.1325,     0.12636,     0.11109,     0.10561,     0.10183,    0.098033,    0.089192,    0.074441,    0.069556,    0.050527,    0.047216,\n",
       "           0.044348,    0.041472,    0.037375,      0.0323,    0.029826,    0.029041,    0.028255,    0.027469,    0.026682,    0.025894,    0.025106,    0.024317,    0.023528,    0.022738,    0.021947,    0.021156,    0.020364,    0.015527,    0.010339,           0,           0,           0,           0,\n",
       "                  0,           0,           0,           0,           0,           0,           0,           0,           0,           0,           0,           0,           0,           0,           0,           0,           0,           0,           0,           0,           0,           0,           0,\n",
       "                  0,           0,           0,           0,           0,           0,           0,           0,           0,           0,           0,           0,           0,           0,           0,           0,           0,           0,           0,           0,           0,           0,           0,\n",
       "                  0,           0,           0,           0,           0,           0,           0,           0,           0,           0,           0]]), 'Confidence', 'F1'], [array([          0,    0.001001,    0.002002,    0.003003,    0.004004,    0.005005,    0.006006,    0.007007,    0.008008,    0.009009,     0.01001,    0.011011,    0.012012,    0.013013,    0.014014,    0.015015,    0.016016,    0.017017,    0.018018,    0.019019,     0.02002,    0.021021,    0.022022,    0.023023,\n",
       "          0.024024,    0.025025,    0.026026,    0.027027,    0.028028,    0.029029,     0.03003,    0.031031,    0.032032,    0.033033,    0.034034,    0.035035,    0.036036,    0.037037,    0.038038,    0.039039,     0.04004,    0.041041,    0.042042,    0.043043,    0.044044,    0.045045,    0.046046,    0.047047,\n",
       "          0.048048,    0.049049,     0.05005,    0.051051,    0.052052,    0.053053,    0.054054,    0.055055,    0.056056,    0.057057,    0.058058,    0.059059,     0.06006,    0.061061,    0.062062,    0.063063,    0.064064,    0.065065,    0.066066,    0.067067,    0.068068,    0.069069,     0.07007,    0.071071,\n",
       "          0.072072,    0.073073,    0.074074,    0.075075,    0.076076,    0.077077,    0.078078,    0.079079,     0.08008,    0.081081,    0.082082,    0.083083,    0.084084,    0.085085,    0.086086,    0.087087,    0.088088,    0.089089,     0.09009,    0.091091,    0.092092,    0.093093,    0.094094,    0.095095,\n",
       "          0.096096,    0.097097,    0.098098,    0.099099,      0.1001,      0.1011,      0.1021,      0.1031,      0.1041,     0.10511,     0.10611,     0.10711,     0.10811,     0.10911,     0.11011,     0.11111,     0.11211,     0.11311,     0.11411,     0.11512,     0.11612,     0.11712,     0.11812,     0.11912,\n",
       "           0.12012,     0.12112,     0.12212,     0.12312,     0.12412,     0.12513,     0.12613,     0.12713,     0.12813,     0.12913,     0.13013,     0.13113,     0.13213,     0.13313,     0.13413,     0.13514,     0.13614,     0.13714,     0.13814,     0.13914,     0.14014,     0.14114,     0.14214,     0.14314,\n",
       "           0.14414,     0.14515,     0.14615,     0.14715,     0.14815,     0.14915,     0.15015,     0.15115,     0.15215,     0.15315,     0.15415,     0.15516,     0.15616,     0.15716,     0.15816,     0.15916,     0.16016,     0.16116,     0.16216,     0.16316,     0.16416,     0.16517,     0.16617,     0.16717,\n",
       "           0.16817,     0.16917,     0.17017,     0.17117,     0.17217,     0.17317,     0.17417,     0.17518,     0.17618,     0.17718,     0.17818,     0.17918,     0.18018,     0.18118,     0.18218,     0.18318,     0.18418,     0.18519,     0.18619,     0.18719,     0.18819,     0.18919,     0.19019,     0.19119,\n",
       "           0.19219,     0.19319,     0.19419,      0.1952,      0.1962,      0.1972,      0.1982,      0.1992,      0.2002,      0.2012,      0.2022,      0.2032,      0.2042,     0.20521,     0.20621,     0.20721,     0.20821,     0.20921,     0.21021,     0.21121,     0.21221,     0.21321,     0.21421,     0.21522,\n",
       "           0.21622,     0.21722,     0.21822,     0.21922,     0.22022,     0.22122,     0.22222,     0.22322,     0.22422,     0.22523,     0.22623,     0.22723,     0.22823,     0.22923,     0.23023,     0.23123,     0.23223,     0.23323,     0.23423,     0.23524,     0.23624,     0.23724,     0.23824,     0.23924,\n",
       "           0.24024,     0.24124,     0.24224,     0.24324,     0.24424,     0.24525,     0.24625,     0.24725,     0.24825,     0.24925,     0.25025,     0.25125,     0.25225,     0.25325,     0.25425,     0.25526,     0.25626,     0.25726,     0.25826,     0.25926,     0.26026,     0.26126,     0.26226,     0.26326,\n",
       "           0.26426,     0.26527,     0.26627,     0.26727,     0.26827,     0.26927,     0.27027,     0.27127,     0.27227,     0.27327,     0.27427,     0.27528,     0.27628,     0.27728,     0.27828,     0.27928,     0.28028,     0.28128,     0.28228,     0.28328,     0.28428,     0.28529,     0.28629,     0.28729,\n",
       "           0.28829,     0.28929,     0.29029,     0.29129,     0.29229,     0.29329,     0.29429,      0.2953,      0.2963,      0.2973,      0.2983,      0.2993,      0.3003,      0.3013,      0.3023,      0.3033,      0.3043,     0.30531,     0.30631,     0.30731,     0.30831,     0.30931,     0.31031,     0.31131,\n",
       "           0.31231,     0.31331,     0.31431,     0.31532,     0.31632,     0.31732,     0.31832,     0.31932,     0.32032,     0.32132,     0.32232,     0.32332,     0.32432,     0.32533,     0.32633,     0.32733,     0.32833,     0.32933,     0.33033,     0.33133,     0.33233,     0.33333,     0.33433,     0.33534,\n",
       "           0.33634,     0.33734,     0.33834,     0.33934,     0.34034,     0.34134,     0.34234,     0.34334,     0.34434,     0.34535,     0.34635,     0.34735,     0.34835,     0.34935,     0.35035,     0.35135,     0.35235,     0.35335,     0.35435,     0.35536,     0.35636,     0.35736,     0.35836,     0.35936,\n",
       "           0.36036,     0.36136,     0.36236,     0.36336,     0.36436,     0.36537,     0.36637,     0.36737,     0.36837,     0.36937,     0.37037,     0.37137,     0.37237,     0.37337,     0.37437,     0.37538,     0.37638,     0.37738,     0.37838,     0.37938,     0.38038,     0.38138,     0.38238,     0.38338,\n",
       "           0.38438,     0.38539,     0.38639,     0.38739,     0.38839,     0.38939,     0.39039,     0.39139,     0.39239,     0.39339,     0.39439,      0.3954,      0.3964,      0.3974,      0.3984,      0.3994,      0.4004,      0.4014,      0.4024,      0.4034,      0.4044,     0.40541,     0.40641,     0.40741,\n",
       "           0.40841,     0.40941,     0.41041,     0.41141,     0.41241,     0.41341,     0.41441,     0.41542,     0.41642,     0.41742,     0.41842,     0.41942,     0.42042,     0.42142,     0.42242,     0.42342,     0.42442,     0.42543,     0.42643,     0.42743,     0.42843,     0.42943,     0.43043,     0.43143,\n",
       "           0.43243,     0.43343,     0.43443,     0.43544,     0.43644,     0.43744,     0.43844,     0.43944,     0.44044,     0.44144,     0.44244,     0.44344,     0.44444,     0.44545,     0.44645,     0.44745,     0.44845,     0.44945,     0.45045,     0.45145,     0.45245,     0.45345,     0.45445,     0.45546,\n",
       "           0.45646,     0.45746,     0.45846,     0.45946,     0.46046,     0.46146,     0.46246,     0.46346,     0.46446,     0.46547,     0.46647,     0.46747,     0.46847,     0.46947,     0.47047,     0.47147,     0.47247,     0.47347,     0.47447,     0.47548,     0.47648,     0.47748,     0.47848,     0.47948,\n",
       "           0.48048,     0.48148,     0.48248,     0.48348,     0.48448,     0.48549,     0.48649,     0.48749,     0.48849,     0.48949,     0.49049,     0.49149,     0.49249,     0.49349,     0.49449,      0.4955,      0.4965,      0.4975,      0.4985,      0.4995,      0.5005,      0.5015,      0.5025,      0.5035,\n",
       "            0.5045,     0.50551,     0.50651,     0.50751,     0.50851,     0.50951,     0.51051,     0.51151,     0.51251,     0.51351,     0.51451,     0.51552,     0.51652,     0.51752,     0.51852,     0.51952,     0.52052,     0.52152,     0.52252,     0.52352,     0.52452,     0.52553,     0.52653,     0.52753,\n",
       "           0.52853,     0.52953,     0.53053,     0.53153,     0.53253,     0.53353,     0.53453,     0.53554,     0.53654,     0.53754,     0.53854,     0.53954,     0.54054,     0.54154,     0.54254,     0.54354,     0.54454,     0.54555,     0.54655,     0.54755,     0.54855,     0.54955,     0.55055,     0.55155,\n",
       "           0.55255,     0.55355,     0.55455,     0.55556,     0.55656,     0.55756,     0.55856,     0.55956,     0.56056,     0.56156,     0.56256,     0.56356,     0.56456,     0.56557,     0.56657,     0.56757,     0.56857,     0.56957,     0.57057,     0.57157,     0.57257,     0.57357,     0.57457,     0.57558,\n",
       "           0.57658,     0.57758,     0.57858,     0.57958,     0.58058,     0.58158,     0.58258,     0.58358,     0.58458,     0.58559,     0.58659,     0.58759,     0.58859,     0.58959,     0.59059,     0.59159,     0.59259,     0.59359,     0.59459,      0.5956,      0.5966,      0.5976,      0.5986,      0.5996,\n",
       "            0.6006,      0.6016,      0.6026,      0.6036,      0.6046,     0.60561,     0.60661,     0.60761,     0.60861,     0.60961,     0.61061,     0.61161,     0.61261,     0.61361,     0.61461,     0.61562,     0.61662,     0.61762,     0.61862,     0.61962,     0.62062,     0.62162,     0.62262,     0.62362,\n",
       "           0.62462,     0.62563,     0.62663,     0.62763,     0.62863,     0.62963,     0.63063,     0.63163,     0.63263,     0.63363,     0.63463,     0.63564,     0.63664,     0.63764,     0.63864,     0.63964,     0.64064,     0.64164,     0.64264,     0.64364,     0.64464,     0.64565,     0.64665,     0.64765,\n",
       "           0.64865,     0.64965,     0.65065,     0.65165,     0.65265,     0.65365,     0.65465,     0.65566,     0.65666,     0.65766,     0.65866,     0.65966,     0.66066,     0.66166,     0.66266,     0.66366,     0.66466,     0.66567,     0.66667,     0.66767,     0.66867,     0.66967,     0.67067,     0.67167,\n",
       "           0.67267,     0.67367,     0.67467,     0.67568,     0.67668,     0.67768,     0.67868,     0.67968,     0.68068,     0.68168,     0.68268,     0.68368,     0.68468,     0.68569,     0.68669,     0.68769,     0.68869,     0.68969,     0.69069,     0.69169,     0.69269,     0.69369,     0.69469,      0.6957,\n",
       "            0.6967,      0.6977,      0.6987,      0.6997,      0.7007,      0.7017,      0.7027,      0.7037,      0.7047,     0.70571,     0.70671,     0.70771,     0.70871,     0.70971,     0.71071,     0.71171,     0.71271,     0.71371,     0.71471,     0.71572,     0.71672,     0.71772,     0.71872,     0.71972,\n",
       "           0.72072,     0.72172,     0.72272,     0.72372,     0.72472,     0.72573,     0.72673,     0.72773,     0.72873,     0.72973,     0.73073,     0.73173,     0.73273,     0.73373,     0.73473,     0.73574,     0.73674,     0.73774,     0.73874,     0.73974,     0.74074,     0.74174,     0.74274,     0.74374,\n",
       "           0.74474,     0.74575,     0.74675,     0.74775,     0.74875,     0.74975,     0.75075,     0.75175,     0.75275,     0.75375,     0.75475,     0.75576,     0.75676,     0.75776,     0.75876,     0.75976,     0.76076,     0.76176,     0.76276,     0.76376,     0.76476,     0.76577,     0.76677,     0.76777,\n",
       "           0.76877,     0.76977,     0.77077,     0.77177,     0.77277,     0.77377,     0.77477,     0.77578,     0.77678,     0.77778,     0.77878,     0.77978,     0.78078,     0.78178,     0.78278,     0.78378,     0.78478,     0.78579,     0.78679,     0.78779,     0.78879,     0.78979,     0.79079,     0.79179,\n",
       "           0.79279,     0.79379,     0.79479,      0.7958,      0.7968,      0.7978,      0.7988,      0.7998,      0.8008,      0.8018,      0.8028,      0.8038,      0.8048,     0.80581,     0.80681,     0.80781,     0.80881,     0.80981,     0.81081,     0.81181,     0.81281,     0.81381,     0.81481,     0.81582,\n",
       "           0.81682,     0.81782,     0.81882,     0.81982,     0.82082,     0.82182,     0.82282,     0.82382,     0.82482,     0.82583,     0.82683,     0.82783,     0.82883,     0.82983,     0.83083,     0.83183,     0.83283,     0.83383,     0.83483,     0.83584,     0.83684,     0.83784,     0.83884,     0.83984,\n",
       "           0.84084,     0.84184,     0.84284,     0.84384,     0.84484,     0.84585,     0.84685,     0.84785,     0.84885,     0.84985,     0.85085,     0.85185,     0.85285,     0.85385,     0.85485,     0.85586,     0.85686,     0.85786,     0.85886,     0.85986,     0.86086,     0.86186,     0.86286,     0.86386,\n",
       "           0.86486,     0.86587,     0.86687,     0.86787,     0.86887,     0.86987,     0.87087,     0.87187,     0.87287,     0.87387,     0.87487,     0.87588,     0.87688,     0.87788,     0.87888,     0.87988,     0.88088,     0.88188,     0.88288,     0.88388,     0.88488,     0.88589,     0.88689,     0.88789,\n",
       "           0.88889,     0.88989,     0.89089,     0.89189,     0.89289,     0.89389,     0.89489,      0.8959,      0.8969,      0.8979,      0.8989,      0.8999,      0.9009,      0.9019,      0.9029,      0.9039,      0.9049,     0.90591,     0.90691,     0.90791,     0.90891,     0.90991,     0.91091,     0.91191,\n",
       "           0.91291,     0.91391,     0.91491,     0.91592,     0.91692,     0.91792,     0.91892,     0.91992,     0.92092,     0.92192,     0.92292,     0.92392,     0.92492,     0.92593,     0.92693,     0.92793,     0.92893,     0.92993,     0.93093,     0.93193,     0.93293,     0.93393,     0.93493,     0.93594,\n",
       "           0.93694,     0.93794,     0.93894,     0.93994,     0.94094,     0.94194,     0.94294,     0.94394,     0.94494,     0.94595,     0.94695,     0.94795,     0.94895,     0.94995,     0.95095,     0.95195,     0.95295,     0.95395,     0.95495,     0.95596,     0.95696,     0.95796,     0.95896,     0.95996,\n",
       "           0.96096,     0.96196,     0.96296,     0.96396,     0.96496,     0.96597,     0.96697,     0.96797,     0.96897,     0.96997,     0.97097,     0.97197,     0.97297,     0.97397,     0.97497,     0.97598,     0.97698,     0.97798,     0.97898,     0.97998,     0.98098,     0.98198,     0.98298,     0.98398,\n",
       "           0.98498,     0.98599,     0.98699,     0.98799,     0.98899,     0.98999,     0.99099,     0.99199,     0.99299,     0.99399,     0.99499,       0.996,       0.997,       0.998,       0.999,           1]), array([[    0.14683,     0.14683,     0.20116,     0.23741,     0.26401,     0.29541,     0.31992,     0.34048,     0.36111,     0.39527,     0.44001,     0.48863,     0.54372,     0.57729,      0.6023,     0.61847,     0.62759,     0.64108,     0.64723,     0.65378,     0.66667,      0.6844,      0.6903,\n",
       "            0.70499,     0.70888,     0.71351,      0.7152,     0.71698,      0.7199,     0.72509,     0.72625,     0.72705,     0.72785,     0.73033,     0.73105,     0.73285,     0.73535,      0.7369,      0.7381,     0.73937,     0.74085,     0.74544,     0.75279,     0.76399,     0.76507,     0.76614,\n",
       "            0.77017,     0.77186,     0.77263,     0.77523,     0.77489,     0.77454,      0.7764,     0.77859,     0.78045,     0.78245,     0.78453,     0.78656,     0.78766,     0.78705,     0.79075,     0.79271,     0.79955,     0.80229,     0.80417,     0.80663,     0.80855,      0.8097,     0.81084,\n",
       "            0.81206,     0.81349,     0.81492,      0.8201,     0.82324,      0.8244,     0.82556,     0.82662,     0.82726,      0.8279,     0.82854,     0.82918,     0.82982,      0.8307,     0.83212,     0.83355,     0.83474,     0.83577,     0.83681,     0.83785,     0.84177,     0.84251,     0.84318,\n",
       "            0.84384,     0.84451,     0.84517,     0.84588,     0.84718,     0.84848,     0.84977,      0.8504,     0.85103,     0.85165,     0.85228,      0.8529,     0.85353,     0.85444,     0.85553,     0.85662,      0.8577,     0.85944,     0.86125,     0.86619,     0.86677,     0.86735,     0.86794,\n",
       "            0.86852,     0.86911,     0.86969,     0.87022,     0.87044,     0.87065,     0.87087,     0.87108,      0.8713,     0.87151,     0.87173,     0.87194,     0.87215,     0.87237,     0.87258,      0.8728,     0.87301,     0.87323,     0.87344,     0.87366,     0.87387,     0.87409,      0.8743,\n",
       "            0.87437,     0.87433,     0.87428,     0.87424,      0.8742,     0.87415,     0.87411,     0.87406,     0.87402,     0.87398,     0.87393,     0.87389,     0.87385,      0.8738,     0.87515,      0.8772,      0.8784,       0.879,      0.8796,      0.8802,     0.88079,     0.88139,     0.88199,\n",
       "             0.8826,     0.88322,     0.88385,     0.88448,      0.8851,     0.88573,     0.88635,     0.88666,     0.88657,     0.88647,     0.88638,     0.88629,      0.8862,     0.88627,     0.88666,     0.88704,     0.88743,     0.88781,     0.88819,     0.88858,     0.88896,     0.88935,     0.88973,\n",
       "            0.89012,      0.8905,     0.89377,      0.8952,     0.89549,     0.89579,     0.89608,     0.89638,     0.89667,     0.89697,     0.89726,     0.89756,     0.89785,     0.89815,     0.89844,     0.89874,     0.89903,     0.89933,     0.89967,     0.90009,      0.9005,     0.90091,     0.90133,\n",
       "            0.90174,     0.90215,     0.90257,     0.90298,      0.9034,     0.90381,     0.90456,     0.90574,     0.90691,     0.90809,     0.90868,     0.90877,     0.90885,     0.90894,     0.90903,     0.90912,     0.90921,      0.9093,     0.90939,     0.90947,     0.90956,     0.90965,     0.90974,\n",
       "            0.90983,     0.90992,     0.91001,      0.9101,     0.91018,     0.91027,     0.91036,     0.91045,     0.91054,     0.91063,     0.91072,      0.9108,     0.91089,     0.91098,     0.91107,     0.91116,     0.91125,     0.91134,     0.91142,     0.91151,      0.9116,     0.91169,     0.91178,\n",
       "            0.91187,     0.91196,     0.91204,     0.91213,     0.91222,     0.91231,      0.9124,     0.91249,     0.91258,     0.91267,     0.91275,     0.91284,     0.91293,     0.91302,     0.91311,      0.9132,     0.91375,     0.91588,     0.91795,     0.91808,     0.91821,     0.91834,     0.91847,\n",
       "             0.9186,     0.91872,     0.91885,     0.91898,     0.91911,     0.91924,     0.91937,     0.91949,     0.91962,     0.91975,     0.91988,     0.92001,     0.92014,     0.92027,     0.92039,     0.92052,     0.92065,     0.92078,     0.92091,     0.92104,     0.92116,     0.92129,     0.92142,\n",
       "            0.92155,     0.92168,     0.92181,     0.92194,     0.92206,     0.92219,     0.92232,     0.92245,     0.92258,     0.92273,       0.923,     0.92327,     0.92354,     0.92381,     0.92408,     0.92435,     0.92461,     0.92488,     0.92515,     0.92542,     0.92569,     0.92596,     0.92623,\n",
       "            0.92649,     0.92676,     0.92703,      0.9273,     0.92746,     0.92744,     0.92743,     0.92741,      0.9274,     0.92739,     0.92737,     0.92736,     0.92734,     0.92733,     0.92732,      0.9273,     0.92729,     0.92727,     0.92726,     0.92725,     0.92723,     0.92722,      0.9272,\n",
       "            0.92719,     0.92718,     0.92716,     0.92715,     0.92713,     0.92712,     0.92711,     0.92709,      0.9287,     0.93193,     0.93192,      0.9319,     0.93189,     0.93187,     0.93186,     0.93184,     0.93182,     0.93181,     0.93179,     0.93178,     0.93176,     0.93175,     0.93173,\n",
       "            0.93172,      0.9317,     0.93169,     0.93167,     0.93166,     0.93164,     0.93163,     0.93161,      0.9316,     0.93158,     0.93183,     0.93209,     0.93236,     0.93263,     0.93289,     0.93316,     0.93342,     0.93369,     0.93396,     0.93422,     0.93449,     0.93475,     0.93502,\n",
       "            0.93528,     0.93555,     0.93582,     0.93608,     0.93635,     0.93753,     0.94008,     0.94142,     0.94126,     0.94138,      0.9418,     0.94221,     0.94263,     0.94304,     0.94346,     0.94387,     0.94429,      0.9447,     0.94512,     0.94553,     0.94595,     0.94632,     0.94661,\n",
       "            0.94689,     0.94717,     0.94746,     0.94774,     0.94802,     0.94831,     0.94859,     0.94887,     0.94916,     0.94944,     0.94972,     0.95001,     0.95029,     0.95057,     0.95086,     0.95114,     0.95153,     0.95221,     0.95289,     0.95358,     0.95426,     0.95494,     0.95563,\n",
       "            0.95631,     0.95651,     0.95649,     0.95647,     0.95645,     0.95643,     0.95641,     0.95639,     0.95637,     0.95635,     0.95633,      0.9563,     0.95628,     0.95642,     0.95655,     0.95669,     0.95682,     0.95696,      0.9571,     0.95723,     0.95737,      0.9575,     0.95764,\n",
       "            0.95777,     0.95791,     0.95804,     0.95818,     0.95831,     0.95845,     0.95859,     0.95872,     0.95886,     0.95899,     0.95913,     0.95926,      0.9594,     0.95953,     0.95967,     0.95981,     0.95994,     0.96008,     0.96021,     0.96035,     0.96048,     0.96062,     0.96075,\n",
       "            0.96089,     0.96102,     0.96116,      0.9613,     0.96143,     0.96182,     0.96318,     0.96454,      0.9659,     0.96695,     0.96727,      0.9676,     0.96792,     0.96824,     0.96857,     0.96889,     0.96922,     0.96954,     0.96986,     0.97019,     0.97051,     0.97084,     0.97116,\n",
       "            0.97148,     0.97181,     0.97213,     0.97219,     0.97215,     0.97211,     0.97207,     0.97206,     0.97206,     0.97205,     0.97204,     0.97204,     0.97203,     0.97202,     0.97202,     0.97201,     0.97201,       0.972,     0.97199,     0.97199,     0.97198,     0.97198,     0.97197,\n",
       "            0.97196,     0.97196,     0.97195,     0.97194,     0.97194,     0.97193,     0.97193,     0.97192,     0.97191,     0.97187,     0.97179,     0.97175,     0.97173,     0.97172,     0.97171,      0.9717,     0.97169,     0.97168,     0.97166,     0.97165,     0.97164,     0.97163,     0.97162,\n",
       "             0.9716,     0.97159,     0.97158,     0.97157,     0.97155,     0.97154,     0.97153,     0.97151,      0.9715,     0.97149,     0.97147,     0.97146,     0.97145,     0.97143,      0.9714,     0.97136,     0.97132,     0.97128,     0.97341,     0.97629,     0.97687,     0.97687,     0.97686,\n",
       "            0.97686,     0.97685,     0.97684,     0.97684,     0.97683,     0.97683,     0.97682,     0.97682,     0.97681,      0.9768,      0.9768,     0.97679,     0.97679,     0.97678,     0.97677,     0.97677,     0.97676,     0.97676,     0.97675,     0.97674,     0.97674,     0.97674,     0.97673,\n",
       "            0.97673,     0.97672,     0.97672,     0.97671,     0.97671,      0.9767,      0.9767,     0.97669,     0.97669,     0.97668,     0.97668,     0.97667,     0.97667,     0.97666,     0.97666,     0.97666,     0.97665,     0.97665,     0.97664,     0.97664,     0.97663,     0.97663,     0.97662,\n",
       "            0.97662,     0.97661,     0.97661,      0.9766,     0.97659,     0.97659,     0.97658,     0.97657,     0.97657,     0.97656,     0.97655,     0.97655,     0.97654,     0.97653,     0.97653,     0.97652,     0.97651,      0.9765,      0.9765,     0.97649,     0.97648,     0.97648,     0.97647,\n",
       "            0.97644,     0.97642,      0.9764,     0.97637,     0.97635,     0.97633,      0.9763,     0.97628,     0.97626,     0.97624,     0.97622,     0.97619,     0.97615,     0.97611,     0.97607,     0.97598,     0.97621,     0.97682,     0.97742,     0.97803,     0.97863,     0.97924,     0.97985,\n",
       "            0.98045,     0.98106,     0.98167,      0.9818,     0.98177,     0.98174,     0.98171,     0.98169,     0.98166,     0.98163,     0.98161,     0.98157,     0.98151,     0.98147,     0.98144,     0.98141,     0.98138,     0.98136,     0.98135,     0.98133,     0.98132,     0.98131,     0.98129,\n",
       "            0.98128,     0.98127,     0.98125,     0.98124,     0.98123,     0.98121,      0.9812,     0.98119,     0.98117,     0.98116,     0.98114,     0.98113,     0.98108,     0.98103,     0.98084,     0.98076,     0.98073,     0.98069,     0.98066,     0.98062,     0.98058,     0.98054,     0.98049,\n",
       "            0.98041,     0.98023,     0.98018,     0.98014,     0.98011,     0.98009,     0.98007,     0.98005,     0.98003,     0.98001,     0.97999,     0.97997,     0.97995,     0.97992,      0.9799,     0.97988,     0.97984,     0.97975,     0.97971,     0.97969,     0.97967,     0.97965,     0.97963,\n",
       "             0.9796,     0.97957,     0.97952,     0.97948,     0.97944,     0.97942,     0.97939,     0.97937,     0.97934,     0.97932,     0.97929,     0.97926,     0.97922,     0.97919,     0.97914,     0.97904,       0.979,     0.97898,     0.97896,     0.97894,     0.97892,      0.9789,     0.97888,\n",
       "            0.97867,     0.97846,     0.98088,     0.98331,      0.9855,     0.98546,     0.98542,     0.98538,     0.98534,      0.9853,     0.98524,     0.98517,     0.98509,     0.98501,     0.98484,     0.98482,      0.9848,     0.98478,     0.98476,     0.98473,     0.98457,     0.98452,     0.98445,\n",
       "            0.98437,     0.98429,     0.98417,     0.98407,     0.98386,     0.98377,     0.98345,     0.98341,     0.98338,     0.98334,     0.98322,     0.98789,     0.99143,     0.99138,     0.99135,     0.99132,     0.99127,     0.99121,     0.99118,     0.99115,     0.99112,     0.99108,     0.99098,\n",
       "            0.99097,     0.99096,     0.99094,     0.99093,     0.99092,     0.99073,     0.99071,     0.99068,     0.99066,      0.9906,     0.99044,     0.99016,     0.99007,        0.99,     0.98995,      0.9899,     0.98983,     0.98977,     0.98971,     0.98954,     0.98947,     0.98944,      0.9894,\n",
       "            0.98937,     0.98928,           1,           1,           1,           1,           1,           1,           1,           1,           1,           1,           1,           1,           1,           1,           1,           1,           1,           1,           1,           1,           1,\n",
       "                  1,           1,           1,           1,           1,           1,           1,           1,           1,           1,           1,           1,           1,           1,           1,           1,           1,           1,           1,           1,           1,           1,           1,\n",
       "                  1,           1,           1,           1,           1,           1,           1,           1,           1,           1,           1,           1,           1,           1,           1,           1,           1,           1,           1,           1,           1,           1,           1,\n",
       "                  1,           1,           1,           1,           1,           1,           1,           1,           1,           1,           1,           1,           1,           1,           1,           1,           1,           1,           1,           1,           1,           1,           1,\n",
       "                  1,           1,           1,           1,           1,           1,           1,           1,           1,           1,           1,           1,           1,           1,           1,           1,           1,           1,           1,           1,           1,           1,           1,\n",
       "                  1,           1,           1,           1,           1,           1,           1,           1,           1,           1,           1,           1,           1,           1,           1,           1,           1,           1,           1,           1,           1,           1,           1,\n",
       "                  1,           1,           1,           1,           1,           1,           1,           1,           1,           1,           1,           1,           1,           1,           1,           1,           1,           1,           1,           1,           1,           1,           1,\n",
       "                  1,           1,           1,           1,           1,           1,           1,           1,           1,           1,           1]]), 'Confidence', 'Precision'], [array([          0,    0.001001,    0.002002,    0.003003,    0.004004,    0.005005,    0.006006,    0.007007,    0.008008,    0.009009,     0.01001,    0.011011,    0.012012,    0.013013,    0.014014,    0.015015,    0.016016,    0.017017,    0.018018,    0.019019,     0.02002,    0.021021,    0.022022,    0.023023,\n",
       "          0.024024,    0.025025,    0.026026,    0.027027,    0.028028,    0.029029,     0.03003,    0.031031,    0.032032,    0.033033,    0.034034,    0.035035,    0.036036,    0.037037,    0.038038,    0.039039,     0.04004,    0.041041,    0.042042,    0.043043,    0.044044,    0.045045,    0.046046,    0.047047,\n",
       "          0.048048,    0.049049,     0.05005,    0.051051,    0.052052,    0.053053,    0.054054,    0.055055,    0.056056,    0.057057,    0.058058,    0.059059,     0.06006,    0.061061,    0.062062,    0.063063,    0.064064,    0.065065,    0.066066,    0.067067,    0.068068,    0.069069,     0.07007,    0.071071,\n",
       "          0.072072,    0.073073,    0.074074,    0.075075,    0.076076,    0.077077,    0.078078,    0.079079,     0.08008,    0.081081,    0.082082,    0.083083,    0.084084,    0.085085,    0.086086,    0.087087,    0.088088,    0.089089,     0.09009,    0.091091,    0.092092,    0.093093,    0.094094,    0.095095,\n",
       "          0.096096,    0.097097,    0.098098,    0.099099,      0.1001,      0.1011,      0.1021,      0.1031,      0.1041,     0.10511,     0.10611,     0.10711,     0.10811,     0.10911,     0.11011,     0.11111,     0.11211,     0.11311,     0.11411,     0.11512,     0.11612,     0.11712,     0.11812,     0.11912,\n",
       "           0.12012,     0.12112,     0.12212,     0.12312,     0.12412,     0.12513,     0.12613,     0.12713,     0.12813,     0.12913,     0.13013,     0.13113,     0.13213,     0.13313,     0.13413,     0.13514,     0.13614,     0.13714,     0.13814,     0.13914,     0.14014,     0.14114,     0.14214,     0.14314,\n",
       "           0.14414,     0.14515,     0.14615,     0.14715,     0.14815,     0.14915,     0.15015,     0.15115,     0.15215,     0.15315,     0.15415,     0.15516,     0.15616,     0.15716,     0.15816,     0.15916,     0.16016,     0.16116,     0.16216,     0.16316,     0.16416,     0.16517,     0.16617,     0.16717,\n",
       "           0.16817,     0.16917,     0.17017,     0.17117,     0.17217,     0.17317,     0.17417,     0.17518,     0.17618,     0.17718,     0.17818,     0.17918,     0.18018,     0.18118,     0.18218,     0.18318,     0.18418,     0.18519,     0.18619,     0.18719,     0.18819,     0.18919,     0.19019,     0.19119,\n",
       "           0.19219,     0.19319,     0.19419,      0.1952,      0.1962,      0.1972,      0.1982,      0.1992,      0.2002,      0.2012,      0.2022,      0.2032,      0.2042,     0.20521,     0.20621,     0.20721,     0.20821,     0.20921,     0.21021,     0.21121,     0.21221,     0.21321,     0.21421,     0.21522,\n",
       "           0.21622,     0.21722,     0.21822,     0.21922,     0.22022,     0.22122,     0.22222,     0.22322,     0.22422,     0.22523,     0.22623,     0.22723,     0.22823,     0.22923,     0.23023,     0.23123,     0.23223,     0.23323,     0.23423,     0.23524,     0.23624,     0.23724,     0.23824,     0.23924,\n",
       "           0.24024,     0.24124,     0.24224,     0.24324,     0.24424,     0.24525,     0.24625,     0.24725,     0.24825,     0.24925,     0.25025,     0.25125,     0.25225,     0.25325,     0.25425,     0.25526,     0.25626,     0.25726,     0.25826,     0.25926,     0.26026,     0.26126,     0.26226,     0.26326,\n",
       "           0.26426,     0.26527,     0.26627,     0.26727,     0.26827,     0.26927,     0.27027,     0.27127,     0.27227,     0.27327,     0.27427,     0.27528,     0.27628,     0.27728,     0.27828,     0.27928,     0.28028,     0.28128,     0.28228,     0.28328,     0.28428,     0.28529,     0.28629,     0.28729,\n",
       "           0.28829,     0.28929,     0.29029,     0.29129,     0.29229,     0.29329,     0.29429,      0.2953,      0.2963,      0.2973,      0.2983,      0.2993,      0.3003,      0.3013,      0.3023,      0.3033,      0.3043,     0.30531,     0.30631,     0.30731,     0.30831,     0.30931,     0.31031,     0.31131,\n",
       "           0.31231,     0.31331,     0.31431,     0.31532,     0.31632,     0.31732,     0.31832,     0.31932,     0.32032,     0.32132,     0.32232,     0.32332,     0.32432,     0.32533,     0.32633,     0.32733,     0.32833,     0.32933,     0.33033,     0.33133,     0.33233,     0.33333,     0.33433,     0.33534,\n",
       "           0.33634,     0.33734,     0.33834,     0.33934,     0.34034,     0.34134,     0.34234,     0.34334,     0.34434,     0.34535,     0.34635,     0.34735,     0.34835,     0.34935,     0.35035,     0.35135,     0.35235,     0.35335,     0.35435,     0.35536,     0.35636,     0.35736,     0.35836,     0.35936,\n",
       "           0.36036,     0.36136,     0.36236,     0.36336,     0.36436,     0.36537,     0.36637,     0.36737,     0.36837,     0.36937,     0.37037,     0.37137,     0.37237,     0.37337,     0.37437,     0.37538,     0.37638,     0.37738,     0.37838,     0.37938,     0.38038,     0.38138,     0.38238,     0.38338,\n",
       "           0.38438,     0.38539,     0.38639,     0.38739,     0.38839,     0.38939,     0.39039,     0.39139,     0.39239,     0.39339,     0.39439,      0.3954,      0.3964,      0.3974,      0.3984,      0.3994,      0.4004,      0.4014,      0.4024,      0.4034,      0.4044,     0.40541,     0.40641,     0.40741,\n",
       "           0.40841,     0.40941,     0.41041,     0.41141,     0.41241,     0.41341,     0.41441,     0.41542,     0.41642,     0.41742,     0.41842,     0.41942,     0.42042,     0.42142,     0.42242,     0.42342,     0.42442,     0.42543,     0.42643,     0.42743,     0.42843,     0.42943,     0.43043,     0.43143,\n",
       "           0.43243,     0.43343,     0.43443,     0.43544,     0.43644,     0.43744,     0.43844,     0.43944,     0.44044,     0.44144,     0.44244,     0.44344,     0.44444,     0.44545,     0.44645,     0.44745,     0.44845,     0.44945,     0.45045,     0.45145,     0.45245,     0.45345,     0.45445,     0.45546,\n",
       "           0.45646,     0.45746,     0.45846,     0.45946,     0.46046,     0.46146,     0.46246,     0.46346,     0.46446,     0.46547,     0.46647,     0.46747,     0.46847,     0.46947,     0.47047,     0.47147,     0.47247,     0.47347,     0.47447,     0.47548,     0.47648,     0.47748,     0.47848,     0.47948,\n",
       "           0.48048,     0.48148,     0.48248,     0.48348,     0.48448,     0.48549,     0.48649,     0.48749,     0.48849,     0.48949,     0.49049,     0.49149,     0.49249,     0.49349,     0.49449,      0.4955,      0.4965,      0.4975,      0.4985,      0.4995,      0.5005,      0.5015,      0.5025,      0.5035,\n",
       "            0.5045,     0.50551,     0.50651,     0.50751,     0.50851,     0.50951,     0.51051,     0.51151,     0.51251,     0.51351,     0.51451,     0.51552,     0.51652,     0.51752,     0.51852,     0.51952,     0.52052,     0.52152,     0.52252,     0.52352,     0.52452,     0.52553,     0.52653,     0.52753,\n",
       "           0.52853,     0.52953,     0.53053,     0.53153,     0.53253,     0.53353,     0.53453,     0.53554,     0.53654,     0.53754,     0.53854,     0.53954,     0.54054,     0.54154,     0.54254,     0.54354,     0.54454,     0.54555,     0.54655,     0.54755,     0.54855,     0.54955,     0.55055,     0.55155,\n",
       "           0.55255,     0.55355,     0.55455,     0.55556,     0.55656,     0.55756,     0.55856,     0.55956,     0.56056,     0.56156,     0.56256,     0.56356,     0.56456,     0.56557,     0.56657,     0.56757,     0.56857,     0.56957,     0.57057,     0.57157,     0.57257,     0.57357,     0.57457,     0.57558,\n",
       "           0.57658,     0.57758,     0.57858,     0.57958,     0.58058,     0.58158,     0.58258,     0.58358,     0.58458,     0.58559,     0.58659,     0.58759,     0.58859,     0.58959,     0.59059,     0.59159,     0.59259,     0.59359,     0.59459,      0.5956,      0.5966,      0.5976,      0.5986,      0.5996,\n",
       "            0.6006,      0.6016,      0.6026,      0.6036,      0.6046,     0.60561,     0.60661,     0.60761,     0.60861,     0.60961,     0.61061,     0.61161,     0.61261,     0.61361,     0.61461,     0.61562,     0.61662,     0.61762,     0.61862,     0.61962,     0.62062,     0.62162,     0.62262,     0.62362,\n",
       "           0.62462,     0.62563,     0.62663,     0.62763,     0.62863,     0.62963,     0.63063,     0.63163,     0.63263,     0.63363,     0.63463,     0.63564,     0.63664,     0.63764,     0.63864,     0.63964,     0.64064,     0.64164,     0.64264,     0.64364,     0.64464,     0.64565,     0.64665,     0.64765,\n",
       "           0.64865,     0.64965,     0.65065,     0.65165,     0.65265,     0.65365,     0.65465,     0.65566,     0.65666,     0.65766,     0.65866,     0.65966,     0.66066,     0.66166,     0.66266,     0.66366,     0.66466,     0.66567,     0.66667,     0.66767,     0.66867,     0.66967,     0.67067,     0.67167,\n",
       "           0.67267,     0.67367,     0.67467,     0.67568,     0.67668,     0.67768,     0.67868,     0.67968,     0.68068,     0.68168,     0.68268,     0.68368,     0.68468,     0.68569,     0.68669,     0.68769,     0.68869,     0.68969,     0.69069,     0.69169,     0.69269,     0.69369,     0.69469,      0.6957,\n",
       "            0.6967,      0.6977,      0.6987,      0.6997,      0.7007,      0.7017,      0.7027,      0.7037,      0.7047,     0.70571,     0.70671,     0.70771,     0.70871,     0.70971,     0.71071,     0.71171,     0.71271,     0.71371,     0.71471,     0.71572,     0.71672,     0.71772,     0.71872,     0.71972,\n",
       "           0.72072,     0.72172,     0.72272,     0.72372,     0.72472,     0.72573,     0.72673,     0.72773,     0.72873,     0.72973,     0.73073,     0.73173,     0.73273,     0.73373,     0.73473,     0.73574,     0.73674,     0.73774,     0.73874,     0.73974,     0.74074,     0.74174,     0.74274,     0.74374,\n",
       "           0.74474,     0.74575,     0.74675,     0.74775,     0.74875,     0.74975,     0.75075,     0.75175,     0.75275,     0.75375,     0.75475,     0.75576,     0.75676,     0.75776,     0.75876,     0.75976,     0.76076,     0.76176,     0.76276,     0.76376,     0.76476,     0.76577,     0.76677,     0.76777,\n",
       "           0.76877,     0.76977,     0.77077,     0.77177,     0.77277,     0.77377,     0.77477,     0.77578,     0.77678,     0.77778,     0.77878,     0.77978,     0.78078,     0.78178,     0.78278,     0.78378,     0.78478,     0.78579,     0.78679,     0.78779,     0.78879,     0.78979,     0.79079,     0.79179,\n",
       "           0.79279,     0.79379,     0.79479,      0.7958,      0.7968,      0.7978,      0.7988,      0.7998,      0.8008,      0.8018,      0.8028,      0.8038,      0.8048,     0.80581,     0.80681,     0.80781,     0.80881,     0.80981,     0.81081,     0.81181,     0.81281,     0.81381,     0.81481,     0.81582,\n",
       "           0.81682,     0.81782,     0.81882,     0.81982,     0.82082,     0.82182,     0.82282,     0.82382,     0.82482,     0.82583,     0.82683,     0.82783,     0.82883,     0.82983,     0.83083,     0.83183,     0.83283,     0.83383,     0.83483,     0.83584,     0.83684,     0.83784,     0.83884,     0.83984,\n",
       "           0.84084,     0.84184,     0.84284,     0.84384,     0.84484,     0.84585,     0.84685,     0.84785,     0.84885,     0.84985,     0.85085,     0.85185,     0.85285,     0.85385,     0.85485,     0.85586,     0.85686,     0.85786,     0.85886,     0.85986,     0.86086,     0.86186,     0.86286,     0.86386,\n",
       "           0.86486,     0.86587,     0.86687,     0.86787,     0.86887,     0.86987,     0.87087,     0.87187,     0.87287,     0.87387,     0.87487,     0.87588,     0.87688,     0.87788,     0.87888,     0.87988,     0.88088,     0.88188,     0.88288,     0.88388,     0.88488,     0.88589,     0.88689,     0.88789,\n",
       "           0.88889,     0.88989,     0.89089,     0.89189,     0.89289,     0.89389,     0.89489,      0.8959,      0.8969,      0.8979,      0.8989,      0.8999,      0.9009,      0.9019,      0.9029,      0.9039,      0.9049,     0.90591,     0.90691,     0.90791,     0.90891,     0.90991,     0.91091,     0.91191,\n",
       "           0.91291,     0.91391,     0.91491,     0.91592,     0.91692,     0.91792,     0.91892,     0.91992,     0.92092,     0.92192,     0.92292,     0.92392,     0.92492,     0.92593,     0.92693,     0.92793,     0.92893,     0.92993,     0.93093,     0.93193,     0.93293,     0.93393,     0.93493,     0.93594,\n",
       "           0.93694,     0.93794,     0.93894,     0.93994,     0.94094,     0.94194,     0.94294,     0.94394,     0.94494,     0.94595,     0.94695,     0.94795,     0.94895,     0.94995,     0.95095,     0.95195,     0.95295,     0.95395,     0.95495,     0.95596,     0.95696,     0.95796,     0.95896,     0.95996,\n",
       "           0.96096,     0.96196,     0.96296,     0.96396,     0.96496,     0.96597,     0.96697,     0.96797,     0.96897,     0.96997,     0.97097,     0.97197,     0.97297,     0.97397,     0.97497,     0.97598,     0.97698,     0.97798,     0.97898,     0.97998,     0.98098,     0.98198,     0.98298,     0.98398,\n",
       "           0.98498,     0.98599,     0.98699,     0.98799,     0.98899,     0.98999,     0.99099,     0.99199,     0.99299,     0.99399,     0.99499,       0.996,       0.997,       0.998,       0.999,           1]), array([[    0.97436,     0.97436,     0.96923,     0.96923,      0.9641,      0.9641,      0.9641,      0.9641,     0.95897,     0.95897,     0.95897,     0.95897,     0.95897,     0.95385,     0.95385,     0.95385,     0.95385,     0.95385,     0.95385,     0.95385,     0.95385,     0.95385,     0.95385,\n",
       "            0.95385,     0.95385,     0.95385,     0.94872,     0.94872,     0.94872,     0.94872,     0.94872,     0.94872,     0.94872,     0.94872,     0.94359,     0.94359,     0.94359,     0.94359,     0.94359,     0.94359,     0.94359,     0.94359,     0.94359,     0.94359,     0.94359,     0.94359,\n",
       "            0.94359,     0.94359,     0.94104,     0.93743,     0.93559,     0.93374,     0.93333,     0.93333,     0.93333,     0.93333,     0.93333,     0.93333,     0.93214,      0.9287,     0.92821,     0.92821,     0.92821,     0.92821,     0.92821,     0.92821,     0.92821,     0.92821,     0.92821,\n",
       "            0.92821,     0.92821,     0.92821,     0.92821,     0.92821,     0.92821,     0.92821,     0.92821,     0.92821,     0.92821,     0.92821,     0.92821,     0.92821,     0.92821,     0.92821,     0.92821,     0.92821,     0.92821,     0.92821,     0.92821,     0.92821,     0.92821,     0.92821,\n",
       "            0.92821,     0.92821,     0.92821,     0.92821,     0.92821,     0.92821,     0.92821,     0.92821,     0.92821,     0.92821,     0.92821,     0.92821,     0.92821,     0.92821,     0.92821,     0.92821,     0.92821,     0.92821,     0.92821,     0.92821,     0.92821,     0.92821,     0.92821,\n",
       "            0.92821,     0.92821,     0.92821,     0.92821,     0.92821,     0.92821,     0.92821,     0.92821,     0.92821,     0.92821,     0.92821,     0.92821,     0.92821,     0.92821,     0.92821,     0.92821,     0.92821,     0.92821,     0.92821,     0.92821,     0.92821,     0.92821,     0.92821,\n",
       "              0.928,     0.92763,     0.92726,     0.92689,     0.92652,     0.92615,     0.92578,     0.92541,     0.92505,     0.92468,     0.92431,     0.92394,     0.92357,      0.9232,     0.92308,     0.92308,     0.92308,     0.92308,     0.92308,     0.92308,     0.92308,     0.92308,     0.92308,\n",
       "            0.92308,     0.92308,     0.92308,     0.92308,     0.92308,     0.92308,     0.92308,      0.9227,     0.92186,     0.92102,     0.92018,     0.91934,      0.9185,     0.91795,     0.91795,     0.91795,     0.91795,     0.91795,     0.91795,     0.91795,     0.91795,     0.91795,     0.91795,\n",
       "            0.91795,     0.91795,     0.91795,     0.91795,     0.91795,     0.91795,     0.91795,     0.91795,     0.91795,     0.91795,     0.91795,     0.91795,     0.91795,     0.91795,     0.91795,     0.91795,     0.91795,     0.91795,     0.91795,     0.91795,     0.91795,     0.91795,     0.91795,\n",
       "            0.91795,     0.91795,     0.91795,     0.91795,     0.91795,     0.91795,     0.91795,     0.91795,     0.91795,     0.91795,     0.91795,     0.91795,     0.91795,     0.91795,     0.91795,     0.91795,     0.91795,     0.91795,     0.91795,     0.91795,     0.91795,     0.91795,     0.91795,\n",
       "            0.91795,     0.91795,     0.91795,     0.91795,     0.91795,     0.91795,     0.91795,     0.91795,     0.91795,     0.91795,     0.91795,     0.91795,     0.91795,     0.91795,     0.91795,     0.91795,     0.91795,     0.91795,     0.91795,     0.91795,     0.91795,     0.91795,     0.91795,\n",
       "            0.91795,     0.91795,     0.91795,     0.91795,     0.91795,     0.91795,     0.91795,     0.91795,     0.91795,     0.91795,     0.91795,     0.91795,     0.91795,     0.91795,     0.91795,     0.91795,     0.91795,     0.91795,     0.91795,     0.91795,     0.91795,     0.91795,     0.91795,\n",
       "            0.91795,     0.91795,     0.91795,     0.91795,     0.91795,     0.91795,     0.91795,     0.91795,     0.91795,     0.91795,     0.91795,     0.91795,     0.91795,     0.91795,     0.91795,     0.91795,     0.91795,     0.91795,     0.91795,     0.91795,     0.91795,     0.91795,     0.91795,\n",
       "            0.91795,     0.91795,     0.91795,     0.91795,     0.91795,     0.91795,     0.91795,     0.91795,     0.91795,     0.91795,     0.91795,     0.91795,     0.91795,     0.91795,     0.91795,     0.91795,     0.91795,     0.91795,     0.91795,     0.91795,     0.91795,     0.91795,     0.91795,\n",
       "            0.91795,     0.91795,     0.91795,     0.91795,     0.91787,     0.91768,     0.91749,     0.91731,     0.91712,     0.91693,     0.91674,     0.91655,     0.91636,     0.91617,     0.91598,     0.91579,      0.9156,     0.91541,     0.91522,     0.91503,     0.91484,     0.91465,     0.91446,\n",
       "            0.91427,     0.91408,      0.9139,     0.91371,     0.91352,     0.91333,     0.91314,     0.91295,     0.91282,     0.91274,     0.91252,     0.91231,     0.91209,     0.91187,     0.91165,     0.91143,     0.91121,     0.91099,     0.91077,     0.91055,     0.91033,     0.91012,      0.9099,\n",
       "            0.90968,     0.90946,     0.90924,     0.90902,      0.9088,     0.90858,     0.90836,     0.90814,     0.90793,     0.90771,     0.90769,     0.90769,     0.90769,     0.90769,     0.90769,     0.90769,     0.90769,     0.90769,     0.90769,     0.90769,     0.90769,     0.90769,     0.90769,\n",
       "            0.90769,     0.90769,     0.90769,     0.90769,     0.90769,     0.90769,     0.90769,     0.90651,     0.90388,     0.90256,     0.90256,     0.90256,     0.90256,     0.90256,     0.90256,     0.90256,     0.90256,     0.90256,     0.90256,     0.90256,     0.90256,     0.90256,     0.90256,\n",
       "            0.90256,     0.90256,     0.90256,     0.90256,     0.90256,     0.90256,     0.90256,     0.90256,     0.90256,     0.90256,     0.90256,     0.90256,     0.90256,     0.90256,     0.90256,     0.90256,     0.90256,     0.90256,     0.90256,     0.90256,     0.90256,     0.90256,     0.90256,\n",
       "            0.90256,     0.90226,     0.90182,     0.90138,     0.90095,     0.90051,     0.90007,     0.89963,     0.89919,     0.89876,     0.89832,     0.89788,     0.89744,     0.89744,     0.89744,     0.89744,     0.89744,     0.89744,     0.89744,     0.89744,     0.89744,     0.89744,     0.89744,\n",
       "            0.89744,     0.89744,     0.89744,     0.89744,     0.89744,     0.89744,     0.89744,     0.89744,     0.89744,     0.89744,     0.89744,     0.89744,     0.89744,     0.89744,     0.89744,     0.89744,     0.89744,     0.89744,     0.89744,     0.89744,     0.89744,     0.89744,     0.89744,\n",
       "            0.89744,     0.89744,     0.89744,     0.89744,     0.89744,     0.89744,     0.89744,     0.89744,     0.89744,     0.89744,     0.89744,     0.89744,     0.89744,     0.89744,     0.89744,     0.89744,     0.89744,     0.89744,     0.89744,     0.89744,     0.89744,     0.89744,     0.89744,\n",
       "            0.89744,     0.89744,     0.89744,     0.89649,     0.89518,     0.89386,     0.89255,     0.89214,     0.89194,     0.89174,     0.89154,     0.89133,     0.89113,     0.89093,     0.89073,     0.89053,     0.89032,     0.89012,     0.88992,     0.88972,     0.88951,     0.88931,     0.88911,\n",
       "            0.88891,     0.88871,      0.8885,      0.8883,      0.8881,      0.8879,     0.88769,     0.88749,     0.88729,     0.88599,     0.88336,     0.88186,     0.88149,     0.88111,     0.88074,     0.88036,     0.87999,     0.87961,     0.87923,     0.87886,     0.87848,     0.87811,     0.87773,\n",
       "            0.87736,     0.87698,     0.87657,     0.87615,     0.87573,     0.87531,     0.87489,     0.87447,     0.87405,     0.87363,      0.8732,     0.87278,     0.87236,     0.87194,     0.87094,     0.86963,     0.86832,       0.867,     0.86667,     0.86667,     0.86649,     0.86627,     0.86604,\n",
       "            0.86582,     0.86559,     0.86537,     0.86515,     0.86492,      0.8647,     0.86448,     0.86425,     0.86403,      0.8638,     0.86358,     0.86336,     0.86313,     0.86291,     0.86269,     0.86246,     0.86224,     0.86202,     0.86179,     0.86157,     0.86138,     0.86121,     0.86103,\n",
       "            0.86085,     0.86067,     0.86049,     0.86031,     0.86014,     0.85996,     0.85978,      0.8596,     0.85942,     0.85925,     0.85907,     0.85889,     0.85871,     0.85853,     0.85835,     0.85818,       0.858,     0.85782,     0.85764,     0.85746,     0.85729,     0.85711,     0.85693,\n",
       "            0.85675,     0.85657,     0.85639,     0.85613,     0.85587,     0.85562,     0.85536,     0.85511,     0.85485,     0.85459,     0.85434,     0.85408,     0.85382,     0.85357,     0.85331,     0.85305,      0.8528,     0.85254,     0.85228,     0.85203,     0.85177,     0.85152,      0.8512,\n",
       "            0.85033,     0.84945,     0.84858,      0.8477,     0.84682,     0.84596,     0.84515,     0.84435,     0.84354,     0.84273,     0.84192,     0.84111,     0.83968,     0.83818,     0.83668,     0.83338,     0.83077,     0.83077,     0.83077,     0.83077,     0.83077,     0.83077,     0.83077,\n",
       "            0.83077,     0.83077,     0.83077,     0.82979,     0.82847,     0.82716,     0.82584,     0.82465,     0.82349,     0.82232,     0.82115,     0.81932,     0.81669,     0.81472,     0.81341,     0.81209,     0.81078,      0.8099,     0.80932,     0.80874,     0.80815,     0.80757,     0.80698,\n",
       "             0.8064,     0.80582,     0.80523,     0.80465,     0.80406,     0.80348,      0.8029,     0.80231,     0.80173,     0.80114,     0.80056,     0.79991,     0.79781,     0.79571,     0.78763,     0.78441,      0.7829,      0.7814,      0.7799,      0.7784,      0.7769,      0.7754,     0.77327,\n",
       "            0.76977,     0.76262,     0.76087,     0.75911,     0.75823,     0.75742,     0.75661,      0.7558,       0.755,     0.75419,     0.75338,     0.75257,     0.75176,     0.75095,     0.75014,     0.74933,     0.74789,     0.74438,     0.74296,     0.74216,     0.74135,     0.74054,     0.73973,\n",
       "            0.73892,      0.7377,     0.73595,      0.7342,     0.73289,     0.73201,     0.73114,     0.73026,     0.72939,     0.72851,     0.72744,     0.72627,     0.72511,     0.72394,     0.72216,     0.71865,     0.71739,     0.71669,     0.71599,     0.71529,     0.71459,     0.71388,     0.71318,\n",
       "              0.706,     0.69744,     0.69744,     0.69744,     0.69724,     0.69514,     0.69304,     0.69116,     0.68941,     0.68766,     0.68464,     0.68113,     0.67763,     0.67412,     0.66635,     0.66539,     0.66443,     0.66348,     0.66252,     0.66157,     0.65437,     0.65227,     0.64942,\n",
       "            0.64592,     0.64241,     0.63785,     0.63369,     0.62506,     0.62156,     0.60933,     0.60802,     0.60671,     0.60539,     0.60092,         0.6,     0.59361,      0.5901,     0.58786,     0.58575,     0.58221,     0.57847,     0.57637,     0.57427,     0.57216,     0.57006,     0.56361,\n",
       "             0.5628,       0.562,     0.56119,     0.56038,     0.55957,     0.54832,     0.54682,     0.54532,     0.54382,     0.54061,     0.53131,     0.51579,      0.5113,     0.50779,     0.50514,     0.50249,     0.49899,     0.49597,     0.49334,     0.48506,     0.48184,     0.48034,     0.47883,\n",
       "            0.47733,      0.4731,     0.46469,     0.46206,     0.45873,     0.45464,     0.44425,       0.439,     0.42861,     0.42412,     0.42061,     0.41283,      0.4102,     0.40757,     0.40476,     0.38965,      0.3887,     0.38774,     0.38679,     0.38583,     0.38488,      0.3654,     0.35766,\n",
       "             0.3559,     0.35415,     0.34951,     0.34425,     0.33693,     0.33518,     0.33342,     0.32744,     0.32663,     0.32582,     0.32501,      0.3242,      0.3234,     0.31176,     0.31001,     0.30825,     0.30412,     0.29687,     0.29424,     0.29091,     0.28104,     0.27753,     0.27475,\n",
       "            0.27212,      0.2672,     0.26548,     0.26417,     0.26286,     0.26154,      0.2563,     0.24567,     0.22784,      0.2236,     0.22026,     0.21816,     0.21606,     0.21181,     0.20437,     0.20086,     0.19091,     0.18401,      0.1819,      0.1798,     0.17138,     0.16206,     0.15681,\n",
       "            0.15155,      0.1471,      0.1436,     0.13668,     0.12804,     0.12454,     0.11078,     0.10643,    0.090094,    0.086737,    0.084108,    0.079767,    0.070948,    0.067444,    0.058811,    0.055748,    0.053645,    0.051543,    0.046677,    0.038659,    0.036031,    0.025918,    0.024179,\n",
       "           0.022677,    0.021175,    0.019043,    0.016415,    0.015139,    0.014734,     0.01433,    0.013926,    0.013521,    0.013117,    0.012713,    0.012308,    0.011904,      0.0115,    0.011095,    0.010691,    0.010287,   0.0078245,   0.0051962,           0,           0,           0,           0,\n",
       "                  0,           0,           0,           0,           0,           0,           0,           0,           0,           0,           0,           0,           0,           0,           0,           0,           0,           0,           0,           0,           0,           0,           0,\n",
       "                  0,           0,           0,           0,           0,           0,           0,           0,           0,           0,           0,           0,           0,           0,           0,           0,           0,           0,           0,           0,           0,           0,           0,\n",
       "                  0,           0,           0,           0,           0,           0,           0,           0,           0,           0,           0]]), 'Confidence', 'Recall']]\n",
       "fitness: np.float64(0.7841435047186285)\n",
       "keys: ['metrics/precision(B)', 'metrics/recall(B)', 'metrics/mAP50(B)', 'metrics/mAP50-95(B)']\n",
       "maps: array([    0.76615])\n",
       "names: {0: 'tumor'}\n",
       "plot: True\n",
       "results_dict: {'metrics/precision(B)': np.float64(0.9611600372675397), 'metrics/recall(B)': np.float64(0.8974358974358975), 'metrics/mAP50(B)': np.float64(0.9460977654749838), 'metrics/mAP50-95(B)': np.float64(0.7661485868568112), 'fitness': np.float64(0.7841435047186285)}\n",
       "save_dir: WindowsPath('runs/detect/train4')\n",
       "speed: {'preprocess': 0.11676031610240106, 'inference': 2.7122808539349097, 'loss': 0.0, 'postprocess': 1.0423090146935503}\n",
       "task: 'detect'"
      ]
     },
     "execution_count": 7,
     "metadata": {},
     "output_type": "execute_result"
    }
   ],
   "source": [
    "from ultralytics import YOLO\n",
    "# load model\n",
    "model=YOLO('yolov9s.pt')\n",
    "model.train(data=r\"D:\\YOLO Comparision\\BrainTumor\\data.yaml\",epochs=20,imgsz=150,device=0)"
   ]
  },
  {
   "cell_type": "code",
   "execution_count": 1,
   "id": "6833fdc8-5e36-4f7f-913a-bb58fb41a8fb",
   "metadata": {},
   "outputs": [
    {
     "name": "stdout",
     "output_type": "stream",
     "text": [
      "\n",
      "image 1/1 C:\\Users\\krish\\Downloads\\test_image.jpg: 160x160 1 tumor, 22.5ms\n",
      "Speed: 1.0ms preprocess, 22.5ms inference, 149.8ms postprocess per image at shape (1, 3, 160, 160)\n"
     ]
    }
   ],
   "source": [
    "from ultralytics import YOLO\n",
    "model = YOLO(\"runs/detect/train4/weights/best.pt\")\n",
    "results = model(\"C:/Users/krish/Downloads/test_image.jpg\")\n",
    "results[0].show()"
   ]
  },
  {
   "cell_type": "code",
   "execution_count": null,
   "id": "6be91bbb-b198-4958-9233-2dab9ab85a84",
   "metadata": {},
   "outputs": [],
   "source": []
  }
 ],
 "metadata": {
  "kernelspec": {
   "display_name": "Python 3 (ipykernel)",
   "language": "python",
   "name": "python3"
  },
  "language_info": {
   "codemirror_mode": {
    "name": "ipython",
    "version": 3
   },
   "file_extension": ".py",
   "mimetype": "text/x-python",
   "name": "python",
   "nbconvert_exporter": "python",
   "pygments_lexer": "ipython3",
   "version": "3.12.6"
  }
 },
 "nbformat": 4,
 "nbformat_minor": 5
}
