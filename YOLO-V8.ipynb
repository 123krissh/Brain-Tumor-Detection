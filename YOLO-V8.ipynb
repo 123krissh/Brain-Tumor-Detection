{
 "cells": [
  {
   "cell_type": "code",
   "execution_count": 1,
   "id": "775d6adf-6d6d-4314-9c94-2ad64b9516f0",
   "metadata": {},
   "outputs": [
    {
     "data": {
      "text/plain": [
       "True"
      ]
     },
     "execution_count": 1,
     "metadata": {},
     "output_type": "execute_result"
    }
   ],
   "source": [
    "import torch\n",
    "torch.cuda.is_available()"
   ]
  },
  {
   "cell_type": "code",
   "execution_count": 2,
   "id": "ec6bd0ce-5875-415c-8e5f-9fda7b77fde3",
   "metadata": {},
   "outputs": [
    {
     "data": {
      "text/plain": [
       "'NVIDIA GeForce RTX 3050 6GB Laptop GPU'"
      ]
     },
     "execution_count": 2,
     "metadata": {},
     "output_type": "execute_result"
    }
   ],
   "source": [
    "torch.cuda.get_device_name(0)"
   ]
  },
  {
   "cell_type": "code",
   "execution_count": 3,
   "id": "a40d48fc-a617-467d-b005-a748ddd4d4a8",
   "metadata": {},
   "outputs": [],
   "source": [
    "# !pip install ultralytics\n"
   ]
  },
  {
   "cell_type": "code",
   "execution_count": 4,
   "id": "f05d1c7b-d07d-4fde-a17c-30a64aecc5d1",
   "metadata": {},
   "outputs": [],
   "source": [
    "import os\n",
    "os.environ['KMP_DUPLICATE_LIB_OK']='True'\n"
   ]
  },
  {
   "cell_type": "code",
   "execution_count": 5,
   "id": "765b18f2-4322-48fc-bc35-61bfda04f233",
   "metadata": {},
   "outputs": [],
   "source": [
    "import ultralytics\n",
    "# ultralytics._version_\n"
   ]
  },
  {
   "cell_type": "code",
   "execution_count": 6,
   "id": "5827bb76-aeeb-4ecb-b67d-cd54b08cf2c4",
   "metadata": {},
   "outputs": [],
   "source": [
    "import torch\n",
    "# torch._version_\n"
   ]
  },
  {
   "cell_type": "code",
   "execution_count": 7,
   "id": "acd63ede-8f75-41c9-b38c-a1be4109eb8a",
   "metadata": {},
   "outputs": [],
   "source": [
    "import numpy as np"
   ]
  },
  {
   "cell_type": "code",
   "execution_count": 8,
   "id": "327c791a-8186-4081-aaf3-7ec12eb59f2a",
   "metadata": {},
   "outputs": [
    {
     "name": "stdout",
     "output_type": "stream",
     "text": [
      "Ultralytics 8.3.70  Python-3.12.6 torch-2.6.0+cu124 CUDA:0 (NVIDIA GeForce RTX 3050 6GB Laptop GPU, 6144MiB)\n",
      "\u001b[34m\u001b[1mengine\\trainer: \u001b[0mtask=detect, mode=train, model=yolov8n.pt, data=D:\\YOLO Comparision\\BrainTumor\\data.yaml, epochs=20, time=None, patience=100, batch=16, imgsz=150, save=True, save_period=-1, cache=False, device=0, workers=8, project=None, name=train2, exist_ok=False, pretrained=True, optimizer=auto, verbose=True, seed=0, deterministic=True, single_cls=False, rect=False, cos_lr=False, close_mosaic=10, resume=False, amp=True, fraction=1.0, profile=False, freeze=None, multi_scale=False, overlap_mask=True, mask_ratio=4, dropout=0.0, val=True, split=val, save_json=False, save_hybrid=False, conf=None, iou=0.7, max_det=300, half=False, dnn=False, plots=True, source=None, vid_stride=1, stream_buffer=False, visualize=False, augment=False, agnostic_nms=False, classes=None, retina_masks=False, embed=None, show=False, save_frames=False, save_txt=False, save_conf=False, save_crop=False, show_labels=True, show_conf=True, show_boxes=True, line_width=None, format=torchscript, keras=False, optimize=False, int8=False, dynamic=False, simplify=True, opset=None, workspace=None, nms=False, lr0=0.01, lrf=0.01, momentum=0.937, weight_decay=0.0005, warmup_epochs=3.0, warmup_momentum=0.8, warmup_bias_lr=0.1, box=7.5, cls=0.5, dfl=1.5, pose=12.0, kobj=1.0, nbs=64, hsv_h=0.015, hsv_s=0.7, hsv_v=0.4, degrees=0.0, translate=0.1, scale=0.5, shear=0.0, perspective=0.0, flipud=0.0, fliplr=0.5, bgr=0.0, mosaic=1.0, mixup=0.0, copy_paste=0.0, copy_paste_mode=flip, auto_augment=randaugment, erasing=0.4, crop_fraction=1.0, cfg=None, tracker=botsort.yaml, save_dir=runs\\detect\\train2\n",
      "Overriding model.yaml nc=80 with nc=1\n",
      "\n",
      "                   from  n    params  module                                       arguments                     \n",
      "  0                  -1  1       464  ultralytics.nn.modules.conv.Conv             [3, 16, 3, 2]                 \n",
      "  1                  -1  1      4672  ultralytics.nn.modules.conv.Conv             [16, 32, 3, 2]                \n",
      "  2                  -1  1      7360  ultralytics.nn.modules.block.C2f             [32, 32, 1, True]             \n",
      "  3                  -1  1     18560  ultralytics.nn.modules.conv.Conv             [32, 64, 3, 2]                \n",
      "  4                  -1  2     49664  ultralytics.nn.modules.block.C2f             [64, 64, 2, True]             \n",
      "  5                  -1  1     73984  ultralytics.nn.modules.conv.Conv             [64, 128, 3, 2]               \n",
      "  6                  -1  2    197632  ultralytics.nn.modules.block.C2f             [128, 128, 2, True]           \n",
      "  7                  -1  1    295424  ultralytics.nn.modules.conv.Conv             [128, 256, 3, 2]              \n",
      "  8                  -1  1    460288  ultralytics.nn.modules.block.C2f             [256, 256, 1, True]           \n",
      "  9                  -1  1    164608  ultralytics.nn.modules.block.SPPF            [256, 256, 5]                 \n",
      " 10                  -1  1         0  torch.nn.modules.upsampling.Upsample         [None, 2, 'nearest']          \n",
      " 11             [-1, 6]  1         0  ultralytics.nn.modules.conv.Concat           [1]                           \n",
      " 12                  -1  1    148224  ultralytics.nn.modules.block.C2f             [384, 128, 1]                 \n",
      " 13                  -1  1         0  torch.nn.modules.upsampling.Upsample         [None, 2, 'nearest']          \n",
      " 14             [-1, 4]  1         0  ultralytics.nn.modules.conv.Concat           [1]                           \n",
      " 15                  -1  1     37248  ultralytics.nn.modules.block.C2f             [192, 64, 1]                  \n",
      " 16                  -1  1     36992  ultralytics.nn.modules.conv.Conv             [64, 64, 3, 2]                \n",
      " 17            [-1, 12]  1         0  ultralytics.nn.modules.conv.Concat           [1]                           \n",
      " 18                  -1  1    123648  ultralytics.nn.modules.block.C2f             [192, 128, 1]                 \n",
      " 19                  -1  1    147712  ultralytics.nn.modules.conv.Conv             [128, 128, 3, 2]              \n",
      " 20             [-1, 9]  1         0  ultralytics.nn.modules.conv.Concat           [1]                           \n",
      " 21                  -1  1    493056  ultralytics.nn.modules.block.C2f             [384, 256, 1]                 \n",
      " 22        [15, 18, 21]  1    751507  ultralytics.nn.modules.head.Detect           [1, [64, 128, 256]]           \n",
      "Model summary: 225 layers, 3,011,043 parameters, 3,011,027 gradients, 8.2 GFLOPs\n",
      "\n",
      "Transferred 319/355 items from pretrained weights\n",
      "Freezing layer 'model.22.dfl.conv.weight'\n",
      "\u001b[34m\u001b[1mAMP: \u001b[0mrunning Automatic Mixed Precision (AMP) checks...\n",
      "\u001b[34m\u001b[1mAMP: \u001b[0mchecks passed \n",
      "WARNING  imgsz=[150] must be multiple of max stride 32, updating to [160]\n"
     ]
    },
    {
     "name": "stderr",
     "output_type": "stream",
     "text": [
      "\u001b[34m\u001b[1mtrain: \u001b[0mScanning D:\\YOLO Comparision\\BrainTumor\\train\\labels.cache... 2766 images, 153 backgrounds, 0 corrupt: 100%|████\u001b[0m\n",
      "\u001b[34m\u001b[1mval: \u001b[0mScanning D:\\YOLO Comparision\\BrainTumor\\valid\\labels.cache... 184 images, 0 backgrounds, 0 corrupt: 100%|█████████\u001b[0m\n"
     ]
    },
    {
     "name": "stdout",
     "output_type": "stream",
     "text": [
      "Plotting labels to runs\\detect\\train2\\labels.jpg... \n",
      "\u001b[34m\u001b[1moptimizer:\u001b[0m 'optimizer=auto' found, ignoring 'lr0=0.01' and 'momentum=0.937' and determining best 'optimizer', 'lr0' and 'momentum' automatically... \n",
      "\u001b[34m\u001b[1moptimizer:\u001b[0m AdamW(lr=0.002, momentum=0.9) with parameter groups 57 weight(decay=0.0), 64 weight(decay=0.0005), 63 bias(decay=0.0)\n",
      "Image sizes 160 train, 160 val\n",
      "Using 8 dataloader workers\n",
      "Logging results to \u001b[1mruns\\detect\\train2\u001b[0m\n",
      "Starting training for 20 epochs...\n",
      "\n",
      "      Epoch    GPU_mem   box_loss   cls_loss   dfl_loss  Instances       Size\n"
     ]
    },
    {
     "name": "stderr",
     "output_type": "stream",
     "text": [
      "       1/20     0.222G      1.278      1.564      1.114         26        160: 100%|██████████| 173/173 [00:20<00:00,  \n",
      "                 Class     Images  Instances      Box(P          R      mAP50  mAP50-95): 100%|██████████| 6/6 [00:00<0"
     ]
    },
    {
     "name": "stdout",
     "output_type": "stream",
     "text": [
      "                   all        184        195      0.906      0.839       0.88      0.605\n"
     ]
    },
    {
     "name": "stderr",
     "output_type": "stream",
     "text": [
      "\n"
     ]
    },
    {
     "name": "stdout",
     "output_type": "stream",
     "text": [
      "\n",
      "      Epoch    GPU_mem   box_loss   cls_loss   dfl_loss  Instances       Size\n"
     ]
    },
    {
     "name": "stderr",
     "output_type": "stream",
     "text": [
      "       2/20     0.222G      1.112     0.9268      1.037         21        160: 100%|██████████| 173/173 [00:15<00:00, 1\n",
      "                 Class     Images  Instances      Box(P          R      mAP50  mAP50-95): 100%|██████████| 6/6 [00:00<0"
     ]
    },
    {
     "name": "stdout",
     "output_type": "stream",
     "text": [
      "                   all        184        195      0.876      0.761      0.849      0.585\n"
     ]
    },
    {
     "name": "stderr",
     "output_type": "stream",
     "text": [
      "\n"
     ]
    },
    {
     "name": "stdout",
     "output_type": "stream",
     "text": [
      "\n",
      "      Epoch    GPU_mem   box_loss   cls_loss   dfl_loss  Instances       Size\n"
     ]
    },
    {
     "name": "stderr",
     "output_type": "stream",
     "text": [
      "       3/20     0.243G       1.09     0.8603      1.031         14        160: 100%|██████████| 173/173 [00:15<00:00, 1\n",
      "                 Class     Images  Instances      Box(P          R      mAP50  mAP50-95): 100%|██████████| 6/6 [00:00<0"
     ]
    },
    {
     "name": "stdout",
     "output_type": "stream",
     "text": [
      "                   all        184        195      0.916      0.837      0.879      0.646\n"
     ]
    },
    {
     "name": "stderr",
     "output_type": "stream",
     "text": [
      "\n"
     ]
    },
    {
     "name": "stdout",
     "output_type": "stream",
     "text": [
      "\n",
      "      Epoch    GPU_mem   box_loss   cls_loss   dfl_loss  Instances       Size\n"
     ]
    },
    {
     "name": "stderr",
     "output_type": "stream",
     "text": [
      "       4/20     0.243G      1.071     0.8354      1.025         24        160: 100%|██████████| 173/173 [00:18<00:00,  \n",
      "                 Class     Images  Instances      Box(P          R      mAP50  mAP50-95): 100%|██████████| 6/6 [00:01<0"
     ]
    },
    {
     "name": "stdout",
     "output_type": "stream",
     "text": [
      "                   all        184        195       0.96      0.862      0.902      0.659\n"
     ]
    },
    {
     "name": "stderr",
     "output_type": "stream",
     "text": [
      "\n"
     ]
    },
    {
     "name": "stdout",
     "output_type": "stream",
     "text": [
      "\n",
      "      Epoch    GPU_mem   box_loss   cls_loss   dfl_loss  Instances       Size\n"
     ]
    },
    {
     "name": "stderr",
     "output_type": "stream",
     "text": [
      "       5/20     0.243G      1.048     0.7844      1.021         25        160: 100%|██████████| 173/173 [00:17<00:00,  \n",
      "                 Class     Images  Instances      Box(P          R      mAP50  mAP50-95): 100%|██████████| 6/6 [00:00<0"
     ]
    },
    {
     "name": "stdout",
     "output_type": "stream",
     "text": [
      "                   all        184        195      0.952      0.856       0.91      0.685\n"
     ]
    },
    {
     "name": "stderr",
     "output_type": "stream",
     "text": [
      "\n"
     ]
    },
    {
     "name": "stdout",
     "output_type": "stream",
     "text": [
      "\n",
      "      Epoch    GPU_mem   box_loss   cls_loss   dfl_loss  Instances       Size\n"
     ]
    },
    {
     "name": "stderr",
     "output_type": "stream",
     "text": [
      "       6/20     0.222G      1.006     0.7483      1.006         24        160: 100%|██████████| 173/173 [00:18<00:00,  \n",
      "                 Class     Images  Instances      Box(P          R      mAP50  mAP50-95): 100%|██████████| 6/6 [00:01<0"
     ]
    },
    {
     "name": "stdout",
     "output_type": "stream",
     "text": [
      "                   all        184        195      0.883       0.81      0.885      0.645\n"
     ]
    },
    {
     "name": "stderr",
     "output_type": "stream",
     "text": [
      "\n"
     ]
    },
    {
     "name": "stdout",
     "output_type": "stream",
     "text": [
      "\n",
      "      Epoch    GPU_mem   box_loss   cls_loss   dfl_loss  Instances       Size\n"
     ]
    },
    {
     "name": "stderr",
     "output_type": "stream",
     "text": [
      "       7/20     0.243G     0.9846      0.729      1.003         25        160: 100%|██████████| 173/173 [00:18<00:00,  \n",
      "                 Class     Images  Instances      Box(P          R      mAP50  mAP50-95): 100%|██████████| 6/6 [00:01<0"
     ]
    },
    {
     "name": "stdout",
     "output_type": "stream",
     "text": [
      "                   all        184        195      0.965      0.892      0.922      0.701\n"
     ]
    },
    {
     "name": "stderr",
     "output_type": "stream",
     "text": [
      "\n"
     ]
    },
    {
     "name": "stdout",
     "output_type": "stream",
     "text": [
      "\n",
      "      Epoch    GPU_mem   box_loss   cls_loss   dfl_loss  Instances       Size\n"
     ]
    },
    {
     "name": "stderr",
     "output_type": "stream",
     "text": [
      "       8/20     0.222G     0.9478     0.6898     0.9952         25        160: 100%|██████████| 173/173 [00:17<00:00,  \n",
      "                 Class     Images  Instances      Box(P          R      mAP50  mAP50-95): 100%|██████████| 6/6 [00:00<0"
     ]
    },
    {
     "name": "stdout",
     "output_type": "stream",
     "text": [
      "                   all        184        195      0.966      0.877      0.925      0.711\n"
     ]
    },
    {
     "name": "stderr",
     "output_type": "stream",
     "text": [
      "\n"
     ]
    },
    {
     "name": "stdout",
     "output_type": "stream",
     "text": [
      "\n",
      "      Epoch    GPU_mem   box_loss   cls_loss   dfl_loss  Instances       Size\n"
     ]
    },
    {
     "name": "stderr",
     "output_type": "stream",
     "text": [
      "       9/20     0.243G     0.9264     0.6682     0.9853         28        160: 100%|██████████| 173/173 [00:16<00:00, 1\n",
      "                 Class     Images  Instances      Box(P          R      mAP50  mAP50-95): 100%|██████████| 6/6 [00:00<0"
     ]
    },
    {
     "name": "stdout",
     "output_type": "stream",
     "text": [
      "                   all        184        195      0.941      0.893      0.915      0.695\n"
     ]
    },
    {
     "name": "stderr",
     "output_type": "stream",
     "text": [
      "\n"
     ]
    },
    {
     "name": "stdout",
     "output_type": "stream",
     "text": [
      "\n",
      "      Epoch    GPU_mem   box_loss   cls_loss   dfl_loss  Instances       Size\n"
     ]
    },
    {
     "name": "stderr",
     "output_type": "stream",
     "text": [
      "      10/20     0.222G     0.9209     0.6474     0.9838         22        160: 100%|██████████| 173/173 [00:15<00:00, 1\n",
      "                 Class     Images  Instances      Box(P          R      mAP50  mAP50-95): 100%|██████████| 6/6 [00:00<0"
     ]
    },
    {
     "name": "stdout",
     "output_type": "stream",
     "text": [
      "                   all        184        195      0.913      0.897      0.918      0.694\n"
     ]
    },
    {
     "name": "stderr",
     "output_type": "stream",
     "text": [
      "\n"
     ]
    },
    {
     "name": "stdout",
     "output_type": "stream",
     "text": [
      "Closing dataloader mosaic\n",
      "\n",
      "      Epoch    GPU_mem   box_loss   cls_loss   dfl_loss  Instances       Size\n"
     ]
    },
    {
     "name": "stderr",
     "output_type": "stream",
     "text": [
      "      11/20     0.243G     0.8241     0.5904     0.9605         14        160: 100%|██████████| 173/173 [00:15<00:00, 1\n",
      "                 Class     Images  Instances      Box(P          R      mAP50  mAP50-95): 100%|██████████| 6/6 [00:00<0"
     ]
    },
    {
     "name": "stdout",
     "output_type": "stream",
     "text": [
      "                   all        184        195      0.936      0.893      0.942      0.738\n"
     ]
    },
    {
     "name": "stderr",
     "output_type": "stream",
     "text": [
      "\n"
     ]
    },
    {
     "name": "stdout",
     "output_type": "stream",
     "text": [
      "\n",
      "      Epoch    GPU_mem   box_loss   cls_loss   dfl_loss  Instances       Size\n"
     ]
    },
    {
     "name": "stderr",
     "output_type": "stream",
     "text": [
      "      12/20     0.222G     0.8048     0.5588     0.9472         14        160: 100%|██████████| 173/173 [00:16<00:00, 1\n",
      "                 Class     Images  Instances      Box(P          R      mAP50  mAP50-95): 100%|██████████| 6/6 [00:00<0"
     ]
    },
    {
     "name": "stdout",
     "output_type": "stream",
     "text": [
      "                   all        184        195      0.935      0.897      0.943      0.734\n"
     ]
    },
    {
     "name": "stderr",
     "output_type": "stream",
     "text": [
      "\n"
     ]
    },
    {
     "name": "stdout",
     "output_type": "stream",
     "text": [
      "\n",
      "      Epoch    GPU_mem   box_loss   cls_loss   dfl_loss  Instances       Size\n"
     ]
    },
    {
     "name": "stderr",
     "output_type": "stream",
     "text": [
      "      13/20     0.243G     0.7752     0.5335     0.9286         14        160: 100%|██████████| 173/173 [00:15<00:00, 1\n",
      "                 Class     Images  Instances      Box(P          R      mAP50  mAP50-95): 100%|██████████| 6/6 [00:00<0"
     ]
    },
    {
     "name": "stdout",
     "output_type": "stream",
     "text": [
      "                   all        184        195      0.946      0.908       0.94      0.734\n"
     ]
    },
    {
     "name": "stderr",
     "output_type": "stream",
     "text": [
      "\n"
     ]
    },
    {
     "name": "stdout",
     "output_type": "stream",
     "text": [
      "\n",
      "      Epoch    GPU_mem   box_loss   cls_loss   dfl_loss  Instances       Size\n"
     ]
    },
    {
     "name": "stderr",
     "output_type": "stream",
     "text": [
      "      14/20     0.222G     0.7527     0.5096     0.9264         15        160: 100%|██████████| 173/173 [00:14<00:00, 1\n",
      "                 Class     Images  Instances      Box(P          R      mAP50  mAP50-95): 100%|██████████| 6/6 [00:00<0"
     ]
    },
    {
     "name": "stdout",
     "output_type": "stream",
     "text": [
      "                   all        184        195      0.957      0.923       0.94      0.737\n"
     ]
    },
    {
     "name": "stderr",
     "output_type": "stream",
     "text": [
      "\n"
     ]
    },
    {
     "name": "stdout",
     "output_type": "stream",
     "text": [
      "\n",
      "      Epoch    GPU_mem   box_loss   cls_loss   dfl_loss  Instances       Size\n"
     ]
    },
    {
     "name": "stderr",
     "output_type": "stream",
     "text": [
      "      15/20     0.243G     0.7175      0.489     0.9115         14        160: 100%|██████████| 173/173 [00:15<00:00, 1\n",
      "                 Class     Images  Instances      Box(P          R      mAP50  mAP50-95): 100%|██████████| 6/6 [00:00<0"
     ]
    },
    {
     "name": "stdout",
     "output_type": "stream",
     "text": [
      "                   all        184        195      0.972      0.892       0.95      0.758\n"
     ]
    },
    {
     "name": "stderr",
     "output_type": "stream",
     "text": [
      "\n"
     ]
    },
    {
     "name": "stdout",
     "output_type": "stream",
     "text": [
      "\n",
      "      Epoch    GPU_mem   box_loss   cls_loss   dfl_loss  Instances       Size\n"
     ]
    },
    {
     "name": "stderr",
     "output_type": "stream",
     "text": [
      "      16/20     0.222G     0.7139     0.4742     0.9114         15        160: 100%|██████████| 173/173 [00:15<00:00, 1\n",
      "                 Class     Images  Instances      Box(P          R      mAP50  mAP50-95): 100%|██████████| 6/6 [00:00<0"
     ]
    },
    {
     "name": "stdout",
     "output_type": "stream",
     "text": [
      "                   all        184        195      0.966      0.892       0.94      0.754\n"
     ]
    },
    {
     "name": "stderr",
     "output_type": "stream",
     "text": [
      "\n"
     ]
    },
    {
     "name": "stdout",
     "output_type": "stream",
     "text": [
      "\n",
      "      Epoch    GPU_mem   box_loss   cls_loss   dfl_loss  Instances       Size\n"
     ]
    },
    {
     "name": "stderr",
     "output_type": "stream",
     "text": [
      "      17/20     0.243G     0.7046     0.4554     0.9012         13        160: 100%|██████████| 173/173 [00:14<00:00, 1\n",
      "                 Class     Images  Instances      Box(P          R      mAP50  mAP50-95): 100%|██████████| 6/6 [00:00<0"
     ]
    },
    {
     "name": "stdout",
     "output_type": "stream",
     "text": [
      "                   all        184        195      0.965      0.918      0.941      0.754\n"
     ]
    },
    {
     "name": "stderr",
     "output_type": "stream",
     "text": [
      "\n"
     ]
    },
    {
     "name": "stdout",
     "output_type": "stream",
     "text": [
      "\n",
      "      Epoch    GPU_mem   box_loss   cls_loss   dfl_loss  Instances       Size\n"
     ]
    },
    {
     "name": "stderr",
     "output_type": "stream",
     "text": [
      "      18/20     0.222G      0.675     0.4417     0.8984         13        160: 100%|██████████| 173/173 [00:15<00:00, 1\n",
      "                 Class     Images  Instances      Box(P          R      mAP50  mAP50-95): 100%|██████████| 6/6 [00:00<0"
     ]
    },
    {
     "name": "stdout",
     "output_type": "stream",
     "text": [
      "                   all        184        195      0.942      0.923      0.945       0.75\n"
     ]
    },
    {
     "name": "stderr",
     "output_type": "stream",
     "text": [
      "\n"
     ]
    },
    {
     "name": "stdout",
     "output_type": "stream",
     "text": [
      "\n",
      "      Epoch    GPU_mem   box_loss   cls_loss   dfl_loss  Instances       Size\n"
     ]
    },
    {
     "name": "stderr",
     "output_type": "stream",
     "text": [
      "      19/20     0.243G     0.6661     0.4267     0.8918         13        160: 100%|██████████| 173/173 [00:17<00:00,  \n",
      "                 Class     Images  Instances      Box(P          R      mAP50  mAP50-95): 100%|██████████| 6/6 [00:00<0"
     ]
    },
    {
     "name": "stdout",
     "output_type": "stream",
     "text": [
      "                   all        184        195      0.948      0.923      0.944      0.754\n"
     ]
    },
    {
     "name": "stderr",
     "output_type": "stream",
     "text": [
      "\n"
     ]
    },
    {
     "name": "stdout",
     "output_type": "stream",
     "text": [
      "\n",
      "      Epoch    GPU_mem   box_loss   cls_loss   dfl_loss  Instances       Size\n"
     ]
    },
    {
     "name": "stderr",
     "output_type": "stream",
     "text": [
      "      20/20     0.222G     0.6376      0.416     0.8827         13        160: 100%|██████████| 173/173 [00:18<00:00,  \n",
      "                 Class     Images  Instances      Box(P          R      mAP50  mAP50-95): 100%|██████████| 6/6 [00:00<0"
     ]
    },
    {
     "name": "stdout",
     "output_type": "stream",
     "text": [
      "                   all        184        195      0.965      0.923      0.947      0.763\n"
     ]
    },
    {
     "name": "stderr",
     "output_type": "stream",
     "text": [
      "\n"
     ]
    },
    {
     "name": "stdout",
     "output_type": "stream",
     "text": [
      "\n",
      "20 epochs completed in 0.107 hours.\n",
      "Optimizer stripped from runs\\detect\\train2\\weights\\last.pt, 6.2MB\n",
      "Optimizer stripped from runs\\detect\\train2\\weights\\best.pt, 6.2MB\n",
      "\n",
      "Validating runs\\detect\\train2\\weights\\best.pt...\n",
      "Ultralytics 8.3.70  Python-3.12.6 torch-2.6.0+cu124 CUDA:0 (NVIDIA GeForce RTX 3050 6GB Laptop GPU, 6144MiB)\n",
      "Model summary (fused): 168 layers, 3,005,843 parameters, 0 gradients, 8.1 GFLOPs\n"
     ]
    },
    {
     "name": "stderr",
     "output_type": "stream",
     "text": [
      "                 Class     Images  Instances      Box(P          R      mAP50  mAP50-95): 100%|██████████| 6/6 [00:01<0\n"
     ]
    },
    {
     "name": "stdout",
     "output_type": "stream",
     "text": [
      "                   all        184        195      0.965      0.923      0.947      0.763\n",
      "Speed: 0.3ms preprocess, 1.9ms inference, 0.0ms loss, 0.8ms postprocess per image\n",
      "Results saved to \u001b[1mruns\\detect\\train2\u001b[0m\n"
     ]
    },
    {
     "data": {
      "text/plain": [
       "ultralytics.utils.metrics.DetMetrics object with attributes:\n",
       "\n",
       "ap_class_index: array([0])\n",
       "box: ultralytics.utils.metrics.Metric object\n",
       "confusion_matrix: <ultralytics.utils.metrics.ConfusionMatrix object at 0x000001F26D19F4A0>\n",
       "curves: ['Precision-Recall(B)', 'F1-Confidence(B)', 'Precision-Confidence(B)', 'Recall-Confidence(B)']\n",
       "curves_results: [[array([          0,    0.001001,    0.002002,    0.003003,    0.004004,    0.005005,    0.006006,    0.007007,    0.008008,    0.009009,     0.01001,    0.011011,    0.012012,    0.013013,    0.014014,    0.015015,    0.016016,    0.017017,    0.018018,    0.019019,     0.02002,    0.021021,    0.022022,    0.023023,\n",
       "          0.024024,    0.025025,    0.026026,    0.027027,    0.028028,    0.029029,     0.03003,    0.031031,    0.032032,    0.033033,    0.034034,    0.035035,    0.036036,    0.037037,    0.038038,    0.039039,     0.04004,    0.041041,    0.042042,    0.043043,    0.044044,    0.045045,    0.046046,    0.047047,\n",
       "          0.048048,    0.049049,     0.05005,    0.051051,    0.052052,    0.053053,    0.054054,    0.055055,    0.056056,    0.057057,    0.058058,    0.059059,     0.06006,    0.061061,    0.062062,    0.063063,    0.064064,    0.065065,    0.066066,    0.067067,    0.068068,    0.069069,     0.07007,    0.071071,\n",
       "          0.072072,    0.073073,    0.074074,    0.075075,    0.076076,    0.077077,    0.078078,    0.079079,     0.08008,    0.081081,    0.082082,    0.083083,    0.084084,    0.085085,    0.086086,    0.087087,    0.088088,    0.089089,     0.09009,    0.091091,    0.092092,    0.093093,    0.094094,    0.095095,\n",
       "          0.096096,    0.097097,    0.098098,    0.099099,      0.1001,      0.1011,      0.1021,      0.1031,      0.1041,     0.10511,     0.10611,     0.10711,     0.10811,     0.10911,     0.11011,     0.11111,     0.11211,     0.11311,     0.11411,     0.11512,     0.11612,     0.11712,     0.11812,     0.11912,\n",
       "           0.12012,     0.12112,     0.12212,     0.12312,     0.12412,     0.12513,     0.12613,     0.12713,     0.12813,     0.12913,     0.13013,     0.13113,     0.13213,     0.13313,     0.13413,     0.13514,     0.13614,     0.13714,     0.13814,     0.13914,     0.14014,     0.14114,     0.14214,     0.14314,\n",
       "           0.14414,     0.14515,     0.14615,     0.14715,     0.14815,     0.14915,     0.15015,     0.15115,     0.15215,     0.15315,     0.15415,     0.15516,     0.15616,     0.15716,     0.15816,     0.15916,     0.16016,     0.16116,     0.16216,     0.16316,     0.16416,     0.16517,     0.16617,     0.16717,\n",
       "           0.16817,     0.16917,     0.17017,     0.17117,     0.17217,     0.17317,     0.17417,     0.17518,     0.17618,     0.17718,     0.17818,     0.17918,     0.18018,     0.18118,     0.18218,     0.18318,     0.18418,     0.18519,     0.18619,     0.18719,     0.18819,     0.18919,     0.19019,     0.19119,\n",
       "           0.19219,     0.19319,     0.19419,      0.1952,      0.1962,      0.1972,      0.1982,      0.1992,      0.2002,      0.2012,      0.2022,      0.2032,      0.2042,     0.20521,     0.20621,     0.20721,     0.20821,     0.20921,     0.21021,     0.21121,     0.21221,     0.21321,     0.21421,     0.21522,\n",
       "           0.21622,     0.21722,     0.21822,     0.21922,     0.22022,     0.22122,     0.22222,     0.22322,     0.22422,     0.22523,     0.22623,     0.22723,     0.22823,     0.22923,     0.23023,     0.23123,     0.23223,     0.23323,     0.23423,     0.23524,     0.23624,     0.23724,     0.23824,     0.23924,\n",
       "           0.24024,     0.24124,     0.24224,     0.24324,     0.24424,     0.24525,     0.24625,     0.24725,     0.24825,     0.24925,     0.25025,     0.25125,     0.25225,     0.25325,     0.25425,     0.25526,     0.25626,     0.25726,     0.25826,     0.25926,     0.26026,     0.26126,     0.26226,     0.26326,\n",
       "           0.26426,     0.26527,     0.26627,     0.26727,     0.26827,     0.26927,     0.27027,     0.27127,     0.27227,     0.27327,     0.27427,     0.27528,     0.27628,     0.27728,     0.27828,     0.27928,     0.28028,     0.28128,     0.28228,     0.28328,     0.28428,     0.28529,     0.28629,     0.28729,\n",
       "           0.28829,     0.28929,     0.29029,     0.29129,     0.29229,     0.29329,     0.29429,      0.2953,      0.2963,      0.2973,      0.2983,      0.2993,      0.3003,      0.3013,      0.3023,      0.3033,      0.3043,     0.30531,     0.30631,     0.30731,     0.30831,     0.30931,     0.31031,     0.31131,\n",
       "           0.31231,     0.31331,     0.31431,     0.31532,     0.31632,     0.31732,     0.31832,     0.31932,     0.32032,     0.32132,     0.32232,     0.32332,     0.32432,     0.32533,     0.32633,     0.32733,     0.32833,     0.32933,     0.33033,     0.33133,     0.33233,     0.33333,     0.33433,     0.33534,\n",
       "           0.33634,     0.33734,     0.33834,     0.33934,     0.34034,     0.34134,     0.34234,     0.34334,     0.34434,     0.34535,     0.34635,     0.34735,     0.34835,     0.34935,     0.35035,     0.35135,     0.35235,     0.35335,     0.35435,     0.35536,     0.35636,     0.35736,     0.35836,     0.35936,\n",
       "           0.36036,     0.36136,     0.36236,     0.36336,     0.36436,     0.36537,     0.36637,     0.36737,     0.36837,     0.36937,     0.37037,     0.37137,     0.37237,     0.37337,     0.37437,     0.37538,     0.37638,     0.37738,     0.37838,     0.37938,     0.38038,     0.38138,     0.38238,     0.38338,\n",
       "           0.38438,     0.38539,     0.38639,     0.38739,     0.38839,     0.38939,     0.39039,     0.39139,     0.39239,     0.39339,     0.39439,      0.3954,      0.3964,      0.3974,      0.3984,      0.3994,      0.4004,      0.4014,      0.4024,      0.4034,      0.4044,     0.40541,     0.40641,     0.40741,\n",
       "           0.40841,     0.40941,     0.41041,     0.41141,     0.41241,     0.41341,     0.41441,     0.41542,     0.41642,     0.41742,     0.41842,     0.41942,     0.42042,     0.42142,     0.42242,     0.42342,     0.42442,     0.42543,     0.42643,     0.42743,     0.42843,     0.42943,     0.43043,     0.43143,\n",
       "           0.43243,     0.43343,     0.43443,     0.43544,     0.43644,     0.43744,     0.43844,     0.43944,     0.44044,     0.44144,     0.44244,     0.44344,     0.44444,     0.44545,     0.44645,     0.44745,     0.44845,     0.44945,     0.45045,     0.45145,     0.45245,     0.45345,     0.45445,     0.45546,\n",
       "           0.45646,     0.45746,     0.45846,     0.45946,     0.46046,     0.46146,     0.46246,     0.46346,     0.46446,     0.46547,     0.46647,     0.46747,     0.46847,     0.46947,     0.47047,     0.47147,     0.47247,     0.47347,     0.47447,     0.47548,     0.47648,     0.47748,     0.47848,     0.47948,\n",
       "           0.48048,     0.48148,     0.48248,     0.48348,     0.48448,     0.48549,     0.48649,     0.48749,     0.48849,     0.48949,     0.49049,     0.49149,     0.49249,     0.49349,     0.49449,      0.4955,      0.4965,      0.4975,      0.4985,      0.4995,      0.5005,      0.5015,      0.5025,      0.5035,\n",
       "            0.5045,     0.50551,     0.50651,     0.50751,     0.50851,     0.50951,     0.51051,     0.51151,     0.51251,     0.51351,     0.51451,     0.51552,     0.51652,     0.51752,     0.51852,     0.51952,     0.52052,     0.52152,     0.52252,     0.52352,     0.52452,     0.52553,     0.52653,     0.52753,\n",
       "           0.52853,     0.52953,     0.53053,     0.53153,     0.53253,     0.53353,     0.53453,     0.53554,     0.53654,     0.53754,     0.53854,     0.53954,     0.54054,     0.54154,     0.54254,     0.54354,     0.54454,     0.54555,     0.54655,     0.54755,     0.54855,     0.54955,     0.55055,     0.55155,\n",
       "           0.55255,     0.55355,     0.55455,     0.55556,     0.55656,     0.55756,     0.55856,     0.55956,     0.56056,     0.56156,     0.56256,     0.56356,     0.56456,     0.56557,     0.56657,     0.56757,     0.56857,     0.56957,     0.57057,     0.57157,     0.57257,     0.57357,     0.57457,     0.57558,\n",
       "           0.57658,     0.57758,     0.57858,     0.57958,     0.58058,     0.58158,     0.58258,     0.58358,     0.58458,     0.58559,     0.58659,     0.58759,     0.58859,     0.58959,     0.59059,     0.59159,     0.59259,     0.59359,     0.59459,      0.5956,      0.5966,      0.5976,      0.5986,      0.5996,\n",
       "            0.6006,      0.6016,      0.6026,      0.6036,      0.6046,     0.60561,     0.60661,     0.60761,     0.60861,     0.60961,     0.61061,     0.61161,     0.61261,     0.61361,     0.61461,     0.61562,     0.61662,     0.61762,     0.61862,     0.61962,     0.62062,     0.62162,     0.62262,     0.62362,\n",
       "           0.62462,     0.62563,     0.62663,     0.62763,     0.62863,     0.62963,     0.63063,     0.63163,     0.63263,     0.63363,     0.63463,     0.63564,     0.63664,     0.63764,     0.63864,     0.63964,     0.64064,     0.64164,     0.64264,     0.64364,     0.64464,     0.64565,     0.64665,     0.64765,\n",
       "           0.64865,     0.64965,     0.65065,     0.65165,     0.65265,     0.65365,     0.65465,     0.65566,     0.65666,     0.65766,     0.65866,     0.65966,     0.66066,     0.66166,     0.66266,     0.66366,     0.66466,     0.66567,     0.66667,     0.66767,     0.66867,     0.66967,     0.67067,     0.67167,\n",
       "           0.67267,     0.67367,     0.67467,     0.67568,     0.67668,     0.67768,     0.67868,     0.67968,     0.68068,     0.68168,     0.68268,     0.68368,     0.68468,     0.68569,     0.68669,     0.68769,     0.68869,     0.68969,     0.69069,     0.69169,     0.69269,     0.69369,     0.69469,      0.6957,\n",
       "            0.6967,      0.6977,      0.6987,      0.6997,      0.7007,      0.7017,      0.7027,      0.7037,      0.7047,     0.70571,     0.70671,     0.70771,     0.70871,     0.70971,     0.71071,     0.71171,     0.71271,     0.71371,     0.71471,     0.71572,     0.71672,     0.71772,     0.71872,     0.71972,\n",
       "           0.72072,     0.72172,     0.72272,     0.72372,     0.72472,     0.72573,     0.72673,     0.72773,     0.72873,     0.72973,     0.73073,     0.73173,     0.73273,     0.73373,     0.73473,     0.73574,     0.73674,     0.73774,     0.73874,     0.73974,     0.74074,     0.74174,     0.74274,     0.74374,\n",
       "           0.74474,     0.74575,     0.74675,     0.74775,     0.74875,     0.74975,     0.75075,     0.75175,     0.75275,     0.75375,     0.75475,     0.75576,     0.75676,     0.75776,     0.75876,     0.75976,     0.76076,     0.76176,     0.76276,     0.76376,     0.76476,     0.76577,     0.76677,     0.76777,\n",
       "           0.76877,     0.76977,     0.77077,     0.77177,     0.77277,     0.77377,     0.77477,     0.77578,     0.77678,     0.77778,     0.77878,     0.77978,     0.78078,     0.78178,     0.78278,     0.78378,     0.78478,     0.78579,     0.78679,     0.78779,     0.78879,     0.78979,     0.79079,     0.79179,\n",
       "           0.79279,     0.79379,     0.79479,      0.7958,      0.7968,      0.7978,      0.7988,      0.7998,      0.8008,      0.8018,      0.8028,      0.8038,      0.8048,     0.80581,     0.80681,     0.80781,     0.80881,     0.80981,     0.81081,     0.81181,     0.81281,     0.81381,     0.81481,     0.81582,\n",
       "           0.81682,     0.81782,     0.81882,     0.81982,     0.82082,     0.82182,     0.82282,     0.82382,     0.82482,     0.82583,     0.82683,     0.82783,     0.82883,     0.82983,     0.83083,     0.83183,     0.83283,     0.83383,     0.83483,     0.83584,     0.83684,     0.83784,     0.83884,     0.83984,\n",
       "           0.84084,     0.84184,     0.84284,     0.84384,     0.84484,     0.84585,     0.84685,     0.84785,     0.84885,     0.84985,     0.85085,     0.85185,     0.85285,     0.85385,     0.85485,     0.85586,     0.85686,     0.85786,     0.85886,     0.85986,     0.86086,     0.86186,     0.86286,     0.86386,\n",
       "           0.86486,     0.86587,     0.86687,     0.86787,     0.86887,     0.86987,     0.87087,     0.87187,     0.87287,     0.87387,     0.87487,     0.87588,     0.87688,     0.87788,     0.87888,     0.87988,     0.88088,     0.88188,     0.88288,     0.88388,     0.88488,     0.88589,     0.88689,     0.88789,\n",
       "           0.88889,     0.88989,     0.89089,     0.89189,     0.89289,     0.89389,     0.89489,      0.8959,      0.8969,      0.8979,      0.8989,      0.8999,      0.9009,      0.9019,      0.9029,      0.9039,      0.9049,     0.90591,     0.90691,     0.90791,     0.90891,     0.90991,     0.91091,     0.91191,\n",
       "           0.91291,     0.91391,     0.91491,     0.91592,     0.91692,     0.91792,     0.91892,     0.91992,     0.92092,     0.92192,     0.92292,     0.92392,     0.92492,     0.92593,     0.92693,     0.92793,     0.92893,     0.92993,     0.93093,     0.93193,     0.93293,     0.93393,     0.93493,     0.93594,\n",
       "           0.93694,     0.93794,     0.93894,     0.93994,     0.94094,     0.94194,     0.94294,     0.94394,     0.94494,     0.94595,     0.94695,     0.94795,     0.94895,     0.94995,     0.95095,     0.95195,     0.95295,     0.95395,     0.95495,     0.95596,     0.95696,     0.95796,     0.95896,     0.95996,\n",
       "           0.96096,     0.96196,     0.96296,     0.96396,     0.96496,     0.96597,     0.96697,     0.96797,     0.96897,     0.96997,     0.97097,     0.97197,     0.97297,     0.97397,     0.97497,     0.97598,     0.97698,     0.97798,     0.97898,     0.97998,     0.98098,     0.98198,     0.98298,     0.98398,\n",
       "           0.98498,     0.98599,     0.98699,     0.98799,     0.98899,     0.98999,     0.99099,     0.99199,     0.99299,     0.99399,     0.99499,       0.996,       0.997,       0.998,       0.999,           1]), array([[          1,           1,           1,           1,           1,           1,           1,           1,           1,           1,           1,           1,           1,           1,           1,           1,           1,           1,           1,           1,           1,           1,           1,\n",
       "                  1,           1,           1,           1,           1,           1,           1,           1,           1,           1,           1,           1,           1,           1,           1,           1,           1,           1,           1,           1,           1,           1,           1,\n",
       "                  1,           1,           1,           1,           1,           1,           1,           1,           1,           1,           1,           1,           1,           1,           1,           1,           1,           1,           1,           1,           1,           1,           1,\n",
       "                  1,           1,           1,           1,           1,           1,           1,           1,           1,           1,           1,           1,           1,           1,           1,           1,           1,           1,           1,           1,           1,           1,           1,\n",
       "                  1,           1,           1,           1,           1,           1,           1,           1,           1,           1,           1,           1,           1,           1,           1,           1,           1,           1,           1,           1,           1,           1,           1,\n",
       "                  1,           1,           1,           1,           1,           1,           1,           1,           1,           1,           1,           1,           1,           1,           1,           1,           1,           1,           1,           1,           1,           1,           1,\n",
       "                  1,           1,           1,           1,           1,           1,           1,           1,           1,           1,           1,           1,           1,           1,           1,           1,           1,           1,           1,           1,           1,           1,           1,\n",
       "                  1,           1,           1,           1,           1,           1,           1,           1,           1,           1,           1,           1,           1,           1,           1,           1,           1,           1,           1,           1,           1,           1,           1,\n",
       "                  1,           1,           1,           1,           1,           1,           1,           1,           1,           1,           1,           1,           1,           1,           1,           1,           1,           1,           1,           1,           1,           1,           1,\n",
       "                  1,           1,           1,           1,           1,           1,           1,           1,           1,           1,           1,           1,           1,           1,           1,           1,           1,           1,           1,           1,           1,           1,           1,\n",
       "                  1,           1,           1,           1,           1,           1,           1,           1,           1,           1,           1,           1,           1,           1,           1,           1,           1,           1,           1,           1,           1,           1,           1,\n",
       "                  1,           1,           1,           1,     0.98958,     0.98958,     0.98958,     0.98958,     0.98958,     0.98958,     0.98958,     0.98958,     0.98958,     0.98958,     0.98958,     0.98958,     0.98958,     0.98958,     0.98958,     0.98958,     0.98958,     0.98958,     0.98958,\n",
       "            0.98958,     0.98958,     0.98958,     0.98958,     0.98958,     0.98958,     0.98958,     0.98958,     0.98958,     0.98958,     0.98958,     0.98958,     0.98958,     0.98958,     0.98958,     0.98958,     0.98958,     0.98958,     0.98958,     0.98958,     0.98958,     0.98958,     0.98958,\n",
       "            0.98958,     0.98958,     0.98958,     0.98958,     0.98958,     0.98958,     0.98958,     0.98958,     0.98958,     0.98958,     0.98958,     0.98958,     0.98958,     0.98958,     0.98958,     0.98958,     0.98958,     0.98958,     0.98958,     0.98958,     0.98958,     0.98958,     0.98958,\n",
       "            0.98958,     0.98958,     0.98958,     0.98958,     0.98958,     0.98958,     0.98958,     0.98958,     0.98958,     0.98958,     0.98958,     0.98958,     0.98958,     0.98958,     0.98958,     0.98958,     0.98958,     0.98958,     0.98958,     0.98958,     0.98958,     0.98958,     0.98958,\n",
       "            0.98958,     0.98958,     0.98958,     0.98958,     0.98958,     0.98958,     0.98958,     0.98958,     0.98958,     0.98958,     0.98958,     0.98958,     0.98958,     0.98958,     0.98958,     0.98958,     0.98958,     0.98958,     0.98958,     0.98958,     0.98958,     0.98958,     0.98958,\n",
       "            0.98958,     0.98958,     0.98958,     0.98958,     0.98958,     0.98958,     0.98958,     0.98958,     0.98958,     0.98958,     0.98958,     0.98958,     0.98958,     0.98958,     0.98958,     0.98958,     0.98958,     0.98958,     0.98958,     0.98958,     0.98958,     0.98958,     0.98958,\n",
       "            0.98958,     0.98958,     0.98958,     0.98958,     0.98958,     0.98958,     0.98958,     0.98958,     0.98958,     0.98958,     0.98958,     0.98958,     0.98958,     0.98958,     0.98958,     0.98958,     0.98958,     0.98958,     0.98958,     0.98958,     0.98958,     0.98958,     0.98958,\n",
       "            0.98958,     0.98958,     0.98958,     0.98958,     0.98958,     0.98958,     0.98958,     0.98958,     0.98958,     0.98958,     0.98958,     0.98958,     0.98958,     0.98958,     0.98958,     0.98958,     0.98958,     0.98958,     0.98958,     0.98958,     0.98958,     0.98958,     0.98958,\n",
       "            0.98958,     0.98958,     0.98958,     0.98958,     0.98958,     0.98958,     0.98958,     0.98958,     0.98958,     0.98958,     0.98958,     0.98958,     0.98958,     0.98958,     0.98958,     0.98958,     0.98958,     0.98958,     0.98958,     0.98958,     0.98958,     0.98958,     0.98958,\n",
       "            0.98958,     0.98958,     0.98958,     0.98958,     0.98958,     0.98958,     0.98958,     0.98958,     0.98958,     0.98958,     0.98958,     0.98958,     0.98958,     0.98958,     0.98958,     0.98958,     0.98958,     0.98958,     0.98958,     0.98958,     0.98958,     0.98958,     0.98958,\n",
       "            0.98958,     0.98958,     0.98958,     0.98958,     0.98684,     0.98684,     0.98684,     0.98684,     0.98684,     0.98684,     0.98684,     0.98684,     0.98684,     0.98684,     0.98684,     0.98684,     0.98684,     0.98684,     0.98684,     0.98684,     0.98684,     0.98684,     0.98684,\n",
       "            0.98684,     0.98684,     0.98684,     0.98684,     0.98684,     0.98684,     0.98684,     0.98684,     0.98684,     0.98684,     0.98684,     0.98684,     0.98684,     0.98684,     0.98684,     0.98684,     0.98684,     0.98684,     0.98684,     0.98684,     0.98684,     0.98684,     0.98684,\n",
       "            0.98684,     0.98684,     0.98684,     0.98684,     0.98684,     0.98684,     0.98684,     0.98684,     0.98684,     0.98684,     0.98684,     0.98684,     0.98684,     0.98684,     0.98684,     0.98684,     0.98684,     0.98684,     0.98684,     0.98684,     0.98684,     0.98684,     0.98684,\n",
       "            0.98684,     0.98684,     0.98684,     0.98684,     0.98684,     0.98684,     0.98684,     0.98684,     0.98684,     0.98684,     0.98684,     0.98684,     0.98684,     0.98684,     0.98684,     0.98684,     0.98684,     0.98684,     0.98684,     0.98684,     0.98684,     0.98684,     0.98684,\n",
       "            0.98684,     0.98684,     0.98684,     0.98684,     0.98684,     0.98684,     0.98684,     0.98684,     0.98684,     0.98684,     0.98684,     0.98684,     0.98684,     0.98684,     0.98684,     0.98684,     0.98684,     0.98684,     0.98684,     0.98684,     0.98684,     0.98684,     0.98684,\n",
       "            0.98684,     0.98684,     0.98684,     0.98684,     0.98684,     0.98684,     0.98684,     0.98684,     0.98684,     0.98684,     0.98684,     0.98684,     0.98684,     0.98684,     0.98684,     0.98684,     0.98684,     0.98684,     0.98684,     0.98684,     0.98684,     0.98684,     0.98684,\n",
       "            0.98684,     0.98684,     0.98684,     0.98684,     0.98684,     0.98684,     0.98684,     0.98684,     0.98684,     0.98684,     0.98684,     0.98684,     0.98684,     0.98684,     0.98684,     0.98684,     0.98684,     0.98684,     0.98684,     0.98684,     0.98684,     0.98684,     0.98684,\n",
       "            0.98684,     0.98684,     0.98684,     0.98684,     0.98684,     0.98684,     0.98684,     0.98684,     0.98684,     0.98684,     0.98684,     0.98684,     0.98684,     0.98684,     0.98684,     0.98684,     0.98684,     0.98684,     0.98684,     0.98684,     0.98684,     0.98684,     0.98684,\n",
       "            0.98684,     0.98684,     0.98684,     0.98684,     0.98684,     0.98684,     0.98684,     0.98684,     0.98684,     0.98684,     0.98684,     0.98684,     0.98684,     0.98684,     0.98684,     0.98684,     0.98684,     0.98684,     0.98684,     0.98684,     0.98684,     0.98684,     0.98684,\n",
       "            0.98684,     0.98684,     0.98684,     0.98684,     0.98684,     0.98684,     0.98684,     0.98684,     0.98684,     0.98684,     0.98684,     0.98684,     0.98684,     0.98684,     0.98684,     0.98684,     0.98684,     0.98684,     0.98684,     0.98684,     0.98684,     0.98684,     0.98684,\n",
       "            0.98684,     0.98684,     0.98684,     0.98684,     0.98684,     0.98684,     0.98684,     0.98684,     0.98684,     0.98684,     0.98684,     0.98684,     0.98684,     0.98684,     0.98684,     0.98684,     0.98684,     0.98684,     0.98684,     0.98684,     0.98684,     0.98684,     0.98684,\n",
       "            0.98684,     0.98684,     0.98684,     0.98684,     0.98684,     0.98684,     0.98684,     0.98684,     0.98684,     0.98684,     0.98684,     0.98684,     0.98684,     0.98684,     0.98684,     0.98684,     0.98684,     0.98684,     0.98684,     0.98684,     0.98684,     0.98684,     0.98684,\n",
       "            0.98684,     0.98684,     0.98684,     0.98684,     0.98684,     0.98684,     0.98684,     0.98684,     0.98684,     0.98684,     0.98315,     0.98315,     0.98315,     0.98315,     0.98315,     0.98315,     0.98315,     0.98315,     0.98315,     0.98315,     0.98315,     0.98315,     0.98315,\n",
       "            0.98315,     0.98315,     0.98315,     0.98315,     0.98315,     0.98315,     0.98315,     0.98315,     0.98315,     0.98315,     0.98315,     0.98315,     0.98315,     0.98315,     0.98315,     0.98315,     0.98315,     0.98315,     0.98315,     0.98315,     0.98315,     0.98315,     0.98315,\n",
       "            0.98315,     0.98315,     0.98315,     0.98315,     0.98315,     0.98315,     0.98315,     0.98315,     0.98315,     0.98315,     0.98315,     0.98315,     0.98315,     0.98315,     0.98315,     0.98315,     0.98315,     0.98315,     0.98315,     0.98315,     0.98315,     0.98315,     0.98315,\n",
       "            0.98315,     0.98315,     0.98315,     0.98315,     0.98315,     0.98315,     0.98315,     0.98315,     0.98315,     0.98315,     0.98315,     0.98315,     0.98315,     0.98315,     0.98315,     0.98315,     0.98315,     0.98315,     0.98315,     0.98315,     0.98315,     0.98315,     0.98315,\n",
       "            0.98315,     0.98315,     0.98315,     0.98315,     0.98315,     0.98315,     0.98315,     0.98315,     0.98315,     0.98315,     0.98315,     0.98315,     0.98315,     0.98315,     0.98315,     0.98315,     0.98315,     0.98315,     0.98315,     0.98315,     0.98315,     0.98315,     0.98315,\n",
       "            0.98315,     0.98315,     0.98315,     0.98315,     0.98315,     0.98315,     0.98315,     0.98315,     0.98315,     0.98315,     0.98315,     0.98315,     0.98315,     0.98315,     0.98315,     0.98315,     0.98315,     0.98315,     0.98315,     0.98315,     0.98315,     0.98315,     0.98315,\n",
       "            0.96774,     0.96774,     0.96774,     0.96774,     0.96774,     0.96774,     0.96774,     0.96774,     0.96774,     0.96774,     0.96774,     0.96774,     0.96774,     0.96774,     0.96774,     0.96774,     0.96774,     0.96774,     0.96774,     0.96774,     0.96774,     0.96774,     0.96774,\n",
       "            0.96774,     0.96774,     0.96774,     0.93782,     0.93782,     0.93782,     0.93782,     0.93782,       0.915,       0.915,       0.915,       0.915,       0.915,       0.915,       0.915,       0.915,       0.915,       0.915,     0.78632,     0.78632,     0.78632,     0.78632,     0.78632,\n",
       "             0.7686,      0.7686,      0.7686,      0.7686,      0.7686,      0.7686,      0.7686,      0.7686,      0.7686,      0.7686,     0.70566,     0.70566,     0.70566,     0.70566,     0.70566,     0.70566,     0.25998,     0.25348,     0.24698,     0.24048,     0.23398,     0.22748,     0.22098,\n",
       "            0.21449,     0.20799,     0.20149,     0.19499,     0.18849,     0.18199,     0.17549,     0.16899,     0.16249,     0.15599,     0.14949,     0.14299,     0.13649,     0.12999,     0.12349,     0.11699,     0.11049,     0.10399,    0.097493,    0.090994,    0.084494,    0.077995,    0.071495,\n",
       "           0.064996,    0.058496,    0.051996,    0.045497,    0.038997,    0.032498,    0.025998,    0.019499,    0.012999,   0.0064996,           0]]), 'Recall', 'Precision'], [array([          0,    0.001001,    0.002002,    0.003003,    0.004004,    0.005005,    0.006006,    0.007007,    0.008008,    0.009009,     0.01001,    0.011011,    0.012012,    0.013013,    0.014014,    0.015015,    0.016016,    0.017017,    0.018018,    0.019019,     0.02002,    0.021021,    0.022022,    0.023023,\n",
       "          0.024024,    0.025025,    0.026026,    0.027027,    0.028028,    0.029029,     0.03003,    0.031031,    0.032032,    0.033033,    0.034034,    0.035035,    0.036036,    0.037037,    0.038038,    0.039039,     0.04004,    0.041041,    0.042042,    0.043043,    0.044044,    0.045045,    0.046046,    0.047047,\n",
       "          0.048048,    0.049049,     0.05005,    0.051051,    0.052052,    0.053053,    0.054054,    0.055055,    0.056056,    0.057057,    0.058058,    0.059059,     0.06006,    0.061061,    0.062062,    0.063063,    0.064064,    0.065065,    0.066066,    0.067067,    0.068068,    0.069069,     0.07007,    0.071071,\n",
       "          0.072072,    0.073073,    0.074074,    0.075075,    0.076076,    0.077077,    0.078078,    0.079079,     0.08008,    0.081081,    0.082082,    0.083083,    0.084084,    0.085085,    0.086086,    0.087087,    0.088088,    0.089089,     0.09009,    0.091091,    0.092092,    0.093093,    0.094094,    0.095095,\n",
       "          0.096096,    0.097097,    0.098098,    0.099099,      0.1001,      0.1011,      0.1021,      0.1031,      0.1041,     0.10511,     0.10611,     0.10711,     0.10811,     0.10911,     0.11011,     0.11111,     0.11211,     0.11311,     0.11411,     0.11512,     0.11612,     0.11712,     0.11812,     0.11912,\n",
       "           0.12012,     0.12112,     0.12212,     0.12312,     0.12412,     0.12513,     0.12613,     0.12713,     0.12813,     0.12913,     0.13013,     0.13113,     0.13213,     0.13313,     0.13413,     0.13514,     0.13614,     0.13714,     0.13814,     0.13914,     0.14014,     0.14114,     0.14214,     0.14314,\n",
       "           0.14414,     0.14515,     0.14615,     0.14715,     0.14815,     0.14915,     0.15015,     0.15115,     0.15215,     0.15315,     0.15415,     0.15516,     0.15616,     0.15716,     0.15816,     0.15916,     0.16016,     0.16116,     0.16216,     0.16316,     0.16416,     0.16517,     0.16617,     0.16717,\n",
       "           0.16817,     0.16917,     0.17017,     0.17117,     0.17217,     0.17317,     0.17417,     0.17518,     0.17618,     0.17718,     0.17818,     0.17918,     0.18018,     0.18118,     0.18218,     0.18318,     0.18418,     0.18519,     0.18619,     0.18719,     0.18819,     0.18919,     0.19019,     0.19119,\n",
       "           0.19219,     0.19319,     0.19419,      0.1952,      0.1962,      0.1972,      0.1982,      0.1992,      0.2002,      0.2012,      0.2022,      0.2032,      0.2042,     0.20521,     0.20621,     0.20721,     0.20821,     0.20921,     0.21021,     0.21121,     0.21221,     0.21321,     0.21421,     0.21522,\n",
       "           0.21622,     0.21722,     0.21822,     0.21922,     0.22022,     0.22122,     0.22222,     0.22322,     0.22422,     0.22523,     0.22623,     0.22723,     0.22823,     0.22923,     0.23023,     0.23123,     0.23223,     0.23323,     0.23423,     0.23524,     0.23624,     0.23724,     0.23824,     0.23924,\n",
       "           0.24024,     0.24124,     0.24224,     0.24324,     0.24424,     0.24525,     0.24625,     0.24725,     0.24825,     0.24925,     0.25025,     0.25125,     0.25225,     0.25325,     0.25425,     0.25526,     0.25626,     0.25726,     0.25826,     0.25926,     0.26026,     0.26126,     0.26226,     0.26326,\n",
       "           0.26426,     0.26527,     0.26627,     0.26727,     0.26827,     0.26927,     0.27027,     0.27127,     0.27227,     0.27327,     0.27427,     0.27528,     0.27628,     0.27728,     0.27828,     0.27928,     0.28028,     0.28128,     0.28228,     0.28328,     0.28428,     0.28529,     0.28629,     0.28729,\n",
       "           0.28829,     0.28929,     0.29029,     0.29129,     0.29229,     0.29329,     0.29429,      0.2953,      0.2963,      0.2973,      0.2983,      0.2993,      0.3003,      0.3013,      0.3023,      0.3033,      0.3043,     0.30531,     0.30631,     0.30731,     0.30831,     0.30931,     0.31031,     0.31131,\n",
       "           0.31231,     0.31331,     0.31431,     0.31532,     0.31632,     0.31732,     0.31832,     0.31932,     0.32032,     0.32132,     0.32232,     0.32332,     0.32432,     0.32533,     0.32633,     0.32733,     0.32833,     0.32933,     0.33033,     0.33133,     0.33233,     0.33333,     0.33433,     0.33534,\n",
       "           0.33634,     0.33734,     0.33834,     0.33934,     0.34034,     0.34134,     0.34234,     0.34334,     0.34434,     0.34535,     0.34635,     0.34735,     0.34835,     0.34935,     0.35035,     0.35135,     0.35235,     0.35335,     0.35435,     0.35536,     0.35636,     0.35736,     0.35836,     0.35936,\n",
       "           0.36036,     0.36136,     0.36236,     0.36336,     0.36436,     0.36537,     0.36637,     0.36737,     0.36837,     0.36937,     0.37037,     0.37137,     0.37237,     0.37337,     0.37437,     0.37538,     0.37638,     0.37738,     0.37838,     0.37938,     0.38038,     0.38138,     0.38238,     0.38338,\n",
       "           0.38438,     0.38539,     0.38639,     0.38739,     0.38839,     0.38939,     0.39039,     0.39139,     0.39239,     0.39339,     0.39439,      0.3954,      0.3964,      0.3974,      0.3984,      0.3994,      0.4004,      0.4014,      0.4024,      0.4034,      0.4044,     0.40541,     0.40641,     0.40741,\n",
       "           0.40841,     0.40941,     0.41041,     0.41141,     0.41241,     0.41341,     0.41441,     0.41542,     0.41642,     0.41742,     0.41842,     0.41942,     0.42042,     0.42142,     0.42242,     0.42342,     0.42442,     0.42543,     0.42643,     0.42743,     0.42843,     0.42943,     0.43043,     0.43143,\n",
       "           0.43243,     0.43343,     0.43443,     0.43544,     0.43644,     0.43744,     0.43844,     0.43944,     0.44044,     0.44144,     0.44244,     0.44344,     0.44444,     0.44545,     0.44645,     0.44745,     0.44845,     0.44945,     0.45045,     0.45145,     0.45245,     0.45345,     0.45445,     0.45546,\n",
       "           0.45646,     0.45746,     0.45846,     0.45946,     0.46046,     0.46146,     0.46246,     0.46346,     0.46446,     0.46547,     0.46647,     0.46747,     0.46847,     0.46947,     0.47047,     0.47147,     0.47247,     0.47347,     0.47447,     0.47548,     0.47648,     0.47748,     0.47848,     0.47948,\n",
       "           0.48048,     0.48148,     0.48248,     0.48348,     0.48448,     0.48549,     0.48649,     0.48749,     0.48849,     0.48949,     0.49049,     0.49149,     0.49249,     0.49349,     0.49449,      0.4955,      0.4965,      0.4975,      0.4985,      0.4995,      0.5005,      0.5015,      0.5025,      0.5035,\n",
       "            0.5045,     0.50551,     0.50651,     0.50751,     0.50851,     0.50951,     0.51051,     0.51151,     0.51251,     0.51351,     0.51451,     0.51552,     0.51652,     0.51752,     0.51852,     0.51952,     0.52052,     0.52152,     0.52252,     0.52352,     0.52452,     0.52553,     0.52653,     0.52753,\n",
       "           0.52853,     0.52953,     0.53053,     0.53153,     0.53253,     0.53353,     0.53453,     0.53554,     0.53654,     0.53754,     0.53854,     0.53954,     0.54054,     0.54154,     0.54254,     0.54354,     0.54454,     0.54555,     0.54655,     0.54755,     0.54855,     0.54955,     0.55055,     0.55155,\n",
       "           0.55255,     0.55355,     0.55455,     0.55556,     0.55656,     0.55756,     0.55856,     0.55956,     0.56056,     0.56156,     0.56256,     0.56356,     0.56456,     0.56557,     0.56657,     0.56757,     0.56857,     0.56957,     0.57057,     0.57157,     0.57257,     0.57357,     0.57457,     0.57558,\n",
       "           0.57658,     0.57758,     0.57858,     0.57958,     0.58058,     0.58158,     0.58258,     0.58358,     0.58458,     0.58559,     0.58659,     0.58759,     0.58859,     0.58959,     0.59059,     0.59159,     0.59259,     0.59359,     0.59459,      0.5956,      0.5966,      0.5976,      0.5986,      0.5996,\n",
       "            0.6006,      0.6016,      0.6026,      0.6036,      0.6046,     0.60561,     0.60661,     0.60761,     0.60861,     0.60961,     0.61061,     0.61161,     0.61261,     0.61361,     0.61461,     0.61562,     0.61662,     0.61762,     0.61862,     0.61962,     0.62062,     0.62162,     0.62262,     0.62362,\n",
       "           0.62462,     0.62563,     0.62663,     0.62763,     0.62863,     0.62963,     0.63063,     0.63163,     0.63263,     0.63363,     0.63463,     0.63564,     0.63664,     0.63764,     0.63864,     0.63964,     0.64064,     0.64164,     0.64264,     0.64364,     0.64464,     0.64565,     0.64665,     0.64765,\n",
       "           0.64865,     0.64965,     0.65065,     0.65165,     0.65265,     0.65365,     0.65465,     0.65566,     0.65666,     0.65766,     0.65866,     0.65966,     0.66066,     0.66166,     0.66266,     0.66366,     0.66466,     0.66567,     0.66667,     0.66767,     0.66867,     0.66967,     0.67067,     0.67167,\n",
       "           0.67267,     0.67367,     0.67467,     0.67568,     0.67668,     0.67768,     0.67868,     0.67968,     0.68068,     0.68168,     0.68268,     0.68368,     0.68468,     0.68569,     0.68669,     0.68769,     0.68869,     0.68969,     0.69069,     0.69169,     0.69269,     0.69369,     0.69469,      0.6957,\n",
       "            0.6967,      0.6977,      0.6987,      0.6997,      0.7007,      0.7017,      0.7027,      0.7037,      0.7047,     0.70571,     0.70671,     0.70771,     0.70871,     0.70971,     0.71071,     0.71171,     0.71271,     0.71371,     0.71471,     0.71572,     0.71672,     0.71772,     0.71872,     0.71972,\n",
       "           0.72072,     0.72172,     0.72272,     0.72372,     0.72472,     0.72573,     0.72673,     0.72773,     0.72873,     0.72973,     0.73073,     0.73173,     0.73273,     0.73373,     0.73473,     0.73574,     0.73674,     0.73774,     0.73874,     0.73974,     0.74074,     0.74174,     0.74274,     0.74374,\n",
       "           0.74474,     0.74575,     0.74675,     0.74775,     0.74875,     0.74975,     0.75075,     0.75175,     0.75275,     0.75375,     0.75475,     0.75576,     0.75676,     0.75776,     0.75876,     0.75976,     0.76076,     0.76176,     0.76276,     0.76376,     0.76476,     0.76577,     0.76677,     0.76777,\n",
       "           0.76877,     0.76977,     0.77077,     0.77177,     0.77277,     0.77377,     0.77477,     0.77578,     0.77678,     0.77778,     0.77878,     0.77978,     0.78078,     0.78178,     0.78278,     0.78378,     0.78478,     0.78579,     0.78679,     0.78779,     0.78879,     0.78979,     0.79079,     0.79179,\n",
       "           0.79279,     0.79379,     0.79479,      0.7958,      0.7968,      0.7978,      0.7988,      0.7998,      0.8008,      0.8018,      0.8028,      0.8038,      0.8048,     0.80581,     0.80681,     0.80781,     0.80881,     0.80981,     0.81081,     0.81181,     0.81281,     0.81381,     0.81481,     0.81582,\n",
       "           0.81682,     0.81782,     0.81882,     0.81982,     0.82082,     0.82182,     0.82282,     0.82382,     0.82482,     0.82583,     0.82683,     0.82783,     0.82883,     0.82983,     0.83083,     0.83183,     0.83283,     0.83383,     0.83483,     0.83584,     0.83684,     0.83784,     0.83884,     0.83984,\n",
       "           0.84084,     0.84184,     0.84284,     0.84384,     0.84484,     0.84585,     0.84685,     0.84785,     0.84885,     0.84985,     0.85085,     0.85185,     0.85285,     0.85385,     0.85485,     0.85586,     0.85686,     0.85786,     0.85886,     0.85986,     0.86086,     0.86186,     0.86286,     0.86386,\n",
       "           0.86486,     0.86587,     0.86687,     0.86787,     0.86887,     0.86987,     0.87087,     0.87187,     0.87287,     0.87387,     0.87487,     0.87588,     0.87688,     0.87788,     0.87888,     0.87988,     0.88088,     0.88188,     0.88288,     0.88388,     0.88488,     0.88589,     0.88689,     0.88789,\n",
       "           0.88889,     0.88989,     0.89089,     0.89189,     0.89289,     0.89389,     0.89489,      0.8959,      0.8969,      0.8979,      0.8989,      0.8999,      0.9009,      0.9019,      0.9029,      0.9039,      0.9049,     0.90591,     0.90691,     0.90791,     0.90891,     0.90991,     0.91091,     0.91191,\n",
       "           0.91291,     0.91391,     0.91491,     0.91592,     0.91692,     0.91792,     0.91892,     0.91992,     0.92092,     0.92192,     0.92292,     0.92392,     0.92492,     0.92593,     0.92693,     0.92793,     0.92893,     0.92993,     0.93093,     0.93193,     0.93293,     0.93393,     0.93493,     0.93594,\n",
       "           0.93694,     0.93794,     0.93894,     0.93994,     0.94094,     0.94194,     0.94294,     0.94394,     0.94494,     0.94595,     0.94695,     0.94795,     0.94895,     0.94995,     0.95095,     0.95195,     0.95295,     0.95395,     0.95495,     0.95596,     0.95696,     0.95796,     0.95896,     0.95996,\n",
       "           0.96096,     0.96196,     0.96296,     0.96396,     0.96496,     0.96597,     0.96697,     0.96797,     0.96897,     0.96997,     0.97097,     0.97197,     0.97297,     0.97397,     0.97497,     0.97598,     0.97698,     0.97798,     0.97898,     0.97998,     0.98098,     0.98198,     0.98298,     0.98398,\n",
       "           0.98498,     0.98599,     0.98699,     0.98799,     0.98899,     0.98999,     0.99099,     0.99199,     0.99299,     0.99399,     0.99499,       0.996,       0.997,       0.998,       0.999,           1]), array([[    0.41695,     0.41695,     0.53617,     0.61403,     0.65866,     0.68216,     0.70413,     0.72027,     0.73212,     0.74839,     0.76172,     0.77173,     0.77738,     0.79063,     0.79475,     0.79841,     0.80467,     0.81008,     0.81089,     0.81352,     0.82311,     0.82533,     0.82642,\n",
       "            0.82834,     0.83224,     0.83336,     0.83465,     0.83634,     0.83917,     0.84131,     0.84424,     0.84704,     0.84862,     0.85082,     0.84909,     0.84894,     0.85293,     0.85472,     0.85591,     0.85722,     0.85516,     0.85576,     0.85635,     0.85695,     0.85968,     0.86121,\n",
       "            0.86229,     0.86479,     0.86617,     0.86713,       0.873,     0.87406,     0.87467,     0.87527,     0.87594,     0.87667,      0.8774,     0.87923,     0.88418,     0.88632,     0.88676,     0.88719,     0.88763,     0.88806,     0.88874,     0.88989,     0.89288,     0.89382,     0.89476,\n",
       "            0.89722,      0.8978,     0.89837,     0.89894,     0.90021,     0.90158,     0.90184,     0.90209,     0.90235,      0.9026,     0.90286,     0.90311,     0.90337,     0.90362,      0.9038,     0.90395,      0.9041,     0.90424,     0.90439,     0.90454,     0.90468,     0.90483,     0.90497,\n",
       "            0.90512,     0.90527,     0.90541,     0.90556,      0.9057,     0.90585,     0.90635,     0.90744,     0.90858,     0.90986,     0.91059,     0.91084,      0.9111,     0.91135,     0.91161,     0.91186,     0.91212,     0.91237,     0.91263,     0.91292,     0.91325,     0.91357,     0.91389,\n",
       "            0.91422,     0.91454,     0.91486,     0.91515,     0.91543,      0.9157,     0.91597,     0.91625,     0.91652,     0.91679,     0.91706,      0.9173,     0.91734,     0.91739,     0.91743,     0.91747,     0.91752,     0.91756,      0.9176,     0.91764,     0.91769,     0.91773,     0.91777,\n",
       "            0.91782,     0.91786,      0.9179,     0.91795,     0.91799,     0.91803,     0.91808,     0.91812,     0.91816,     0.91821,     0.91825,     0.91829,     0.91833,     0.91838,     0.91842,     0.91846,     0.91851,     0.91855,     0.91859,     0.91864,     0.91868,     0.91872,     0.91876,\n",
       "            0.91881,     0.91885,     0.91889,     0.91894,     0.91898,     0.91902,     0.91907,     0.91911,     0.91915,     0.91919,     0.91924,     0.91928,     0.91932,     0.91937,     0.91941,     0.91945,      0.9195,     0.91954,     0.91958,     0.91987,     0.92031,     0.92075,      0.9212,\n",
       "            0.92164,      0.9227,     0.92426,     0.92432,     0.92439,     0.92445,     0.92452,     0.92458,     0.92464,     0.92471,     0.92477,     0.92483,      0.9249,     0.92496,     0.92503,     0.92509,     0.92515,     0.92522,     0.92528,     0.92534,     0.92541,     0.92547,     0.92554,\n",
       "             0.9256,     0.92566,     0.92573,     0.92579,     0.92585,     0.92592,     0.92598,     0.92605,     0.92611,     0.92617,     0.92624,      0.9263,     0.92636,     0.92643,     0.92649,     0.92655,     0.92447,     0.92276,     0.92144,      0.9212,     0.92131,     0.92142,     0.92153,\n",
       "            0.92163,     0.92174,     0.92185,     0.92196,     0.92206,     0.92217,     0.92228,     0.92239,     0.92249,      0.9226,     0.92271,     0.92282,     0.92292,     0.92303,     0.92314,     0.92325,     0.92335,     0.92346,     0.92422,     0.92503,     0.92583,     0.92588,     0.92592,\n",
       "            0.92596,     0.92601,     0.92605,      0.9261,     0.92614,     0.92619,     0.92623,     0.92627,     0.92632,     0.92636,     0.92641,     0.92645,      0.9265,     0.92654,     0.92658,     0.92663,     0.92667,     0.92672,     0.92676,     0.92681,     0.92685,     0.92689,     0.92694,\n",
       "            0.92698,     0.92703,     0.92707,     0.92712,     0.92716,      0.9272,     0.92725,     0.92729,     0.92734,     0.92738,     0.92743,     0.92747,     0.92751,     0.92756,      0.9276,     0.92765,     0.92769,     0.92773,     0.92778,     0.92782,     0.92787,     0.92791,     0.92796,\n",
       "              0.928,     0.92804,     0.92809,     0.92813,     0.92818,     0.92823,     0.92832,     0.92841,     0.92849,     0.92858,     0.92866,     0.92875,     0.92883,     0.92892,       0.929,     0.92909,     0.92917,     0.92926,     0.92934,     0.92943,     0.92951,      0.9296,     0.92968,\n",
       "            0.92977,     0.92985,     0.92994,     0.93002,     0.93011,     0.93019,     0.93028,     0.93036,     0.93045,     0.93053,     0.93066,     0.93087,     0.93108,      0.9313,     0.93151,     0.93173,     0.93194,     0.93215,     0.93237,     0.93258,     0.93279,     0.93297,     0.93278,\n",
       "            0.93259,      0.9324,     0.93221,     0.93202,     0.93183,     0.93163,     0.93144,     0.93125,     0.93106,     0.93087,     0.93068,     0.93048,     0.93029,     0.93121,     0.93262,     0.93294,     0.93324,     0.93354,     0.93384,     0.93414,     0.93444,     0.93475,     0.93505,\n",
       "            0.93514,     0.93522,     0.93529,     0.93537,     0.93545,     0.93553,      0.9356,     0.93568,     0.93576,     0.93584,     0.93591,     0.93599,     0.93607,     0.93615,     0.93622,      0.9363,     0.93638,     0.93645,     0.93653,     0.93661,     0.93669,     0.93676,     0.93684,\n",
       "            0.93692,       0.937,     0.93707,     0.93715,     0.93723,      0.9373,     0.93738,     0.93746,      0.9376,      0.9378,       0.938,      0.9382,      0.9384,      0.9386,      0.9388,       0.939,      0.9392,      0.9394,      0.9396,      0.9398,     0.93997,     0.94006,     0.94014,\n",
       "            0.94023,     0.94032,      0.9404,     0.94049,     0.94058,     0.94066,     0.94075,     0.94084,     0.94092,     0.94101,     0.94109,     0.94118,     0.94127,     0.94135,     0.94144,     0.94153,     0.94161,      0.9417,     0.94178,     0.94187,     0.94196,     0.94204,     0.94213,\n",
       "            0.94221,      0.9423,     0.94239,     0.94248,     0.94258,     0.94268,     0.94278,     0.94288,     0.94297,     0.94307,     0.94317,     0.94327,     0.94337,     0.94347,     0.94357,     0.94366,     0.94376,     0.94386,     0.94396,     0.94406,     0.94416,     0.94426,     0.94435,\n",
       "            0.94445,     0.94455,     0.94465,     0.94475,     0.94484,      0.9448,     0.94467,     0.94454,     0.94441,     0.94429,     0.94416,     0.94403,      0.9439,     0.94377,     0.94364,     0.94351,     0.94338,     0.94325,     0.94312,     0.94299,     0.94286,     0.94273,      0.9426,\n",
       "            0.94247,     0.94234,     0.94221,     0.94207,     0.94187,     0.94167,     0.94146,     0.94126,     0.94105,     0.94085,     0.94064,     0.94044,     0.94024,     0.94003,     0.93983,     0.93962,     0.93942,     0.93917,     0.93888,      0.9386,     0.93831,     0.93802,     0.93773,\n",
       "            0.93745,     0.93716,     0.93687,     0.93658,     0.93642,     0.93631,     0.93619,     0.93608,     0.93596,     0.93584,     0.93573,     0.93561,      0.9355,     0.93538,     0.93527,     0.93515,     0.93504,     0.93492,      0.9348,     0.93469,     0.93457,     0.93446,     0.93434,\n",
       "            0.93423,     0.93411,     0.93399,     0.93388,     0.93376,     0.93363,     0.93347,     0.93331,     0.93315,     0.93299,     0.93282,     0.93266,      0.9325,     0.93234,     0.93218,     0.93202,     0.93185,     0.93169,     0.93153,     0.93137,     0.93121,     0.93105,     0.93088,\n",
       "            0.93153,     0.93237,     0.93322,     0.93422,     0.93525,     0.93588,     0.93599,      0.9361,     0.93621,     0.93633,     0.93644,     0.93655,     0.93666,     0.93677,     0.93688,       0.937,     0.93711,     0.93722,     0.93733,     0.93744,     0.93756,     0.93767,     0.93778,\n",
       "            0.93789,       0.938,     0.93811,     0.93823,     0.93834,     0.93803,     0.93773,     0.93742,     0.93711,      0.9368,      0.9365,     0.93619,     0.93588,     0.93557,     0.93495,     0.93422,     0.93348,     0.93275,      0.9325,     0.93236,     0.93222,     0.93208,     0.93194,\n",
       "             0.9318,     0.93166,     0.93152,     0.93137,     0.93123,     0.93109,     0.93095,     0.93081,     0.93067,     0.93053,     0.93039,     0.93025,     0.93011,     0.92997,     0.92982,     0.92968,     0.92951,     0.92935,     0.92918,     0.92902,     0.92885,     0.92869,     0.92852,\n",
       "            0.92836,     0.92819,     0.92803,     0.92786,     0.92769,     0.92753,     0.92736,      0.9272,     0.92703,     0.92687,     0.92671,     0.92657,     0.92642,     0.92627,     0.92612,     0.92597,     0.92582,     0.92567,     0.92552,     0.92537,     0.92522,     0.92507,     0.92492,\n",
       "            0.92477,     0.92462,     0.92447,     0.92432,     0.92417,     0.92402,     0.92388,     0.92376,     0.92363,     0.92351,     0.92338,     0.92326,     0.92313,     0.92301,     0.92288,     0.92276,     0.92263,      0.9225,     0.92238,     0.92225,     0.92213,       0.922,     0.92188,\n",
       "            0.92175,     0.92163,      0.9215,     0.92138,     0.92125,     0.92113,       0.921,     0.92013,     0.91912,     0.91811,     0.91748,     0.91687,     0.91626,     0.91565,     0.91494,     0.91201,     0.91078,     0.90955,     0.90897,     0.90878,     0.90858,     0.90839,      0.9082,\n",
       "            0.90801,     0.90781,     0.90762,     0.90743,     0.90723,     0.90704,     0.90685,     0.90665,     0.90646,     0.90627,     0.90607,     0.90584,     0.90561,     0.90538,     0.90515,     0.90492,     0.90469,     0.90446,     0.90423,       0.904,     0.90377,     0.90354,     0.90331,\n",
       "            0.90308,     0.90217,     0.90113,     0.90008,     0.89978,     0.89954,      0.8993,     0.89905,     0.89881,     0.89857,     0.89833,     0.89809,     0.89785,      0.8976,     0.89736,     0.89712,     0.89644,     0.89433,     0.89222,     0.88755,     0.88726,     0.88697,     0.88668,\n",
       "            0.88638,     0.88609,      0.8858,     0.88551,     0.88522,     0.88492,     0.88463,     0.88089,     0.88008,     0.87926,     0.87845,     0.87775,     0.87709,     0.87644,     0.87579,     0.87513,     0.87413,     0.87303,     0.87194,     0.87116,     0.87042,     0.86969,     0.86895,\n",
       "            0.86804,     0.86693,     0.86582,     0.86409,      0.8621,     0.86247,     0.86283,      0.8632,     0.86356,     0.86392,     0.86429,     0.86397,     0.86172,     0.86103,     0.86072,     0.86041,     0.86011,      0.8598,     0.85949,     0.85918,     0.85887,     0.85857,     0.85826,\n",
       "            0.85782,     0.85555,     0.85079,     0.84993,     0.84907,     0.84821,     0.84698,      0.8456,     0.84435,     0.84348,     0.84261,     0.84173,     0.83691,     0.83456,     0.82766,     0.82606,     0.82462,     0.82301,     0.82121,      0.8194,     0.81758,     0.81597,     0.81451,\n",
       "            0.81305,     0.81158,     0.81011,     0.80863,     0.80715,     0.80046,     0.79068,     0.78814,     0.78699,     0.78614,     0.78529,     0.78443,     0.78283,     0.78026,     0.77911,       0.778,     0.77689,      0.7704,     0.76809,     0.76697,     0.76583,     0.76474,     0.76386,\n",
       "            0.76298,     0.76209,      0.7612,      0.7579,     0.75618,     0.75503,     0.75387,      0.7516,     0.74883,     0.74793,     0.74702,     0.74611,     0.74113,     0.73699,     0.72874,     0.72452,     0.71977,     0.71526,     0.71311,     0.70948,     0.70332,      0.7004,      0.6947,\n",
       "            0.69381,     0.69292,     0.69203,     0.69114,     0.68319,      0.6782,     0.67364,     0.67123,     0.66893,     0.65985,     0.65913,     0.65841,     0.65769,     0.65697,     0.65624,     0.65552,     0.65483,     0.65416,     0.65349,     0.65281,     0.65214,     0.65146,     0.65079,\n",
       "            0.64887,     0.63606,     0.63214,      0.6224,     0.61819,     0.61485,     0.60491,     0.60151,     0.59354,     0.59095,     0.57908,     0.57302,     0.55525,     0.54602,     0.53061,     0.52592,      0.5243,     0.52267,     0.52104,     0.51601,     0.51187,     0.50306,      0.5011,\n",
       "            0.49914,     0.48681,     0.48259,     0.47857,     0.47452,     0.47045,      0.4564,     0.45327,     0.45023,     0.44771,     0.44519,     0.43153,     0.42939,     0.42723,       0.412,     0.40869,     0.40689,     0.40802,     0.37365,     0.37017,     0.35515,     0.34081,     0.33571,\n",
       "             0.3261,     0.32241,     0.31133,     0.30632,     0.30205,     0.29825,      0.2891,      0.2869,     0.28469,     0.28248,     0.27999,     0.27739,     0.27479,     0.26783,      0.2633,     0.25932,     0.25413,     0.23612,     0.22473,     0.21919,     0.21035,     0.20905,     0.20775,\n",
       "            0.20645,     0.20515,     0.20385,     0.20133,     0.18437,     0.17662,     0.17224,      0.1643,     0.14904,     0.14142,     0.13687,     0.13063,      0.1232,     0.11856,     0.11458,     0.11146,     0.10833,     0.10487,     0.10108,    0.088004,    0.084796,    0.081577,    0.077876,\n",
       "           0.071381,    0.039809,    0.037787,    0.035761,    0.033731,    0.031696,    0.029586,    0.027316,     0.02504,    0.022759,    0.020473,           0,           0,           0,           0,           0,           0,           0,           0,           0,           0,           0,           0,\n",
       "                  0,           0,           0,           0,           0,           0,           0,           0,           0,           0,           0]]), 'Confidence', 'F1'], [array([          0,    0.001001,    0.002002,    0.003003,    0.004004,    0.005005,    0.006006,    0.007007,    0.008008,    0.009009,     0.01001,    0.011011,    0.012012,    0.013013,    0.014014,    0.015015,    0.016016,    0.017017,    0.018018,    0.019019,     0.02002,    0.021021,    0.022022,    0.023023,\n",
       "          0.024024,    0.025025,    0.026026,    0.027027,    0.028028,    0.029029,     0.03003,    0.031031,    0.032032,    0.033033,    0.034034,    0.035035,    0.036036,    0.037037,    0.038038,    0.039039,     0.04004,    0.041041,    0.042042,    0.043043,    0.044044,    0.045045,    0.046046,    0.047047,\n",
       "          0.048048,    0.049049,     0.05005,    0.051051,    0.052052,    0.053053,    0.054054,    0.055055,    0.056056,    0.057057,    0.058058,    0.059059,     0.06006,    0.061061,    0.062062,    0.063063,    0.064064,    0.065065,    0.066066,    0.067067,    0.068068,    0.069069,     0.07007,    0.071071,\n",
       "          0.072072,    0.073073,    0.074074,    0.075075,    0.076076,    0.077077,    0.078078,    0.079079,     0.08008,    0.081081,    0.082082,    0.083083,    0.084084,    0.085085,    0.086086,    0.087087,    0.088088,    0.089089,     0.09009,    0.091091,    0.092092,    0.093093,    0.094094,    0.095095,\n",
       "          0.096096,    0.097097,    0.098098,    0.099099,      0.1001,      0.1011,      0.1021,      0.1031,      0.1041,     0.10511,     0.10611,     0.10711,     0.10811,     0.10911,     0.11011,     0.11111,     0.11211,     0.11311,     0.11411,     0.11512,     0.11612,     0.11712,     0.11812,     0.11912,\n",
       "           0.12012,     0.12112,     0.12212,     0.12312,     0.12412,     0.12513,     0.12613,     0.12713,     0.12813,     0.12913,     0.13013,     0.13113,     0.13213,     0.13313,     0.13413,     0.13514,     0.13614,     0.13714,     0.13814,     0.13914,     0.14014,     0.14114,     0.14214,     0.14314,\n",
       "           0.14414,     0.14515,     0.14615,     0.14715,     0.14815,     0.14915,     0.15015,     0.15115,     0.15215,     0.15315,     0.15415,     0.15516,     0.15616,     0.15716,     0.15816,     0.15916,     0.16016,     0.16116,     0.16216,     0.16316,     0.16416,     0.16517,     0.16617,     0.16717,\n",
       "           0.16817,     0.16917,     0.17017,     0.17117,     0.17217,     0.17317,     0.17417,     0.17518,     0.17618,     0.17718,     0.17818,     0.17918,     0.18018,     0.18118,     0.18218,     0.18318,     0.18418,     0.18519,     0.18619,     0.18719,     0.18819,     0.18919,     0.19019,     0.19119,\n",
       "           0.19219,     0.19319,     0.19419,      0.1952,      0.1962,      0.1972,      0.1982,      0.1992,      0.2002,      0.2012,      0.2022,      0.2032,      0.2042,     0.20521,     0.20621,     0.20721,     0.20821,     0.20921,     0.21021,     0.21121,     0.21221,     0.21321,     0.21421,     0.21522,\n",
       "           0.21622,     0.21722,     0.21822,     0.21922,     0.22022,     0.22122,     0.22222,     0.22322,     0.22422,     0.22523,     0.22623,     0.22723,     0.22823,     0.22923,     0.23023,     0.23123,     0.23223,     0.23323,     0.23423,     0.23524,     0.23624,     0.23724,     0.23824,     0.23924,\n",
       "           0.24024,     0.24124,     0.24224,     0.24324,     0.24424,     0.24525,     0.24625,     0.24725,     0.24825,     0.24925,     0.25025,     0.25125,     0.25225,     0.25325,     0.25425,     0.25526,     0.25626,     0.25726,     0.25826,     0.25926,     0.26026,     0.26126,     0.26226,     0.26326,\n",
       "           0.26426,     0.26527,     0.26627,     0.26727,     0.26827,     0.26927,     0.27027,     0.27127,     0.27227,     0.27327,     0.27427,     0.27528,     0.27628,     0.27728,     0.27828,     0.27928,     0.28028,     0.28128,     0.28228,     0.28328,     0.28428,     0.28529,     0.28629,     0.28729,\n",
       "           0.28829,     0.28929,     0.29029,     0.29129,     0.29229,     0.29329,     0.29429,      0.2953,      0.2963,      0.2973,      0.2983,      0.2993,      0.3003,      0.3013,      0.3023,      0.3033,      0.3043,     0.30531,     0.30631,     0.30731,     0.30831,     0.30931,     0.31031,     0.31131,\n",
       "           0.31231,     0.31331,     0.31431,     0.31532,     0.31632,     0.31732,     0.31832,     0.31932,     0.32032,     0.32132,     0.32232,     0.32332,     0.32432,     0.32533,     0.32633,     0.32733,     0.32833,     0.32933,     0.33033,     0.33133,     0.33233,     0.33333,     0.33433,     0.33534,\n",
       "           0.33634,     0.33734,     0.33834,     0.33934,     0.34034,     0.34134,     0.34234,     0.34334,     0.34434,     0.34535,     0.34635,     0.34735,     0.34835,     0.34935,     0.35035,     0.35135,     0.35235,     0.35335,     0.35435,     0.35536,     0.35636,     0.35736,     0.35836,     0.35936,\n",
       "           0.36036,     0.36136,     0.36236,     0.36336,     0.36436,     0.36537,     0.36637,     0.36737,     0.36837,     0.36937,     0.37037,     0.37137,     0.37237,     0.37337,     0.37437,     0.37538,     0.37638,     0.37738,     0.37838,     0.37938,     0.38038,     0.38138,     0.38238,     0.38338,\n",
       "           0.38438,     0.38539,     0.38639,     0.38739,     0.38839,     0.38939,     0.39039,     0.39139,     0.39239,     0.39339,     0.39439,      0.3954,      0.3964,      0.3974,      0.3984,      0.3994,      0.4004,      0.4014,      0.4024,      0.4034,      0.4044,     0.40541,     0.40641,     0.40741,\n",
       "           0.40841,     0.40941,     0.41041,     0.41141,     0.41241,     0.41341,     0.41441,     0.41542,     0.41642,     0.41742,     0.41842,     0.41942,     0.42042,     0.42142,     0.42242,     0.42342,     0.42442,     0.42543,     0.42643,     0.42743,     0.42843,     0.42943,     0.43043,     0.43143,\n",
       "           0.43243,     0.43343,     0.43443,     0.43544,     0.43644,     0.43744,     0.43844,     0.43944,     0.44044,     0.44144,     0.44244,     0.44344,     0.44444,     0.44545,     0.44645,     0.44745,     0.44845,     0.44945,     0.45045,     0.45145,     0.45245,     0.45345,     0.45445,     0.45546,\n",
       "           0.45646,     0.45746,     0.45846,     0.45946,     0.46046,     0.46146,     0.46246,     0.46346,     0.46446,     0.46547,     0.46647,     0.46747,     0.46847,     0.46947,     0.47047,     0.47147,     0.47247,     0.47347,     0.47447,     0.47548,     0.47648,     0.47748,     0.47848,     0.47948,\n",
       "           0.48048,     0.48148,     0.48248,     0.48348,     0.48448,     0.48549,     0.48649,     0.48749,     0.48849,     0.48949,     0.49049,     0.49149,     0.49249,     0.49349,     0.49449,      0.4955,      0.4965,      0.4975,      0.4985,      0.4995,      0.5005,      0.5015,      0.5025,      0.5035,\n",
       "            0.5045,     0.50551,     0.50651,     0.50751,     0.50851,     0.50951,     0.51051,     0.51151,     0.51251,     0.51351,     0.51451,     0.51552,     0.51652,     0.51752,     0.51852,     0.51952,     0.52052,     0.52152,     0.52252,     0.52352,     0.52452,     0.52553,     0.52653,     0.52753,\n",
       "           0.52853,     0.52953,     0.53053,     0.53153,     0.53253,     0.53353,     0.53453,     0.53554,     0.53654,     0.53754,     0.53854,     0.53954,     0.54054,     0.54154,     0.54254,     0.54354,     0.54454,     0.54555,     0.54655,     0.54755,     0.54855,     0.54955,     0.55055,     0.55155,\n",
       "           0.55255,     0.55355,     0.55455,     0.55556,     0.55656,     0.55756,     0.55856,     0.55956,     0.56056,     0.56156,     0.56256,     0.56356,     0.56456,     0.56557,     0.56657,     0.56757,     0.56857,     0.56957,     0.57057,     0.57157,     0.57257,     0.57357,     0.57457,     0.57558,\n",
       "           0.57658,     0.57758,     0.57858,     0.57958,     0.58058,     0.58158,     0.58258,     0.58358,     0.58458,     0.58559,     0.58659,     0.58759,     0.58859,     0.58959,     0.59059,     0.59159,     0.59259,     0.59359,     0.59459,      0.5956,      0.5966,      0.5976,      0.5986,      0.5996,\n",
       "            0.6006,      0.6016,      0.6026,      0.6036,      0.6046,     0.60561,     0.60661,     0.60761,     0.60861,     0.60961,     0.61061,     0.61161,     0.61261,     0.61361,     0.61461,     0.61562,     0.61662,     0.61762,     0.61862,     0.61962,     0.62062,     0.62162,     0.62262,     0.62362,\n",
       "           0.62462,     0.62563,     0.62663,     0.62763,     0.62863,     0.62963,     0.63063,     0.63163,     0.63263,     0.63363,     0.63463,     0.63564,     0.63664,     0.63764,     0.63864,     0.63964,     0.64064,     0.64164,     0.64264,     0.64364,     0.64464,     0.64565,     0.64665,     0.64765,\n",
       "           0.64865,     0.64965,     0.65065,     0.65165,     0.65265,     0.65365,     0.65465,     0.65566,     0.65666,     0.65766,     0.65866,     0.65966,     0.66066,     0.66166,     0.66266,     0.66366,     0.66466,     0.66567,     0.66667,     0.66767,     0.66867,     0.66967,     0.67067,     0.67167,\n",
       "           0.67267,     0.67367,     0.67467,     0.67568,     0.67668,     0.67768,     0.67868,     0.67968,     0.68068,     0.68168,     0.68268,     0.68368,     0.68468,     0.68569,     0.68669,     0.68769,     0.68869,     0.68969,     0.69069,     0.69169,     0.69269,     0.69369,     0.69469,      0.6957,\n",
       "            0.6967,      0.6977,      0.6987,      0.6997,      0.7007,      0.7017,      0.7027,      0.7037,      0.7047,     0.70571,     0.70671,     0.70771,     0.70871,     0.70971,     0.71071,     0.71171,     0.71271,     0.71371,     0.71471,     0.71572,     0.71672,     0.71772,     0.71872,     0.71972,\n",
       "           0.72072,     0.72172,     0.72272,     0.72372,     0.72472,     0.72573,     0.72673,     0.72773,     0.72873,     0.72973,     0.73073,     0.73173,     0.73273,     0.73373,     0.73473,     0.73574,     0.73674,     0.73774,     0.73874,     0.73974,     0.74074,     0.74174,     0.74274,     0.74374,\n",
       "           0.74474,     0.74575,     0.74675,     0.74775,     0.74875,     0.74975,     0.75075,     0.75175,     0.75275,     0.75375,     0.75475,     0.75576,     0.75676,     0.75776,     0.75876,     0.75976,     0.76076,     0.76176,     0.76276,     0.76376,     0.76476,     0.76577,     0.76677,     0.76777,\n",
       "           0.76877,     0.76977,     0.77077,     0.77177,     0.77277,     0.77377,     0.77477,     0.77578,     0.77678,     0.77778,     0.77878,     0.77978,     0.78078,     0.78178,     0.78278,     0.78378,     0.78478,     0.78579,     0.78679,     0.78779,     0.78879,     0.78979,     0.79079,     0.79179,\n",
       "           0.79279,     0.79379,     0.79479,      0.7958,      0.7968,      0.7978,      0.7988,      0.7998,      0.8008,      0.8018,      0.8028,      0.8038,      0.8048,     0.80581,     0.80681,     0.80781,     0.80881,     0.80981,     0.81081,     0.81181,     0.81281,     0.81381,     0.81481,     0.81582,\n",
       "           0.81682,     0.81782,     0.81882,     0.81982,     0.82082,     0.82182,     0.82282,     0.82382,     0.82482,     0.82583,     0.82683,     0.82783,     0.82883,     0.82983,     0.83083,     0.83183,     0.83283,     0.83383,     0.83483,     0.83584,     0.83684,     0.83784,     0.83884,     0.83984,\n",
       "           0.84084,     0.84184,     0.84284,     0.84384,     0.84484,     0.84585,     0.84685,     0.84785,     0.84885,     0.84985,     0.85085,     0.85185,     0.85285,     0.85385,     0.85485,     0.85586,     0.85686,     0.85786,     0.85886,     0.85986,     0.86086,     0.86186,     0.86286,     0.86386,\n",
       "           0.86486,     0.86587,     0.86687,     0.86787,     0.86887,     0.86987,     0.87087,     0.87187,     0.87287,     0.87387,     0.87487,     0.87588,     0.87688,     0.87788,     0.87888,     0.87988,     0.88088,     0.88188,     0.88288,     0.88388,     0.88488,     0.88589,     0.88689,     0.88789,\n",
       "           0.88889,     0.88989,     0.89089,     0.89189,     0.89289,     0.89389,     0.89489,      0.8959,      0.8969,      0.8979,      0.8989,      0.8999,      0.9009,      0.9019,      0.9029,      0.9039,      0.9049,     0.90591,     0.90691,     0.90791,     0.90891,     0.90991,     0.91091,     0.91191,\n",
       "           0.91291,     0.91391,     0.91491,     0.91592,     0.91692,     0.91792,     0.91892,     0.91992,     0.92092,     0.92192,     0.92292,     0.92392,     0.92492,     0.92593,     0.92693,     0.92793,     0.92893,     0.92993,     0.93093,     0.93193,     0.93293,     0.93393,     0.93493,     0.93594,\n",
       "           0.93694,     0.93794,     0.93894,     0.93994,     0.94094,     0.94194,     0.94294,     0.94394,     0.94494,     0.94595,     0.94695,     0.94795,     0.94895,     0.94995,     0.95095,     0.95195,     0.95295,     0.95395,     0.95495,     0.95596,     0.95696,     0.95796,     0.95896,     0.95996,\n",
       "           0.96096,     0.96196,     0.96296,     0.96396,     0.96496,     0.96597,     0.96697,     0.96797,     0.96897,     0.96997,     0.97097,     0.97197,     0.97297,     0.97397,     0.97497,     0.97598,     0.97698,     0.97798,     0.97898,     0.97998,     0.98098,     0.98198,     0.98298,     0.98398,\n",
       "           0.98498,     0.98599,     0.98699,     0.98799,     0.98899,     0.98999,     0.99099,     0.99199,     0.99299,     0.99399,     0.99499,       0.996,       0.997,       0.998,       0.999,           1]), array([[    0.26638,     0.26638,     0.37211,     0.45159,     0.50159,     0.52936,     0.55629,     0.57671,     0.59207,     0.61363,     0.63177,     0.64566,     0.65361,     0.67256,     0.67855,     0.68391,     0.69315,     0.70121,      0.7052,     0.70919,     0.72389,     0.72733,     0.72903,\n",
       "            0.73202,     0.73813,      0.7399,     0.74193,     0.74461,     0.74911,     0.75252,     0.75723,     0.76175,      0.7643,     0.76843,      0.7678,     0.77155,     0.77817,     0.78115,     0.78314,     0.78534,     0.78544,     0.78645,     0.78746,     0.78847,     0.79311,     0.79571,\n",
       "            0.79755,     0.80184,     0.80422,     0.80588,     0.81607,     0.81793,       0.819,     0.82006,     0.82123,     0.82252,     0.82381,     0.82704,     0.83584,     0.83967,     0.84045,     0.84124,     0.84202,      0.8428,     0.84403,     0.84609,     0.85152,     0.85324,     0.85495,\n",
       "            0.85945,     0.86051,     0.86156,     0.86262,     0.86495,     0.86749,     0.86796,     0.86844,     0.86891,     0.86938,     0.86986,     0.87033,     0.87081,     0.87128,     0.87162,     0.87189,     0.87216,     0.87243,      0.8727,     0.87298,     0.87325,     0.87352,     0.87379,\n",
       "            0.87407,     0.87434,     0.87461,     0.87488,     0.87516,     0.87543,     0.87637,      0.8784,     0.88055,     0.88295,     0.88432,      0.8848,     0.88528,     0.88576,     0.88625,     0.88673,     0.88721,     0.88769,     0.88817,     0.88874,     0.88935,     0.88997,     0.89058,\n",
       "            0.89119,      0.8918,     0.89242,     0.89298,      0.8935,     0.89402,     0.89454,     0.89506,     0.89558,      0.8961,     0.89662,     0.89707,     0.89715,     0.89724,     0.89732,      0.8974,     0.89748,     0.89757,     0.89765,     0.89773,     0.89781,      0.8979,     0.89798,\n",
       "            0.89806,     0.89814,     0.89823,     0.89831,     0.89839,     0.89847,     0.89856,     0.89864,     0.89872,      0.8988,     0.89889,     0.89897,     0.89905,     0.89913,     0.89922,      0.8993,     0.89938,     0.89946,     0.89955,     0.89963,     0.89971,      0.8998,     0.89988,\n",
       "            0.89996,     0.90004,     0.90013,     0.90021,     0.90029,     0.90037,     0.90046,     0.90054,     0.90062,      0.9007,     0.90079,     0.90087,     0.90095,     0.90103,     0.90112,      0.9012,     0.90128,     0.90136,     0.90145,       0.902,     0.90285,      0.9037,     0.90455,\n",
       "             0.9054,     0.90746,     0.91048,     0.91061,     0.91073,     0.91085,     0.91098,      0.9111,     0.91123,     0.91135,     0.91147,      0.9116,     0.91172,     0.91185,     0.91197,     0.91209,     0.91222,     0.91234,     0.91247,     0.91259,     0.91271,     0.91284,     0.91296,\n",
       "            0.91309,     0.91321,     0.91333,     0.91346,     0.91358,     0.91371,     0.91383,     0.91395,     0.91408,      0.9142,     0.91433,     0.91445,     0.91457,      0.9147,     0.91482,     0.91495,     0.91467,      0.9144,     0.91419,      0.9143,     0.91452,     0.91473,     0.91494,\n",
       "            0.91515,     0.91537,     0.91558,     0.91579,       0.916,     0.91622,     0.91643,     0.91664,     0.91685,     0.91707,     0.91728,     0.91749,      0.9177,     0.91792,     0.91813,     0.91834,     0.91855,     0.91877,     0.92028,     0.92188,     0.92347,     0.92356,     0.92365,\n",
       "            0.92373,     0.92382,     0.92391,       0.924,     0.92409,     0.92418,     0.92426,     0.92435,     0.92444,     0.92453,     0.92462,     0.92471,     0.92479,     0.92488,     0.92497,     0.92506,     0.92515,     0.92524,     0.92532,     0.92541,      0.9255,     0.92559,     0.92568,\n",
       "            0.92576,     0.92585,     0.92594,     0.92603,     0.92612,     0.92621,     0.92629,     0.92638,     0.92647,     0.92656,     0.92665,     0.92674,     0.92682,     0.92691,       0.927,     0.92709,     0.92718,     0.92727,     0.92735,     0.92744,     0.92753,     0.92762,     0.92771,\n",
       "            0.92779,     0.92788,     0.92797,     0.92806,     0.92815,     0.92826,     0.92844,     0.92861,     0.92878,     0.92895,     0.92912,     0.92929,     0.92946,     0.92963,      0.9298,     0.92997,     0.93014,     0.93031,     0.93048,     0.93065,     0.93082,     0.93099,     0.93116,\n",
       "            0.93134,     0.93151,     0.93168,     0.93185,     0.93202,     0.93219,     0.93236,     0.93253,      0.9327,     0.93287,     0.93312,     0.93355,     0.93398,     0.93441,     0.93484,     0.93527,      0.9357,     0.93614,     0.93657,       0.937,     0.93743,     0.93782,      0.9378,\n",
       "            0.93778,     0.93775,     0.93773,     0.93771,     0.93769,     0.93766,     0.93764,     0.93762,      0.9376,     0.93757,     0.93755,     0.93753,     0.93751,     0.93949,     0.94236,     0.94302,     0.94363,     0.94425,     0.94486,     0.94548,      0.9461,     0.94671,     0.94733,\n",
       "            0.94752,     0.94768,     0.94784,       0.948,     0.94815,     0.94831,     0.94847,     0.94863,     0.94879,     0.94895,     0.94911,     0.94927,     0.94943,     0.94959,     0.94975,     0.94991,     0.95007,     0.95023,     0.95039,     0.95054,      0.9507,     0.95086,     0.95102,\n",
       "            0.95118,     0.95134,      0.9515,     0.95166,     0.95182,     0.95198,     0.95214,      0.9523,     0.95258,     0.95299,     0.95341,     0.95382,     0.95424,     0.95465,     0.95507,     0.95549,      0.9559,     0.95632,     0.95673,     0.95715,      0.9575,     0.95768,     0.95786,\n",
       "            0.95804,     0.95821,     0.95839,     0.95857,     0.95875,     0.95893,     0.95911,     0.95929,     0.95947,     0.95965,     0.95983,     0.96001,     0.96019,     0.96037,     0.96055,     0.96073,     0.96091,     0.96109,     0.96126,     0.96144,     0.96162,      0.9618,     0.96198,\n",
       "            0.96216,     0.96234,     0.96252,     0.96272,     0.96293,     0.96313,     0.96334,     0.96354,     0.96375,     0.96396,     0.96416,     0.96437,     0.96457,     0.96478,     0.96499,     0.96519,      0.9654,      0.9656,     0.96581,     0.96602,     0.96622,     0.96643,     0.96663,\n",
       "            0.96684,     0.96705,     0.96725,     0.96746,     0.96766,     0.96774,     0.96773,     0.96772,     0.96771,      0.9677,      0.9677,     0.96769,     0.96768,     0.96767,     0.96766,     0.96766,     0.96765,     0.96764,     0.96763,     0.96762,     0.96762,     0.96761,      0.9676,\n",
       "            0.96759,     0.96758,     0.96757,     0.96757,     0.96755,     0.96754,     0.96753,     0.96751,      0.9675,     0.96749,     0.96748,     0.96746,     0.96745,     0.96744,     0.96742,     0.96741,      0.9674,     0.96738,     0.96736,     0.96735,     0.96733,     0.96731,     0.96729,\n",
       "            0.96727,     0.96725,     0.96724,     0.96722,     0.96721,      0.9672,     0.96719,     0.96719,     0.96718,     0.96717,     0.96716,     0.96716,     0.96715,     0.96714,     0.96713,     0.96713,     0.96712,     0.96711,      0.9671,      0.9671,     0.96709,     0.96708,     0.96707,\n",
       "            0.96707,     0.96706,     0.96705,     0.96705,     0.96704,     0.96703,     0.96702,     0.96701,       0.967,     0.96699,     0.96698,     0.96697,     0.96696,     0.96695,     0.96694,     0.96693,     0.96692,      0.9669,     0.96689,     0.96688,     0.96687,     0.96686,     0.96685,\n",
       "            0.96831,     0.97014,     0.97198,     0.97415,     0.97638,     0.97776,       0.978,     0.97825,     0.97849,     0.97874,     0.97898,     0.97923,     0.97947,     0.97972,     0.97996,     0.98021,     0.98045,      0.9807,     0.98094,     0.98119,     0.98143,     0.98167,     0.98192,\n",
       "            0.98216,     0.98241,     0.98265,      0.9829,     0.98314,     0.98314,     0.98313,     0.98312,     0.98311,     0.98309,     0.98308,     0.98307,     0.98306,     0.98305,     0.98303,     0.98301,     0.98298,     0.98296,     0.98295,     0.98295,     0.98294,     0.98294,     0.98293,\n",
       "            0.98293,     0.98292,     0.98292,     0.98291,     0.98291,      0.9829,      0.9829,     0.98289,     0.98289,     0.98288,     0.98288,     0.98287,     0.98287,     0.98287,     0.98286,     0.98286,     0.98285,     0.98284,     0.98284,     0.98283,     0.98283,     0.98282,     0.98282,\n",
       "            0.98281,      0.9828,      0.9828,     0.98279,     0.98279,     0.98278,     0.98278,     0.98277,     0.98277,     0.98276,     0.98275,     0.98275,     0.98274,     0.98274,     0.98273,     0.98273,     0.98272,     0.98272,     0.98271,     0.98271,      0.9827,      0.9827,     0.98269,\n",
       "            0.98269,     0.98268,     0.98268,     0.98267,     0.98267,     0.98266,     0.98266,     0.98265,     0.98265,     0.98264,     0.98264,     0.98264,     0.98263,     0.98263,     0.98262,     0.98262,     0.98261,     0.98261,     0.98261,      0.9826,      0.9826,     0.98259,     0.98259,\n",
       "            0.98258,     0.98258,     0.98258,     0.98257,     0.98257,     0.98256,     0.98256,     0.98253,     0.98249,     0.98246,     0.98244,     0.98242,     0.98239,     0.98237,     0.98235,     0.98225,      0.9822,     0.98216,     0.98214,     0.98213,     0.98212,     0.98212,     0.98211,\n",
       "             0.9821,      0.9821,     0.98209,     0.98208,     0.98208,     0.98207,     0.98206,     0.98206,     0.98205,     0.98204,     0.98204,     0.98203,     0.98202,     0.98201,       0.982,     0.98199,     0.98199,     0.98198,     0.98197,     0.98196,     0.98195,     0.98195,     0.98194,\n",
       "            0.98193,      0.9819,     0.98186,     0.98182,     0.98181,      0.9818,     0.98179,     0.98178,     0.98178,     0.98177,     0.98176,     0.98175,     0.98174,     0.98173,     0.98172,     0.98171,     0.98169,     0.98161,     0.98154,     0.98136,     0.98135,     0.98134,     0.98133,\n",
       "            0.98132,     0.98131,      0.9813,     0.98129,     0.98128,     0.98127,     0.98125,     0.98111,     0.98108,     0.98105,     0.98102,       0.981,     0.98097,     0.98095,     0.98092,      0.9809,     0.98086,     0.98082,     0.98077,     0.98074,     0.98072,     0.98069,     0.98066,\n",
       "            0.98062,     0.98058,     0.98054,     0.98047,     0.98048,     0.98142,     0.98237,     0.98331,     0.98426,      0.9852,     0.98615,     0.98683,     0.98677,     0.98675,     0.98674,     0.98673,     0.98672,     0.98672,     0.98671,      0.9867,     0.98669,     0.98668,     0.98667,\n",
       "            0.98666,      0.9866,     0.98647,     0.98645,     0.98643,      0.9864,     0.98637,     0.98633,     0.98629,     0.98627,     0.98625,     0.98622,     0.98609,     0.98602,     0.98582,     0.98578,     0.98574,     0.98569,     0.98564,     0.98558,     0.98553,     0.98548,     0.98544,\n",
       "             0.9854,     0.98535,     0.98531,     0.98526,     0.98522,     0.98501,     0.98471,     0.98463,     0.98459,     0.98457,     0.98454,     0.98451,     0.98446,     0.98438,     0.98434,      0.9843,     0.98427,     0.98405,     0.98398,     0.98394,      0.9839,     0.98387,     0.98384,\n",
       "            0.98381,     0.98378,     0.98375,     0.98363,     0.98357,     0.98354,      0.9835,     0.98342,     0.98332,     0.98329,     0.98326,     0.98322,     0.98305,      0.9829,      0.9826,     0.98244,     0.98226,     0.98209,     0.98201,     0.98187,     0.98163,     0.98151,     0.98128,\n",
       "            0.98125,     0.98121,     0.98117,     0.98114,     0.98081,      0.9806,      0.9804,      0.9803,      0.9802,      0.9798,     0.97976,     0.97973,      0.9797,     0.97967,     0.97963,      0.9796,     0.97957,     0.97954,     0.97951,     0.97948,     0.97945,     0.97942,     0.97939,\n",
       "            0.98949,     0.98918,     0.98908,     0.98883,     0.98872,     0.98864,     0.98837,     0.98828,     0.98805,     0.98798,     0.98764,     0.98745,      0.9869,      0.9866,     0.98607,      0.9859,     0.98584,     0.98578,     0.98572,     0.98554,     0.98538,     0.98504,     0.98497,\n",
       "            0.98489,     0.98439,     0.98421,     0.98404,     0.98386,     0.98368,     0.98304,     0.98289,     0.98274,     0.98262,     0.98249,     0.98179,     0.98168,     0.98156,     0.98071,     0.98052,     0.98494,     0.99834,           1,           1,           1,           1,           1,\n",
       "                  1,           1,           1,           1,           1,           1,           1,           1,           1,           1,           1,           1,           1,           1,           1,           1,           1,           1,           1,           1,           1,           1,           1,\n",
       "                  1,           1,           1,           1,           1,           1,           1,           1,           1,           1,           1,           1,           1,           1,           1,           1,           1,           1,           1,           1,           1,           1,           1,\n",
       "                  1,           1,           1,           1,           1,           1,           1,           1,           1,           1,           1,           1,           1,           1,           1,           1,           1,           1,           1,           1,           1,           1,           1,\n",
       "                  1,           1,           1,           1,           1,           1,           1,           1,           1,           1,           1]]), 'Confidence', 'Precision'], [array([          0,    0.001001,    0.002002,    0.003003,    0.004004,    0.005005,    0.006006,    0.007007,    0.008008,    0.009009,     0.01001,    0.011011,    0.012012,    0.013013,    0.014014,    0.015015,    0.016016,    0.017017,    0.018018,    0.019019,     0.02002,    0.021021,    0.022022,    0.023023,\n",
       "          0.024024,    0.025025,    0.026026,    0.027027,    0.028028,    0.029029,     0.03003,    0.031031,    0.032032,    0.033033,    0.034034,    0.035035,    0.036036,    0.037037,    0.038038,    0.039039,     0.04004,    0.041041,    0.042042,    0.043043,    0.044044,    0.045045,    0.046046,    0.047047,\n",
       "          0.048048,    0.049049,     0.05005,    0.051051,    0.052052,    0.053053,    0.054054,    0.055055,    0.056056,    0.057057,    0.058058,    0.059059,     0.06006,    0.061061,    0.062062,    0.063063,    0.064064,    0.065065,    0.066066,    0.067067,    0.068068,    0.069069,     0.07007,    0.071071,\n",
       "          0.072072,    0.073073,    0.074074,    0.075075,    0.076076,    0.077077,    0.078078,    0.079079,     0.08008,    0.081081,    0.082082,    0.083083,    0.084084,    0.085085,    0.086086,    0.087087,    0.088088,    0.089089,     0.09009,    0.091091,    0.092092,    0.093093,    0.094094,    0.095095,\n",
       "          0.096096,    0.097097,    0.098098,    0.099099,      0.1001,      0.1011,      0.1021,      0.1031,      0.1041,     0.10511,     0.10611,     0.10711,     0.10811,     0.10911,     0.11011,     0.11111,     0.11211,     0.11311,     0.11411,     0.11512,     0.11612,     0.11712,     0.11812,     0.11912,\n",
       "           0.12012,     0.12112,     0.12212,     0.12312,     0.12412,     0.12513,     0.12613,     0.12713,     0.12813,     0.12913,     0.13013,     0.13113,     0.13213,     0.13313,     0.13413,     0.13514,     0.13614,     0.13714,     0.13814,     0.13914,     0.14014,     0.14114,     0.14214,     0.14314,\n",
       "           0.14414,     0.14515,     0.14615,     0.14715,     0.14815,     0.14915,     0.15015,     0.15115,     0.15215,     0.15315,     0.15415,     0.15516,     0.15616,     0.15716,     0.15816,     0.15916,     0.16016,     0.16116,     0.16216,     0.16316,     0.16416,     0.16517,     0.16617,     0.16717,\n",
       "           0.16817,     0.16917,     0.17017,     0.17117,     0.17217,     0.17317,     0.17417,     0.17518,     0.17618,     0.17718,     0.17818,     0.17918,     0.18018,     0.18118,     0.18218,     0.18318,     0.18418,     0.18519,     0.18619,     0.18719,     0.18819,     0.18919,     0.19019,     0.19119,\n",
       "           0.19219,     0.19319,     0.19419,      0.1952,      0.1962,      0.1972,      0.1982,      0.1992,      0.2002,      0.2012,      0.2022,      0.2032,      0.2042,     0.20521,     0.20621,     0.20721,     0.20821,     0.20921,     0.21021,     0.21121,     0.21221,     0.21321,     0.21421,     0.21522,\n",
       "           0.21622,     0.21722,     0.21822,     0.21922,     0.22022,     0.22122,     0.22222,     0.22322,     0.22422,     0.22523,     0.22623,     0.22723,     0.22823,     0.22923,     0.23023,     0.23123,     0.23223,     0.23323,     0.23423,     0.23524,     0.23624,     0.23724,     0.23824,     0.23924,\n",
       "           0.24024,     0.24124,     0.24224,     0.24324,     0.24424,     0.24525,     0.24625,     0.24725,     0.24825,     0.24925,     0.25025,     0.25125,     0.25225,     0.25325,     0.25425,     0.25526,     0.25626,     0.25726,     0.25826,     0.25926,     0.26026,     0.26126,     0.26226,     0.26326,\n",
       "           0.26426,     0.26527,     0.26627,     0.26727,     0.26827,     0.26927,     0.27027,     0.27127,     0.27227,     0.27327,     0.27427,     0.27528,     0.27628,     0.27728,     0.27828,     0.27928,     0.28028,     0.28128,     0.28228,     0.28328,     0.28428,     0.28529,     0.28629,     0.28729,\n",
       "           0.28829,     0.28929,     0.29029,     0.29129,     0.29229,     0.29329,     0.29429,      0.2953,      0.2963,      0.2973,      0.2983,      0.2993,      0.3003,      0.3013,      0.3023,      0.3033,      0.3043,     0.30531,     0.30631,     0.30731,     0.30831,     0.30931,     0.31031,     0.31131,\n",
       "           0.31231,     0.31331,     0.31431,     0.31532,     0.31632,     0.31732,     0.31832,     0.31932,     0.32032,     0.32132,     0.32232,     0.32332,     0.32432,     0.32533,     0.32633,     0.32733,     0.32833,     0.32933,     0.33033,     0.33133,     0.33233,     0.33333,     0.33433,     0.33534,\n",
       "           0.33634,     0.33734,     0.33834,     0.33934,     0.34034,     0.34134,     0.34234,     0.34334,     0.34434,     0.34535,     0.34635,     0.34735,     0.34835,     0.34935,     0.35035,     0.35135,     0.35235,     0.35335,     0.35435,     0.35536,     0.35636,     0.35736,     0.35836,     0.35936,\n",
       "           0.36036,     0.36136,     0.36236,     0.36336,     0.36436,     0.36537,     0.36637,     0.36737,     0.36837,     0.36937,     0.37037,     0.37137,     0.37237,     0.37337,     0.37437,     0.37538,     0.37638,     0.37738,     0.37838,     0.37938,     0.38038,     0.38138,     0.38238,     0.38338,\n",
       "           0.38438,     0.38539,     0.38639,     0.38739,     0.38839,     0.38939,     0.39039,     0.39139,     0.39239,     0.39339,     0.39439,      0.3954,      0.3964,      0.3974,      0.3984,      0.3994,      0.4004,      0.4014,      0.4024,      0.4034,      0.4044,     0.40541,     0.40641,     0.40741,\n",
       "           0.40841,     0.40941,     0.41041,     0.41141,     0.41241,     0.41341,     0.41441,     0.41542,     0.41642,     0.41742,     0.41842,     0.41942,     0.42042,     0.42142,     0.42242,     0.42342,     0.42442,     0.42543,     0.42643,     0.42743,     0.42843,     0.42943,     0.43043,     0.43143,\n",
       "           0.43243,     0.43343,     0.43443,     0.43544,     0.43644,     0.43744,     0.43844,     0.43944,     0.44044,     0.44144,     0.44244,     0.44344,     0.44444,     0.44545,     0.44645,     0.44745,     0.44845,     0.44945,     0.45045,     0.45145,     0.45245,     0.45345,     0.45445,     0.45546,\n",
       "           0.45646,     0.45746,     0.45846,     0.45946,     0.46046,     0.46146,     0.46246,     0.46346,     0.46446,     0.46547,     0.46647,     0.46747,     0.46847,     0.46947,     0.47047,     0.47147,     0.47247,     0.47347,     0.47447,     0.47548,     0.47648,     0.47748,     0.47848,     0.47948,\n",
       "           0.48048,     0.48148,     0.48248,     0.48348,     0.48448,     0.48549,     0.48649,     0.48749,     0.48849,     0.48949,     0.49049,     0.49149,     0.49249,     0.49349,     0.49449,      0.4955,      0.4965,      0.4975,      0.4985,      0.4995,      0.5005,      0.5015,      0.5025,      0.5035,\n",
       "            0.5045,     0.50551,     0.50651,     0.50751,     0.50851,     0.50951,     0.51051,     0.51151,     0.51251,     0.51351,     0.51451,     0.51552,     0.51652,     0.51752,     0.51852,     0.51952,     0.52052,     0.52152,     0.52252,     0.52352,     0.52452,     0.52553,     0.52653,     0.52753,\n",
       "           0.52853,     0.52953,     0.53053,     0.53153,     0.53253,     0.53353,     0.53453,     0.53554,     0.53654,     0.53754,     0.53854,     0.53954,     0.54054,     0.54154,     0.54254,     0.54354,     0.54454,     0.54555,     0.54655,     0.54755,     0.54855,     0.54955,     0.55055,     0.55155,\n",
       "           0.55255,     0.55355,     0.55455,     0.55556,     0.55656,     0.55756,     0.55856,     0.55956,     0.56056,     0.56156,     0.56256,     0.56356,     0.56456,     0.56557,     0.56657,     0.56757,     0.56857,     0.56957,     0.57057,     0.57157,     0.57257,     0.57357,     0.57457,     0.57558,\n",
       "           0.57658,     0.57758,     0.57858,     0.57958,     0.58058,     0.58158,     0.58258,     0.58358,     0.58458,     0.58559,     0.58659,     0.58759,     0.58859,     0.58959,     0.59059,     0.59159,     0.59259,     0.59359,     0.59459,      0.5956,      0.5966,      0.5976,      0.5986,      0.5996,\n",
       "            0.6006,      0.6016,      0.6026,      0.6036,      0.6046,     0.60561,     0.60661,     0.60761,     0.60861,     0.60961,     0.61061,     0.61161,     0.61261,     0.61361,     0.61461,     0.61562,     0.61662,     0.61762,     0.61862,     0.61962,     0.62062,     0.62162,     0.62262,     0.62362,\n",
       "           0.62462,     0.62563,     0.62663,     0.62763,     0.62863,     0.62963,     0.63063,     0.63163,     0.63263,     0.63363,     0.63463,     0.63564,     0.63664,     0.63764,     0.63864,     0.63964,     0.64064,     0.64164,     0.64264,     0.64364,     0.64464,     0.64565,     0.64665,     0.64765,\n",
       "           0.64865,     0.64965,     0.65065,     0.65165,     0.65265,     0.65365,     0.65465,     0.65566,     0.65666,     0.65766,     0.65866,     0.65966,     0.66066,     0.66166,     0.66266,     0.66366,     0.66466,     0.66567,     0.66667,     0.66767,     0.66867,     0.66967,     0.67067,     0.67167,\n",
       "           0.67267,     0.67367,     0.67467,     0.67568,     0.67668,     0.67768,     0.67868,     0.67968,     0.68068,     0.68168,     0.68268,     0.68368,     0.68468,     0.68569,     0.68669,     0.68769,     0.68869,     0.68969,     0.69069,     0.69169,     0.69269,     0.69369,     0.69469,      0.6957,\n",
       "            0.6967,      0.6977,      0.6987,      0.6997,      0.7007,      0.7017,      0.7027,      0.7037,      0.7047,     0.70571,     0.70671,     0.70771,     0.70871,     0.70971,     0.71071,     0.71171,     0.71271,     0.71371,     0.71471,     0.71572,     0.71672,     0.71772,     0.71872,     0.71972,\n",
       "           0.72072,     0.72172,     0.72272,     0.72372,     0.72472,     0.72573,     0.72673,     0.72773,     0.72873,     0.72973,     0.73073,     0.73173,     0.73273,     0.73373,     0.73473,     0.73574,     0.73674,     0.73774,     0.73874,     0.73974,     0.74074,     0.74174,     0.74274,     0.74374,\n",
       "           0.74474,     0.74575,     0.74675,     0.74775,     0.74875,     0.74975,     0.75075,     0.75175,     0.75275,     0.75375,     0.75475,     0.75576,     0.75676,     0.75776,     0.75876,     0.75976,     0.76076,     0.76176,     0.76276,     0.76376,     0.76476,     0.76577,     0.76677,     0.76777,\n",
       "           0.76877,     0.76977,     0.77077,     0.77177,     0.77277,     0.77377,     0.77477,     0.77578,     0.77678,     0.77778,     0.77878,     0.77978,     0.78078,     0.78178,     0.78278,     0.78378,     0.78478,     0.78579,     0.78679,     0.78779,     0.78879,     0.78979,     0.79079,     0.79179,\n",
       "           0.79279,     0.79379,     0.79479,      0.7958,      0.7968,      0.7978,      0.7988,      0.7998,      0.8008,      0.8018,      0.8028,      0.8038,      0.8048,     0.80581,     0.80681,     0.80781,     0.80881,     0.80981,     0.81081,     0.81181,     0.81281,     0.81381,     0.81481,     0.81582,\n",
       "           0.81682,     0.81782,     0.81882,     0.81982,     0.82082,     0.82182,     0.82282,     0.82382,     0.82482,     0.82583,     0.82683,     0.82783,     0.82883,     0.82983,     0.83083,     0.83183,     0.83283,     0.83383,     0.83483,     0.83584,     0.83684,     0.83784,     0.83884,     0.83984,\n",
       "           0.84084,     0.84184,     0.84284,     0.84384,     0.84484,     0.84585,     0.84685,     0.84785,     0.84885,     0.84985,     0.85085,     0.85185,     0.85285,     0.85385,     0.85485,     0.85586,     0.85686,     0.85786,     0.85886,     0.85986,     0.86086,     0.86186,     0.86286,     0.86386,\n",
       "           0.86486,     0.86587,     0.86687,     0.86787,     0.86887,     0.86987,     0.87087,     0.87187,     0.87287,     0.87387,     0.87487,     0.87588,     0.87688,     0.87788,     0.87888,     0.87988,     0.88088,     0.88188,     0.88288,     0.88388,     0.88488,     0.88589,     0.88689,     0.88789,\n",
       "           0.88889,     0.88989,     0.89089,     0.89189,     0.89289,     0.89389,     0.89489,      0.8959,      0.8969,      0.8979,      0.8989,      0.8999,      0.9009,      0.9019,      0.9029,      0.9039,      0.9049,     0.90591,     0.90691,     0.90791,     0.90891,     0.90991,     0.91091,     0.91191,\n",
       "           0.91291,     0.91391,     0.91491,     0.91592,     0.91692,     0.91792,     0.91892,     0.91992,     0.92092,     0.92192,     0.92292,     0.92392,     0.92492,     0.92593,     0.92693,     0.92793,     0.92893,     0.92993,     0.93093,     0.93193,     0.93293,     0.93393,     0.93493,     0.93594,\n",
       "           0.93694,     0.93794,     0.93894,     0.93994,     0.94094,     0.94194,     0.94294,     0.94394,     0.94494,     0.94595,     0.94695,     0.94795,     0.94895,     0.94995,     0.95095,     0.95195,     0.95295,     0.95395,     0.95495,     0.95596,     0.95696,     0.95796,     0.95896,     0.95996,\n",
       "           0.96096,     0.96196,     0.96296,     0.96396,     0.96496,     0.96597,     0.96697,     0.96797,     0.96897,     0.96997,     0.97097,     0.97197,     0.97297,     0.97397,     0.97497,     0.97598,     0.97698,     0.97798,     0.97898,     0.97998,     0.98098,     0.98198,     0.98298,     0.98398,\n",
       "           0.98498,     0.98599,     0.98699,     0.98799,     0.98899,     0.98999,     0.99099,     0.99199,     0.99299,     0.99399,     0.99499,       0.996,       0.997,       0.998,       0.999,           1]), array([[    0.95897,     0.95897,     0.95897,     0.95897,     0.95897,     0.95897,     0.95897,     0.95897,     0.95897,     0.95897,     0.95897,     0.95897,     0.95897,     0.95897,     0.95897,     0.95897,     0.95897,     0.95897,     0.95385,     0.95385,     0.95385,     0.95385,     0.95385,\n",
       "            0.95385,     0.95385,     0.95385,     0.95385,     0.95385,     0.95385,     0.95385,     0.95385,     0.95385,     0.95385,     0.95298,     0.94962,     0.94359,     0.94359,     0.94359,     0.94359,     0.94359,     0.93846,     0.93846,     0.93846,     0.93846,     0.93846,     0.93846,\n",
       "            0.93846,     0.93846,     0.93846,     0.93846,     0.93846,     0.93846,     0.93846,     0.93846,     0.93846,     0.93846,     0.93846,     0.93846,     0.93846,     0.93846,     0.93846,     0.93846,     0.93846,     0.93846,     0.93846,     0.93846,     0.93846,     0.93846,     0.93846,\n",
       "            0.93846,     0.93846,     0.93846,     0.93846,     0.93846,     0.93846,     0.93846,     0.93846,     0.93846,     0.93846,     0.93846,     0.93846,     0.93846,     0.93846,     0.93846,     0.93846,     0.93846,     0.93846,     0.93846,     0.93846,     0.93846,     0.93846,     0.93846,\n",
       "            0.93846,     0.93846,     0.93846,     0.93846,     0.93846,     0.93846,     0.93846,     0.93846,     0.93846,     0.93846,     0.93846,     0.93846,     0.93846,     0.93846,     0.93846,     0.93846,     0.93846,     0.93846,     0.93846,     0.93846,     0.93846,     0.93846,     0.93846,\n",
       "            0.93846,     0.93846,     0.93846,     0.93846,     0.93846,     0.93846,     0.93846,     0.93846,     0.93846,     0.93846,     0.93846,     0.93846,     0.93846,     0.93846,     0.93846,     0.93846,     0.93846,     0.93846,     0.93846,     0.93846,     0.93846,     0.93846,     0.93846,\n",
       "            0.93846,     0.93846,     0.93846,     0.93846,     0.93846,     0.93846,     0.93846,     0.93846,     0.93846,     0.93846,     0.93846,     0.93846,     0.93846,     0.93846,     0.93846,     0.93846,     0.93846,     0.93846,     0.93846,     0.93846,     0.93846,     0.93846,     0.93846,\n",
       "            0.93846,     0.93846,     0.93846,     0.93846,     0.93846,     0.93846,     0.93846,     0.93846,     0.93846,     0.93846,     0.93846,     0.93846,     0.93846,     0.93846,     0.93846,     0.93846,     0.93846,     0.93846,     0.93846,     0.93846,     0.93846,     0.93846,     0.93846,\n",
       "            0.93846,     0.93846,     0.93846,     0.93846,     0.93846,     0.93846,     0.93846,     0.93846,     0.93846,     0.93846,     0.93846,     0.93846,     0.93846,     0.93846,     0.93846,     0.93846,     0.93846,     0.93846,     0.93846,     0.93846,     0.93846,     0.93846,     0.93846,\n",
       "            0.93846,     0.93846,     0.93846,     0.93846,     0.93846,     0.93846,     0.93846,     0.93846,     0.93846,     0.93846,     0.93846,     0.93846,     0.93846,     0.93846,     0.93846,     0.93846,     0.93449,     0.93127,     0.92879,     0.92821,     0.92821,     0.92821,     0.92821,\n",
       "            0.92821,     0.92821,     0.92821,     0.92821,     0.92821,     0.92821,     0.92821,     0.92821,     0.92821,     0.92821,     0.92821,     0.92821,     0.92821,     0.92821,     0.92821,     0.92821,     0.92821,     0.92821,     0.92821,     0.92821,     0.92821,     0.92821,     0.92821,\n",
       "            0.92821,     0.92821,     0.92821,     0.92821,     0.92821,     0.92821,     0.92821,     0.92821,     0.92821,     0.92821,     0.92821,     0.92821,     0.92821,     0.92821,     0.92821,     0.92821,     0.92821,     0.92821,     0.92821,     0.92821,     0.92821,     0.92821,     0.92821,\n",
       "            0.92821,     0.92821,     0.92821,     0.92821,     0.92821,     0.92821,     0.92821,     0.92821,     0.92821,     0.92821,     0.92821,     0.92821,     0.92821,     0.92821,     0.92821,     0.92821,     0.92821,     0.92821,     0.92821,     0.92821,     0.92821,     0.92821,     0.92821,\n",
       "            0.92821,     0.92821,     0.92821,     0.92821,     0.92821,     0.92821,     0.92821,     0.92821,     0.92821,     0.92821,     0.92821,     0.92821,     0.92821,     0.92821,     0.92821,     0.92821,     0.92821,     0.92821,     0.92821,     0.92821,     0.92821,     0.92821,     0.92821,\n",
       "            0.92821,     0.92821,     0.92821,     0.92821,     0.92821,     0.92821,     0.92821,     0.92821,     0.92821,     0.92821,     0.92821,     0.92821,     0.92821,     0.92821,     0.92821,     0.92821,     0.92821,     0.92821,     0.92821,     0.92821,     0.92821,     0.92818,     0.92782,\n",
       "            0.92746,     0.92711,     0.92675,     0.92639,     0.92604,     0.92568,     0.92533,     0.92497,     0.92461,     0.92426,      0.9239,     0.92354,     0.92319,     0.92308,     0.92308,     0.92308,     0.92308,     0.92308,     0.92308,     0.92308,     0.92308,     0.92308,     0.92308,\n",
       "            0.92308,     0.92308,     0.92308,     0.92308,     0.92308,     0.92308,     0.92308,     0.92308,     0.92308,     0.92308,     0.92308,     0.92308,     0.92308,     0.92308,     0.92308,     0.92308,     0.92308,     0.92308,     0.92308,     0.92308,     0.92308,     0.92308,     0.92308,\n",
       "            0.92308,     0.92308,     0.92308,     0.92308,     0.92308,     0.92308,     0.92308,     0.92308,     0.92308,     0.92308,     0.92308,     0.92308,     0.92308,     0.92308,     0.92308,     0.92308,     0.92308,     0.92308,     0.92308,     0.92308,     0.92308,     0.92308,     0.92308,\n",
       "            0.92308,     0.92308,     0.92308,     0.92308,     0.92308,     0.92308,     0.92308,     0.92308,     0.92308,     0.92308,     0.92308,     0.92308,     0.92308,     0.92308,     0.92308,     0.92308,     0.92308,     0.92308,     0.92308,     0.92308,     0.92308,     0.92308,     0.92308,\n",
       "            0.92308,     0.92308,     0.92308,     0.92308,     0.92308,     0.92308,     0.92308,     0.92308,     0.92308,     0.92308,     0.92308,     0.92308,     0.92308,     0.92308,     0.92308,     0.92308,     0.92308,     0.92308,     0.92308,     0.92308,     0.92308,     0.92308,     0.92308,\n",
       "            0.92308,     0.92308,     0.92308,     0.92308,     0.92308,     0.92293,     0.92269,     0.92245,     0.92221,     0.92197,     0.92173,     0.92149,     0.92126,     0.92102,     0.92078,     0.92054,      0.9203,     0.92006,     0.91982,     0.91958,     0.91934,     0.91911,     0.91887,\n",
       "            0.91863,     0.91839,     0.91815,     0.91789,     0.91751,     0.91714,     0.91676,     0.91639,     0.91601,     0.91564,     0.91526,     0.91489,     0.91451,     0.91413,     0.91376,     0.91338,     0.91301,     0.91256,     0.91203,     0.91151,     0.91098,     0.91046,     0.90993,\n",
       "             0.9094,     0.90888,     0.90835,     0.90783,     0.90754,     0.90733,     0.90712,     0.90691,     0.90669,     0.90648,     0.90627,     0.90606,     0.90585,     0.90564,     0.90543,     0.90522,     0.90501,      0.9048,     0.90459,     0.90438,     0.90417,     0.90396,     0.90375,\n",
       "            0.90354,     0.90333,     0.90312,     0.90291,      0.9027,     0.90246,     0.90217,     0.90188,     0.90158,     0.90129,       0.901,     0.90071,     0.90042,     0.90012,     0.89983,     0.89954,     0.89925,     0.89896,     0.89866,     0.89837,     0.89808,     0.89779,      0.8975,\n",
       "            0.89744,     0.89744,     0.89744,     0.89744,     0.89744,     0.89744,     0.89744,     0.89744,     0.89744,     0.89744,     0.89744,     0.89744,     0.89744,     0.89744,     0.89744,     0.89744,     0.89744,     0.89744,     0.89744,     0.89744,     0.89744,     0.89744,     0.89744,\n",
       "            0.89744,     0.89744,     0.89744,     0.89744,     0.89744,     0.89689,     0.89633,     0.89578,     0.89523,     0.89467,     0.89412,     0.89357,     0.89302,     0.89246,     0.89136,     0.89005,     0.88873,     0.88742,     0.88697,     0.88672,     0.88647,     0.88622,     0.88597,\n",
       "            0.88572,     0.88547,     0.88522,     0.88497,     0.88472,     0.88447,     0.88422,     0.88397,     0.88372,     0.88347,     0.88322,     0.88297,     0.88272,     0.88247,     0.88222,     0.88195,     0.88166,     0.88137,     0.88108,     0.88079,     0.88049,      0.8802,     0.87991,\n",
       "            0.87962,     0.87933,     0.87903,     0.87874,     0.87845,     0.87816,     0.87787,     0.87757,     0.87728,     0.87699,     0.87672,     0.87646,     0.87619,     0.87593,     0.87567,     0.87541,     0.87514,     0.87488,     0.87462,     0.87435,     0.87409,     0.87383,     0.87357,\n",
       "             0.8733,     0.87304,     0.87278,     0.87252,     0.87225,     0.87199,     0.87174,     0.87152,      0.8713,     0.87108,     0.87086,     0.87064,     0.87042,      0.8702,     0.86999,     0.86977,     0.86955,     0.86933,     0.86911,     0.86889,     0.86867,     0.86845,     0.86823,\n",
       "            0.86801,      0.8678,     0.86758,     0.86736,     0.86714,     0.86692,      0.8667,     0.86518,     0.86343,     0.86168,     0.86057,     0.85952,     0.85847,     0.85742,     0.85619,     0.85114,     0.84904,     0.84694,     0.84595,     0.84562,     0.84529,     0.84496,     0.84463,\n",
       "            0.84431,     0.84398,     0.84365,     0.84332,     0.84299,     0.84266,     0.84233,     0.84201,     0.84168,     0.84135,     0.84102,     0.84063,     0.84024,     0.83985,     0.83946,     0.83907,     0.83868,     0.83829,      0.8379,     0.83751,     0.83713,     0.83674,     0.83635,\n",
       "            0.83596,     0.83441,     0.83266,     0.83091,      0.8304,     0.82999,     0.82959,     0.82918,     0.82878,     0.82838,     0.82797,     0.82757,     0.82716,     0.82676,     0.82635,     0.82595,     0.82481,     0.82131,      0.8178,     0.81011,     0.80963,     0.80915,     0.80867,\n",
       "             0.8082,     0.80772,     0.80724,     0.80676,     0.80629,     0.80581,     0.80533,     0.79924,     0.79792,     0.79661,      0.7953,     0.79416,     0.79311,     0.79206,     0.79101,     0.78996,     0.78834,     0.78659,     0.78484,      0.7836,     0.78243,     0.78126,     0.78009,\n",
       "            0.77864,     0.77689,     0.77514,     0.77241,     0.76923,     0.76923,     0.76923,     0.76923,     0.76923,     0.76923,     0.76923,     0.76831,     0.76481,     0.76372,     0.76324,     0.76276,     0.76229,     0.76181,     0.76133,     0.76085,     0.76038,      0.7599,     0.75942,\n",
       "            0.75874,     0.75523,     0.74792,     0.74661,      0.7453,     0.74398,     0.74211,     0.74001,     0.73812,      0.7368,     0.73549,     0.73417,     0.72694,     0.72344,     0.71323,     0.71088,     0.70878,     0.70642,     0.70379,     0.70117,     0.69854,     0.69622,     0.69411,\n",
       "            0.69201,     0.68991,      0.6878,      0.6857,      0.6836,     0.67415,     0.66053,     0.65702,     0.65545,     0.65428,     0.65311,     0.65194,     0.64976,     0.64625,      0.6447,     0.64319,     0.64169,     0.63297,      0.6299,     0.62839,     0.62689,     0.62545,     0.62428,\n",
       "            0.62311,     0.62194,     0.62077,     0.61643,     0.61418,     0.61268,     0.61118,     0.60823,     0.60465,     0.60348,     0.60231,     0.60114,     0.59476,     0.58951,     0.57912,     0.57387,     0.56799,     0.56245,     0.55982,      0.5554,     0.54796,     0.54446,     0.53767,\n",
       "            0.53662,     0.53557,     0.53452,     0.53347,     0.52414,     0.51835,      0.5131,     0.51033,      0.5077,     0.49742,     0.49661,      0.4958,     0.49499,     0.49418,     0.49338,     0.49257,      0.4918,     0.49105,      0.4903,     0.48954,     0.48879,     0.48804,     0.48729,\n",
       "            0.48271,     0.46873,      0.4645,     0.45412,     0.44967,     0.44616,     0.43582,     0.43232,     0.42417,     0.42155,     0.40963,     0.40362,      0.3863,     0.37746,     0.36296,     0.35861,     0.35711,     0.35561,     0.35411,      0.3495,     0.34574,     0.33778,     0.33603,\n",
       "            0.33428,     0.32336,     0.31967,     0.31616,     0.31266,     0.30915,     0.29719,     0.29456,       0.292,      0.2899,      0.2878,     0.27654,     0.27479,     0.27304,     0.26077,     0.25815,     0.25641,     0.25641,     0.22975,     0.22712,     0.21592,     0.20541,     0.20172,\n",
       "            0.19481,     0.19218,     0.18437,     0.18086,     0.17789,     0.17526,     0.16898,     0.16748,     0.16597,     0.16447,     0.16278,     0.16103,     0.15928,     0.15462,     0.15161,     0.14898,     0.14556,     0.13386,     0.12659,     0.12308,     0.11754,     0.11673,     0.11592,\n",
       "            0.11511,      0.1143,     0.11349,     0.11193,     0.10155,    0.096862,    0.094234,      0.0895,    0.080519,    0.076093,    0.073464,    0.069878,    0.065644,    0.063016,    0.060771,    0.059019,    0.057267,    0.055335,    0.053233,    0.046027,    0.044275,    0.042523,    0.040516,\n",
       "           0.037011,    0.020309,    0.019257,    0.018206,    0.017155,    0.016103,    0.015015,    0.013847,    0.012679,    0.011511,    0.010343,           0,           0,           0,           0,           0,           0,           0,           0,           0,           0,           0,           0,\n",
       "                  0,           0,           0,           0,           0,           0,           0,           0,           0,           0,           0]]), 'Confidence', 'Recall']]\n",
       "fitness: np.float64(0.7816938888228295)\n",
       "keys: ['metrics/precision(B)', 'metrics/recall(B)', 'metrics/mAP50(B)', 'metrics/mAP50-95(B)']\n",
       "maps: array([    0.76333])\n",
       "names: {0: 'tumor'}\n",
       "plot: True\n",
       "results_dict: {'metrics/precision(B)': np.float64(0.9653978377841239), 'metrics/recall(B)': np.float64(0.9230769230769231), 'metrics/mAP50(B)': np.float64(0.9469534568009385), 'metrics/mAP50-95(B)': np.float64(0.7633317146030396), 'fitness': np.float64(0.7816938888228295)}\n",
       "save_dir: WindowsPath('runs/detect/train2')\n",
       "speed: {'preprocess': 0.30124576195426606, 'inference': 1.908933338911637, 'loss': 0.0, 'postprocess': 0.8202039677163828}\n",
       "task: 'detect'"
      ]
     },
     "execution_count": 8,
     "metadata": {},
     "output_type": "execute_result"
    }
   ],
   "source": [
    "from ultralytics import YOLO\n",
    "# load model\n",
    "model=YOLO('yolov8n.pt')\n",
    "model.train(data=r\"D:\\YOLO Comparision\\BrainTumor\\data.yaml\",epochs=20,imgsz=150,device=0)"
   ]
  },
  {
   "cell_type": "code",
   "execution_count": 3,
   "id": "da58866e-269c-402d-9979-6c1c31cbde46",
   "metadata": {},
   "outputs": [
    {
     "name": "stdout",
     "output_type": "stream",
     "text": [
      "\n",
      "image 1/1 C:\\Users\\krish\\Downloads\\test_image.jpg: 160x160 1 tumor, 14.2ms\n",
      "Speed: 1.0ms preprocess, 14.2ms inference, 3.0ms postprocess per image at shape (1, 3, 160, 160)\n"
     ]
    }
   ],
   "source": [
    "from ultralytics import YOLO\n",
    "model = YOLO(\"runs/detect/train2/weights/best.pt\")\n",
    "results = model(\"C:/Users/krish/Downloads/test_image.jpg\")\n",
    "results[0].show()"
   ]
  },
  {
   "cell_type": "code",
   "execution_count": null,
   "id": "de74b0f5-ec07-4f1a-80f5-bc3ebadf3d8a",
   "metadata": {},
   "outputs": [],
   "source": []
  }
 ],
 "metadata": {
  "kernelspec": {
   "display_name": "Python 3 (ipykernel)",
   "language": "python",
   "name": "python3"
  },
  "language_info": {
   "codemirror_mode": {
    "name": "ipython",
    "version": 3
   },
   "file_extension": ".py",
   "mimetype": "text/x-python",
   "name": "python",
   "nbconvert_exporter": "python",
   "pygments_lexer": "ipython3",
   "version": "3.12.6"
  }
 },
 "nbformat": 4,
 "nbformat_minor": 5
}
